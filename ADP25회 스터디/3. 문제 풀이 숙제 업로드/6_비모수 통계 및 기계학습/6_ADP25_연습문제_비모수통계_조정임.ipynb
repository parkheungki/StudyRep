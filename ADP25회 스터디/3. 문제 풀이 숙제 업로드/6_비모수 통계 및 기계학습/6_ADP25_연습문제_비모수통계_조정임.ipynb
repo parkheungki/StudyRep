{
 "cells": [
  {
   "cell_type": "markdown",
   "metadata": {},
   "source": [
    "# 통계"
   ]
  },
  {
   "cell_type": "markdown",
   "metadata": {},
   "source": [
    "## 무작위성 검정"
   ]
  },
  {
   "cell_type": "markdown",
   "metadata": {},
   "source": [
    "A 쇼핑몰은 새로운 브랜드 런칭 이벤트를 지원하기 위하여 매장 방문 고객에게 상품 1만원권을 배포하였다. 매장 오픈 후 최초 20명의 방문이력을 조사한 결과 아래의 순서로 멤버십을 소지한 사람(1)과 소지하지 않은 사람(0)이 방문하였다. A 쇼핑몰의 CRM 팀에서는 이러한 마케팅 행사가 한쪽에 치우치지 않고 공정하게 이루어졌는지를 판단하기 위해 무작위성 검정을 진행하고자 한다. "
   ]
  },
  {
   "cell_type": "markdown",
   "metadata": {},
   "source": [
    "**1 0 0 0 0 1 1 1 1 0 0 0 0 1 1 0 0 0 0 0** "
   ]
  },
  {
   "cell_type": "markdown",
   "metadata": {},
   "source": [
    "이 문제를 위한 가설을 설정하고 검정하시오."
   ]
  },
  {
   "cell_type": "code",
   "execution_count": 74,
   "metadata": {},
   "outputs": [
    {
     "name": "stdout",
     "output_type": "stream",
     "text": [
      "Z: -1.828, p-value: 0.068\n",
      "참고) avg: 10.100, var: 3.879, std: 1.970\n",
      "패키지 계산의 통계량 -1.828, pvalue 0.068\n"
     ]
    }
   ],
   "source": [
    "# H0: 상품권은 최초 20명에게 무작위로 배포되었다.\n",
    "# H1: 상품권은 최초 20명에게 무작위로 배포되지 않았다.\n",
    "from collections import Counter\n",
    "import numpy as np\n",
    "from scipy.stats import norm\n",
    "\n",
    "gift = [1, 0, 0, 0, 0, 1, 1, 1, 1, 0, 0, 0, 0, 1, 1, 0, 0, 0, 0, 0]\n",
    "\n",
    "###수기 계산\n",
    "nk = 2 #부호의 개수\n",
    "n1 = Counter(gift)[1] #1 개수\n",
    "n2 = Counter(gift)[0] #0 개수\n",
    "#n1, n2이 충분히 클 때 평균이 avg, 분산이 var인 점근적 정규분포를 따른다\n",
    "run = 6 #Run의 개수\n",
    "\n",
    "avg = 2*n1*n2/(n1+n2)+1\n",
    "var = 2*n1*n2*(2*n1*n2-n1-n2)/((n1+n2)**2)/(n1+n2-1)\n",
    "\n",
    "#런의 총개수에 따라서 h의 값을 정함\n",
    "if run < 2*n1*n2/(n1+n2)+0.5:\n",
    "    h = 0.5\n",
    "else:\n",
    "    h = -0.5\n",
    "\n",
    "#n1, n2의 크기에 따라서 Z통계량 공식을 정함\n",
    "if n1 <= 20 and n2 <= 20:\n",
    "    Z = (run-avg+h) / np.sqrt(var) #소표본인 경우\n",
    "else:\n",
    "    Z = (run-avg) / np.sqrt(var) #대표본인 경우\n",
    "\n",
    "print(\"Z: {:.3f}, p-value: {:.3f}\".format(Z, (norm.cdf(Z))*2)) #양측검정 pvalue\n",
    "print(\"참고) avg: {:.3f}, var: {:.3f}, std: {:.3f}\".format(avg, var, np.sqrt(var))) \n",
    "# 검정결과: pvalue가 유의수준 0.05보다 작기 때문에 대립가설을 채택한다.\n",
    "# 즉, 상품권은 최초 20명에게 무작위로 배포되지 않았다.\n",
    "\n",
    "\n",
    "###패키지 계산: 왜 pvalue가 다르게 나오는 것일까 ?_?)\n",
    "from statsmodels.sandbox.stats.runs import runstest_1samp\n",
    "stat, p = runstest_1samp(gift)\n",
    "print(\"패키지 계산의 통계량 {:.3f}, pvalue {:.3f}\".format(stat, p))"
   ]
  },
  {
   "cell_type": "markdown",
   "metadata": {},
   "source": [
    "### 　"
   ]
  },
  {
   "cell_type": "markdown",
   "metadata": {},
   "source": [
    "## 두 변수의 비교"
   ]
  },
  {
   "cell_type": "markdown",
   "metadata": {},
   "source": [
    "A 쇼핑 마케팅 팀에서는 새로운 로열티 프로그램을 제공하며 멤버십 기능을 강화하였다. 로열티 프로그램 만족도의 변화가 통계적으로 유의한 지 알아보기 위해 도입 전과 후의 고객만족도에 대한 검정을 수행하고자 한다.\n",
    "\n",
    "**사용데이터 : Ashopping.csv    **\n",
    "- encoding=\"CP949\" "
   ]
  },
  {
   "cell_type": "markdown",
   "metadata": {},
   "source": [
    "이 문제를 위한 가설을 설정하고 검정하시오."
   ]
  },
  {
   "cell_type": "code",
   "execution_count": 56,
   "metadata": {},
   "outputs": [
    {
     "name": "stdout",
     "output_type": "stream",
     "text": [
      "패키지 계산의 통계량 -29.560, pvalue 0.000\n",
      "수기 계산 통계량 -29.560, pvalue 0.000\n"
     ]
    }
   ],
   "source": [
    "from pandas import read_csv\n",
    "df = read_csv('Ashopping.csv', encoding='CP949')\n",
    "before = df['멤버쉽_프로그램_가입전_만족도'].values\n",
    "after = df['멤버쉽_프로그램_가입후_만족도'].values\n",
    "\n",
    "# H0: 가입전 만족도와 가입후 만족도는 차이가 없다.\n",
    "# H1: 가입전 만족도와 가입후 만족도는 차이가 있다.\n",
    "\n",
    "###패키지 계산\n",
    "from scipy.stats import ttest_rel, t\n",
    "stat, p = ttest_rel(before, after)\n",
    "print(\"패키지 계산의 통계량 {:.3f}, pvalue {:.3f}\".format(stat, p))\n",
    "\n",
    "###수기 계산\n",
    "d = before-after\n",
    "dm = np.mean(d)\n",
    "n = len(df)\n",
    "Sd = np.sqrt( sum((d-dm)**2) / (n-1) )\n",
    "T = dm / (Sd/np.sqrt(n))\n",
    "print('수기 계산 통계량 {:.3f}, pvalue {:.3f}'.format(T, t.cdf(T, n-1)))\n",
    "\n",
    "#결론: 가입전 만족도와 가입후 만족도는 차이가 있다."
   ]
  },
  {
   "cell_type": "markdown",
   "metadata": {},
   "source": [
    "### 　"
   ]
  },
  {
   "cell_type": "markdown",
   "metadata": {},
   "source": [
    "전자회사 C사는 기존의 물류 알고리즘보다 개선되었다고 알려진 새로운 물류 경로 최적화 알고리즘을 도입해 상품의 배송시간을 단축하고자 한다. 이에 전국 7개의 물류센터에 실험적으로 적용해보고 실제로 얼마나 더 나은 성과를 보이는지 검증해보고자 한다. 전국 7개의 물류센터에서 새로운 알고리즘의 적용 전 평균 배송시간과 적용 후의 평균 배송시간은 다음과 같다. "
   ]
  },
  {
   "cell_type": "markdown",
   "metadata": {},
   "source": [
    "|물류센터|기존 알고리즘|신규 알고리즘|\n",
    "|---|---|---|\n",
    "|1|10|8|\n",
    "|2|30|27|\n",
    "|3|9|16|\n",
    "|4|21|25|\n",
    "|5|35|30|\n",
    "|6|12|13|\n",
    "|7|17|11|"
   ]
  },
  {
   "cell_type": "markdown",
   "metadata": {},
   "source": [
    "이 문제를 위한 가설을 설정하고 검정하시오."
   ]
  },
  {
   "cell_type": "code",
   "execution_count": 71,
   "metadata": {},
   "outputs": [
    {
     "name": "stdout",
     "output_type": "stream",
     "text": [
      "패키지 계산의 통계량 0.316, pvalue 0.382\n"
     ]
    }
   ],
   "source": [
    "# H0: 알고리즘 변경 전후 평균 배송 시간은 차이가 없다.\n",
    "# H1: 알고리즘 변경 후, 평균 배송 시간이 단축 되었다.\n",
    "\n",
    "old = [10, 30, 9, 21, 35, 12, 17]\n",
    "new = [8, 27, 16, 25, 30, 13, 11]\n",
    "\n",
    "stat, p = ttest_rel(old, new, alternative='greater')\n",
    "#two-sided인 경우, 해당 통계량의 양측 area의 p-value를 합한 것\n",
    "print(\"패키지 계산의 통계량 {:.3f}, pvalue {:.3f}\".format(stat, p))\n",
    "#pvalue가 유의수준 0.05보다 많으므로 귀무가설을 채택한다. 즉, 평균 배송 시간은 차이가 없다."
   ]
  },
  {
   "cell_type": "markdown",
   "metadata": {},
   "source": [
    "### 　"
   ]
  },
  {
   "cell_type": "markdown",
   "metadata": {},
   "source": [
    "## 세 변수의 비교"
   ]
  },
  {
   "cell_type": "markdown",
   "metadata": {},
   "source": [
    "A 쇼핑에서는 VIP 고객들을 대상으로 새로운 혜택을 제공하고자 한다. 샘플증정, 포인트 추가, 무료배송, 할인쿠폰 등 4가지 혜택에 대한 5개 지역별 고객들에 대한 사전 선호도 조사를 실시한 결과 지역별 서비스에 대한 서열은 아래 표와 같이 정리되었다. 혜택 별 고객 선호도에 차이가 있는지를 검정을 통해 알아보자. "
   ]
  },
  {
   "cell_type": "markdown",
   "metadata": {},
   "source": [
    "|지역|샘플증정|포인트추가|무료배송|할인쿠폰|\n",
    "|---|---|---|---|---|\n",
    "|서울경기|1|3|2|4|\n",
    "|강원|2|3|4|1|\n",
    "|충청|1|3|4|2|\n",
    "|경상|1|2|4|3|\n",
    "|전라|2|1|3|4|"
   ]
  },
  {
   "cell_type": "markdown",
   "metadata": {},
   "source": [
    "이 문제를 위한 가설을 설정하고 검정하시오."
   ]
  },
  {
   "cell_type": "code",
   "execution_count": 114,
   "metadata": {},
   "outputs": [
    {
     "name": "stdout",
     "output_type": "stream",
     "text": [
      "      샘플증정  포인트추가  무료배송  할인쿠폰\n",
      "서울경기     1      3     2     4\n",
      "강원       2      3     4     1\n",
      "충청       1      3     4     2\n",
      "경상       1      2     4     3\n",
      "전라       2      1     3     4 \n",
      "\n",
      "통계량 5.560, pvalue 0.937\n"
     ]
    }
   ],
   "source": [
    "# H0: 지역 별 고객 선호도 차이가 없다.\n",
    "# H1: 지역 별 고객 선호도 차이가 있다.\n",
    "\n",
    "from scipy.stats import chi2_contingency\n",
    "from pandas import DataFrame\n",
    "table = DataFrame({\"샘플증정\":[1,2,1,1,2], '포인트추가':[3,3,3,2,1], '무료배송':[2,4,4,4,3], '할인쿠폰':[4,1,2,3,4]}, index=['서울경기', '강원', '충청', '경상', '전라'])\n",
    "print(table, '\\n')\n",
    "\n",
    "stat, p, df, exp_mat = chi2_contingency(table)\n",
    "print(\"통계량 {:.3f}, pvalue {:.3f}\".format(stat, p))\n",
    "# 고객별 선호도 차이가 없다!"
   ]
  },
  {
   "cell_type": "markdown",
   "metadata": {},
   "source": [
    "### 　"
   ]
  },
  {
   "cell_type": "markdown",
   "metadata": {},
   "source": [
    "공장 종류(A,B,C,D)에 따라서 공장 설비(높이, 캐노피 면적)에 차이가 발생하는 지 알아보자."
   ]
  },
  {
   "cell_type": "code",
   "execution_count": 84,
   "metadata": {},
   "outputs": [
    {
     "data": {
      "text/html": [
       "<div>\n",
       "<style scoped>\n",
       "    .dataframe tbody tr th:only-of-type {\n",
       "        vertical-align: middle;\n",
       "    }\n",
       "\n",
       "    .dataframe tbody tr th {\n",
       "        vertical-align: top;\n",
       "    }\n",
       "\n",
       "    .dataframe thead th {\n",
       "        text-align: right;\n",
       "    }\n",
       "</style>\n",
       "<table border=\"1\" class=\"dataframe\">\n",
       "  <thead>\n",
       "    <tr style=\"text-align: right;\">\n",
       "      <th></th>\n",
       "      <th>plant_var</th>\n",
       "      <th>height</th>\n",
       "      <th>canopy_vol</th>\n",
       "    </tr>\n",
       "  </thead>\n",
       "  <tbody>\n",
       "    <tr>\n",
       "      <th>0</th>\n",
       "      <td>A</td>\n",
       "      <td>20.0</td>\n",
       "      <td>0.70</td>\n",
       "    </tr>\n",
       "    <tr>\n",
       "      <th>1</th>\n",
       "      <td>A</td>\n",
       "      <td>22.0</td>\n",
       "      <td>0.80</td>\n",
       "    </tr>\n",
       "    <tr>\n",
       "      <th>2</th>\n",
       "      <td>A</td>\n",
       "      <td>24.0</td>\n",
       "      <td>0.95</td>\n",
       "    </tr>\n",
       "  </tbody>\n",
       "</table>\n",
       "</div>"
      ],
      "text/plain": [
       "  plant_var  height  canopy_vol\n",
       "0         A    20.0        0.70\n",
       "1         A    22.0        0.80\n",
       "2         A    24.0        0.95"
      ]
     },
     "execution_count": 84,
     "metadata": {},
     "output_type": "execute_result"
    }
   ],
   "source": [
    "#해당 코드를 실행하면 데이터가 로드됩니다. \n",
    "df=read_csv(\"https://reneshbedre.github.io/assets/posts/ancova/manova_data.csv\")\n",
    "df.head(3)"
   ]
  },
  {
   "cell_type": "code",
   "execution_count": 97,
   "metadata": {},
   "outputs": [
    {
     "data": {
      "text/plain": [
       "D    10\n",
       "C    10\n",
       "B    10\n",
       "A    10\n",
       "Name: plant_var, dtype: int64"
      ]
     },
     "execution_count": 97,
     "metadata": {},
     "output_type": "execute_result"
    }
   ],
   "source": [
    "df['plant_var'].value_counts() #균형자료"
   ]
  },
  {
   "cell_type": "markdown",
   "metadata": {},
   "source": [
    "이 문제를 위한 가설을 설정하고 검정하시오."
   ]
  },
  {
   "cell_type": "code",
   "execution_count": 108,
   "metadata": {},
   "outputs": [
    {
     "name": "stdout",
     "output_type": "stream",
     "text": [
      "             df    sum_sq     mean_sq           F        PR(>F)\n",
      "plant_var   3.0  1553.402  517.800667  116.684552  1.326405e-18\n",
      "Residual   36.0   159.754    4.437611         NaN           NaN \n",
      "\n",
      "\n",
      " Multiple Comparison of Means - Tukey HSD, FWER=0.05  \n",
      "======================================================\n",
      "group1 group2 meandiff p-adj   lower    upper   reject\n",
      "------------------------------------------------------\n",
      "     A      B    -2.36 0.0762  -4.8973   0.1773  False\n",
      "     A      C   -15.85  0.001 -18.3873 -13.3127   True\n",
      "     A      D    -9.55  0.001 -12.0873  -7.0127   True\n",
      "     B      C   -13.49  0.001 -16.0273 -10.9527   True\n",
      "     B      D    -7.19  0.001  -9.7273  -4.6527   True\n",
      "     C      D      6.3  0.001   3.7627   8.8373   True\n",
      "------------------------------------------------------\n"
     ]
    },
    {
     "data": {
      "image/png": "[encoded data removed]",
      "text/plain": [
       "<Figure size 720x432 with 1 Axes>"
      ]
     },
     "metadata": {
      "needs_background": "light"
     },
     "output_type": "display_data"
    }
   ],
   "source": [
    "#H0: 공장종류에 따라 높이에 차이가 없다.\n",
    "#H1: 공장종류에 따라 높이에 차이가 있다.\n",
    "from warnings import filterwarnings\n",
    "filterwarnings('ignore')\n",
    "from statsmodels.formula.api import ols\n",
    "from statsmodels.stats.anova import anova_lm\n",
    "model = ols('height ~ plant_var', data=df).fit()\n",
    "print(anova_lm(model, test='F', typ=1), \"\\n\\n\")\n",
    "#F검정 통계량의 pvalue가 0.05보다 낮기 때문에 대립가설을 채택한다.\n",
    "\n",
    "#사후검정\n",
    "from statsmodels.sandbox.stats.multicomp import MultiComparison\n",
    "HSD = MultiComparison(data=df['height'], groups = df['plant_var']).tukeyhsd(0.05)\n",
    "print(HSD)\n",
    "\n",
    "from matplotlib import pyplot as plt\n",
    "HSD.plot_simultaneous()\n",
    "plt.show()"
   ]
  },
  {
   "cell_type": "code",
   "execution_count": 109,
   "metadata": {},
   "outputs": [
    {
     "name": "stdout",
     "output_type": "stream",
     "text": [
      "             df   sum_sq   mean_sq          F        PR(>F)\n",
      "plant_var   3.0  1.40219  0.467397  34.909295  9.360446e-11\n",
      "Residual   36.0  0.48200  0.013389        NaN           NaN \n",
      "\n",
      "\n",
      "Multiple Comparison of Means - Tukey HSD, FWER=0.05 \n",
      "====================================================\n",
      "group1 group2 meandiff p-adj   lower   upper  reject\n",
      "----------------------------------------------------\n",
      "     A      B   -0.176 0.0086 -0.3154 -0.0366   True\n",
      "     A      C   -0.512  0.001 -0.6514 -0.3726   True\n",
      "     A      D    -0.31  0.001 -0.4494 -0.1706   True\n",
      "     B      C   -0.336  0.001 -0.4754 -0.1966   True\n",
      "     B      D   -0.134 0.0633 -0.2734  0.0054  False\n",
      "     C      D    0.202 0.0022  0.0626  0.3414   True\n",
      "----------------------------------------------------\n"
     ]
    },
    {
     "data": {
      "image/png": "[encoded data removed]",
      "text/plain": [
       "<Figure size 720x432 with 1 Axes>"
      ]
     },
     "metadata": {
      "needs_background": "light"
     },
     "output_type": "display_data"
    }
   ],
   "source": [
    "#H0: 공장종류에 따라 캐노피 면적에 차이가 없다.\n",
    "#H1: 공장종류에 따라 캐노피 면적에 차이가 있다.\n",
    "model = ols('canopy_vol ~ plant_var', data=df).fit()\n",
    "print(anova_lm(model, test='F', typ=1), \"\\n\\n\")\n",
    "#F검정 통계량의 pvalue가 0.05보다 낮기 때문에 대립가설을 채택한다.\n",
    "\n",
    "#사후검정\n",
    "from statsmodels.sandbox.stats.multicomp import MultiComparison\n",
    "HSD = MultiComparison(data=df['canopy_vol'], groups = df['plant_var']).tukeyhsd(0.05)\n",
    "print(HSD)\n",
    "\n",
    "from matplotlib import pyplot as plt\n",
    "HSD.plot_simultaneous()\n",
    "plt.show()"
   ]
  },
  {
   "cell_type": "markdown",
   "metadata": {},
   "source": [
    "# 기계학습"
   ]
  },
  {
   "cell_type": "markdown",
   "metadata": {},
   "source": [
    "사용 데이터 : creditcard.csv  \n",
    "데이터 출처 : \n",
    "https://www.kaggle.com/datasets/mlg-ulb/creditcardfraud?resource=download"
   ]
  },
  {
   "cell_type": "markdown",
   "metadata": {},
   "source": [
    "제시된 데이터는 심한 불균형 형태를 띠고 있다.  \n",
    "\n",
    "해당사항을 고려하여  \n",
    "\n",
    "**1) 전처리하고  \n",
    "2) 모델을 구현하고  \n",
    "3) 적절한 평가지표를 선정하여 점수를 구하라**"
   ]
  },
  {
   "cell_type": "markdown",
   "metadata": {},
   "source": [
    "\n",
    "|Target|Count|Percent|\n",
    "|---|---|---|\n",
    "|0|284315|99.83|\n",
    "|1|492|0.17|\n"
   ]
  },
  {
   "cell_type": "code",
   "execution_count": 115,
   "metadata": {},
   "outputs": [
    {
     "data": {
      "text/html": [
       "<div>\n",
       "<style scoped>\n",
       "    .dataframe tbody tr th:only-of-type {\n",
       "        vertical-align: middle;\n",
       "    }\n",
       "\n",
       "    .dataframe tbody tr th {\n",
       "        vertical-align: top;\n",
       "    }\n",
       "\n",
       "    .dataframe thead th {\n",
       "        text-align: right;\n",
       "    }\n",
       "</style>\n",
       "<table border=\"1\" class=\"dataframe\">\n",
       "  <thead>\n",
       "    <tr style=\"text-align: right;\">\n",
       "      <th></th>\n",
       "      <th>Time</th>\n",
       "      <th>V1</th>\n",
       "      <th>V2</th>\n",
       "      <th>V3</th>\n",
       "      <th>V4</th>\n",
       "      <th>V5</th>\n",
       "      <th>V6</th>\n",
       "      <th>V7</th>\n",
       "      <th>V8</th>\n",
       "      <th>V9</th>\n",
       "      <th>...</th>\n",
       "      <th>V21</th>\n",
       "      <th>V22</th>\n",
       "      <th>V23</th>\n",
       "      <th>V24</th>\n",
       "      <th>V25</th>\n",
       "      <th>V26</th>\n",
       "      <th>V27</th>\n",
       "      <th>V28</th>\n",
       "      <th>Amount</th>\n",
       "      <th>Class</th>\n",
       "    </tr>\n",
       "  </thead>\n",
       "  <tbody>\n",
       "    <tr>\n",
       "      <th>0</th>\n",
       "      <td>0.0</td>\n",
       "      <td>-1.359807</td>\n",
       "      <td>-0.072781</td>\n",
       "      <td>2.536347</td>\n",
       "      <td>1.378155</td>\n",
       "      <td>-0.338321</td>\n",
       "      <td>0.462388</td>\n",
       "      <td>0.239599</td>\n",
       "      <td>0.098698</td>\n",
       "      <td>0.363787</td>\n",
       "      <td>...</td>\n",
       "      <td>-0.018307</td>\n",
       "      <td>0.277838</td>\n",
       "      <td>-0.110474</td>\n",
       "      <td>0.066928</td>\n",
       "      <td>0.128539</td>\n",
       "      <td>-0.189115</td>\n",
       "      <td>0.133558</td>\n",
       "      <td>-0.021053</td>\n",
       "      <td>149.62</td>\n",
       "      <td>0.0</td>\n",
       "    </tr>\n",
       "    <tr>\n",
       "      <th>1</th>\n",
       "      <td>0.0</td>\n",
       "      <td>1.191857</td>\n",
       "      <td>0.266151</td>\n",
       "      <td>0.166480</td>\n",
       "      <td>0.448154</td>\n",
       "      <td>0.060018</td>\n",
       "      <td>-0.082361</td>\n",
       "      <td>-0.078803</td>\n",
       "      <td>0.085102</td>\n",
       "      <td>-0.255425</td>\n",
       "      <td>...</td>\n",
       "      <td>-0.225775</td>\n",
       "      <td>-0.638672</td>\n",
       "      <td>0.101288</td>\n",
       "      <td>-0.339846</td>\n",
       "      <td>0.167170</td>\n",
       "      <td>0.125895</td>\n",
       "      <td>-0.008983</td>\n",
       "      <td>0.014724</td>\n",
       "      <td>2.69</td>\n",
       "      <td>0.0</td>\n",
       "    </tr>\n",
       "    <tr>\n",
       "      <th>2</th>\n",
       "      <td>1.0</td>\n",
       "      <td>-1.358354</td>\n",
       "      <td>-1.340163</td>\n",
       "      <td>1.773209</td>\n",
       "      <td>0.379780</td>\n",
       "      <td>-0.503198</td>\n",
       "      <td>1.800499</td>\n",
       "      <td>0.791461</td>\n",
       "      <td>0.247676</td>\n",
       "      <td>-1.514654</td>\n",
       "      <td>...</td>\n",
       "      <td>0.247998</td>\n",
       "      <td>0.771679</td>\n",
       "      <td>0.909412</td>\n",
       "      <td>-0.689281</td>\n",
       "      <td>-0.327642</td>\n",
       "      <td>-0.139097</td>\n",
       "      <td>-0.055353</td>\n",
       "      <td>-0.059752</td>\n",
       "      <td>378.66</td>\n",
       "      <td>0.0</td>\n",
       "    </tr>\n",
       "    <tr>\n",
       "      <th>3</th>\n",
       "      <td>1.0</td>\n",
       "      <td>-0.966272</td>\n",
       "      <td>-0.185226</td>\n",
       "      <td>1.792993</td>\n",
       "      <td>-0.863291</td>\n",
       "      <td>-0.010309</td>\n",
       "      <td>1.247203</td>\n",
       "      <td>0.237609</td>\n",
       "      <td>0.377436</td>\n",
       "      <td>-1.387024</td>\n",
       "      <td>...</td>\n",
       "      <td>-0.108300</td>\n",
       "      <td>0.005274</td>\n",
       "      <td>-0.190321</td>\n",
       "      <td>-1.175575</td>\n",
       "      <td>0.647376</td>\n",
       "      <td>-0.221929</td>\n",
       "      <td>0.062723</td>\n",
       "      <td>0.061458</td>\n",
       "      <td>123.50</td>\n",
       "      <td>0.0</td>\n",
       "    </tr>\n",
       "    <tr>\n",
       "      <th>4</th>\n",
       "      <td>2.0</td>\n",
       "      <td>-1.158233</td>\n",
       "      <td>0.877737</td>\n",
       "      <td>1.548718</td>\n",
       "      <td>0.403034</td>\n",
       "      <td>-0.407193</td>\n",
       "      <td>0.095921</td>\n",
       "      <td>0.592941</td>\n",
       "      <td>-0.270533</td>\n",
       "      <td>0.817739</td>\n",
       "      <td>...</td>\n",
       "      <td>-0.009431</td>\n",
       "      <td>0.798278</td>\n",
       "      <td>-0.137458</td>\n",
       "      <td>0.141267</td>\n",
       "      <td>-0.206010</td>\n",
       "      <td>0.502292</td>\n",
       "      <td>0.219422</td>\n",
       "      <td>0.215153</td>\n",
       "      <td>69.99</td>\n",
       "      <td>0.0</td>\n",
       "    </tr>\n",
       "  </tbody>\n",
       "</table>\n",
       "<p>5 rows × 31 columns</p>\n",
       "</div>"
      ],
      "text/plain": [
       "   Time        V1        V2        V3        V4        V5        V6        V7  \\\n",
       "0   0.0 -1.359807 -0.072781  2.536347  1.378155 -0.338321  0.462388  0.239599   \n",
       "1   0.0  1.191857  0.266151  0.166480  0.448154  0.060018 -0.082361 -0.078803   \n",
       "2   1.0 -1.358354 -1.340163  1.773209  0.379780 -0.503198  1.800499  0.791461   \n",
       "3   1.0 -0.966272 -0.185226  1.792993 -0.863291 -0.010309  1.247203  0.237609   \n",
       "4   2.0 -1.158233  0.877737  1.548718  0.403034 -0.407193  0.095921  0.592941   \n",
       "\n",
       "         V8        V9  ...       V21       V22       V23       V24       V25  \\\n",
       "0  0.098698  0.363787  ... -0.018307  0.277838 -0.110474  0.066928  0.128539   \n",
       "1  0.085102 -0.255425  ... -0.225775 -0.638672  0.101288 -0.339846  0.167170   \n",
       "2  0.247676 -1.514654  ...  0.247998  0.771679  0.909412 -0.689281 -0.327642   \n",
       "3  0.377436 -1.387024  ... -0.108300  0.005274 -0.190321 -1.175575  0.647376   \n",
       "4 -0.270533  0.817739  ... -0.009431  0.798278 -0.137458  0.141267 -0.206010   \n",
       "\n",
       "        V26       V27       V28  Amount  Class  \n",
       "0 -0.189115  0.133558 -0.021053  149.62    0.0  \n",
       "1  0.125895 -0.008983  0.014724    2.69    0.0  \n",
       "2 -0.139097 -0.055353 -0.059752  378.66    0.0  \n",
       "3 -0.221929  0.062723  0.061458  123.50    0.0  \n",
       "4  0.502292  0.219422  0.215153   69.99    0.0  \n",
       "\n",
       "[5 rows x 31 columns]"
      ]
     },
     "execution_count": 115,
     "metadata": {},
     "output_type": "execute_result"
    }
   ],
   "source": [
    "cc = read_csv('creditcard.csv')\n",
    "cc.head()"
   ]
  },
  {
   "cell_type": "code",
   "execution_count": 142,
   "metadata": {},
   "outputs": [
    {
     "name": "stdout",
     "output_type": "stream",
     "text": [
      "5 (600, 31)\n"
     ]
    }
   ],
   "source": [
    "# 데이터 수를 고려하여 undersampling 진행\n",
    "from pandas import concat\n",
    "\n",
    "SCs = []\n",
    "for i in range(5): #5개의 undersampling set를 생성\n",
    "    sample0 = cc.query(\"Class == 0\").sample(300)\n",
    "    sample1 = cc.query(\"Class == 1\").sample(300)\n",
    "    sc = concat([sample0, sample1])\n",
    "    SCs.append(sc)\n",
    "print(len(SCs), SCs[0].shape)"
   ]
  },
  {
   "cell_type": "code",
   "execution_count": 144,
   "metadata": {},
   "outputs": [
    {
     "data": {
      "text/html": [
       "<div>\n",
       "<style scoped>\n",
       "    .dataframe tbody tr th:only-of-type {\n",
       "        vertical-align: middle;\n",
       "    }\n",
       "\n",
       "    .dataframe tbody tr th {\n",
       "        vertical-align: top;\n",
       "    }\n",
       "\n",
       "    .dataframe thead th {\n",
       "        text-align: right;\n",
       "    }\n",
       "</style>\n",
       "<table border=\"1\" class=\"dataframe\">\n",
       "  <thead>\n",
       "    <tr style=\"text-align: right;\">\n",
       "      <th></th>\n",
       "      <th>Time</th>\n",
       "      <th>V1</th>\n",
       "      <th>V2</th>\n",
       "      <th>V3</th>\n",
       "      <th>V4</th>\n",
       "      <th>V5</th>\n",
       "      <th>V6</th>\n",
       "      <th>V7</th>\n",
       "      <th>V8</th>\n",
       "      <th>V9</th>\n",
       "      <th>...</th>\n",
       "      <th>V21</th>\n",
       "      <th>V22</th>\n",
       "      <th>V23</th>\n",
       "      <th>V24</th>\n",
       "      <th>V25</th>\n",
       "      <th>V26</th>\n",
       "      <th>V27</th>\n",
       "      <th>V28</th>\n",
       "      <th>Amount</th>\n",
       "      <th>Class</th>\n",
       "    </tr>\n",
       "  </thead>\n",
       "  <tbody>\n",
       "    <tr>\n",
       "      <th>count</th>\n",
       "      <td>600.000000</td>\n",
       "      <td>600.000000</td>\n",
       "      <td>600.000000</td>\n",
       "      <td>600.000000</td>\n",
       "      <td>600.000000</td>\n",
       "      <td>600.000000</td>\n",
       "      <td>600.000000</td>\n",
       "      <td>600.000000</td>\n",
       "      <td>600.000000</td>\n",
       "      <td>600.000000</td>\n",
       "      <td>...</td>\n",
       "      <td>600.000000</td>\n",
       "      <td>600.000000</td>\n",
       "      <td>600.000000</td>\n",
       "      <td>600.000000</td>\n",
       "      <td>600.000000</td>\n",
       "      <td>600.000000</td>\n",
       "      <td>600.000000</td>\n",
       "      <td>600.000000</td>\n",
       "      <td>600.000000</td>\n",
       "      <td>600.000000</td>\n",
       "    </tr>\n",
       "    <tr>\n",
       "      <th>mean</th>\n",
       "      <td>61228.911667</td>\n",
       "      <td>-3.211667</td>\n",
       "      <td>2.287217</td>\n",
       "      <td>-3.887127</td>\n",
       "      <td>2.565074</td>\n",
       "      <td>-2.285618</td>\n",
       "      <td>-0.633819</td>\n",
       "      <td>-3.645824</td>\n",
       "      <td>0.317618</td>\n",
       "      <td>-1.466242</td>\n",
       "      <td>...</td>\n",
       "      <td>0.283207</td>\n",
       "      <td>0.011064</td>\n",
       "      <td>-0.036713</td>\n",
       "      <td>-0.036886</td>\n",
       "      <td>0.092399</td>\n",
       "      <td>0.041186</td>\n",
       "      <td>0.060793</td>\n",
       "      <td>-0.001151</td>\n",
       "      <td>97.807200</td>\n",
       "      <td>0.500000</td>\n",
       "    </tr>\n",
       "    <tr>\n",
       "      <th>std</th>\n",
       "      <td>30811.074272</td>\n",
       "      <td>6.344284</td>\n",
       "      <td>4.110041</td>\n",
       "      <td>7.220728</td>\n",
       "      <td>3.289873</td>\n",
       "      <td>4.747030</td>\n",
       "      <td>1.916564</td>\n",
       "      <td>6.818835</td>\n",
       "      <td>5.931190</td>\n",
       "      <td>2.558040</td>\n",
       "      <td>...</td>\n",
       "      <td>3.365561</td>\n",
       "      <td>1.307505</td>\n",
       "      <td>1.384784</td>\n",
       "      <td>0.572614</td>\n",
       "      <td>0.694618</td>\n",
       "      <td>0.463089</td>\n",
       "      <td>1.172455</td>\n",
       "      <td>0.560695</td>\n",
       "      <td>223.201823</td>\n",
       "      <td>0.500417</td>\n",
       "    </tr>\n",
       "    <tr>\n",
       "      <th>min</th>\n",
       "      <td>162.000000</td>\n",
       "      <td>-30.552380</td>\n",
       "      <td>-7.325641</td>\n",
       "      <td>-31.103685</td>\n",
       "      <td>-4.452088</td>\n",
       "      <td>-22.105532</td>\n",
       "      <td>-5.430971</td>\n",
       "      <td>-43.557242</td>\n",
       "      <td>-41.044261</td>\n",
       "      <td>-13.434066</td>\n",
       "      <td>...</td>\n",
       "      <td>-22.797604</td>\n",
       "      <td>-8.887017</td>\n",
       "      <td>-19.254328</td>\n",
       "      <td>-1.753526</td>\n",
       "      <td>-4.781606</td>\n",
       "      <td>-1.123534</td>\n",
       "      <td>-7.263482</td>\n",
       "      <td>-8.338123</td>\n",
       "      <td>0.000000</td>\n",
       "      <td>0.000000</td>\n",
       "    </tr>\n",
       "    <tr>\n",
       "      <th>25%</th>\n",
       "      <td>40399.750000</td>\n",
       "      <td>-3.744888</td>\n",
       "      <td>-0.021620</td>\n",
       "      <td>-5.450497</td>\n",
       "      <td>0.143174</td>\n",
       "      <td>-2.665071</td>\n",
       "      <td>-1.551056</td>\n",
       "      <td>-4.488278</td>\n",
       "      <td>-0.136878</td>\n",
       "      <td>-2.476500</td>\n",
       "      <td>...</td>\n",
       "      <td>-0.176112</td>\n",
       "      <td>-0.521657</td>\n",
       "      <td>-0.260551</td>\n",
       "      <td>-0.403592</td>\n",
       "      <td>-0.224258</td>\n",
       "      <td>-0.283741</td>\n",
       "      <td>-0.074970</td>\n",
       "      <td>-0.082134</td>\n",
       "      <td>1.290000</td>\n",
       "      <td>0.000000</td>\n",
       "    </tr>\n",
       "    <tr>\n",
       "      <th>50%</th>\n",
       "      <td>59116.500000</td>\n",
       "      <td>-1.112840</td>\n",
       "      <td>1.103120</td>\n",
       "      <td>-0.938439</td>\n",
       "      <td>1.499399</td>\n",
       "      <td>-0.665909</td>\n",
       "      <td>-0.592460</td>\n",
       "      <td>-0.764781</td>\n",
       "      <td>0.206251</td>\n",
       "      <td>-0.750324</td>\n",
       "      <td>...</td>\n",
       "      <td>0.129824</td>\n",
       "      <td>0.049260</td>\n",
       "      <td>-0.060258</td>\n",
       "      <td>0.039726</td>\n",
       "      <td>0.124755</td>\n",
       "      <td>-0.029062</td>\n",
       "      <td>0.038643</td>\n",
       "      <td>0.029379</td>\n",
       "      <td>19.315000</td>\n",
       "      <td>0.500000</td>\n",
       "    </tr>\n",
       "    <tr>\n",
       "      <th>75%</th>\n",
       "      <td>84204.000000</td>\n",
       "      <td>0.949667</td>\n",
       "      <td>3.377868</td>\n",
       "      <td>0.592183</td>\n",
       "      <td>4.467879</td>\n",
       "      <td>0.204940</td>\n",
       "      <td>0.152432</td>\n",
       "      <td>0.211094</td>\n",
       "      <td>0.986922</td>\n",
       "      <td>0.115938</td>\n",
       "      <td>...</td>\n",
       "      <td>0.736910</td>\n",
       "      <td>0.491651</td>\n",
       "      <td>0.154753</td>\n",
       "      <td>0.399628</td>\n",
       "      <td>0.450965</td>\n",
       "      <td>0.347036</td>\n",
       "      <td>0.456945</td>\n",
       "      <td>0.203366</td>\n",
       "      <td>99.990000</td>\n",
       "      <td>1.000000</td>\n",
       "    </tr>\n",
       "    <tr>\n",
       "      <th>max</th>\n",
       "      <td>125200.000000</td>\n",
       "      <td>2.315873</td>\n",
       "      <td>22.057729</td>\n",
       "      <td>3.554865</td>\n",
       "      <td>12.114672</td>\n",
       "      <td>11.095089</td>\n",
       "      <td>8.933762</td>\n",
       "      <td>9.179305</td>\n",
       "      <td>20.007208</td>\n",
       "      <td>4.068265</td>\n",
       "      <td>...</td>\n",
       "      <td>27.202839</td>\n",
       "      <td>8.361985</td>\n",
       "      <td>5.842218</td>\n",
       "      <td>1.210968</td>\n",
       "      <td>2.208209</td>\n",
       "      <td>1.204351</td>\n",
       "      <td>4.379080</td>\n",
       "      <td>1.779364</td>\n",
       "      <td>2528.610000</td>\n",
       "      <td>1.000000</td>\n",
       "    </tr>\n",
       "  </tbody>\n",
       "</table>\n",
       "<p>8 rows × 31 columns</p>\n",
       "</div>"
      ],
      "text/plain": [
       "                Time          V1          V2          V3          V4  \\\n",
       "count     600.000000  600.000000  600.000000  600.000000  600.000000   \n",
       "mean    61228.911667   -3.211667    2.287217   -3.887127    2.565074   \n",
       "std     30811.074272    6.344284    4.110041    7.220728    3.289873   \n",
       "min       162.000000  -30.552380   -7.325641  -31.103685   -4.452088   \n",
       "25%     40399.750000   -3.744888   -0.021620   -5.450497    0.143174   \n",
       "50%     59116.500000   -1.112840    1.103120   -0.938439    1.499399   \n",
       "75%     84204.000000    0.949667    3.377868    0.592183    4.467879   \n",
       "max    125200.000000    2.315873   22.057729    3.554865   12.114672   \n",
       "\n",
       "               V5          V6          V7          V8          V9  ...  \\\n",
       "count  600.000000  600.000000  600.000000  600.000000  600.000000  ...   \n",
       "mean    -2.285618   -0.633819   -3.645824    0.317618   -1.466242  ...   \n",
       "std      4.747030    1.916564    6.818835    5.931190    2.558040  ...   \n",
       "min    -22.105532   -5.430971  -43.557242  -41.044261  -13.434066  ...   \n",
       "25%     -2.665071   -1.551056   -4.488278   -0.136878   -2.476500  ...   \n",
       "50%     -0.665909   -0.592460   -0.764781    0.206251   -0.750324  ...   \n",
       "75%      0.204940    0.152432    0.211094    0.986922    0.115938  ...   \n",
       "max     11.095089    8.933762    9.179305   20.007208    4.068265  ...   \n",
       "\n",
       "              V21         V22         V23         V24         V25         V26  \\\n",
       "count  600.000000  600.000000  600.000000  600.000000  600.000000  600.000000   \n",
       "mean     0.283207    0.011064   -0.036713   -0.036886    0.092399    0.041186   \n",
       "std      3.365561    1.307505    1.384784    0.572614    0.694618    0.463089   \n",
       "min    -22.797604   -8.887017  -19.254328   -1.753526   -4.781606   -1.123534   \n",
       "25%     -0.176112   -0.521657   -0.260551   -0.403592   -0.224258   -0.283741   \n",
       "50%      0.129824    0.049260   -0.060258    0.039726    0.124755   -0.029062   \n",
       "75%      0.736910    0.491651    0.154753    0.399628    0.450965    0.347036   \n",
       "max     27.202839    8.361985    5.842218    1.210968    2.208209    1.204351   \n",
       "\n",
       "              V27         V28       Amount       Class  \n",
       "count  600.000000  600.000000   600.000000  600.000000  \n",
       "mean     0.060793   -0.001151    97.807200    0.500000  \n",
       "std      1.172455    0.560695   223.201823    0.500417  \n",
       "min     -7.263482   -8.338123     0.000000    0.000000  \n",
       "25%     -0.074970   -0.082134     1.290000    0.000000  \n",
       "50%      0.038643    0.029379    19.315000    0.500000  \n",
       "75%      0.456945    0.203366    99.990000    1.000000  \n",
       "max      4.379080    1.779364  2528.610000    1.000000  \n",
       "\n",
       "[8 rows x 31 columns]"
      ]
     },
     "execution_count": 144,
     "metadata": {},
     "output_type": "execute_result"
    }
   ],
   "source": [
    "sc = SCs[0]\n",
    "sc.describe()"
   ]
  },
  {
   "cell_type": "code",
   "execution_count": 145,
   "metadata": {},
   "outputs": [
    {
     "data": {
      "image/png": "[encoded data removed]",
      "text/plain": [
       "<Figure size 432x288 with 1 Axes>"
      ]
     },
     "metadata": {
      "needs_background": "light"
     },
     "output_type": "display_data"
    }
   ],
   "source": [
    "#scale이 비슷한 Vn feature들로만 이상치 확인\n",
    "sc.drop(['Time', 'Amount'], axis=1).boxplot()\n",
    "plt.show()"
   ]
  },
  {
   "cell_type": "code",
   "execution_count": 146,
   "metadata": {},
   "outputs": [
    {
     "data": {
      "image/png": "[encoded data removed]",
      "text/plain": [
       "<Figure size 432x288 with 1 Axes>"
      ]
     },
     "metadata": {
      "needs_background": "light"
     },
     "output_type": "display_data"
    },
    {
     "data": {
      "image/png": "[encoded data removed]",
      "text/plain": [
       "<Figure size 432x288 with 1 Axes>"
      ]
     },
     "metadata": {
      "needs_background": "light"
     },
     "output_type": "display_data"
    }
   ],
   "source": [
    "#Amount에서 이상치 확인\n",
    "plt.boxplot(sc['Time'])\n",
    "plt.xticks([1], ['Time'])\n",
    "plt.show()\n",
    "\n",
    "plt.boxplot(sc['Amount'])\n",
    "plt.xticks([1], ['Amount'])\n",
    "plt.show()"
   ]
  },
  {
   "cell_type": "code",
   "execution_count": 147,
   "metadata": {},
   "outputs": [
    {
     "data": {
      "image/png": "[encoded data removed]",
      "text/plain": [
       "<Figure size 432x288 with 30 Axes>"
      ]
     },
     "metadata": {
      "needs_background": "light"
     },
     "output_type": "display_data"
    }
   ],
   "source": [
    "sc.drop(['Time', 'Amount'], axis=1).hist()\n",
    "plt.show()"
   ]
  },
  {
   "cell_type": "code",
   "execution_count": 148,
   "metadata": {},
   "outputs": [
    {
     "data": {
      "image/png": "[encoded data removed]",
      "text/plain": [
       "<Figure size 432x288 with 1 Axes>"
      ]
     },
     "metadata": {
      "needs_background": "light"
     },
     "output_type": "display_data"
    },
    {
     "data": {
      "image/png": "[encoded data removed]",
      "text/plain": [
       "<Figure size 432x288 with 1 Axes>"
      ]
     },
     "metadata": {
      "needs_background": "light"
     },
     "output_type": "display_data"
    }
   ],
   "source": [
    "plt.hist(sc['Time'])\n",
    "plt.xticks([1], ['Time'])\n",
    "plt.show()\n",
    "\n",
    "plt.hist(sc['Amount'])\n",
    "plt.xticks([1], ['Amount'])\n",
    "plt.show()"
   ]
  },
  {
   "cell_type": "code",
   "execution_count": 152,
   "metadata": {},
   "outputs": [
    {
     "name": "stdout",
     "output_type": "stream",
     "text": [
      "Train score: 1.000, Test score:0.960\n"
     ]
    }
   ],
   "source": [
    "#첫번째 sc set으로 fitting\n",
    "from sklearn.model_selection import train_test_split\n",
    "\n",
    "X_train, X_test, y_train, y_test = train_test_split(sc.drop('Class', axis=1), sc['Class'])\n",
    "\n",
    "from sklearn.ensemble import RandomForestClassifier\n",
    "rf = RandomForestClassifier(max_depth=10)\n",
    "rf.fit(X_train, y_train)\n",
    "print(\"Train score: {:.3f}, Test score:{:.3f}\".format(rf.score(X_train, y_train), rf.score(X_test, y_test)))"
   ]
  },
  {
   "cell_type": "code",
   "execution_count": 155,
   "metadata": {},
   "outputs": [
    {
     "name": "stdout",
     "output_type": "stream",
     "text": [
      "0번째 SC set:\n",
      "Train score: 0.976, Test score:0.967\n",
      "1번째 SC set:\n",
      "Train score: 0.973, Test score:0.980\n",
      "2번째 SC set:\n",
      "Train score: 0.969, Test score:0.987\n",
      "3번째 SC set:\n",
      "Train score: 0.967, Test score:0.993\n",
      "4번째 SC set:\n",
      "Train score: 0.993, Test score:0.980\n"
     ]
    }
   ],
   "source": [
    "#첫번째 sc set으로 fitting한 분류기로 나머지 sc 데이터셋들의 스코어 확인\n",
    "for i, data in enumerate(SCs):\n",
    "    X_train, X_test, y_train, y_test = train_test_split(data.drop('Class', axis=1), data['Class'])\n",
    "    print(\"{}번째 SC set:\".format(i))\n",
    "    print(\"Train score: {:.3f}, Test score:{:.3f}\".format(rf.score(X_train, y_train), rf.score(X_test, y_test)))"
   ]
  },
  {
   "cell_type": "code",
   "execution_count": 161,
   "metadata": {},
   "outputs": [
    {
     "name": "stdout",
     "output_type": "stream",
     "text": [
      "해당 분류기로 원본 데이터를 분류했을 때의 정확도가 0.967으로 상당히 잘 적합되었다고 볼 수 있다.\n"
     ]
    }
   ],
   "source": [
    "#원본세트로 스코어링\n",
    "cc = cc.dropna() # 결측치 삭제\n",
    "print(\"해당 분류기로 원본 데이터를 분류했을 때의 정확도가 %.3f으로 상당히 잘 적합되었다고 볼 수 있다.\" %(rf.score(cc.drop('Class', axis=1), cc['Class'])))"
   ]
  }
 ],
 "metadata": {
  "hide_input": false,
  "kernelspec": {
   "display_name": "Python 3",
   "language": "python",
   "name": "python3"
  },
  "language_info": {
   "codemirror_mode": {
    "name": "ipython",
    "version": 3
   },
   "file_extension": ".py",
   "mimetype": "text/x-python",
   "name": "python",
   "nbconvert_exporter": "python",
   "pygments_lexer": "ipython3",
   "version": "3.8.8"
  },
  "toc": {
   "base_numbering": 1,
   "nav_menu": {},
   "number_sections": true,
   "sideBar": true,
   "skip_h1_title": false,
   "title_cell": "Table of Contents",
   "title_sidebar": "Contents",
   "toc_cell": false,
   "toc_position": {},
   "toc_section_display": true,
   "toc_window_display": false
  },
  "varInspector": {
   "cols": {
    "lenName": 16,
    "lenType": 16,
    "lenVar": 40
   },
   "kernels_config": {
    "python": {
     "delete_cmd_postfix": "",
     "delete_cmd_prefix": "del ",
     "library": "var_list.py",
     "varRefreshCmd": "print(var_dic_list())"
    },
    "r": {
     "delete_cmd_postfix": ") ",
     "delete_cmd_prefix": "rm(",
     "library": "var_list.r",
     "varRefreshCmd": "cat(var_dic_list()) "
    }
   },
   "types_to_exclude": [
    "module",
    "function",
    "builtin_function_or_method",
    "instance",
    "_Feature"
   ],
   "window_display": false
  }
 },
 "nbformat": 4,
 "nbformat_minor": 4
}
