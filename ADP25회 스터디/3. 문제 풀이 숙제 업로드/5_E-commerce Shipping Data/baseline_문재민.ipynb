{
 "cells": [
  {
   "cell_type": "markdown",
   "metadata": {
    "toc": true
   },
   "source": [
    "<h1>Table of Contents<span class=\"tocSkip\"></span></h1>\n",
    "<div class=\"toc\"><ul class=\"toc-item\"><li><span><a href=\"#E-commerce-Shipping-Data\" data-toc-modified-id=\"E-commerce-Shipping-Data-1\"><span class=\"toc-item-num\">1&nbsp;&nbsp;</span>E-commerce Shipping Data</a></span></li><li><span><a href=\"##1-EDA\" data-toc-modified-id=\"#1-EDA-2\"><span class=\"toc-item-num\">2&nbsp;&nbsp;</span>#1 EDA</a></span><ul class=\"toc-item\"><li><span><a href=\"#데이터-구조\" data-toc-modified-id=\"데이터-구조-2.1\"><span class=\"toc-item-num\">2.1&nbsp;&nbsp;</span>데이터 구조</a></span></li><li><span><a href=\"#히스토그램-및-분포\" data-toc-modified-id=\"히스토그램-및-분포-2.2\"><span class=\"toc-item-num\">2.2&nbsp;&nbsp;</span>히스토그램 및 분포</a></span></li><li><span><a href=\"#상관관계\" data-toc-modified-id=\"상관관계-2.3\"><span class=\"toc-item-num\">2.3&nbsp;&nbsp;</span>상관관계</a></span></li><li><span><a href=\"#이상치\" data-toc-modified-id=\"이상치-2.4\"><span class=\"toc-item-num\">2.4&nbsp;&nbsp;</span>이상치</a></span></li></ul></li><li><span><a href=\"##2-전처리\" data-toc-modified-id=\"#2-전처리-3\"><span class=\"toc-item-num\">3&nbsp;&nbsp;</span>#2 전처리</a></span><ul class=\"toc-item\"><li><span><a href=\"#KNN-imputer\" data-toc-modified-id=\"KNN-imputer-3.1\"><span class=\"toc-item-num\">3.1&nbsp;&nbsp;</span>KNN imputer</a></span></li><li><span><a href=\"#변수-정규화\" data-toc-modified-id=\"변수-정규화-3.2\"><span class=\"toc-item-num\">3.2&nbsp;&nbsp;</span>변수 정규화</a></span></li><li><span><a href=\"#범주형-변수-가변수화\" data-toc-modified-id=\"범주형-변수-가변수화-3.3\"><span class=\"toc-item-num\">3.3&nbsp;&nbsp;</span>범주형 변수 가변수화</a></span></li></ul></li><li><span><a href=\"##3-통계분석\" data-toc-modified-id=\"#3-통계분석-4\"><span class=\"toc-item-num\">4&nbsp;&nbsp;</span>#3 통계분석</a></span></li><li><span><a href=\"##4-모델링-및-예측\" data-toc-modified-id=\"#4-모델링-및-예측-5\"><span class=\"toc-item-num\">5&nbsp;&nbsp;</span>#4 모델링 및 예측</a></span><ul class=\"toc-item\"><li><span><a href=\"#모델3개\" data-toc-modified-id=\"모델3개-5.1\"><span class=\"toc-item-num\">5.1&nbsp;&nbsp;</span>모델3개</a></span></li><li><span><a href=\"#성능지표\" data-toc-modified-id=\"성능지표-5.2\"><span class=\"toc-item-num\">5.2&nbsp;&nbsp;</span>성능지표</a></span></li><li><span><a href=\"#성능지표-해석\" data-toc-modified-id=\"성능지표-해석-5.3\"><span class=\"toc-item-num\">5.3&nbsp;&nbsp;</span>성능지표 해석</a></span></li></ul></li><li><span><a href=\"##5-추가적인-개선-방안\" data-toc-modified-id=\"#5-추가적인-개선-방안-6\"><span class=\"toc-item-num\">6&nbsp;&nbsp;</span>#5 추가적인 개선 방안</a></span></li></ul></div>"
   ]
  },
  {
   "cell_type": "markdown",
   "metadata": {
    "id": "hZF-meyg_cs3"
   },
   "source": [
    "# E-commerce Shipping Data\n",
    "- 제품 배송 시간에 맞춰 배송이 되었는지 예측(binary classification task)\n",
    "\n",
    "- 주요 feature\n",
    "    - ID: ID Number of Customers.\n",
    "        - 고객의 ID 번호입니다.\n",
    "    - Warehouse block: The Company have big - Warehouse which is divided in to block such as A,B,C,D,E.\n",
    "        - 회사는 A,B,C,D,E와 같은 블록으로 구분된 큰 창고를 가지고 있습니다.\n",
    "    - Mode of shipment:The Company Ships the products in multiple way such as Ship, Flight and Road.\n",
    "        - 회사는 선박, 항공, 육로 등 다양한 방법으로 제품을 배송합니다.\n",
    "    - Customer care calls: The number of calls made from enquiry for enquiry of the shipment.\n",
    "        - 배송조회 문의에서 걸려온 전화수입니다.\n",
    "    - Customer rating: The company has rated from every customer. 1 is the lowest (Worst), 5 is the highest (Best).\n",
    "        - 회사는 모든 고객으로부터 평가했습니다. 1이 가장 낮음(최악), 5가 가장 높음(최상)입니다.\n",
    "    - Cost of the product: Cost of the Product in US Dollars.\n",
    "        - 제품 비용(미국 달러).\n",
    "    - Prior purchases: The Number of Prior Purchase.\n",
    "        - 이전 구매 수.\n",
    "    - Product importance: The company has categorized the product in the various parameter such as low, medium, high.\n",
    "        - 회사는 제품을 낮음, 중간, 높음과 같은 다양한 매개변수로 분류했습니다.\n",
    "    - Gender: Male and Female.\n",
    "        - 남성과 여성.\n",
    "    - Discount offered: Discount offered on that specific product.\n",
    "        - 특정 제품에 대해 제공되는 할인.\n",
    "    - Weight in gms: It is the weight in grams.\n",
    "        - 무게(g)입니다.\n",
    "    - **[LABEL] Reached on time**: It is the target variable, where 1 Indicates that the product has NOT reached on time and 0 indicates it has reached on time.\n",
    "        - 목표 변수로, 1은 제품이 정시에 도달하지 않았음을 나타내고 0은 정시에 도달했음을 나타냅니다.\n",
    "\n",
    "---\n",
    "- [reference : e-commerce shipping data in KAGGLE](https://www.kaggle.com/datasets/prachi13/customer-analytics)\n",
    "- 빅분기 2회 실기 기출 데이터셋 이라고 합니다."
   ]
  },
  {
   "cell_type": "markdown",
   "metadata": {
    "id": "T5OCpLUEE97T"
   },
   "source": [
    "# #1 EDA\n",
    "- 주어진 data를 EDA하고 시각화 해주세요\n",
    "- 예측에 유의미한 인사이트를 서술해주세요"
   ]
  },
  {
   "cell_type": "code",
   "execution_count": 49,
   "metadata": {
    "id": "19quYGLFLYOg"
   },
   "outputs": [
    {
     "data": {
      "text/html": [
       "<div>\n",
       "<style scoped>\n",
       "    .dataframe tbody tr th:only-of-type {\n",
       "        vertical-align: middle;\n",
       "    }\n",
       "\n",
       "    .dataframe tbody tr th {\n",
       "        vertical-align: top;\n",
       "    }\n",
       "\n",
       "    .dataframe thead th {\n",
       "        text-align: right;\n",
       "    }\n",
       "</style>\n",
       "<table border=\"1\" class=\"dataframe\">\n",
       "  <thead>\n",
       "    <tr style=\"text-align: right;\">\n",
       "      <th></th>\n",
       "      <th>ID</th>\n",
       "      <th>Warehouse_block</th>\n",
       "      <th>Mode_of_Shipment</th>\n",
       "      <th>Customer_care_calls</th>\n",
       "      <th>Customer_rating</th>\n",
       "      <th>Cost_of_the_Product</th>\n",
       "      <th>Prior_purchases</th>\n",
       "      <th>Product_importance</th>\n",
       "      <th>Gender</th>\n",
       "      <th>Discount_offered</th>\n",
       "      <th>Weight_in_gms</th>\n",
       "    </tr>\n",
       "  </thead>\n",
       "  <tbody>\n",
       "    <tr>\n",
       "      <th>0</th>\n",
       "      <td>6045</td>\n",
       "      <td>A</td>\n",
       "      <td>Flight</td>\n",
       "      <td>4</td>\n",
       "      <td>3</td>\n",
       "      <td>266</td>\n",
       "      <td>5</td>\n",
       "      <td>high</td>\n",
       "      <td>F</td>\n",
       "      <td>5</td>\n",
       "      <td>1590</td>\n",
       "    </tr>\n",
       "    <tr>\n",
       "      <th>1</th>\n",
       "      <td>44</td>\n",
       "      <td>F</td>\n",
       "      <td>Ship</td>\n",
       "      <td>3</td>\n",
       "      <td>1</td>\n",
       "      <td>174</td>\n",
       "      <td>2</td>\n",
       "      <td>low</td>\n",
       "      <td>M</td>\n",
       "      <td>44</td>\n",
       "      <td>1556</td>\n",
       "    </tr>\n",
       "    <tr>\n",
       "      <th>2</th>\n",
       "      <td>7940</td>\n",
       "      <td>F</td>\n",
       "      <td>Road</td>\n",
       "      <td>4</td>\n",
       "      <td>1</td>\n",
       "      <td>154</td>\n",
       "      <td>10</td>\n",
       "      <td>high</td>\n",
       "      <td>M</td>\n",
       "      <td>10</td>\n",
       "      <td>5674</td>\n",
       "    </tr>\n",
       "    <tr>\n",
       "      <th>3</th>\n",
       "      <td>1596</td>\n",
       "      <td>F</td>\n",
       "      <td>Ship</td>\n",
       "      <td>4</td>\n",
       "      <td>3</td>\n",
       "      <td>158</td>\n",
       "      <td>3</td>\n",
       "      <td>medium</td>\n",
       "      <td>F</td>\n",
       "      <td>27</td>\n",
       "      <td>1207</td>\n",
       "    </tr>\n",
       "    <tr>\n",
       "      <th>4</th>\n",
       "      <td>4395</td>\n",
       "      <td>A</td>\n",
       "      <td>Flight</td>\n",
       "      <td>5</td>\n",
       "      <td>3</td>\n",
       "      <td>175</td>\n",
       "      <td>3</td>\n",
       "      <td>low</td>\n",
       "      <td>M</td>\n",
       "      <td>7</td>\n",
       "      <td>4833</td>\n",
       "    </tr>\n",
       "    <tr>\n",
       "      <th>...</th>\n",
       "      <td>...</td>\n",
       "      <td>...</td>\n",
       "      <td>...</td>\n",
       "      <td>...</td>\n",
       "      <td>...</td>\n",
       "      <td>...</td>\n",
       "      <td>...</td>\n",
       "      <td>...</td>\n",
       "      <td>...</td>\n",
       "      <td>...</td>\n",
       "      <td>...</td>\n",
       "    </tr>\n",
       "    <tr>\n",
       "      <th>6593</th>\n",
       "      <td>8610</td>\n",
       "      <td>F</td>\n",
       "      <td>Road</td>\n",
       "      <td>5</td>\n",
       "      <td>2</td>\n",
       "      <td>221</td>\n",
       "      <td>6</td>\n",
       "      <td>medium</td>\n",
       "      <td>M</td>\n",
       "      <td>4</td>\n",
       "      <td>1952</td>\n",
       "    </tr>\n",
       "    <tr>\n",
       "      <th>6594</th>\n",
       "      <td>3390</td>\n",
       "      <td>F</td>\n",
       "      <td>Ship</td>\n",
       "      <td>4</td>\n",
       "      <td>5</td>\n",
       "      <td>256</td>\n",
       "      <td>3</td>\n",
       "      <td>medium</td>\n",
       "      <td>M</td>\n",
       "      <td>10</td>\n",
       "      <td>4504</td>\n",
       "    </tr>\n",
       "    <tr>\n",
       "      <th>6595</th>\n",
       "      <td>5150</td>\n",
       "      <td>F</td>\n",
       "      <td>Ship</td>\n",
       "      <td>3</td>\n",
       "      <td>1</td>\n",
       "      <td>217</td>\n",
       "      <td>4</td>\n",
       "      <td>medium</td>\n",
       "      <td>F</td>\n",
       "      <td>1</td>\n",
       "      <td>5761</td>\n",
       "    </tr>\n",
       "    <tr>\n",
       "      <th>6596</th>\n",
       "      <td>3950</td>\n",
       "      <td>F</td>\n",
       "      <td>Road</td>\n",
       "      <td>4</td>\n",
       "      <td>5</td>\n",
       "      <td>174</td>\n",
       "      <td>3</td>\n",
       "      <td>medium</td>\n",
       "      <td>F</td>\n",
       "      <td>8</td>\n",
       "      <td>5576</td>\n",
       "    </tr>\n",
       "    <tr>\n",
       "      <th>6597</th>\n",
       "      <td>5969</td>\n",
       "      <td>C</td>\n",
       "      <td>Ship</td>\n",
       "      <td>6</td>\n",
       "      <td>2</td>\n",
       "      <td>257</td>\n",
       "      <td>4</td>\n",
       "      <td>medium</td>\n",
       "      <td>M</td>\n",
       "      <td>1</td>\n",
       "      <td>1513</td>\n",
       "    </tr>\n",
       "  </tbody>\n",
       "</table>\n",
       "<p>6598 rows × 11 columns</p>\n",
       "</div>"
      ],
      "text/plain": [
       "        ID Warehouse_block Mode_of_Shipment Customer_care_calls  \\\n",
       "0     6045               A           Flight                   4   \n",
       "1       44               F             Ship                   3   \n",
       "2     7940               F             Road                   4   \n",
       "3     1596               F             Ship                   4   \n",
       "4     4395               A           Flight                   5   \n",
       "...    ...             ...              ...                 ...   \n",
       "6593  8610               F             Road                   5   \n",
       "6594  3390               F             Ship                   4   \n",
       "6595  5150               F             Ship                   3   \n",
       "6596  3950               F             Road                   4   \n",
       "6597  5969               C             Ship                   6   \n",
       "\n",
       "      Customer_rating  Cost_of_the_Product  Prior_purchases  \\\n",
       "0                   3                  266                5   \n",
       "1                   1                  174                2   \n",
       "2                   1                  154               10   \n",
       "3                   3                  158                3   \n",
       "4                   3                  175                3   \n",
       "...               ...                  ...              ...   \n",
       "6593                2                  221                6   \n",
       "6594                5                  256                3   \n",
       "6595                1                  217                4   \n",
       "6596                5                  174                3   \n",
       "6597                2                  257                4   \n",
       "\n",
       "     Product_importance Gender  Discount_offered  Weight_in_gms  \n",
       "0                  high      F                 5           1590  \n",
       "1                   low      M                44           1556  \n",
       "2                  high      M                10           5674  \n",
       "3                medium      F                27           1207  \n",
       "4                   low      M                 7           4833  \n",
       "...                 ...    ...               ...            ...  \n",
       "6593             medium      M                 4           1952  \n",
       "6594             medium      M                10           4504  \n",
       "6595             medium      F                 1           5761  \n",
       "6596             medium      F                 8           5576  \n",
       "6597             medium      M                 1           1513  \n",
       "\n",
       "[6598 rows x 11 columns]"
      ]
     },
     "execution_count": 49,
     "metadata": {},
     "output_type": "execute_result"
    }
   ],
   "source": [
    "import pandas as pd\n",
    "import numpy as np\n",
    "\n",
    "X_train = pd.read_csv('./data/X_train.csv')\n",
    "X_test = pd.read_csv('./data/X_test.csv')\n",
    "y_train = pd.read_csv('./data/y_train.csv')\n",
    "y_test = pd.read_csv('./data/test_label/y_test.csv')\n",
    "X_train"
   ]
  },
  {
   "cell_type": "code",
   "execution_count": 2,
   "metadata": {},
   "outputs": [
    {
     "data": {
      "text/html": [
       "<div>\n",
       "<style scoped>\n",
       "    .dataframe tbody tr th:only-of-type {\n",
       "        vertical-align: middle;\n",
       "    }\n",
       "\n",
       "    .dataframe tbody tr th {\n",
       "        vertical-align: top;\n",
       "    }\n",
       "\n",
       "    .dataframe thead th {\n",
       "        text-align: right;\n",
       "    }\n",
       "</style>\n",
       "<table border=\"1\" class=\"dataframe\">\n",
       "  <thead>\n",
       "    <tr style=\"text-align: right;\">\n",
       "      <th></th>\n",
       "      <th>ID</th>\n",
       "      <th>Reached.on.Time_Y.N</th>\n",
       "    </tr>\n",
       "  </thead>\n",
       "  <tbody>\n",
       "    <tr>\n",
       "      <th>0</th>\n",
       "      <td>6045</td>\n",
       "      <td>0</td>\n",
       "    </tr>\n",
       "    <tr>\n",
       "      <th>1</th>\n",
       "      <td>44</td>\n",
       "      <td>1</td>\n",
       "    </tr>\n",
       "    <tr>\n",
       "      <th>2</th>\n",
       "      <td>7940</td>\n",
       "      <td>1</td>\n",
       "    </tr>\n",
       "    <tr>\n",
       "      <th>3</th>\n",
       "      <td>1596</td>\n",
       "      <td>1</td>\n",
       "    </tr>\n",
       "    <tr>\n",
       "      <th>4</th>\n",
       "      <td>4395</td>\n",
       "      <td>1</td>\n",
       "    </tr>\n",
       "    <tr>\n",
       "      <th>...</th>\n",
       "      <td>...</td>\n",
       "      <td>...</td>\n",
       "    </tr>\n",
       "    <tr>\n",
       "      <th>6593</th>\n",
       "      <td>8610</td>\n",
       "      <td>1</td>\n",
       "    </tr>\n",
       "    <tr>\n",
       "      <th>6594</th>\n",
       "      <td>3390</td>\n",
       "      <td>1</td>\n",
       "    </tr>\n",
       "    <tr>\n",
       "      <th>6595</th>\n",
       "      <td>5150</td>\n",
       "      <td>1</td>\n",
       "    </tr>\n",
       "    <tr>\n",
       "      <th>6596</th>\n",
       "      <td>3950</td>\n",
       "      <td>0</td>\n",
       "    </tr>\n",
       "    <tr>\n",
       "      <th>6597</th>\n",
       "      <td>5969</td>\n",
       "      <td>0</td>\n",
       "    </tr>\n",
       "  </tbody>\n",
       "</table>\n",
       "<p>6598 rows × 2 columns</p>\n",
       "</div>"
      ],
      "text/plain": [
       "        ID  Reached.on.Time_Y.N\n",
       "0     6045                    0\n",
       "1       44                    1\n",
       "2     7940                    1\n",
       "3     1596                    1\n",
       "4     4395                    1\n",
       "...    ...                  ...\n",
       "6593  8610                    1\n",
       "6594  3390                    1\n",
       "6595  5150                    1\n",
       "6596  3950                    0\n",
       "6597  5969                    0\n",
       "\n",
       "[6598 rows x 2 columns]"
      ]
     },
     "execution_count": 2,
     "metadata": {},
     "output_type": "execute_result"
    }
   ],
   "source": [
    "y_train"
   ]
  },
  {
   "cell_type": "markdown",
   "metadata": {},
   "source": [
    "## 데이터 구조 "
   ]
  },
  {
   "cell_type": "code",
   "execution_count": 3,
   "metadata": {},
   "outputs": [
    {
     "name": "stdout",
     "output_type": "stream",
     "text": [
      "<class 'pandas.core.frame.DataFrame'>\n",
      "RangeIndex: 6598 entries, 0 to 6597\n",
      "Data columns (total 11 columns):\n",
      " #   Column               Non-Null Count  Dtype \n",
      "---  ------               --------------  ----- \n",
      " 0   ID                   6598 non-null   int64 \n",
      " 1   Warehouse_block      6598 non-null   object\n",
      " 2   Mode_of_Shipment     6598 non-null   object\n",
      " 3   Customer_care_calls  6598 non-null   object\n",
      " 4   Customer_rating      6598 non-null   int64 \n",
      " 5   Cost_of_the_Product  6598 non-null   int64 \n",
      " 6   Prior_purchases      6598 non-null   int64 \n",
      " 7   Product_importance   6598 non-null   object\n",
      " 8   Gender               6598 non-null   object\n",
      " 9   Discount_offered     6598 non-null   int64 \n",
      " 10  Weight_in_gms        6598 non-null   int64 \n",
      "dtypes: int64(6), object(5)\n",
      "memory usage: 567.1+ KB\n"
     ]
    }
   ],
   "source": [
    "X_train.info()"
   ]
  },
  {
   "cell_type": "code",
   "execution_count": 6,
   "metadata": {},
   "outputs": [
    {
     "name": "stdout",
     "output_type": "stream",
     "text": [
      "<class 'pandas.core.frame.DataFrame'>\n",
      "RangeIndex: 6598 entries, 0 to 6597\n",
      "Data columns (total 2 columns):\n",
      " #   Column               Non-Null Count  Dtype\n",
      "---  ------               --------------  -----\n",
      " 0   ID                   6598 non-null   int64\n",
      " 1   Reached.on.Time_Y.N  6598 non-null   int64\n",
      "dtypes: int64(2)\n",
      "memory usage: 103.2 KB\n"
     ]
    }
   ],
   "source": [
    "y_train.info()"
   ]
  },
  {
   "cell_type": "markdown",
   "metadata": {},
   "source": [
    "- X값은 11개의 열을 가지고 있고, 6598개의 행을 가지고 있음.\n",
    "- 범주형 변수: Warehouse_block, Mode_of_Shipment, Customer_care_calls, Product_importance, Gender\n",
    "- 수치형 변수: \n",
    "- 이진형 변수: Reached.on.Time_Y.N\n",
    "- 결측치는 존재하지 않음"
   ]
  },
  {
   "cell_type": "code",
   "execution_count": 8,
   "metadata": {},
   "outputs": [
    {
     "data": {
      "text/html": [
       "<div>\n",
       "<style scoped>\n",
       "    .dataframe tbody tr th:only-of-type {\n",
       "        vertical-align: middle;\n",
       "    }\n",
       "\n",
       "    .dataframe tbody tr th {\n",
       "        vertical-align: top;\n",
       "    }\n",
       "\n",
       "    .dataframe thead th {\n",
       "        text-align: right;\n",
       "    }\n",
       "</style>\n",
       "<table border=\"1\" class=\"dataframe\">\n",
       "  <thead>\n",
       "    <tr style=\"text-align: right;\">\n",
       "      <th></th>\n",
       "      <th>ID</th>\n",
       "      <th>Warehouse_block</th>\n",
       "      <th>Mode_of_Shipment</th>\n",
       "      <th>Customer_care_calls</th>\n",
       "      <th>Customer_rating</th>\n",
       "      <th>Cost_of_the_Product</th>\n",
       "      <th>Prior_purchases</th>\n",
       "      <th>Product_importance</th>\n",
       "      <th>Gender</th>\n",
       "      <th>Discount_offered</th>\n",
       "      <th>Weight_in_gms</th>\n",
       "    </tr>\n",
       "  </thead>\n",
       "  <tbody>\n",
       "    <tr>\n",
       "      <th>count</th>\n",
       "      <td>6598.000000</td>\n",
       "      <td>6598</td>\n",
       "      <td>6598</td>\n",
       "      <td>6598</td>\n",
       "      <td>6598.000000</td>\n",
       "      <td>6598.000000</td>\n",
       "      <td>6598.000000</td>\n",
       "      <td>6598</td>\n",
       "      <td>6598</td>\n",
       "      <td>6598.000000</td>\n",
       "      <td>6598.000000</td>\n",
       "    </tr>\n",
       "    <tr>\n",
       "      <th>unique</th>\n",
       "      <td>NaN</td>\n",
       "      <td>5</td>\n",
       "      <td>3</td>\n",
       "      <td>6</td>\n",
       "      <td>NaN</td>\n",
       "      <td>NaN</td>\n",
       "      <td>NaN</td>\n",
       "      <td>3</td>\n",
       "      <td>2</td>\n",
       "      <td>NaN</td>\n",
       "      <td>NaN</td>\n",
       "    </tr>\n",
       "    <tr>\n",
       "      <th>top</th>\n",
       "      <td>NaN</td>\n",
       "      <td>F</td>\n",
       "      <td>Ship</td>\n",
       "      <td>4</td>\n",
       "      <td>NaN</td>\n",
       "      <td>NaN</td>\n",
       "      <td>NaN</td>\n",
       "      <td>low</td>\n",
       "      <td>F</td>\n",
       "      <td>NaN</td>\n",
       "      <td>NaN</td>\n",
       "    </tr>\n",
       "    <tr>\n",
       "      <th>freq</th>\n",
       "      <td>NaN</td>\n",
       "      <td>2262</td>\n",
       "      <td>4512</td>\n",
       "      <td>2115</td>\n",
       "      <td>NaN</td>\n",
       "      <td>NaN</td>\n",
       "      <td>NaN</td>\n",
       "      <td>3162</td>\n",
       "      <td>3311</td>\n",
       "      <td>NaN</td>\n",
       "      <td>NaN</td>\n",
       "    </tr>\n",
       "    <tr>\n",
       "      <th>mean</th>\n",
       "      <td>5476.977266</td>\n",
       "      <td>NaN</td>\n",
       "      <td>NaN</td>\n",
       "      <td>NaN</td>\n",
       "      <td>2.991361</td>\n",
       "      <td>210.393149</td>\n",
       "      <td>3.577751</td>\n",
       "      <td>NaN</td>\n",
       "      <td>NaN</td>\n",
       "      <td>13.353592</td>\n",
       "      <td>3604.191119</td>\n",
       "    </tr>\n",
       "    <tr>\n",
       "      <th>std</th>\n",
       "      <td>3172.946154</td>\n",
       "      <td>NaN</td>\n",
       "      <td>NaN</td>\n",
       "      <td>NaN</td>\n",
       "      <td>1.409624</td>\n",
       "      <td>48.258089</td>\n",
       "      <td>1.511394</td>\n",
       "      <td>NaN</td>\n",
       "      <td>NaN</td>\n",
       "      <td>16.187267</td>\n",
       "      <td>1635.697627</td>\n",
       "    </tr>\n",
       "    <tr>\n",
       "      <th>min</th>\n",
       "      <td>1.000000</td>\n",
       "      <td>NaN</td>\n",
       "      <td>NaN</td>\n",
       "      <td>NaN</td>\n",
       "      <td>1.000000</td>\n",
       "      <td>96.000000</td>\n",
       "      <td>2.000000</td>\n",
       "      <td>NaN</td>\n",
       "      <td>NaN</td>\n",
       "      <td>1.000000</td>\n",
       "      <td>1001.000000</td>\n",
       "    </tr>\n",
       "    <tr>\n",
       "      <th>25%</th>\n",
       "      <td>2731.250000</td>\n",
       "      <td>NaN</td>\n",
       "      <td>NaN</td>\n",
       "      <td>NaN</td>\n",
       "      <td>2.000000</td>\n",
       "      <td>170.000000</td>\n",
       "      <td>3.000000</td>\n",
       "      <td>NaN</td>\n",
       "      <td>NaN</td>\n",
       "      <td>4.000000</td>\n",
       "      <td>1834.250000</td>\n",
       "    </tr>\n",
       "    <tr>\n",
       "      <th>50%</th>\n",
       "      <td>5476.000000</td>\n",
       "      <td>NaN</td>\n",
       "      <td>NaN</td>\n",
       "      <td>NaN</td>\n",
       "      <td>3.000000</td>\n",
       "      <td>214.000000</td>\n",
       "      <td>3.000000</td>\n",
       "      <td>NaN</td>\n",
       "      <td>NaN</td>\n",
       "      <td>7.000000</td>\n",
       "      <td>4119.500000</td>\n",
       "    </tr>\n",
       "    <tr>\n",
       "      <th>75%</th>\n",
       "      <td>8187.750000</td>\n",
       "      <td>NaN</td>\n",
       "      <td>NaN</td>\n",
       "      <td>NaN</td>\n",
       "      <td>4.000000</td>\n",
       "      <td>251.000000</td>\n",
       "      <td>4.000000</td>\n",
       "      <td>NaN</td>\n",
       "      <td>NaN</td>\n",
       "      <td>10.000000</td>\n",
       "      <td>5027.500000</td>\n",
       "    </tr>\n",
       "    <tr>\n",
       "      <th>max</th>\n",
       "      <td>10998.000000</td>\n",
       "      <td>NaN</td>\n",
       "      <td>NaN</td>\n",
       "      <td>NaN</td>\n",
       "      <td>5.000000</td>\n",
       "      <td>310.000000</td>\n",
       "      <td>10.000000</td>\n",
       "      <td>NaN</td>\n",
       "      <td>NaN</td>\n",
       "      <td>65.000000</td>\n",
       "      <td>7684.000000</td>\n",
       "    </tr>\n",
       "  </tbody>\n",
       "</table>\n",
       "</div>"
      ],
      "text/plain": [
       "                  ID Warehouse_block Mode_of_Shipment Customer_care_calls  \\\n",
       "count    6598.000000            6598             6598                6598   \n",
       "unique           NaN               5                3                   6   \n",
       "top              NaN               F             Ship                   4   \n",
       "freq             NaN            2262             4512                2115   \n",
       "mean     5476.977266             NaN              NaN                 NaN   \n",
       "std      3172.946154             NaN              NaN                 NaN   \n",
       "min         1.000000             NaN              NaN                 NaN   \n",
       "25%      2731.250000             NaN              NaN                 NaN   \n",
       "50%      5476.000000             NaN              NaN                 NaN   \n",
       "75%      8187.750000             NaN              NaN                 NaN   \n",
       "max     10998.000000             NaN              NaN                 NaN   \n",
       "\n",
       "        Customer_rating  Cost_of_the_Product  Prior_purchases  \\\n",
       "count       6598.000000          6598.000000      6598.000000   \n",
       "unique              NaN                  NaN              NaN   \n",
       "top                 NaN                  NaN              NaN   \n",
       "freq                NaN                  NaN              NaN   \n",
       "mean           2.991361           210.393149         3.577751   \n",
       "std            1.409624            48.258089         1.511394   \n",
       "min            1.000000            96.000000         2.000000   \n",
       "25%            2.000000           170.000000         3.000000   \n",
       "50%            3.000000           214.000000         3.000000   \n",
       "75%            4.000000           251.000000         4.000000   \n",
       "max            5.000000           310.000000        10.000000   \n",
       "\n",
       "       Product_importance Gender  Discount_offered  Weight_in_gms  \n",
       "count                6598   6598       6598.000000    6598.000000  \n",
       "unique                  3      2               NaN            NaN  \n",
       "top                   low      F               NaN            NaN  \n",
       "freq                 3162   3311               NaN            NaN  \n",
       "mean                  NaN    NaN         13.353592    3604.191119  \n",
       "std                   NaN    NaN         16.187267    1635.697627  \n",
       "min                   NaN    NaN          1.000000    1001.000000  \n",
       "25%                   NaN    NaN          4.000000    1834.250000  \n",
       "50%                   NaN    NaN          7.000000    4119.500000  \n",
       "75%                   NaN    NaN         10.000000    5027.500000  \n",
       "max                   NaN    NaN         65.000000    7684.000000  "
      ]
     },
     "execution_count": 8,
     "metadata": {},
     "output_type": "execute_result"
    }
   ],
   "source": [
    "X_train.describe(include='all')"
   ]
  },
  {
   "cell_type": "code",
   "execution_count": 7,
   "metadata": {},
   "outputs": [
    {
     "data": {
      "image/png": "[encoded data removed]",
      "text/plain": [
       "<Figure size 432x288 with 6 Axes>"
      ]
     },
     "metadata": {
      "needs_background": "light"
     },
     "output_type": "display_data"
    }
   ],
   "source": [
    "import matplotlib.pyplot as plt\n",
    "import seaborn as sns\n",
    "\n",
    "#plt.figure(figsize=(20,10))\n",
    "X_train.hist()\n",
    "plt.tight_layout()\n",
    "plt.show()"
   ]
  },
  {
   "cell_type": "code",
   "execution_count": 9,
   "metadata": {},
   "outputs": [
    {
     "data": {
      "image/png": "[encoded data removed]",
      "text/plain": [
       "<Figure size 432x288 with 2 Axes>"
      ]
     },
     "metadata": {
      "needs_background": "light"
     },
     "output_type": "display_data"
    }
   ],
   "source": [
    "y_train.hist()\n",
    "plt.tight_layout()\n",
    "plt.show()"
   ]
  },
  {
   "cell_type": "code",
   "execution_count": 10,
   "metadata": {},
   "outputs": [
    {
     "data": {
      "text/html": [
       "<div>\n",
       "<style scoped>\n",
       "    .dataframe tbody tr th:only-of-type {\n",
       "        vertical-align: middle;\n",
       "    }\n",
       "\n",
       "    .dataframe tbody tr th {\n",
       "        vertical-align: top;\n",
       "    }\n",
       "\n",
       "    .dataframe thead th {\n",
       "        text-align: right;\n",
       "    }\n",
       "</style>\n",
       "<table border=\"1\" class=\"dataframe\">\n",
       "  <thead>\n",
       "    <tr style=\"text-align: right;\">\n",
       "      <th></th>\n",
       "      <th>skew</th>\n",
       "      <th>kurtosis</th>\n",
       "    </tr>\n",
       "  </thead>\n",
       "  <tbody>\n",
       "    <tr>\n",
       "      <th>ID</th>\n",
       "      <td>0.005027</td>\n",
       "      <td>-1.192659</td>\n",
       "    </tr>\n",
       "    <tr>\n",
       "      <th>Customer_rating</th>\n",
       "      <td>-0.002883</td>\n",
       "      <td>-1.287016</td>\n",
       "    </tr>\n",
       "    <tr>\n",
       "      <th>Cost_of_the_Product</th>\n",
       "      <td>-0.165466</td>\n",
       "      <td>-0.968458</td>\n",
       "    </tr>\n",
       "    <tr>\n",
       "      <th>Prior_purchases</th>\n",
       "      <td>1.664884</td>\n",
       "      <td>4.000817</td>\n",
       "    </tr>\n",
       "    <tr>\n",
       "      <th>Discount_offered</th>\n",
       "      <td>1.820051</td>\n",
       "      <td>2.096800</td>\n",
       "    </tr>\n",
       "    <tr>\n",
       "      <th>Weight_in_gms</th>\n",
       "      <td>-0.218728</td>\n",
       "      <td>-1.467108</td>\n",
       "    </tr>\n",
       "  </tbody>\n",
       "</table>\n",
       "</div>"
      ],
      "text/plain": [
       "                         skew  kurtosis\n",
       "ID                   0.005027 -1.192659\n",
       "Customer_rating     -0.002883 -1.287016\n",
       "Cost_of_the_Product -0.165466 -0.968458\n",
       "Prior_purchases      1.664884  4.000817\n",
       "Discount_offered     1.820051  2.096800\n",
       "Weight_in_gms       -0.218728 -1.467108"
      ]
     },
     "execution_count": 10,
     "metadata": {},
     "output_type": "execute_result"
    }
   ],
   "source": [
    "X_train.agg(['skew','kurtosis']).T\n",
    "# skewness: -2 ~ +2 사이면 왜도가 크지 않다고 판단함.\n",
    "# urtosis: 첨도가 높을수록 이상치가 많아짐."
   ]
  },
  {
   "cell_type": "code",
   "execution_count": 12,
   "metadata": {},
   "outputs": [
    {
     "data": {
      "text/html": [
       "<div>\n",
       "<style scoped>\n",
       "    .dataframe tbody tr th:only-of-type {\n",
       "        vertical-align: middle;\n",
       "    }\n",
       "\n",
       "    .dataframe tbody tr th {\n",
       "        vertical-align: top;\n",
       "    }\n",
       "\n",
       "    .dataframe thead th {\n",
       "        text-align: right;\n",
       "    }\n",
       "</style>\n",
       "<table border=\"1\" class=\"dataframe\">\n",
       "  <thead>\n",
       "    <tr style=\"text-align: right;\">\n",
       "      <th></th>\n",
       "      <th>skew</th>\n",
       "      <th>kurtosis</th>\n",
       "    </tr>\n",
       "  </thead>\n",
       "  <tbody>\n",
       "    <tr>\n",
       "      <th>ID</th>\n",
       "      <td>0.005027</td>\n",
       "      <td>-1.192659</td>\n",
       "    </tr>\n",
       "    <tr>\n",
       "      <th>Reached.on.Time_Y.N</th>\n",
       "      <td>-0.394316</td>\n",
       "      <td>-1.845074</td>\n",
       "    </tr>\n",
       "  </tbody>\n",
       "</table>\n",
       "</div>"
      ],
      "text/plain": [
       "                         skew  kurtosis\n",
       "ID                   0.005027 -1.192659\n",
       "Reached.on.Time_Y.N -0.394316 -1.845074"
      ]
     },
     "execution_count": 12,
     "metadata": {},
     "output_type": "execute_result"
    }
   ],
   "source": [
    "y_train.agg(['skew','kurtosis']).T"
   ]
  },
  {
   "cell_type": "markdown",
   "metadata": {},
   "source": [
    "## 히스토그램 및 분포\n",
    "- y값이 1인 경우가 0인 경우보다 좀더 많음 (왜도 -1.85)\n",
    "- Discount_offered값의 경우, 좌측으로 많이 치우쳐져있음 (왜도 2.10)"
   ]
  },
  {
   "cell_type": "code",
   "execution_count": 22,
   "metadata": {},
   "outputs": [
    {
     "data": {
      "image/png": "[encoded data removed]",
      "text/plain": [
       "<Figure size 720x720 with 2 Axes>"
      ]
     },
     "metadata": {
      "needs_background": "light"
     },
     "output_type": "display_data"
    }
   ],
   "source": [
    "train = pd.merge(X_train, y_train, how='left')\n",
    "plt.figure(figsize=(10,10))\n",
    "sns.heatmap(train.corr(method='pearson'), annot=True, cmap = 'RdBu_r', vmin=-1, vmax=1)\n",
    "plt.tight_layout()\n",
    "plt.show()"
   ]
  },
  {
   "cell_type": "markdown",
   "metadata": {},
   "source": [
    "## 상관관계\n",
    "pearson 상관계수 결과\n",
    "- Discount_offered ~ Reached.on.Time_Y.N은 양의 상관관계를 보인다. (0.4)\n",
    "- Discount_offered ~ ID는 음의 상관관계를 보인다. (-0.59)\n",
    "- Discount_offered ~ Weight_in_gms는 약한 음의 상관관계를 보인다. (-0.37)\n",
    "- 이외의 변수 관계는 상관계수의 크기가 0.3미만으로 상관관계가 약하다."
   ]
  },
  {
   "cell_type": "code",
   "execution_count": 23,
   "metadata": {},
   "outputs": [
    {
     "data": {
      "text/plain": [
       "<Figure size 1440x720 with 0 Axes>"
      ]
     },
     "metadata": {},
     "output_type": "display_data"
    },
    {
     "data": {
      "image/png": "[encoded data removed]",
      "text/plain": [
       "<Figure size 1440x720 with 14 Axes>"
      ]
     },
     "metadata": {
      "needs_background": "light"
     },
     "output_type": "display_data"
    }
   ],
   "source": [
    "plt.figure(figsize=(20,10))\n",
    "train.plot(kind='box', subplots=True, layout=(2,len(train.columns)//2+1), figsize=(20,10))\n",
    "plt.show()"
   ]
  },
  {
   "cell_type": "markdown",
   "metadata": {},
   "source": [
    "## 이상치\n",
    "__이상치: Q1 - 1.5 * IQR 미만, 또는 Q3 + 1.5 * IQR 초과하는 값__\n",
    "- Prior_purchases: 2~10 사이 값을 가지며, 정상적인 범주라고 볼 수 있으므로, 이상치 처리를 하지 않는다.\n",
    "- Discount_offered: 1~65 사이 값을 가지며, 75%tile 값인 10을 넘는 이상치가 다수 분포해있다. (경우에 따라서 극단값으로 조정 등의 방법이 필요할 수 있다)"
   ]
  },
  {
   "cell_type": "markdown",
   "metadata": {
    "id": "xicUSfvaKkDh"
   },
   "source": [
    "# #2 전처리\n",
    "- 필요한 전처리를 한 후, 처리한 이유를 서술해주세요"
   ]
  },
  {
   "cell_type": "markdown",
   "metadata": {
    "id": "ZvkWUpKmLYod"
   },
   "source": [
    "## KNN imputer\n",
    "- 0과 1, 두개의 클래스 중, 0을 가지는 데이터가 1을 가지는 데이터보다 상대적으로 많고, 불균형 분포를 보인다. 이 때, y 분류를 예측할 때, 0을 예측하는 것에 과대적합할 가능성이 있으므로, 오버샘플링 또는 언더샘플링을 통해 균형적인 데이터로 전처리한다면 과대적합을 방지하고, 예측 모델의 성능을 향상시킬 수 있다.\n",
    "- 따라서, "
   ]
  },
  {
   "cell_type": "markdown",
   "metadata": {},
   "source": [
    "## 변수 정규화\n",
    "- Skewness가 -2 ~ +2를 초과하는 수치형 변수의 경우, 정규화를 통해 예측 모델의 성능을 향상시킬 수 있다.\n",
    "- 알고리듬 모델 종류에 따라, 차원을 다루는 모델의 경우 (SVM 등) 데이터 스케일을 정규화를 하는 것이 성능 향상에 도움이 될 수 있다."
   ]
  },
  {
   "cell_type": "markdown",
   "metadata": {},
   "source": [
    "## 범주형 변수 가변수화\n",
    "- 범주형 변수는 기계학습 등에서 분석이 힘드므로, 원핫인코딩의 방법으로 가변수화 시킬 수 있다. "
   ]
  },
  {
   "cell_type": "code",
   "execution_count": 50,
   "metadata": {},
   "outputs": [],
   "source": [
    "object_cols = ['Warehouse_block', 'Mode_of_Shipment', 'Customer_care_calls', 'Product_importance', 'Gender']\n",
    "X_train = pd.get_dummies(columns=object_cols, data=X_train, drop_first=True)\n",
    "X_test = pd.get_dummies(columns=object_cols, data=X_test, drop_first=True)"
   ]
  },
  {
   "cell_type": "code",
   "execution_count": 51,
   "metadata": {},
   "outputs": [],
   "source": [
    "y_train = y_train['Reached.on.Time_Y.N']\n",
    "y_test = y_test['Reached.on.Time_Y.N']"
   ]
  },
  {
   "cell_type": "markdown",
   "metadata": {
    "id": "9QMlRxn-Ks5P"
   },
   "source": [
    "# #3 통계분석\n",
    "- 아래 feature간 통계분석을 자유롭게 수행하고 결과를 서술해주세요\n",
    "    - Customer rating ~ Reached on time\n",
    "    - Product importance ~ Customer rating"
   ]
  },
  {
   "cell_type": "code",
   "execution_count": 28,
   "metadata": {
    "id": "MkIhygL1LY_z"
   },
   "outputs": [
    {
     "data": {
      "text/plain": [
       "Customer_rating\n",
       "1    0.575690\n",
       "2    0.608627\n",
       "3    0.606437\n",
       "4    0.579699\n",
       "5    0.614008\n",
       "Name: Reached.on.Time_Y.N, dtype: float64"
      ]
     },
     "execution_count": 28,
     "metadata": {},
     "output_type": "execute_result"
    }
   ],
   "source": [
    "train.groupby(\"Customer_rating\").mean()[\"Reached.on.Time_Y.N\"]"
   ]
  },
  {
   "cell_type": "markdown",
   "metadata": {
    "id": "alteaQALKNTm"
   },
   "source": [
    "# #4 모델링 및 예측\n",
    "- 모델링\n",
    "    - 3가지 모델을 선택해 모델링해주세요.\n",
    "    - 모델을 선택한 이유를 서술해주세요\n",
    "- 예측\n",
    "    - 성능지표를 3가지 선택해 측정해주세요\n",
    "    - 지표를 선택한 이유를 서술해주세요"
   ]
  },
  {
   "cell_type": "markdown",
   "metadata": {},
   "source": [
    "## 모델3개\n",
    "1. Logistic Regression 분류 모델\n",
    "1. Random Forest 분류 모델\n",
    "1. XGBoost 분류 모델\n",
    "\n",
    "세 모델 모두, 분류모델이며,  \n",
    "속도측면에서 로지스틱회귀 분류모델을,  \n",
    "분류 성능과 속도가 모두 양호한 것으로 알려진 XGBoost, Randrom Forest모델을 사용한다.\n",
    "\n",
    "## 성능지표\n",
    "1. f1_score: 재현도와 정밀도의 조화평균으로, y값이 불균형으로 예상될 경우, 재현도와 정밀도를 모두 고려한 성능지표가 된다.\n",
    "1. roc_auc_score: (1-fpr) 와 (tpr)의 그래프의 아래 면적으로 y값이 불균형으로 예상될 경우, ㅇㅇㅇ\n",
    "1. accuracy: y값을 예측\n",
    "1. time: 모델 학습~예측 시간으로, 대략적인 시간의 차이를 알 수 있음. 단, 실제 현업에서는 매개변수 조정 등의 작업과 이로 인한 속도 차이가 발생할 수 있으므로, 대략적인 차이만 알아 본다."
   ]
  },
  {
   "cell_type": "code",
   "execution_count": 52,
   "metadata": {
    "id": "ZI5BiwwZLZWG"
   },
   "outputs": [],
   "source": [
    "from sklearn.linear_model import LogisticRegression\n",
    "lr = LogisticRegression()\n",
    "#lr.fit(X_smote_train, y_smote_train)\n",
    "from xgboost import XGBClassifier\n",
    "xgb = XGBClassifier()\n",
    "from sklearn.ensemble import RandomForestClassifier\n",
    "rfc = RandomForestClassifier()"
   ]
  },
  {
   "cell_type": "code",
   "execution_count": 53,
   "metadata": {},
   "outputs": [],
   "source": [
    "import time\n",
    "import datetime as dt\n",
    "from sklearn.metrics import roc_auc_score, f1_score\n",
    "roc_auc = []\n",
    "f1_scores = []\n",
    "times = []\n",
    "\n",
    "for model in [lr, rfc, xgb]:\n",
    "    now = dt.datetime.now()\n",
    "    model.fit(X_train, y_train)\n",
    "    roc_auc.append(roc_auc_score(y_test, model.predict_proba(X_test)[:,1]))\n",
    "    f1_scores.append(f1_score(y_test, model.predict(X_test), average=\"macro\"))\n",
    "    times.append(dt.datetime.now() - now)"
   ]
  },
  {
   "cell_type": "code",
   "execution_count": 55,
   "metadata": {
    "scrolled": true
   },
   "outputs": [
    {
     "name": "stdout",
     "output_type": "stream",
     "text": [
      "     roc_auc_score\n",
      "lr        0.732841\n",
      "rfc       0.729470\n",
      "xgb       0.733289\n",
      "     f1_score\n",
      "lr   0.642041\n",
      "rfc  0.660269\n",
      "xgb  0.679211\n",
      "                      time\n",
      "lr  0 days 00:00:00.041604\n",
      "rfc 0 days 00:00:00.688087\n",
      "xgb 0 days 00:00:00.602350\n"
     ]
    }
   ],
   "source": [
    "print(pd.DataFrame(roc_auc, columns = ['roc_auc_score'], index = ['lr','rfc', 'xgb']))\n",
    "print(pd.DataFrame(f1_scores, columns = ['f1_score'], index = ['lr','rfc', 'xgb']))\n",
    "print(pd.DataFrame(times, columns = ['time'], index = ['lr','rfc', 'xgb']))"
   ]
  },
  {
   "cell_type": "markdown",
   "metadata": {},
   "source": [
    "## 성능지표 해석\n",
    "1. roc_auc_score: 3모델 모두 0.72~0.73으로 유사한 수준임\n",
    "1. f1_socre: xgb > rfc > lr 순으로 y값의 0과 1을 모두 잘 분류하였음\n",
    "1. time: lr의 경우가 다른 2모델에 비해 매우 빠르고, 그다음 xgb가 빠르며, rfc가 가장 느림"
   ]
  },
  {
   "cell_type": "markdown",
   "metadata": {
    "id": "fbFeGXGkLRUw"
   },
   "source": [
    "# #5 추가적인 개선 방안\n",
    "을 서술해주세요"
   ]
  },
  {
   "cell_type": "markdown",
   "metadata": {
    "id": "GOXoi3UMLXA1"
   },
   "source": [
    "- 모델 학습의 X_train, y_train에서 0과 1의 값이 균형적인 분포가 보이도록, 오버샘플링, 특히 SMOTE와 같은 방법으로 오버샘플링을 실시할 경우, 데이터를 보존하면서, 과대적합을 방지할 수 있고 이로 인해, f1_score, roc_auc_socre가 향상될 수 있다.\n",
    "- X_train의 변수의 왜도의 크기가 큰 변수들의 경우 box-cox, 로그 정규화 등 분포를 정규화 시킬 수 있다면, 모델의 성능이 향상될 수 있다.\n",
    "- rfc, xgb의 매개변수를 조절하여 grid_search 등과 같은 방법으로 적합한 매개변수를 찾는다면, 모델의 성능이 향상될 수 있다."
   ]
  },
  {
   "cell_type": "code",
   "execution_count": null,
   "metadata": {},
   "outputs": [],
   "source": []
  }
 ],
 "metadata": {
  "colab": {
   "collapsed_sections": [],
   "name": "baseline.ipynb",
   "provenance": []
  },
  "kernelspec": {
   "display_name": "Python 3 (ipykernel)",
   "language": "python",
   "name": "python3"
  },
  "language_info": {
   "codemirror_mode": {
    "name": "ipython",
    "version": 3
   },
   "file_extension": ".py",
   "mimetype": "text/x-python",
   "name": "python",
   "nbconvert_exporter": "python",
   "pygments_lexer": "ipython3",
   "version": "3.7.11"
  },
  "toc": {
   "base_numbering": 1,
   "nav_menu": {},
   "number_sections": true,
   "sideBar": true,
   "skip_h1_title": false,
   "title_cell": "Table of Contents",
   "title_sidebar": "Contents",
   "toc_cell": true,
   "toc_position": {},
   "toc_section_display": true,
   "toc_window_display": true
  }
 },
 "nbformat": 4,
 "nbformat_minor": 1
}
