{
 "cells": [
  {
   "cell_type": "markdown",
   "metadata": {
    "id": "hZF-meyg_cs3"
   },
   "source": [
    "# E-commerce Shipping Data\n",
    "- 제품 배송 시간에 맞춰 배송이 되었는지 예측(binary classification task)\n",
    "\n",
    "- 주요 feature\n",
    "    - ID: ID Number of Customers.\n",
    "    - Warehouse block: The Company have big - Warehouse which is divided in to block such as A,B,C,D,E.\n",
    "    - Mode of shipment:The Company Ships the products in multiple way such as Ship, Flight and Road.\n",
    "    - Customer care calls: The number of calls made from enquiry for enquiry of the shipment.\n",
    "    - Customer rating: The company has rated from every customer. 1 is the lowest (Worst), 5 is the highest (Best).\n",
    "    - Cost of the product: Cost of the Product in US Dollars.\n",
    "    - Prior purchases: The Number of Prior Purchase.\n",
    "    - Product importance: The company has categorized the product in the various parameter such as low, medium, high.\n",
    "    - Gender: Male and Female.\n",
    "    - Discount offered: Discount offered on that specific product.\n",
    "    - Weight in gms: It is the weight in grams.\n",
    "    - **[LABEL] Reached on time**: It is the target variable, where 1 Indicates that the product has NOT reached on time and 0 indicates it has reached on time.\n",
    "\n",
    "\n",
    "---\n",
    "- [reference : e-commerce shipping data in KAGGLE](https://www.kaggle.com/datasets/prachi13/customer-analytics)\n",
    "- 빅분기 2회 실기 기출 데이터셋 이라고 합니다."
   ]
  },
  {
   "cell_type": "markdown",
   "metadata": {
    "id": "T5OCpLUEE97T"
   },
   "source": [
    "# #1 EDA\n",
    "- 주어진 data를 EDA하고 시각화 해주세요\n",
    "- 예측에 유의미한 인사이트를 서술해주세요"
   ]
  },
  {
   "cell_type": "code",
   "execution_count": 1,
   "metadata": {
    "id": "19quYGLFLYOg"
   },
   "outputs": [],
   "source": [
    "from pandas import read_csv\n",
    "X_train = read_csv('./5_data/X_train.csv')\n",
    "X_test = read_csv('./5_data/X_test.csv')\n",
    "y_train = read_csv('./5_data/y_train.csv')\n",
    "y_test = read_csv('./5_data/test_label/y_test.csv')"
   ]
  },
  {
   "cell_type": "code",
   "execution_count": 2,
   "metadata": {},
   "outputs": [
    {
     "data": {
      "text/html": [
       "<div>\n",
       "<style scoped>\n",
       "    .dataframe tbody tr th:only-of-type {\n",
       "        vertical-align: middle;\n",
       "    }\n",
       "\n",
       "    .dataframe tbody tr th {\n",
       "        vertical-align: top;\n",
       "    }\n",
       "\n",
       "    .dataframe thead th {\n",
       "        text-align: right;\n",
       "    }\n",
       "</style>\n",
       "<table border=\"1\" class=\"dataframe\">\n",
       "  <thead>\n",
       "    <tr style=\"text-align: right;\">\n",
       "      <th></th>\n",
       "      <th>ID</th>\n",
       "      <th>Warehouse_block</th>\n",
       "      <th>Mode_of_Shipment</th>\n",
       "      <th>Customer_care_calls</th>\n",
       "      <th>Customer_rating</th>\n",
       "      <th>Cost_of_the_Product</th>\n",
       "      <th>Prior_purchases</th>\n",
       "      <th>Product_importance</th>\n",
       "      <th>Gender</th>\n",
       "      <th>Discount_offered</th>\n",
       "      <th>Weight_in_gms</th>\n",
       "    </tr>\n",
       "  </thead>\n",
       "  <tbody>\n",
       "    <tr>\n",
       "      <th>count</th>\n",
       "      <td>6598.000000</td>\n",
       "      <td>6598</td>\n",
       "      <td>6598</td>\n",
       "      <td>6598</td>\n",
       "      <td>6598.000000</td>\n",
       "      <td>6598.000000</td>\n",
       "      <td>6598.000000</td>\n",
       "      <td>6598</td>\n",
       "      <td>6598</td>\n",
       "      <td>6598.000000</td>\n",
       "      <td>6598.000000</td>\n",
       "    </tr>\n",
       "    <tr>\n",
       "      <th>unique</th>\n",
       "      <td>NaN</td>\n",
       "      <td>5</td>\n",
       "      <td>3</td>\n",
       "      <td>6</td>\n",
       "      <td>NaN</td>\n",
       "      <td>NaN</td>\n",
       "      <td>NaN</td>\n",
       "      <td>3</td>\n",
       "      <td>2</td>\n",
       "      <td>NaN</td>\n",
       "      <td>NaN</td>\n",
       "    </tr>\n",
       "    <tr>\n",
       "      <th>top</th>\n",
       "      <td>NaN</td>\n",
       "      <td>F</td>\n",
       "      <td>Ship</td>\n",
       "      <td>4</td>\n",
       "      <td>NaN</td>\n",
       "      <td>NaN</td>\n",
       "      <td>NaN</td>\n",
       "      <td>low</td>\n",
       "      <td>F</td>\n",
       "      <td>NaN</td>\n",
       "      <td>NaN</td>\n",
       "    </tr>\n",
       "    <tr>\n",
       "      <th>freq</th>\n",
       "      <td>NaN</td>\n",
       "      <td>2262</td>\n",
       "      <td>4512</td>\n",
       "      <td>2115</td>\n",
       "      <td>NaN</td>\n",
       "      <td>NaN</td>\n",
       "      <td>NaN</td>\n",
       "      <td>3162</td>\n",
       "      <td>3311</td>\n",
       "      <td>NaN</td>\n",
       "      <td>NaN</td>\n",
       "    </tr>\n",
       "    <tr>\n",
       "      <th>mean</th>\n",
       "      <td>5476.977266</td>\n",
       "      <td>NaN</td>\n",
       "      <td>NaN</td>\n",
       "      <td>NaN</td>\n",
       "      <td>2.991361</td>\n",
       "      <td>210.393149</td>\n",
       "      <td>3.577751</td>\n",
       "      <td>NaN</td>\n",
       "      <td>NaN</td>\n",
       "      <td>13.353592</td>\n",
       "      <td>3604.191119</td>\n",
       "    </tr>\n",
       "    <tr>\n",
       "      <th>std</th>\n",
       "      <td>3172.946154</td>\n",
       "      <td>NaN</td>\n",
       "      <td>NaN</td>\n",
       "      <td>NaN</td>\n",
       "      <td>1.409624</td>\n",
       "      <td>48.258089</td>\n",
       "      <td>1.511394</td>\n",
       "      <td>NaN</td>\n",
       "      <td>NaN</td>\n",
       "      <td>16.187267</td>\n",
       "      <td>1635.697627</td>\n",
       "    </tr>\n",
       "    <tr>\n",
       "      <th>min</th>\n",
       "      <td>1.000000</td>\n",
       "      <td>NaN</td>\n",
       "      <td>NaN</td>\n",
       "      <td>NaN</td>\n",
       "      <td>1.000000</td>\n",
       "      <td>96.000000</td>\n",
       "      <td>2.000000</td>\n",
       "      <td>NaN</td>\n",
       "      <td>NaN</td>\n",
       "      <td>1.000000</td>\n",
       "      <td>1001.000000</td>\n",
       "    </tr>\n",
       "    <tr>\n",
       "      <th>25%</th>\n",
       "      <td>2731.250000</td>\n",
       "      <td>NaN</td>\n",
       "      <td>NaN</td>\n",
       "      <td>NaN</td>\n",
       "      <td>2.000000</td>\n",
       "      <td>170.000000</td>\n",
       "      <td>3.000000</td>\n",
       "      <td>NaN</td>\n",
       "      <td>NaN</td>\n",
       "      <td>4.000000</td>\n",
       "      <td>1834.250000</td>\n",
       "    </tr>\n",
       "    <tr>\n",
       "      <th>50%</th>\n",
       "      <td>5476.000000</td>\n",
       "      <td>NaN</td>\n",
       "      <td>NaN</td>\n",
       "      <td>NaN</td>\n",
       "      <td>3.000000</td>\n",
       "      <td>214.000000</td>\n",
       "      <td>3.000000</td>\n",
       "      <td>NaN</td>\n",
       "      <td>NaN</td>\n",
       "      <td>7.000000</td>\n",
       "      <td>4119.500000</td>\n",
       "    </tr>\n",
       "    <tr>\n",
       "      <th>75%</th>\n",
       "      <td>8187.750000</td>\n",
       "      <td>NaN</td>\n",
       "      <td>NaN</td>\n",
       "      <td>NaN</td>\n",
       "      <td>4.000000</td>\n",
       "      <td>251.000000</td>\n",
       "      <td>4.000000</td>\n",
       "      <td>NaN</td>\n",
       "      <td>NaN</td>\n",
       "      <td>10.000000</td>\n",
       "      <td>5027.500000</td>\n",
       "    </tr>\n",
       "    <tr>\n",
       "      <th>max</th>\n",
       "      <td>10998.000000</td>\n",
       "      <td>NaN</td>\n",
       "      <td>NaN</td>\n",
       "      <td>NaN</td>\n",
       "      <td>5.000000</td>\n",
       "      <td>310.000000</td>\n",
       "      <td>10.000000</td>\n",
       "      <td>NaN</td>\n",
       "      <td>NaN</td>\n",
       "      <td>65.000000</td>\n",
       "      <td>7684.000000</td>\n",
       "    </tr>\n",
       "  </tbody>\n",
       "</table>\n",
       "</div>"
      ],
      "text/plain": [
       "                  ID Warehouse_block Mode_of_Shipment Customer_care_calls  \\\n",
       "count    6598.000000            6598             6598                6598   \n",
       "unique           NaN               5                3                   6   \n",
       "top              NaN               F             Ship                   4   \n",
       "freq             NaN            2262             4512                2115   \n",
       "mean     5476.977266             NaN              NaN                 NaN   \n",
       "std      3172.946154             NaN              NaN                 NaN   \n",
       "min         1.000000             NaN              NaN                 NaN   \n",
       "25%      2731.250000             NaN              NaN                 NaN   \n",
       "50%      5476.000000             NaN              NaN                 NaN   \n",
       "75%      8187.750000             NaN              NaN                 NaN   \n",
       "max     10998.000000             NaN              NaN                 NaN   \n",
       "\n",
       "        Customer_rating  Cost_of_the_Product  Prior_purchases  \\\n",
       "count       6598.000000          6598.000000      6598.000000   \n",
       "unique              NaN                  NaN              NaN   \n",
       "top                 NaN                  NaN              NaN   \n",
       "freq                NaN                  NaN              NaN   \n",
       "mean           2.991361           210.393149         3.577751   \n",
       "std            1.409624            48.258089         1.511394   \n",
       "min            1.000000            96.000000         2.000000   \n",
       "25%            2.000000           170.000000         3.000000   \n",
       "50%            3.000000           214.000000         3.000000   \n",
       "75%            4.000000           251.000000         4.000000   \n",
       "max            5.000000           310.000000        10.000000   \n",
       "\n",
       "       Product_importance Gender  Discount_offered  Weight_in_gms  \n",
       "count                6598   6598       6598.000000    6598.000000  \n",
       "unique                  3      2               NaN            NaN  \n",
       "top                   low      F               NaN            NaN  \n",
       "freq                 3162   3311               NaN            NaN  \n",
       "mean                  NaN    NaN         13.353592    3604.191119  \n",
       "std                   NaN    NaN         16.187267    1635.697627  \n",
       "min                   NaN    NaN          1.000000    1001.000000  \n",
       "25%                   NaN    NaN          4.000000    1834.250000  \n",
       "50%                   NaN    NaN          7.000000    4119.500000  \n",
       "75%                   NaN    NaN         10.000000    5027.500000  \n",
       "max                   NaN    NaN         65.000000    7684.000000  "
      ]
     },
     "execution_count": 2,
     "metadata": {},
     "output_type": "execute_result"
    }
   ],
   "source": [
    "X_train.describe(include='all')\n",
    "#총 6598개의 데이터\n",
    "#범주형 변수: Warehouse_block, Mode_of_Shipment, Customer_care_calls, Product_importance, Gender (5개)\n",
    "#수치형 변수: Customer_rating, Cost_of_the_Product, Prior_purchases, Discount_offered, Weight_in_gms (5개)\n",
    "#ID는 제외"
   ]
  },
  {
   "cell_type": "code",
   "execution_count": 3,
   "metadata": {},
   "outputs": [
    {
     "name": "stdout",
     "output_type": "stream",
     "text": [
      "Warehouse_block \n",
      " F    2262\n",
      "B    1116\n",
      "A    1090\n",
      "D    1069\n",
      "C    1061\n",
      "Name: Warehouse_block, dtype: int64 \n",
      "\n",
      "Mode_of_Shipment \n",
      " Ship      4512\n",
      "Flight    1066\n",
      "Road      1020\n",
      "Name: Mode_of_Shipment, dtype: int64 \n",
      "\n",
      "Customer_care_calls \n",
      " 4     2115\n",
      "3     1919\n",
      "5     1403\n",
      "6      604\n",
      "2      404\n",
      "$7     153\n",
      "Name: Customer_care_calls, dtype: int64 \n",
      "\n",
      "Product_importance \n",
      " low       3162\n",
      "medium    2866\n",
      "high       570\n",
      "Name: Product_importance, dtype: int64 \n",
      "\n",
      "Gender \n",
      " F    3311\n",
      "M    3287\n",
      "Name: Gender, dtype: int64 \n",
      "\n"
     ]
    }
   ],
   "source": [
    "#범주형 변수들의 수준을 확인\n",
    "#Customer_care_calls의 수준 중 $7이 오기입된 것을 확인함\n",
    "for col in X_train.columns:\n",
    "    if X_train[col].dtypes == 'int64':\n",
    "        continue\n",
    "    else:\n",
    "        print(col, \"\\n\", X_train[col].value_counts(), \"\\n\")"
   ]
  },
  {
   "cell_type": "code",
   "execution_count": 4,
   "metadata": {},
   "outputs": [
    {
     "name": "stdout",
     "output_type": "stream",
     "text": [
      "<class 'pandas.core.frame.DataFrame'>\n",
      "RangeIndex: 6598 entries, 0 to 6597\n",
      "Data columns (total 11 columns):\n",
      " #   Column               Non-Null Count  Dtype \n",
      "---  ------               --------------  ----- \n",
      " 0   ID                   6598 non-null   int64 \n",
      " 1   Warehouse_block      6598 non-null   object\n",
      " 2   Mode_of_Shipment     6598 non-null   object\n",
      " 3   Customer_care_calls  6598 non-null   object\n",
      " 4   Customer_rating      6598 non-null   int64 \n",
      " 5   Cost_of_the_Product  6598 non-null   int64 \n",
      " 6   Prior_purchases      6598 non-null   int64 \n",
      " 7   Product_importance   6598 non-null   object\n",
      " 8   Gender               6598 non-null   object\n",
      " 9   Discount_offered     6598 non-null   int64 \n",
      " 10  Weight_in_gms        6598 non-null   int64 \n",
      "dtypes: int64(6), object(5)\n",
      "memory usage: 567.1+ KB\n"
     ]
    }
   ],
   "source": [
    "#Customer_care_calls, Product_importance는 서열척도이기 때문에 수치형 변수로 변환해도 무관할 것으로 예상\n",
    "X_train.info()"
   ]
  },
  {
   "cell_type": "code",
   "execution_count": 5,
   "metadata": {},
   "outputs": [
    {
     "data": {
      "text/plain": [
       "1    3937\n",
       "0    2661\n",
       "Name: Reached.on.Time_Y.N, dtype: int64"
      ]
     },
     "execution_count": 5,
     "metadata": {},
     "output_type": "execute_result"
    }
   ],
   "source": [
    "# 타겟변수: on time 배송된 경우는 1, 그렇지 않은 경우는 0으로 분류되어 있음\n",
    "y_train['Reached.on.Time_Y.N'].value_counts()"
   ]
  },
  {
   "cell_type": "code",
   "execution_count": 6,
   "metadata": {},
   "outputs": [
    {
     "data": {
      "image/png": "[encoded data removed]",
      "text/plain": [
       "<Figure size 1080x216 with 6 Axes>"
      ]
     },
     "metadata": {
      "needs_background": "light"
     },
     "output_type": "display_data"
    }
   ],
   "source": [
    "# Prior_purchases와 Discount_offered에서 이상치가 발견됨 -> 합리적인 선의 이상치로 판단됨\n",
    "from matplotlib import pyplot as plt\n",
    "X_train.plot(kind='box', subplots=True, figsize=(15,3))\n",
    "plt.show()"
   ]
  },
  {
   "cell_type": "code",
   "execution_count": 7,
   "metadata": {},
   "outputs": [
    {
     "data": {
      "image/png": "[encoded data removed]",
      "text/plain": [
       "<Figure size 432x288 with 2 Axes>"
      ]
     },
     "metadata": {
      "needs_background": "light"
     },
     "output_type": "display_data"
    }
   ],
   "source": [
    "# ID와 Discount_offered의 음의 상관관계가 높아보이는 것을 제외한 나머지는 상관관계가 보이지 않음\n",
    "import seaborn as sns\n",
    "sns.heatmap(X_train.corr(), annot=True)\n",
    "plt.show()"
   ]
  },
  {
   "cell_type": "code",
   "execution_count": 8,
   "metadata": {},
   "outputs": [
    {
     "data": {
      "image/png": "[encoded data removed]",
      "text/plain": [
       "<Figure size 576x576 with 6 Axes>"
      ]
     },
     "metadata": {
      "needs_background": "light"
     },
     "output_type": "display_data"
    }
   ],
   "source": [
    "X_train.hist(figsize=(8,8))\n",
    "plt.show()"
   ]
  },
  {
   "cell_type": "markdown",
   "metadata": {
    "id": "xicUSfvaKkDh"
   },
   "source": [
    "# #2 전처리\n",
    "- 필요한 전처리를 한 후, 처리한 이유를 서술해주세요"
   ]
  },
  {
   "cell_type": "code",
   "execution_count": 9,
   "metadata": {
    "id": "ZvkWUpKmLYod"
   },
   "outputs": [
    {
     "name": "stdout",
     "output_type": "stream",
     "text": [
      "<class 'pandas.core.frame.DataFrame'>\n",
      "RangeIndex: 6598 entries, 0 to 6597\n",
      "Data columns (total 10 columns):\n",
      " #   Column               Non-Null Count  Dtype \n",
      "---  ------               --------------  ----- \n",
      " 0   Warehouse_block      6598 non-null   object\n",
      " 1   Mode_of_Shipment     6598 non-null   object\n",
      " 2   Customer_care_calls  6598 non-null   int64 \n",
      " 3   Customer_rating      6598 non-null   int64 \n",
      " 4   Cost_of_the_Product  6598 non-null   int64 \n",
      " 5   Prior_purchases      6598 non-null   int64 \n",
      " 6   Product_importance   6598 non-null   int64 \n",
      " 7   Gender               6598 non-null   object\n",
      " 8   Discount_offered     6598 non-null   int64 \n",
      " 9   Weight_in_gms        6598 non-null   int64 \n",
      "dtypes: int64(7), object(3)\n",
      "memory usage: 515.6+ KB\n"
     ]
    }
   ],
   "source": [
    "#ID는 타겟 예측에 유효한 의미가 없다고 판단되어 feature 삭제\n",
    "#Customer_care_calls의 수준 중 $7 오기입되어 있는 것을 7로 수정\n",
    "#Customer_care_calls, Product_importance는 서열척도이기 때문에 수치형 변수로 변환\n",
    "X_train = X_train.drop('ID', axis=1)\n",
    "\n",
    "X_train['Customer_care_calls'] = X_train['Customer_care_calls'].replace('$7', '7')\n",
    "\n",
    "X_train['Customer_care_calls'] = X_train['Customer_care_calls'].astype('int64')\n",
    "\n",
    "X_train['Product_importance'] = X_train['Product_importance'].replace('high', 3).replace('medium', 2).replace('low', 1)\n",
    "\n",
    "X_train.info()"
   ]
  },
  {
   "cell_type": "code",
   "execution_count": 10,
   "metadata": {},
   "outputs": [
    {
     "data": {
      "text/html": [
       "<div>\n",
       "<style scoped>\n",
       "    .dataframe tbody tr th:only-of-type {\n",
       "        vertical-align: middle;\n",
       "    }\n",
       "\n",
       "    .dataframe tbody tr th {\n",
       "        vertical-align: top;\n",
       "    }\n",
       "\n",
       "    .dataframe thead th {\n",
       "        text-align: right;\n",
       "    }\n",
       "</style>\n",
       "<table border=\"1\" class=\"dataframe\">\n",
       "  <thead>\n",
       "    <tr style=\"text-align: right;\">\n",
       "      <th></th>\n",
       "      <th>Customer_care_calls</th>\n",
       "      <th>Customer_rating</th>\n",
       "      <th>Cost_of_the_Product</th>\n",
       "      <th>Prior_purchases</th>\n",
       "      <th>Product_importance</th>\n",
       "      <th>Discount_offered</th>\n",
       "      <th>Weight_in_gms</th>\n",
       "      <th>Warehouse_block_B</th>\n",
       "      <th>Warehouse_block_C</th>\n",
       "      <th>Warehouse_block_D</th>\n",
       "      <th>Warehouse_block_F</th>\n",
       "      <th>Mode_of_Shipment_Road</th>\n",
       "      <th>Mode_of_Shipment_Ship</th>\n",
       "      <th>Gender_M</th>\n",
       "    </tr>\n",
       "  </thead>\n",
       "  <tbody>\n",
       "    <tr>\n",
       "      <th>0</th>\n",
       "      <td>4</td>\n",
       "      <td>3</td>\n",
       "      <td>266</td>\n",
       "      <td>5</td>\n",
       "      <td>3</td>\n",
       "      <td>5</td>\n",
       "      <td>1590</td>\n",
       "      <td>0</td>\n",
       "      <td>0</td>\n",
       "      <td>0</td>\n",
       "      <td>0</td>\n",
       "      <td>0</td>\n",
       "      <td>0</td>\n",
       "      <td>0</td>\n",
       "    </tr>\n",
       "    <tr>\n",
       "      <th>1</th>\n",
       "      <td>3</td>\n",
       "      <td>1</td>\n",
       "      <td>174</td>\n",
       "      <td>2</td>\n",
       "      <td>1</td>\n",
       "      <td>44</td>\n",
       "      <td>1556</td>\n",
       "      <td>0</td>\n",
       "      <td>0</td>\n",
       "      <td>0</td>\n",
       "      <td>1</td>\n",
       "      <td>0</td>\n",
       "      <td>1</td>\n",
       "      <td>1</td>\n",
       "    </tr>\n",
       "    <tr>\n",
       "      <th>2</th>\n",
       "      <td>4</td>\n",
       "      <td>1</td>\n",
       "      <td>154</td>\n",
       "      <td>10</td>\n",
       "      <td>3</td>\n",
       "      <td>10</td>\n",
       "      <td>5674</td>\n",
       "      <td>0</td>\n",
       "      <td>0</td>\n",
       "      <td>0</td>\n",
       "      <td>1</td>\n",
       "      <td>1</td>\n",
       "      <td>0</td>\n",
       "      <td>1</td>\n",
       "    </tr>\n",
       "    <tr>\n",
       "      <th>3</th>\n",
       "      <td>4</td>\n",
       "      <td>3</td>\n",
       "      <td>158</td>\n",
       "      <td>3</td>\n",
       "      <td>2</td>\n",
       "      <td>27</td>\n",
       "      <td>1207</td>\n",
       "      <td>0</td>\n",
       "      <td>0</td>\n",
       "      <td>0</td>\n",
       "      <td>1</td>\n",
       "      <td>0</td>\n",
       "      <td>1</td>\n",
       "      <td>0</td>\n",
       "    </tr>\n",
       "    <tr>\n",
       "      <th>4</th>\n",
       "      <td>5</td>\n",
       "      <td>3</td>\n",
       "      <td>175</td>\n",
       "      <td>3</td>\n",
       "      <td>1</td>\n",
       "      <td>7</td>\n",
       "      <td>4833</td>\n",
       "      <td>0</td>\n",
       "      <td>0</td>\n",
       "      <td>0</td>\n",
       "      <td>0</td>\n",
       "      <td>0</td>\n",
       "      <td>0</td>\n",
       "      <td>1</td>\n",
       "    </tr>\n",
       "    <tr>\n",
       "      <th>...</th>\n",
       "      <td>...</td>\n",
       "      <td>...</td>\n",
       "      <td>...</td>\n",
       "      <td>...</td>\n",
       "      <td>...</td>\n",
       "      <td>...</td>\n",
       "      <td>...</td>\n",
       "      <td>...</td>\n",
       "      <td>...</td>\n",
       "      <td>...</td>\n",
       "      <td>...</td>\n",
       "      <td>...</td>\n",
       "      <td>...</td>\n",
       "      <td>...</td>\n",
       "    </tr>\n",
       "    <tr>\n",
       "      <th>6593</th>\n",
       "      <td>5</td>\n",
       "      <td>2</td>\n",
       "      <td>221</td>\n",
       "      <td>6</td>\n",
       "      <td>2</td>\n",
       "      <td>4</td>\n",
       "      <td>1952</td>\n",
       "      <td>0</td>\n",
       "      <td>0</td>\n",
       "      <td>0</td>\n",
       "      <td>1</td>\n",
       "      <td>1</td>\n",
       "      <td>0</td>\n",
       "      <td>1</td>\n",
       "    </tr>\n",
       "    <tr>\n",
       "      <th>6594</th>\n",
       "      <td>4</td>\n",
       "      <td>5</td>\n",
       "      <td>256</td>\n",
       "      <td>3</td>\n",
       "      <td>2</td>\n",
       "      <td>10</td>\n",
       "      <td>4504</td>\n",
       "      <td>0</td>\n",
       "      <td>0</td>\n",
       "      <td>0</td>\n",
       "      <td>1</td>\n",
       "      <td>0</td>\n",
       "      <td>1</td>\n",
       "      <td>1</td>\n",
       "    </tr>\n",
       "    <tr>\n",
       "      <th>6595</th>\n",
       "      <td>3</td>\n",
       "      <td>1</td>\n",
       "      <td>217</td>\n",
       "      <td>4</td>\n",
       "      <td>2</td>\n",
       "      <td>1</td>\n",
       "      <td>5761</td>\n",
       "      <td>0</td>\n",
       "      <td>0</td>\n",
       "      <td>0</td>\n",
       "      <td>1</td>\n",
       "      <td>0</td>\n",
       "      <td>1</td>\n",
       "      <td>0</td>\n",
       "    </tr>\n",
       "    <tr>\n",
       "      <th>6596</th>\n",
       "      <td>4</td>\n",
       "      <td>5</td>\n",
       "      <td>174</td>\n",
       "      <td>3</td>\n",
       "      <td>2</td>\n",
       "      <td>8</td>\n",
       "      <td>5576</td>\n",
       "      <td>0</td>\n",
       "      <td>0</td>\n",
       "      <td>0</td>\n",
       "      <td>1</td>\n",
       "      <td>1</td>\n",
       "      <td>0</td>\n",
       "      <td>0</td>\n",
       "    </tr>\n",
       "    <tr>\n",
       "      <th>6597</th>\n",
       "      <td>6</td>\n",
       "      <td>2</td>\n",
       "      <td>257</td>\n",
       "      <td>4</td>\n",
       "      <td>2</td>\n",
       "      <td>1</td>\n",
       "      <td>1513</td>\n",
       "      <td>0</td>\n",
       "      <td>1</td>\n",
       "      <td>0</td>\n",
       "      <td>0</td>\n",
       "      <td>0</td>\n",
       "      <td>1</td>\n",
       "      <td>1</td>\n",
       "    </tr>\n",
       "  </tbody>\n",
       "</table>\n",
       "<p>6598 rows × 14 columns</p>\n",
       "</div>"
      ],
      "text/plain": [
       "      Customer_care_calls  Customer_rating  Cost_of_the_Product  \\\n",
       "0                       4                3                  266   \n",
       "1                       3                1                  174   \n",
       "2                       4                1                  154   \n",
       "3                       4                3                  158   \n",
       "4                       5                3                  175   \n",
       "...                   ...              ...                  ...   \n",
       "6593                    5                2                  221   \n",
       "6594                    4                5                  256   \n",
       "6595                    3                1                  217   \n",
       "6596                    4                5                  174   \n",
       "6597                    6                2                  257   \n",
       "\n",
       "      Prior_purchases  Product_importance  Discount_offered  Weight_in_gms  \\\n",
       "0                   5                   3                 5           1590   \n",
       "1                   2                   1                44           1556   \n",
       "2                  10                   3                10           5674   \n",
       "3                   3                   2                27           1207   \n",
       "4                   3                   1                 7           4833   \n",
       "...               ...                 ...               ...            ...   \n",
       "6593                6                   2                 4           1952   \n",
       "6594                3                   2                10           4504   \n",
       "6595                4                   2                 1           5761   \n",
       "6596                3                   2                 8           5576   \n",
       "6597                4                   2                 1           1513   \n",
       "\n",
       "      Warehouse_block_B  Warehouse_block_C  Warehouse_block_D  \\\n",
       "0                     0                  0                  0   \n",
       "1                     0                  0                  0   \n",
       "2                     0                  0                  0   \n",
       "3                     0                  0                  0   \n",
       "4                     0                  0                  0   \n",
       "...                 ...                ...                ...   \n",
       "6593                  0                  0                  0   \n",
       "6594                  0                  0                  0   \n",
       "6595                  0                  0                  0   \n",
       "6596                  0                  0                  0   \n",
       "6597                  0                  1                  0   \n",
       "\n",
       "      Warehouse_block_F  Mode_of_Shipment_Road  Mode_of_Shipment_Ship  \\\n",
       "0                     0                      0                      0   \n",
       "1                     1                      0                      1   \n",
       "2                     1                      1                      0   \n",
       "3                     1                      0                      1   \n",
       "4                     0                      0                      0   \n",
       "...                 ...                    ...                    ...   \n",
       "6593                  1                      1                      0   \n",
       "6594                  1                      0                      1   \n",
       "6595                  1                      0                      1   \n",
       "6596                  1                      1                      0   \n",
       "6597                  0                      0                      1   \n",
       "\n",
       "      Gender_M  \n",
       "0            0  \n",
       "1            1  \n",
       "2            1  \n",
       "3            0  \n",
       "4            1  \n",
       "...        ...  \n",
       "6593         1  \n",
       "6594         1  \n",
       "6595         0  \n",
       "6596         0  \n",
       "6597         1  \n",
       "\n",
       "[6598 rows x 14 columns]"
      ]
     },
     "execution_count": 10,
     "metadata": {},
     "output_type": "execute_result"
    }
   ],
   "source": [
    "#범주형 변수 더미코딩\n",
    "from pandas import get_dummies\n",
    "X_train2 = get_dummies(X_train, drop_first=True)\n",
    "X_train2"
   ]
  },
  {
   "cell_type": "markdown",
   "metadata": {
    "id": "9QMlRxn-Ks5P"
   },
   "source": [
    "# #3 통계분석\n",
    "- 아래 feature간 통계분석을 자유롭게 수행하고 결과를 서술해주세요\n",
    "    - Customer rating ~ Reached on time\n",
    "    - Product importance ~ Customer rating"
   ]
  },
  {
   "cell_type": "code",
   "execution_count": 11,
   "metadata": {
    "id": "MkIhygL1LY_z"
   },
   "outputs": [
    {
     "name": "stdout",
     "output_type": "stream",
     "text": [
      "customer rating과 reached on time의 상관계수는 0.01이고, 그 p-value는 0.27이기 때문에 상관계수 자체도 상관이 없는 것으로 나오지만 통계적으로도 의미가 없음\n"
     ]
    }
   ],
   "source": [
    "# Customer rating ~ Reached on time - 상관관계 확인\n",
    "from scipy.stats import pearsonr, spearmanr\n",
    "r, p = spearmanr(X_train2['Customer_rating'], y_train['Reached.on.Time_Y.N'])\n",
    "print('customer rating과 reached on time의 상관계수는 {:.2f}이고, 그 p-value는 {:.2f}이기 때문에 상관계수 자체도 상관이 없는 것으로 나오지만 통계적으로도 의미가 없음'.format(r, p))"
   ]
  },
  {
   "cell_type": "code",
   "execution_count": 12,
   "metadata": {},
   "outputs": [
    {
     "data": {
      "text/html": [
       "<table class=\"simpletable\">\n",
       "<caption>OLS Regression Results</caption>\n",
       "<tr>\n",
       "  <th>Dep. Variable:</th>    <td>Reached.on.Time_Y.N</td> <th>  R-squared (uncentered):</th>      <td>   0.494</td> \n",
       "</tr>\n",
       "<tr>\n",
       "  <th>Model:</th>                    <td>OLS</td>         <th>  Adj. R-squared (uncentered):</th> <td>   0.493</td> \n",
       "</tr>\n",
       "<tr>\n",
       "  <th>Method:</th>              <td>Least Squares</td>    <th>  F-statistic:       </th>          <td>   6428.</td> \n",
       "</tr>\n",
       "<tr>\n",
       "  <th>Date:</th>              <td>Thu, 05 May 2022</td>   <th>  Prob (F-statistic):</th>           <td>  0.00</td>  \n",
       "</tr>\n",
       "<tr>\n",
       "  <th>Time:</th>                  <td>22:42:53</td>       <th>  Log-Likelihood:    </th>          <td> -5414.5</td> \n",
       "</tr>\n",
       "<tr>\n",
       "  <th>No. Observations:</th>       <td>  6598</td>        <th>  AIC:               </th>          <td>1.083e+04</td>\n",
       "</tr>\n",
       "<tr>\n",
       "  <th>Df Residuals:</th>           <td>  6597</td>        <th>  BIC:               </th>          <td>1.084e+04</td>\n",
       "</tr>\n",
       "<tr>\n",
       "  <th>Df Model:</th>               <td>     1</td>        <th>                     </th>              <td> </td>    \n",
       "</tr>\n",
       "<tr>\n",
       "  <th>Covariance Type:</th>       <td>nonrobust</td>      <th>                     </th>              <td> </td>    \n",
       "</tr>\n",
       "</table>\n",
       "<table class=\"simpletable\">\n",
       "<tr>\n",
       "         <td></td>            <th>coef</th>     <th>std err</th>      <th>t</th>      <th>P>|t|</th>  <th>[0.025</th>    <th>0.975]</th>  \n",
       "</tr>\n",
       "<tr>\n",
       "  <th>Customer_rating</th> <td>    0.1641</td> <td>    0.002</td> <td>   80.177</td> <td> 0.000</td> <td>    0.160</td> <td>    0.168</td>\n",
       "</tr>\n",
       "</table>\n",
       "<table class=\"simpletable\">\n",
       "<tr>\n",
       "  <th>Omnibus:</th>       <td>12913.591</td> <th>  Durbin-Watson:     </th> <td>   1.934</td> \n",
       "</tr>\n",
       "<tr>\n",
       "  <th>Prob(Omnibus):</th>  <td> 0.000</td>   <th>  Jarque-Bera (JB):  </th> <td> 537.872</td> \n",
       "</tr>\n",
       "<tr>\n",
       "  <th>Skew:</th>           <td>-0.293</td>   <th>  Prob(JB):          </th> <td>1.59e-117</td>\n",
       "</tr>\n",
       "<tr>\n",
       "  <th>Kurtosis:</th>       <td> 1.730</td>   <th>  Cond. No.          </th> <td>    1.00</td> \n",
       "</tr>\n",
       "</table><br/><br/>Notes:<br/>[1] R² is computed without centering (uncentered) since the model does not contain a constant.<br/>[2] Standard Errors assume that the covariance matrix of the errors is correctly specified."
      ],
      "text/plain": [
       "<class 'statsmodels.iolib.summary.Summary'>\n",
       "\"\"\"\n",
       "                                 OLS Regression Results                                 \n",
       "========================================================================================\n",
       "Dep. Variable:     Reached.on.Time_Y.N   R-squared (uncentered):                   0.494\n",
       "Model:                             OLS   Adj. R-squared (uncentered):              0.493\n",
       "Method:                  Least Squares   F-statistic:                              6428.\n",
       "Date:                 Thu, 05 May 2022   Prob (F-statistic):                        0.00\n",
       "Time:                         22:42:53   Log-Likelihood:                         -5414.5\n",
       "No. Observations:                 6598   AIC:                                  1.083e+04\n",
       "Df Residuals:                     6597   BIC:                                  1.084e+04\n",
       "Df Model:                            1                                                  \n",
       "Covariance Type:             nonrobust                                                  \n",
       "===================================================================================\n",
       "                      coef    std err          t      P>|t|      [0.025      0.975]\n",
       "-----------------------------------------------------------------------------------\n",
       "Customer_rating     0.1641      0.002     80.177      0.000       0.160       0.168\n",
       "==============================================================================\n",
       "Omnibus:                    12913.591   Durbin-Watson:                   1.934\n",
       "Prob(Omnibus):                  0.000   Jarque-Bera (JB):              537.872\n",
       "Skew:                          -0.293   Prob(JB):                    1.59e-117\n",
       "Kurtosis:                       1.730   Cond. No.                         1.00\n",
       "==============================================================================\n",
       "\n",
       "Notes:\n",
       "[1] R² is computed without centering (uncentered) since the model does not contain a constant.\n",
       "[2] Standard Errors assume that the covariance matrix of the errors is correctly specified.\n",
       "\"\"\""
      ]
     },
     "execution_count": 12,
     "metadata": {},
     "output_type": "execute_result"
    }
   ],
   "source": [
    "# Customer rating ~ Reached on time - 인과관계 확인\n",
    "# 통계적으로 유의하게 customer rating 변수가 reached on time 변수에 대해 인과관계를 갖는 것으로 나타났으며 데이터의 0.494에 대해 설명력을 갖는 것으로 나타났다.\n",
    "import statsmodels.api as sm\n",
    "model = sm.OLS(y_train['Reached.on.Time_Y.N'], X_train2['Customer_rating'])\n",
    "fitted = model.fit()\n",
    "fitted.summary()"
   ]
  },
  {
   "cell_type": "code",
   "execution_count": 13,
   "metadata": {},
   "outputs": [
    {
     "name": "stdout",
     "output_type": "stream",
     "text": [
      "customer rating과 Product importance의 상관계수는 0.01이고, 그 p-value는 0.50이기 때문에 상관계수 자체도 상관이 없는 것으로 나오지만 통계적으로도 의미가 없음\n"
     ]
    }
   ],
   "source": [
    "# Product importance ~ Customer rating - 상관관계 확인\n",
    "r, p = spearmanr(X_train2['Customer_rating'], X_train2['Product_importance'])\n",
    "print('customer rating과 Product importance의 상관계수는 {:.2f}이고, 그 p-value는 {:.2f}이기 때문에 상관계수 자체도 상관이 없는 것으로 나오지만 통계적으로도 의미가 없음'.format(r, p))"
   ]
  },
  {
   "cell_type": "code",
   "execution_count": 14,
   "metadata": {},
   "outputs": [
    {
     "data": {
      "text/html": [
       "<table class=\"simpletable\">\n",
       "<caption>OLS Regression Results</caption>\n",
       "<tr>\n",
       "  <th>Dep. Variable:</th>     <td>Customer_rating</td> <th>  R-squared (uncentered):</th>      <td>   0.708</td> \n",
       "</tr>\n",
       "<tr>\n",
       "  <th>Model:</th>                   <td>OLS</td>       <th>  Adj. R-squared (uncentered):</th> <td>   0.707</td> \n",
       "</tr>\n",
       "<tr>\n",
       "  <th>Method:</th>             <td>Least Squares</td>  <th>  F-statistic:       </th>          <td>1.596e+04</td>\n",
       "</tr>\n",
       "<tr>\n",
       "  <th>Date:</th>             <td>Thu, 05 May 2022</td> <th>  Prob (F-statistic):</th>           <td>  0.00</td>  \n",
       "</tr>\n",
       "<tr>\n",
       "  <th>Time:</th>                 <td>22:42:53</td>     <th>  Log-Likelihood:    </th>          <td> -13197.</td> \n",
       "</tr>\n",
       "<tr>\n",
       "  <th>No. Observations:</th>      <td>  6598</td>      <th>  AIC:               </th>          <td>2.640e+04</td>\n",
       "</tr>\n",
       "<tr>\n",
       "  <th>Df Residuals:</th>          <td>  6597</td>      <th>  BIC:               </th>          <td>2.640e+04</td>\n",
       "</tr>\n",
       "<tr>\n",
       "  <th>Df Model:</th>              <td>     1</td>      <th>                     </th>              <td> </td>    \n",
       "</tr>\n",
       "<tr>\n",
       "  <th>Covariance Type:</th>      <td>nonrobust</td>    <th>                     </th>              <td> </td>    \n",
       "</tr>\n",
       "</table>\n",
       "<table class=\"simpletable\">\n",
       "<tr>\n",
       "           <td></td>             <th>coef</th>     <th>std err</th>      <th>t</th>      <th>P>|t|</th>  <th>[0.025</th>    <th>0.975]</th>  \n",
       "</tr>\n",
       "<tr>\n",
       "  <th>Product_importance</th> <td>    1.6075</td> <td>    0.013</td> <td>  126.332</td> <td> 0.000</td> <td>    1.583</td> <td>    1.632</td>\n",
       "</tr>\n",
       "</table>\n",
       "<table class=\"simpletable\">\n",
       "<tr>\n",
       "  <th>Omnibus:</th>       <td>244.255</td> <th>  Durbin-Watson:     </th> <td>   1.915</td>\n",
       "</tr>\n",
       "<tr>\n",
       "  <th>Prob(Omnibus):</th> <td> 0.000</td>  <th>  Jarque-Bera (JB):  </th> <td> 117.885</td>\n",
       "</tr>\n",
       "<tr>\n",
       "  <th>Skew:</th>          <td>-0.110</td>  <th>  Prob(JB):          </th> <td>2.52e-26</td>\n",
       "</tr>\n",
       "<tr>\n",
       "  <th>Kurtosis:</th>      <td> 2.383</td>  <th>  Cond. No.          </th> <td>    1.00</td>\n",
       "</tr>\n",
       "</table><br/><br/>Notes:<br/>[1] R² is computed without centering (uncentered) since the model does not contain a constant.<br/>[2] Standard Errors assume that the covariance matrix of the errors is correctly specified."
      ],
      "text/plain": [
       "<class 'statsmodels.iolib.summary.Summary'>\n",
       "\"\"\"\n",
       "                                 OLS Regression Results                                \n",
       "=======================================================================================\n",
       "Dep. Variable:        Customer_rating   R-squared (uncentered):                   0.708\n",
       "Model:                            OLS   Adj. R-squared (uncentered):              0.707\n",
       "Method:                 Least Squares   F-statistic:                          1.596e+04\n",
       "Date:                Thu, 05 May 2022   Prob (F-statistic):                        0.00\n",
       "Time:                        22:42:53   Log-Likelihood:                         -13197.\n",
       "No. Observations:                6598   AIC:                                  2.640e+04\n",
       "Df Residuals:                    6597   BIC:                                  2.640e+04\n",
       "Df Model:                           1                                                  \n",
       "Covariance Type:            nonrobust                                                  \n",
       "======================================================================================\n",
       "                         coef    std err          t      P>|t|      [0.025      0.975]\n",
       "--------------------------------------------------------------------------------------\n",
       "Product_importance     1.6075      0.013    126.332      0.000       1.583       1.632\n",
       "==============================================================================\n",
       "Omnibus:                      244.255   Durbin-Watson:                   1.915\n",
       "Prob(Omnibus):                  0.000   Jarque-Bera (JB):              117.885\n",
       "Skew:                          -0.110   Prob(JB):                     2.52e-26\n",
       "Kurtosis:                       2.383   Cond. No.                         1.00\n",
       "==============================================================================\n",
       "\n",
       "Notes:\n",
       "[1] R² is computed without centering (uncentered) since the model does not contain a constant.\n",
       "[2] Standard Errors assume that the covariance matrix of the errors is correctly specified.\n",
       "\"\"\""
      ]
     },
     "execution_count": 14,
     "metadata": {},
     "output_type": "execute_result"
    }
   ],
   "source": [
    "# Product importance ~ Customer rating - 인과관계 확인\n",
    "# 통계적으로 유의하게 Product importance 변수가 Customer rating 변수에 대해 인과관계를 갖는 것으로 나타났으며 데이터의 0.708에 대해 설명력을 갖는 것으로 나타났다. 회귀계수 1.6075를 봤을 때 product_importance가 높을수록 customer rating이 높아진다.\n",
    "import statsmodels.api as sm\n",
    "model = sm.OLS(X_train2['Customer_rating'], X_train2['Product_importance'])\n",
    "fitted = model.fit()\n",
    "fitted.summary()"
   ]
  },
  {
   "cell_type": "markdown",
   "metadata": {
    "id": "alteaQALKNTm"
   },
   "source": [
    "# #4 모델링 및 예측\n",
    "- 모델링\n",
    "    - 3가지 모델을 선택해 모델링해주세요.\n",
    "    - 모델을 선택한 이유를 서술해주세요\n",
    "- 예측\n",
    "    - 성능지표를 3가지 선택해 측정해주세요\n",
    "    - 지표를 선택한 이유를 서술해주세요"
   ]
  },
  {
   "cell_type": "code",
   "execution_count": 15,
   "metadata": {},
   "outputs": [
    {
     "name": "stdout",
     "output_type": "stream",
     "text": [
      "<class 'pandas.core.frame.DataFrame'>\n",
      "RangeIndex: 4401 entries, 0 to 4400\n",
      "Data columns (total 14 columns):\n",
      " #   Column                 Non-Null Count  Dtype\n",
      "---  ------                 --------------  -----\n",
      " 0   Customer_care_calls    4401 non-null   int64\n",
      " 1   Customer_rating        4401 non-null   int64\n",
      " 2   Cost_of_the_Product    4401 non-null   int64\n",
      " 3   Prior_purchases        4401 non-null   int64\n",
      " 4   Product_importance     4401 non-null   int64\n",
      " 5   Discount_offered       4401 non-null   int64\n",
      " 6   Weight_in_gms          4401 non-null   int64\n",
      " 7   Warehouse_block_B      4401 non-null   uint8\n",
      " 8   Warehouse_block_C      4401 non-null   uint8\n",
      " 9   Warehouse_block_D      4401 non-null   uint8\n",
      " 10  Warehouse_block_F      4401 non-null   uint8\n",
      " 11  Mode_of_Shipment_Road  4401 non-null   uint8\n",
      " 12  Mode_of_Shipment_Ship  4401 non-null   uint8\n",
      " 13  Gender_M               4401 non-null   uint8\n",
      "dtypes: int64(7), uint8(7)\n",
      "memory usage: 270.9 KB\n"
     ]
    }
   ],
   "source": [
    "X = X_train2\n",
    "y = y_train['Reached.on.Time_Y.N']\n",
    "\n",
    "#X_test도 동일한 전처리 진행\n",
    "X_test = X_test.drop('ID', axis=1)\n",
    "\n",
    "X_test['Customer_care_calls'] = X_test['Customer_care_calls'].replace('$7', '7')\n",
    "\n",
    "X_test['Customer_care_calls'] = X_test['Customer_care_calls'].astype('int64')\n",
    "\n",
    "X_test['Product_importance'] = X_test['Product_importance'].replace('high', 3).replace('medium', 2).replace('low', 1)\n",
    "\n",
    "X_test = get_dummies(X_test, drop_first=True)\n",
    "\n",
    "y_test = y_test['Reached.on.Time_Y.N']\n",
    "\n",
    "X_test.info()"
   ]
  },
  {
   "cell_type": "code",
   "execution_count": 24,
   "metadata": {},
   "outputs": [],
   "source": [
    "from sklearn.preprocessing import StandardScaler\n",
    "ss = StandardScaler()\n",
    "ss.fit(X)\n",
    "X = ss.transform(X)\n",
    "X_test = ss.transform(X_test)"
   ]
  },
  {
   "cell_type": "code",
   "execution_count": 49,
   "metadata": {
    "id": "ZI5BiwwZLZWG"
   },
   "outputs": [
    {
     "name": "stdout",
     "output_type": "stream",
     "text": [
      "LgisticRegression:\n",
      "Test set score: 0.637, Train set score: 0.642 \n",
      "\n",
      "SVM:\n",
      "Test set score: 0.649, Train set score: 0.682 \n",
      "\n",
      "rf:\n",
      "Test set score: 0.665, Train set score: 0.679 \n",
      "\n"
     ]
    }
   ],
   "source": [
    "#로지스틱 회귀: 신속하고 성능이 좋음\n",
    "from sklearn.linear_model import LogisticRegression\n",
    "LR = LogisticRegression(max_iter=1000)\n",
    "LR.fit(X, y)\n",
    "print(\"LgisticRegression:\")\n",
    "print(\"Test set score: {:.3f}, Train set score: {:.3f}\".format(LR.score(X_test, y_test), LR.score(X, y)), '\\n')\n",
    "\n",
    "#SVM: 성능이 좋음\n",
    "from sklearn.svm import SVC\n",
    "svc = SVC(C=0.1, probability=True)\n",
    "svc.fit(X, y)\n",
    "print(\"SVM:\")\n",
    "print(\"Test set score: {:.3f}, Train set score: {:.3f}\".format(svc.score(X_test, y_test), svc.score(X, y)), '\\n')\n",
    "\n",
    "#RF: 예측 성능이 뛰어남\n",
    "from sklearn.ensemble import RandomForestClassifier\n",
    "rf = RandomForestClassifier(max_depth=3)\n",
    "rf.fit(X, y)\n",
    "print(\"rf:\")\n",
    "print(\"Test set score: {:.3f}, Train set score: {:.3f}\".format(rf.score(X_test, y_test), rf.score(X, y)), '\\n')"
   ]
  },
  {
   "cell_type": "code",
   "execution_count": 66,
   "metadata": {},
   "outputs": [],
   "source": [
    "# liftchart plotting 함수 정의하기\n",
    "def liftchart(clf, X_train, y_train, X_test, y_test):\n",
    "    import warnings\n",
    "    warnings.filterwarnings('ignore')\n",
    "    from pandas import DataFrame\n",
    "\n",
    "    prob = clf.predict_proba(X_test)[:,1]\n",
    "    actual_y = y_test\n",
    "\n",
    "    # 예측된 확률과 실제 클래스 데이터프래임을 확률 내림차순으로 정렬\n",
    "    rank = DataFrame({\"pred_prob\":prob, 'actual_y':actual_y}).sort_values(by='pred_prob', ascending=False).reset_index(drop=True)\n",
    "\n",
    "    # 10개 구간으로 나눔\n",
    "    rank['Decile'] = 10\n",
    "    start=0\n",
    "    end = len(rank)//10\n",
    "    end_start=end-start\n",
    "    decile = 1\n",
    "    while end < len(rank):\n",
    "        for i in range(start, end):\n",
    "            rank['Decile'][i] = decile\n",
    "        decile += 1\n",
    "        start = end\n",
    "        end += len(rank)//10\n",
    "\n",
    "    # baseline lift 계산 및 실구매자수 집계\n",
    "    total = len(X_train) #전체 데이터 수\n",
    "    count = y_train.sum() #1(True)의 개수\n",
    "    baseline_lift = count/total\n",
    "\n",
    "    #print(\"baseline_lift:\", baseline_lift)\n",
    "    liftchart = rank.groupby('Decile').sum()\n",
    "\n",
    "    # captured response, response, lift 추가\n",
    "    liftchart['captured_R'] = liftchart['actual_y']/count\n",
    "    liftchart['R'] = liftchart['actual_y']/total/10 #10=등급수\n",
    "    liftchart['lift'] = liftchart['R']/baseline_lift\n",
    "\n",
    "    from matplotlib import pyplot as plt\n",
    "    plt.bar(liftchart.index, liftchart['lift'])\n",
    "    plt.title(clf)\n",
    "    plt.ylabel(\"lift\")\n",
    "    plt.xlabel('decile')\n",
    "    return plt.show()"
   ]
  },
  {
   "cell_type": "code",
   "execution_count": 58,
   "metadata": {},
   "outputs": [],
   "source": [
    "# f1, roc curve, auc 함수 정의하기\n",
    "def f1_roc_auc(clf, X_train, y_train, X_test, y_test):\n",
    "    from sklearn.metrics import f1_score, roc_curve, roc_auc_score, auc\n",
    "    pred = clf.predict(X_test)\n",
    "    proba = clf.predict_proba(X_test)\n",
    "    f1 = f1_score(y_test, pred) #1에 대한 예측 확률\n",
    "    fpr, tpr, thresholds = roc_curve(y_test, proba[:, 1])\n",
    "    AUC = auc(fpr, tpr)#roc_auc_score(y_test, proba[:, 1])\n",
    "    plt.plot(fpr, tpr, label=\"AUC %.2f\"%AUC)\n",
    "    plt.text(0.8,0, \"F1 score: %.2f\"%f1)\n",
    "    plt.legend()\n",
    "    plt.title(clf)\n",
    "    plt.plot([0,1], [0,1], linestyle='dashed')\n",
    "    return plt.show()"
   ]
  },
  {
   "cell_type": "code",
   "execution_count": 59,
   "metadata": {},
   "outputs": [
    {
     "data": {
      "image/png": "[encoded data removed]",
      "text/plain": [
       "<Figure size 432x288 with 1 Axes>"
      ]
     },
     "metadata": {
      "needs_background": "light"
     },
     "output_type": "display_data"
    },
    {
     "data": {
      "image/png": "[encoded data removed]",
      "text/plain": [
       "<Figure size 432x288 with 1 Axes>"
      ]
     },
     "metadata": {
      "needs_background": "light"
     },
     "output_type": "display_data"
    },
    {
     "data": {
      "image/png": "[encoded data removed]",
      "text/plain": [
       "<Figure size 432x288 with 1 Axes>"
      ]
     },
     "metadata": {
      "needs_background": "light"
     },
     "output_type": "display_data"
    }
   ],
   "source": [
    "#F1 score: precision과 sensitivity를 모두 고려하여 균형있게 분류 성능을 판단할 수 있음\n",
    "#ROC curve & AUC: FPR, TPR의 추이에 따른 분류 성능을 확인할 수 있고, AUC의 경우 0~1 사이로 성능을 평가하기 때문에 다른 분류기의 성능과 비교하기 쉬움\n",
    "#lift chart: 막대 그래프 시각화를 통해 직관적으로 성능을 파악할 수 있음\n",
    "for clf, ax in zip([LR, svc, rf], axes):\n",
    "    f1_roc_auc(clf, X, y, X_test, y_test)"
   ]
  },
  {
   "cell_type": "code",
   "execution_count": 67,
   "metadata": {},
   "outputs": [
    {
     "data": {
      "image/png": "[encoded data removed]",
      "text/plain": [
       "<Figure size 432x288 with 1 Axes>"
      ]
     },
     "metadata": {
      "needs_background": "light"
     },
     "output_type": "display_data"
    },
    {
     "data": {
      "image/png": "[encoded data removed]",
      "text/plain": [
       "<Figure size 432x288 with 1 Axes>"
      ]
     },
     "metadata": {
      "needs_background": "light"
     },
     "output_type": "display_data"
    },
    {
     "data": {
      "image/png": "[encoded data removed]",
      "text/plain": [
       "<Figure size 432x288 with 1 Axes>"
      ]
     },
     "metadata": {
      "needs_background": "light"
     },
     "output_type": "display_data"
    }
   ],
   "source": [
    "for clf, ax in zip([LR, svc, rf], axes):\n",
    "    liftchart(clf, X, y, X_test, y_test)"
   ]
  },
  {
   "cell_type": "markdown",
   "metadata": {
    "id": "fbFeGXGkLRUw"
   },
   "source": [
    "# #5 추가적인 개선 방안\n",
    "을 서술해주세요"
   ]
  },
  {
   "cell_type": "code",
   "execution_count": null,
   "metadata": {
    "id": "GOXoi3UMLXA1"
   },
   "outputs": [],
   "source": [
    "# 단계적 선택법을 통해 변수 선택 진행\n",
    "# 오버 샘플링을 통해 클래스 간 불균형 해소 후 모델링\n",
    "# 영향치, 이상치 제거"
   ]
  }
 ],
 "metadata": {
  "colab": {
   "authorship_tag": "ABX9TyPg5K2WQktjcjLaiNxU2DR3",
   "collapsed_sections": [],
   "name": "baseline.ipynb",
   "provenance": []
  },
  "kernelspec": {
   "display_name": "Python 3",
   "language": "python",
   "name": "python3"
  },
  "language_info": {
   "codemirror_mode": {
    "name": "ipython",
    "version": 3
   },
   "file_extension": ".py",
   "mimetype": "text/x-python",
   "name": "python",
   "nbconvert_exporter": "python",
   "pygments_lexer": "ipython3",
   "version": "3.8.8"
  }
 },
 "nbformat": 4,
 "nbformat_minor": 4
}
