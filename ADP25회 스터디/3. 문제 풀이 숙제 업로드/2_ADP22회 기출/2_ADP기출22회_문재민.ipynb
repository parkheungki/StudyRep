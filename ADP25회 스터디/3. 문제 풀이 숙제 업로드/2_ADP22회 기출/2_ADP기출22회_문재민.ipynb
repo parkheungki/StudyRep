{
 "cells": [
  {
   "cell_type": "markdown",
   "id": "b171b2fa",
   "metadata": {
    "toc": true
   },
   "source": [
    "<h1>Table of Contents<span class=\"tocSkip\"></span></h1>\n",
    "<div class=\"toc\"><ul class=\"toc-item\"><li><span><a href=\"#문제-1\" data-toc-modified-id=\"문제-1-1\"><span class=\"toc-item-num\">1&nbsp;&nbsp;</span>문제 1</a></span><ul class=\"toc-item\"><li><ul class=\"toc-item\"><li><ul class=\"toc-item\"><li><span><a href=\"#dataset-:-pima-indians-diabetes-database-kaggle-link---added-post-processing\" data-toc-modified-id=\"dataset-:-pima-indians-diabetes-database-kaggle-link---added-post-processing-1.0.0.1\"><span class=\"toc-item-num\">1.0.0.1&nbsp;&nbsp;</span>dataset : pima-indians-diabetes-database <a href=\"pima-indians-diabetes-database\" rel=\"nofollow\" target=\"_blank\">kaggle link</a> - added post-processing</a></span></li></ul></li></ul></li><li><span><a href=\"#1-1-탐색적-데이터-분석-수행(시각화-포함)\" data-toc-modified-id=\"1-1-탐색적-데이터-분석-수행(시각화-포함)-1.1\"><span class=\"toc-item-num\">1.1&nbsp;&nbsp;</span>1-1 탐색적 데이터 분석 수행(시각화 포함)</a></span><ul class=\"toc-item\"><li><span><a href=\"#데이터-구조\" data-toc-modified-id=\"데이터-구조-1.1.1\"><span class=\"toc-item-num\">1.1.1&nbsp;&nbsp;</span>데이터 구조</a></span></li><li><span><a href=\"#히스토그램-및-분포\" data-toc-modified-id=\"히스토그램-및-분포-1.1.2\"><span class=\"toc-item-num\">1.1.2&nbsp;&nbsp;</span>히스토그램 및 분포</a></span></li><li><span><a href=\"#상관-관계-분석\" data-toc-modified-id=\"상관-관계-분석-1.1.3\"><span class=\"toc-item-num\">1.1.3&nbsp;&nbsp;</span>상관 관계 분석</a></span></li></ul></li><li><span><a href=\"#1-2-이상치-처리(이상값-대체방안-제시)\" data-toc-modified-id=\"1-2-이상치-처리(이상값-대체방안-제시)-1.2\"><span class=\"toc-item-num\">1.2&nbsp;&nbsp;</span>1-2 이상치 처리(이상값 대체방안 제시)</a></span><ul class=\"toc-item\"><li><span><a href=\"#이상치-분석\" data-toc-modified-id=\"이상치-분석-1.2.1\"><span class=\"toc-item-num\">1.2.1&nbsp;&nbsp;</span>이상치 분석</a></span></li><li><span><a href=\"#이상치-처리-방안\" data-toc-modified-id=\"이상치-처리-방안-1.2.2\"><span class=\"toc-item-num\">1.2.2&nbsp;&nbsp;</span>이상치 처리 방안</a></span></li></ul></li><li><span><a href=\"#1-3-앞선-두-단계에서-얻은-향후-분석시-고려사항-작성\" data-toc-modified-id=\"1-3-앞선-두-단계에서-얻은-향후-분석시-고려사항-작성-1.3\"><span class=\"toc-item-num\">1.3&nbsp;&nbsp;</span>1-3 앞선 두 단계에서 얻은 향후 분석시 고려사항 작성</a></span></li></ul></li><li><span><a href=\"#문제-2\" data-toc-modified-id=\"문제-2-2\"><span class=\"toc-item-num\">2&nbsp;&nbsp;</span>문제 2</a></span><ul class=\"toc-item\"><li><span><a href=\"#2-1-오버샘플링-과정-설명하고-결과-작성\" data-toc-modified-id=\"2-1-오버샘플링-과정-설명하고-결과-작성-2.1\"><span class=\"toc-item-num\">2.1&nbsp;&nbsp;</span>2-1 오버샘플링 과정 설명하고 결과 작성</a></span><ul class=\"toc-item\"><li><span><a href=\"#SMOTE-오버샘플링\" data-toc-modified-id=\"SMOTE-오버샘플링-2.1.1\"><span class=\"toc-item-num\">2.1.1&nbsp;&nbsp;</span>SMOTE 오버샘플링</a></span></li><li><span><a href=\"#Random-오버샘플링\" data-toc-modified-id=\"Random-오버샘플링-2.1.2\"><span class=\"toc-item-num\">2.1.2&nbsp;&nbsp;</span>Random 오버샘플링</a></span></li><li><span><a href=\"#오버샘플링-결과\" data-toc-modified-id=\"오버샘플링-결과-2.1.3\"><span class=\"toc-item-num\">2.1.3&nbsp;&nbsp;</span>오버샘플링 결과</a></span></li></ul></li><li><span><a href=\"#2-2-언더샘플링-과정-설명하고-결과-작성\" data-toc-modified-id=\"2-2-언더샘플링-과정-설명하고-결과-작성-2.2\"><span class=\"toc-item-num\">2.2&nbsp;&nbsp;</span>2-2 언더샘플링 과정 설명하고 결과 작성</a></span><ul class=\"toc-item\"><li><span><a href=\"#Random-언더샘플링\" data-toc-modified-id=\"Random-언더샘플링-2.2.1\"><span class=\"toc-item-num\">2.2.1&nbsp;&nbsp;</span>Random 언더샘플링</a></span></li><li><span><a href=\"#언더샘플링-결과\" data-toc-modified-id=\"언더샘플링-결과-2.2.2\"><span class=\"toc-item-num\">2.2.2&nbsp;&nbsp;</span>언더샘플링 결과</a></span></li></ul></li><li><span><a href=\"#2-3-둘-중-선택하고-이유-설명\" data-toc-modified-id=\"2-3-둘-중-선택하고-이유-설명-2.3\"><span class=\"toc-item-num\">2.3&nbsp;&nbsp;</span>2-3 둘 중 선택하고 이유 설명</a></span></li></ul></li><li><span><a href=\"#문제-3\" data-toc-modified-id=\"문제-3-3\"><span class=\"toc-item-num\">3&nbsp;&nbsp;</span>문제 3</a></span><ul class=\"toc-item\"><li><span><a href=\"#3-1-최소-3개-이상-알고리즘-제시하고-정확도-측면의-모델-1개와-속도-측면의-모델-1개를-꼭-구현(총-2개-이상)\" data-toc-modified-id=\"3-1-최소-3개-이상-알고리즘-제시하고-정확도-측면의-모델-1개와-속도-측면의-모델-1개를-꼭-구현(총-2개-이상)-3.1\"><span class=\"toc-item-num\">3.1&nbsp;&nbsp;</span>3-1 최소 3개 이상 알고리즘 제시하고 정확도 측면의 모델 1개와 속도 측면의 모델 1개를 꼭 구현(총 2개 이상)</a></span><ul class=\"toc-item\"><li><span><a href=\"#분류-알고리듬-3개\" data-toc-modified-id=\"분류-알고리듬-3개-3.1.1\"><span class=\"toc-item-num\">3.1.1&nbsp;&nbsp;</span>분류 알고리듬 3개</a></span></li></ul></li><li><span><a href=\"#3-2-모델-비교하고-결과-설명\" data-toc-modified-id=\"3-2-모델-비교하고-결과-설명-3.2\"><span class=\"toc-item-num\">3.2&nbsp;&nbsp;</span>3-2 모델 비교하고 결과 설명</a></span></li><li><span><a href=\"#3-3-속도-개선을-위한-차원-축소-설명하고-수행,-예측-성능과-속도-비교하고-결과-작성\" data-toc-modified-id=\"3-3-속도-개선을-위한-차원-축소-설명하고-수행,-예측-성능과-속도-비교하고-결과-작성-3.3\"><span class=\"toc-item-num\">3.3&nbsp;&nbsp;</span>3-3 속도 개선을 위한 차원 축소 설명하고 수행, 예측 성능과 속도 비교하고 결과 작성</a></span><ul class=\"toc-item\"><li><span><a href=\"#결과-비교\" data-toc-modified-id=\"결과-비교-3.3.1\"><span class=\"toc-item-num\">3.3.1&nbsp;&nbsp;</span>결과 비교</a></span></li></ul></li></ul></li><li><span><a href=\"#문제-4\" data-toc-modified-id=\"문제-4-4\"><span class=\"toc-item-num\">4&nbsp;&nbsp;</span>문제 4</a></span><ul class=\"toc-item\"><li><ul class=\"toc-item\"><li><ul class=\"toc-item\"><li><span><a href=\"#dataset-:-/kaggle/input/adpkrp5/content.csv\" data-toc-modified-id=\"dataset-:-/kaggle/input/adpkrp5/content.csv-4.0.0.1\"><span class=\"toc-item-num\">4.0.0.1&nbsp;&nbsp;</span>dataset : /kaggle/input/adpkrp5/content.csv</a></span></li></ul></li></ul></li><li><span><a href=\"#4-1-연구가설과-귀무가설-작성\" data-toc-modified-id=\"4-1-연구가설과-귀무가설-작성-4.1\"><span class=\"toc-item-num\">4.1&nbsp;&nbsp;</span>4-1 연구가설과 귀무가설 작성</a></span></li><li><span><a href=\"#4-2-양측-검정\" data-toc-modified-id=\"4-2-양측-검정-4.2\"><span class=\"toc-item-num\">4.2&nbsp;&nbsp;</span>4-2 양측 검정</a></span></li><li><span><a href=\"#4-3-검정통계량,-가설-채택\" data-toc-modified-id=\"4-3-검정통계량,-가설-채택-4.3\"><span class=\"toc-item-num\">4.3&nbsp;&nbsp;</span>4-3 검정통계량, 가설 채택</a></span></li></ul></li><li><span><a href=\"#문제-5\" data-toc-modified-id=\"문제-5-5\"><span class=\"toc-item-num\">5&nbsp;&nbsp;</span>문제 5</a></span><ul class=\"toc-item\"><li><span><a href=\"#5-1-불량률-관리도에-따라-관리중심선(CL-:-Center-Line),-관리-상한선(UCL-:-Upper-Control-Limit),-하한선(LCL-:-Lower-Control-Limit)-구하기\" data-toc-modified-id=\"5-1-불량률-관리도에-따라-관리중심선(CL-:-Center-Line),-관리-상한선(UCL-:-Upper-Control-Limit),-하한선(LCL-:-Lower-Control-Limit)-구하기-5.1\"><span class=\"toc-item-num\">5.1&nbsp;&nbsp;</span>5-1 불량률 관리도에 따라 관리중심선(CL : Center Line), 관리 상한선(UCL : Upper Control Limit), 하한선(LCL : Lower Control Limit) 구하기</a></span><ul class=\"toc-item\"><li><span><a href=\"#풀이\" data-toc-modified-id=\"풀이-5.1.1\"><span class=\"toc-item-num\">5.1.1&nbsp;&nbsp;</span>풀이</a></span></li><li><span><a href=\"#5-2-관리도-시각화\" data-toc-modified-id=\"5-2-관리도-시각화-5.1.2\"><span class=\"toc-item-num\">5.1.2&nbsp;&nbsp;</span>5-2 관리도 시각화</a></span></li></ul></li></ul></li><li><span><a href=\"#문제-6\" data-toc-modified-id=\"문제-6-6\"><span class=\"toc-item-num\">6&nbsp;&nbsp;</span>문제 6</a></span><ul class=\"toc-item\"><li><span><a href=\"#6-1-연구가설과-귀무가설-작성\" data-toc-modified-id=\"6-1-연구가설과-귀무가설-작성-6.1\"><span class=\"toc-item-num\">6.1&nbsp;&nbsp;</span>6-1 연구가설과 귀무가설 작성</a></span></li><li><span><a href=\"#6-2-평균과-표준편차\" data-toc-modified-id=\"6-2-평균과-표준편차-6.2\"><span class=\"toc-item-num\">6.2&nbsp;&nbsp;</span>6-2 평균과 표준편차</a></span></li><li><span><a href=\"#6-3-가설-채택\" data-toc-modified-id=\"6-3-가설-채택-6.3\"><span class=\"toc-item-num\">6.3&nbsp;&nbsp;</span>6-3 가설 채택</a></span></li></ul></li></ul></div>"
   ]
  },
  {
   "cell_type": "markdown",
   "id": "sacred-wallet",
   "metadata": {
    "papermill": {
     "duration": 0.016592,
     "end_time": "2022-03-12T12:44:12.336398",
     "exception": false,
     "start_time": "2022-03-12T12:44:12.319806",
     "status": "completed"
    },
    "tags": []
   },
   "source": [
    "# 문제 1"
   ]
  },
  {
   "cell_type": "markdown",
   "id": "defined-reward",
   "metadata": {
    "papermill": {
     "duration": 0.016758,
     "end_time": "2022-03-12T12:44:12.370114",
     "exception": false,
     "start_time": "2022-03-12T12:44:12.353356",
     "status": "completed"
    },
    "tags": []
   },
   "source": [
    "#### dataset : pima-indians-diabetes-database [kaggle link](pima-indians-diabetes-database) - added post-processing\n",
    "/kaggle/input/adpkrp5/data1.csv"
   ]
  },
  {
   "cell_type": "markdown",
   "id": "hundred-orlando",
   "metadata": {
    "execution": {
     "iopub.execute_input": "2022-03-02T16:01:52.763794Z",
     "iopub.status.busy": "2022-03-02T16:01:52.76349Z",
     "iopub.status.idle": "2022-03-02T16:01:52.768363Z",
     "shell.execute_reply": "2022-03-02T16:01:52.767292Z",
     "shell.execute_reply.started": "2022-03-02T16:01:52.763766Z"
    },
    "papermill": {
     "duration": 0.016585,
     "end_time": "2022-03-12T12:44:12.403694",
     "exception": false,
     "start_time": "2022-03-12T12:44:12.387109",
     "status": "completed"
    },
    "tags": []
   },
   "source": [
    "## 1-1 탐색적 데이터 분석 수행(시각화 포함)"
   ]
  },
  {
   "cell_type": "code",
   "execution_count": 120,
   "id": "164387ba",
   "metadata": {},
   "outputs": [],
   "source": [
    "import pandas as pd\n",
    "import numpy as np"
   ]
  },
  {
   "cell_type": "code",
   "execution_count": 121,
   "id": "8dcaa785",
   "metadata": {},
   "outputs": [
    {
     "data": {
      "text/html": [
       "<div>\n",
       "<style scoped>\n",
       "    .dataframe tbody tr th:only-of-type {\n",
       "        vertical-align: middle;\n",
       "    }\n",
       "\n",
       "    .dataframe tbody tr th {\n",
       "        vertical-align: top;\n",
       "    }\n",
       "\n",
       "    .dataframe thead th {\n",
       "        text-align: right;\n",
       "    }\n",
       "</style>\n",
       "<table border=\"1\" class=\"dataframe\">\n",
       "  <thead>\n",
       "    <tr style=\"text-align: right;\">\n",
       "      <th></th>\n",
       "      <th>Pregnancies</th>\n",
       "      <th>Glucose</th>\n",
       "      <th>BloodPressure</th>\n",
       "      <th>SkinThickness</th>\n",
       "      <th>Insulin</th>\n",
       "      <th>BMI</th>\n",
       "      <th>DiabetesPedigreeFunction</th>\n",
       "      <th>Age</th>\n",
       "      <th>Outcome</th>\n",
       "    </tr>\n",
       "  </thead>\n",
       "  <tbody>\n",
       "    <tr>\n",
       "      <th>0</th>\n",
       "      <td>6</td>\n",
       "      <td>148</td>\n",
       "      <td>72</td>\n",
       "      <td>35</td>\n",
       "      <td>0</td>\n",
       "      <td>33.6</td>\n",
       "      <td>0.627</td>\n",
       "      <td>50</td>\n",
       "      <td>1</td>\n",
       "    </tr>\n",
       "    <tr>\n",
       "      <th>1</th>\n",
       "      <td>1</td>\n",
       "      <td>85</td>\n",
       "      <td>66</td>\n",
       "      <td>29</td>\n",
       "      <td>0</td>\n",
       "      <td>26.6</td>\n",
       "      <td>0.351</td>\n",
       "      <td>31</td>\n",
       "      <td>0</td>\n",
       "    </tr>\n",
       "    <tr>\n",
       "      <th>2</th>\n",
       "      <td>8</td>\n",
       "      <td>183</td>\n",
       "      <td>64</td>\n",
       "      <td>0</td>\n",
       "      <td>0</td>\n",
       "      <td>23.3</td>\n",
       "      <td>0.672</td>\n",
       "      <td>32</td>\n",
       "      <td>1</td>\n",
       "    </tr>\n",
       "    <tr>\n",
       "      <th>3</th>\n",
       "      <td>1</td>\n",
       "      <td>89</td>\n",
       "      <td>66</td>\n",
       "      <td>23</td>\n",
       "      <td>94</td>\n",
       "      <td>28.1</td>\n",
       "      <td>0.167</td>\n",
       "      <td>21</td>\n",
       "      <td>0</td>\n",
       "    </tr>\n",
       "    <tr>\n",
       "      <th>4</th>\n",
       "      <td>0</td>\n",
       "      <td>137</td>\n",
       "      <td>40</td>\n",
       "      <td>35</td>\n",
       "      <td>168</td>\n",
       "      <td>43.1</td>\n",
       "      <td>2.288</td>\n",
       "      <td>33</td>\n",
       "      <td>1</td>\n",
       "    </tr>\n",
       "    <tr>\n",
       "      <th>...</th>\n",
       "      <td>...</td>\n",
       "      <td>...</td>\n",
       "      <td>...</td>\n",
       "      <td>...</td>\n",
       "      <td>...</td>\n",
       "      <td>...</td>\n",
       "      <td>...</td>\n",
       "      <td>...</td>\n",
       "      <td>...</td>\n",
       "    </tr>\n",
       "    <tr>\n",
       "      <th>763</th>\n",
       "      <td>10</td>\n",
       "      <td>101</td>\n",
       "      <td>76</td>\n",
       "      <td>48</td>\n",
       "      <td>180</td>\n",
       "      <td>32.9</td>\n",
       "      <td>0.171</td>\n",
       "      <td>63</td>\n",
       "      <td>0</td>\n",
       "    </tr>\n",
       "    <tr>\n",
       "      <th>764</th>\n",
       "      <td>2</td>\n",
       "      <td>122</td>\n",
       "      <td>70</td>\n",
       "      <td>27</td>\n",
       "      <td>0</td>\n",
       "      <td>36.8</td>\n",
       "      <td>0.340</td>\n",
       "      <td>27</td>\n",
       "      <td>0</td>\n",
       "    </tr>\n",
       "    <tr>\n",
       "      <th>765</th>\n",
       "      <td>5</td>\n",
       "      <td>121</td>\n",
       "      <td>72</td>\n",
       "      <td>23</td>\n",
       "      <td>112</td>\n",
       "      <td>26.2</td>\n",
       "      <td>0.245</td>\n",
       "      <td>30</td>\n",
       "      <td>0</td>\n",
       "    </tr>\n",
       "    <tr>\n",
       "      <th>766</th>\n",
       "      <td>1</td>\n",
       "      <td>126</td>\n",
       "      <td>60</td>\n",
       "      <td>0</td>\n",
       "      <td>0</td>\n",
       "      <td>30.1</td>\n",
       "      <td>0.349</td>\n",
       "      <td>47</td>\n",
       "      <td>1</td>\n",
       "    </tr>\n",
       "    <tr>\n",
       "      <th>767</th>\n",
       "      <td>1</td>\n",
       "      <td>93</td>\n",
       "      <td>70</td>\n",
       "      <td>31</td>\n",
       "      <td>0</td>\n",
       "      <td>30.4</td>\n",
       "      <td>0.315</td>\n",
       "      <td>23</td>\n",
       "      <td>0</td>\n",
       "    </tr>\n",
       "  </tbody>\n",
       "</table>\n",
       "<p>768 rows × 9 columns</p>\n",
       "</div>"
      ],
      "text/plain": [
       "     Pregnancies  Glucose  BloodPressure  SkinThickness  Insulin   BMI  \\\n",
       "0              6      148             72             35        0  33.6   \n",
       "1              1       85             66             29        0  26.6   \n",
       "2              8      183             64              0        0  23.3   \n",
       "3              1       89             66             23       94  28.1   \n",
       "4              0      137             40             35      168  43.1   \n",
       "..           ...      ...            ...            ...      ...   ...   \n",
       "763           10      101             76             48      180  32.9   \n",
       "764            2      122             70             27        0  36.8   \n",
       "765            5      121             72             23      112  26.2   \n",
       "766            1      126             60              0        0  30.1   \n",
       "767            1       93             70             31        0  30.4   \n",
       "\n",
       "     DiabetesPedigreeFunction  Age  Outcome  \n",
       "0                       0.627   50        1  \n",
       "1                       0.351   31        0  \n",
       "2                       0.672   32        1  \n",
       "3                       0.167   21        0  \n",
       "4                       2.288   33        1  \n",
       "..                        ...  ...      ...  \n",
       "763                     0.171   63        0  \n",
       "764                     0.340   27        0  \n",
       "765                     0.245   30        0  \n",
       "766                     0.349   47        1  \n",
       "767                     0.315   23        0  \n",
       "\n",
       "[768 rows x 9 columns]"
      ]
     },
     "execution_count": 121,
     "metadata": {},
     "output_type": "execute_result"
    }
   ],
   "source": [
    "df1 = pd.read_csv(\"./data1.csv\")\n",
    "df1"
   ]
  },
  {
   "cell_type": "code",
   "execution_count": 122,
   "id": "e2574147",
   "metadata": {},
   "outputs": [
    {
     "name": "stdout",
     "output_type": "stream",
     "text": [
      "<class 'pandas.core.frame.DataFrame'>\n",
      "RangeIndex: 768 entries, 0 to 767\n",
      "Data columns (total 9 columns):\n",
      " #   Column                    Non-Null Count  Dtype  \n",
      "---  ------                    --------------  -----  \n",
      " 0   Pregnancies               768 non-null    int64  \n",
      " 1   Glucose                   768 non-null    int64  \n",
      " 2   BloodPressure             768 non-null    int64  \n",
      " 3   SkinThickness             768 non-null    int64  \n",
      " 4   Insulin                   768 non-null    int64  \n",
      " 5   BMI                       768 non-null    float64\n",
      " 6   DiabetesPedigreeFunction  768 non-null    float64\n",
      " 7   Age                       768 non-null    int64  \n",
      " 8   Outcome                   768 non-null    int64  \n",
      "dtypes: float64(2), int64(7)\n",
      "memory usage: 54.1 KB\n"
     ]
    }
   ],
   "source": [
    "df1.info()"
   ]
  },
  {
   "cell_type": "markdown",
   "id": "fd2efcba",
   "metadata": {},
   "source": [
    "### 데이터 구조\n",
    "- 총 768개 행, 9개의 열로 이루어진 데이터\n",
    "- Outcome: 0과 1 두개의 클래스를 가지는 이진형 변수\n",
    "- 결측치는 없음 "
   ]
  },
  {
   "cell_type": "code",
   "execution_count": 123,
   "id": "a3366349",
   "metadata": {},
   "outputs": [
    {
     "data": {
      "text/html": [
       "<div>\n",
       "<style scoped>\n",
       "    .dataframe tbody tr th:only-of-type {\n",
       "        vertical-align: middle;\n",
       "    }\n",
       "\n",
       "    .dataframe tbody tr th {\n",
       "        vertical-align: top;\n",
       "    }\n",
       "\n",
       "    .dataframe thead th {\n",
       "        text-align: right;\n",
       "    }\n",
       "</style>\n",
       "<table border=\"1\" class=\"dataframe\">\n",
       "  <thead>\n",
       "    <tr style=\"text-align: right;\">\n",
       "      <th></th>\n",
       "      <th>Pregnancies</th>\n",
       "      <th>Glucose</th>\n",
       "      <th>BloodPressure</th>\n",
       "      <th>SkinThickness</th>\n",
       "      <th>Insulin</th>\n",
       "      <th>BMI</th>\n",
       "      <th>DiabetesPedigreeFunction</th>\n",
       "      <th>Age</th>\n",
       "      <th>Outcome</th>\n",
       "    </tr>\n",
       "  </thead>\n",
       "  <tbody>\n",
       "    <tr>\n",
       "      <th>count</th>\n",
       "      <td>768.000000</td>\n",
       "      <td>768.000000</td>\n",
       "      <td>768.000000</td>\n",
       "      <td>768.000000</td>\n",
       "      <td>768.000000</td>\n",
       "      <td>768.000000</td>\n",
       "      <td>768.000000</td>\n",
       "      <td>768.000000</td>\n",
       "      <td>768.000000</td>\n",
       "    </tr>\n",
       "    <tr>\n",
       "      <th>mean</th>\n",
       "      <td>3.845052</td>\n",
       "      <td>120.894531</td>\n",
       "      <td>81.976562</td>\n",
       "      <td>20.536458</td>\n",
       "      <td>79.799479</td>\n",
       "      <td>44.934766</td>\n",
       "      <td>0.471876</td>\n",
       "      <td>34.447917</td>\n",
       "      <td>0.348958</td>\n",
       "    </tr>\n",
       "    <tr>\n",
       "      <th>std</th>\n",
       "      <td>3.369578</td>\n",
       "      <td>31.972618</td>\n",
       "      <td>358.835058</td>\n",
       "      <td>15.952218</td>\n",
       "      <td>115.244002</td>\n",
       "      <td>359.739733</td>\n",
       "      <td>0.331329</td>\n",
       "      <td>36.754727</td>\n",
       "      <td>0.476951</td>\n",
       "    </tr>\n",
       "    <tr>\n",
       "      <th>min</th>\n",
       "      <td>0.000000</td>\n",
       "      <td>0.000000</td>\n",
       "      <td>0.000000</td>\n",
       "      <td>0.000000</td>\n",
       "      <td>0.000000</td>\n",
       "      <td>0.000000</td>\n",
       "      <td>0.078000</td>\n",
       "      <td>21.000000</td>\n",
       "      <td>0.000000</td>\n",
       "    </tr>\n",
       "    <tr>\n",
       "      <th>25%</th>\n",
       "      <td>1.000000</td>\n",
       "      <td>99.000000</td>\n",
       "      <td>62.000000</td>\n",
       "      <td>0.000000</td>\n",
       "      <td>0.000000</td>\n",
       "      <td>27.300000</td>\n",
       "      <td>0.243750</td>\n",
       "      <td>24.000000</td>\n",
       "      <td>0.000000</td>\n",
       "    </tr>\n",
       "    <tr>\n",
       "      <th>50%</th>\n",
       "      <td>3.000000</td>\n",
       "      <td>117.000000</td>\n",
       "      <td>72.000000</td>\n",
       "      <td>23.000000</td>\n",
       "      <td>30.500000</td>\n",
       "      <td>32.000000</td>\n",
       "      <td>0.372500</td>\n",
       "      <td>29.000000</td>\n",
       "      <td>0.000000</td>\n",
       "    </tr>\n",
       "    <tr>\n",
       "      <th>75%</th>\n",
       "      <td>6.000000</td>\n",
       "      <td>140.250000</td>\n",
       "      <td>80.000000</td>\n",
       "      <td>32.000000</td>\n",
       "      <td>127.250000</td>\n",
       "      <td>36.600000</td>\n",
       "      <td>0.626250</td>\n",
       "      <td>41.000000</td>\n",
       "      <td>1.000000</td>\n",
       "    </tr>\n",
       "    <tr>\n",
       "      <th>max</th>\n",
       "      <td>17.000000</td>\n",
       "      <td>199.000000</td>\n",
       "      <td>9999.000000</td>\n",
       "      <td>99.000000</td>\n",
       "      <td>846.000000</td>\n",
       "      <td>9999.000000</td>\n",
       "      <td>2.420000</td>\n",
       "      <td>999.000000</td>\n",
       "      <td>1.000000</td>\n",
       "    </tr>\n",
       "  </tbody>\n",
       "</table>\n",
       "</div>"
      ],
      "text/plain": [
       "       Pregnancies     Glucose  BloodPressure  SkinThickness     Insulin  \\\n",
       "count   768.000000  768.000000     768.000000     768.000000  768.000000   \n",
       "mean      3.845052  120.894531      81.976562      20.536458   79.799479   \n",
       "std       3.369578   31.972618     358.835058      15.952218  115.244002   \n",
       "min       0.000000    0.000000       0.000000       0.000000    0.000000   \n",
       "25%       1.000000   99.000000      62.000000       0.000000    0.000000   \n",
       "50%       3.000000  117.000000      72.000000      23.000000   30.500000   \n",
       "75%       6.000000  140.250000      80.000000      32.000000  127.250000   \n",
       "max      17.000000  199.000000    9999.000000      99.000000  846.000000   \n",
       "\n",
       "               BMI  DiabetesPedigreeFunction         Age     Outcome  \n",
       "count   768.000000                768.000000  768.000000  768.000000  \n",
       "mean     44.934766                  0.471876   34.447917    0.348958  \n",
       "std     359.739733                  0.331329   36.754727    0.476951  \n",
       "min       0.000000                  0.078000   21.000000    0.000000  \n",
       "25%      27.300000                  0.243750   24.000000    0.000000  \n",
       "50%      32.000000                  0.372500   29.000000    0.000000  \n",
       "75%      36.600000                  0.626250   41.000000    1.000000  \n",
       "max    9999.000000                  2.420000  999.000000    1.000000  "
      ]
     },
     "execution_count": 123,
     "metadata": {},
     "output_type": "execute_result"
    }
   ],
   "source": [
    "df1.describe(include='all')"
   ]
  },
  {
   "cell_type": "code",
   "execution_count": 124,
   "id": "c72096a0",
   "metadata": {},
   "outputs": [
    {
     "data": {
      "image/png": "[encoded data removed]",
      "text/plain": [
       "<Figure size 432x288 with 9 Axes>"
      ]
     },
     "metadata": {
      "needs_background": "light"
     },
     "output_type": "display_data"
    }
   ],
   "source": [
    "import matplotlib.pyplot as plt\n",
    "import seaborn as sns\n",
    "\n",
    "#plt.figure(figsize=(20,10))\n",
    "df1.hist()\n",
    "plt.tight_layout()\n",
    "plt.show()"
   ]
  },
  {
   "cell_type": "code",
   "execution_count": 125,
   "id": "75b2b795",
   "metadata": {},
   "outputs": [
    {
     "data": {
      "text/html": [
       "<div>\n",
       "<style scoped>\n",
       "    .dataframe tbody tr th:only-of-type {\n",
       "        vertical-align: middle;\n",
       "    }\n",
       "\n",
       "    .dataframe tbody tr th {\n",
       "        vertical-align: top;\n",
       "    }\n",
       "\n",
       "    .dataframe thead th {\n",
       "        text-align: right;\n",
       "    }\n",
       "</style>\n",
       "<table border=\"1\" class=\"dataframe\">\n",
       "  <thead>\n",
       "    <tr style=\"text-align: right;\">\n",
       "      <th></th>\n",
       "      <th>skew</th>\n",
       "      <th>kurtosis</th>\n",
       "    </tr>\n",
       "  </thead>\n",
       "  <tbody>\n",
       "    <tr>\n",
       "      <th>Pregnancies</th>\n",
       "      <td>0.901674</td>\n",
       "      <td>0.159220</td>\n",
       "    </tr>\n",
       "    <tr>\n",
       "      <th>Glucose</th>\n",
       "      <td>0.173754</td>\n",
       "      <td>0.640780</td>\n",
       "    </tr>\n",
       "    <tr>\n",
       "      <th>BloodPressure</th>\n",
       "      <td>27.592196</td>\n",
       "      <td>763.551413</td>\n",
       "    </tr>\n",
       "    <tr>\n",
       "      <th>SkinThickness</th>\n",
       "      <td>0.109372</td>\n",
       "      <td>-0.520072</td>\n",
       "    </tr>\n",
       "    <tr>\n",
       "      <th>Insulin</th>\n",
       "      <td>2.272251</td>\n",
       "      <td>7.214260</td>\n",
       "    </tr>\n",
       "    <tr>\n",
       "      <th>BMI</th>\n",
       "      <td>27.693107</td>\n",
       "      <td>767.271192</td>\n",
       "    </tr>\n",
       "    <tr>\n",
       "      <th>DiabetesPedigreeFunction</th>\n",
       "      <td>1.919911</td>\n",
       "      <td>5.594954</td>\n",
       "    </tr>\n",
       "    <tr>\n",
       "      <th>Age</th>\n",
       "      <td>23.650609</td>\n",
       "      <td>620.256035</td>\n",
       "    </tr>\n",
       "    <tr>\n",
       "      <th>Outcome</th>\n",
       "      <td>0.635017</td>\n",
       "      <td>-1.600930</td>\n",
       "    </tr>\n",
       "  </tbody>\n",
       "</table>\n",
       "</div>"
      ],
      "text/plain": [
       "                               skew    kurtosis\n",
       "Pregnancies                0.901674    0.159220\n",
       "Glucose                    0.173754    0.640780\n",
       "BloodPressure             27.592196  763.551413\n",
       "SkinThickness              0.109372   -0.520072\n",
       "Insulin                    2.272251    7.214260\n",
       "BMI                       27.693107  767.271192\n",
       "DiabetesPedigreeFunction   1.919911    5.594954\n",
       "Age                       23.650609  620.256035\n",
       "Outcome                    0.635017   -1.600930"
      ]
     },
     "execution_count": 125,
     "metadata": {},
     "output_type": "execute_result"
    }
   ],
   "source": [
    "df1.agg(['skew','kurtosis']).T\n",
    "# skewness: -2 ~ +2 사이면 왜도가 크지 않다고 판단함.\n",
    "# urtosis: 첨도가 높을수록 이상치가 많아짐."
   ]
  },
  {
   "cell_type": "markdown",
   "id": "79e08eb3",
   "metadata": {},
   "source": [
    "### 히스토그램 및 분포\n",
    "- Pregnancies: 최솟값으로 약간 치우쳐져 있으며, 왜도는 0.9이다.\n",
    "- Glucose: 비교적 균형적인 분포를 보임\n",
    "- BloodPressure: 최솟값으로 치우쳐져 있으며, 왜도는 27.6이다.\n",
    "- SkinThickness: 비교적 균형적인 분포를 보임\n",
    "- Insulin: 최솟값으로 치우쳐져 있으며, 왜도는 2.3이다.\n",
    "- BMI: 최솟값으로 치우쳐져 있으며, 왜도는 27.7이다.\n",
    "- DiabetesPedigreeFunction: 최솟값으로 약간 치우쳐져 있으며, 왜도는 1.9이다.\n",
    "- Age: 최솟값으로 치우쳐져 있으며, 왜도는 23.7이다.\n",
    "- Outcome: 비교적 균형적인 분포를 보임"
   ]
  },
  {
   "cell_type": "code",
   "execution_count": 126,
   "id": "25410ac8",
   "metadata": {
    "scrolled": false
   },
   "outputs": [
    {
     "data": {
      "image/png": "[encoded data removed]",
      "text/plain": [
       "<Figure size 720x720 with 2 Axes>"
      ]
     },
     "metadata": {
      "needs_background": "light"
     },
     "output_type": "display_data"
    }
   ],
   "source": [
    "plt.figure(figsize=(10,10))\n",
    "sns.heatmap(df1.corr(method='pearson'), annot=True, cmap = 'RdBu_r', vmin=-1, vmax=1)\n",
    "plt.tight_layout()\n",
    "plt.show()"
   ]
  },
  {
   "cell_type": "markdown",
   "id": "ed72f2c9",
   "metadata": {},
   "source": [
    "### 상관 관계 분석\n",
    "Pearson 상관 계수를 구했을때,\n",
    "- Glucose~Outcome: 0.47로 양의 상관 관계를 보임\n",
    "- Glucose~Insulin: 0.33 양의 상관 관계\n",
    "- SkinThickness~Insulin: 0.44 양의 상관 관계  \n",
    "이외의 변수 관계는 상관 계수가 -0.3 ~ +0.3 사이로 상관 관계가 크지 않다."
   ]
  },
  {
   "cell_type": "markdown",
   "id": "traditional-clerk",
   "metadata": {
    "papermill": {
     "duration": 0.016725,
     "end_time": "2022-03-12T12:44:12.437749",
     "exception": false,
     "start_time": "2022-03-12T12:44:12.421024",
     "status": "completed"
    },
    "tags": []
   },
   "source": [
    "## 1-2 이상치 처리(이상값 대체방안 제시)"
   ]
  },
  {
   "cell_type": "code",
   "execution_count": 127,
   "id": "aaac4b6b",
   "metadata": {},
   "outputs": [
    {
     "data": {
      "text/plain": [
       "<Figure size 1440x720 with 0 Axes>"
      ]
     },
     "metadata": {},
     "output_type": "display_data"
    },
    {
     "data": {
      "image/png": "[encoded data removed]",
      "text/plain": [
       "<Figure size 1440x720 with 10 Axes>"
      ]
     },
     "metadata": {
      "needs_background": "light"
     },
     "output_type": "display_data"
    }
   ],
   "source": [
    "plt.figure(figsize=(20,10))\n",
    "df1.plot(kind='box', subplots=True, layout=(2,len(df1.columns)//2+1), figsize=(20,10))\n",
    "plt.show()"
   ]
  },
  {
   "cell_type": "code",
   "execution_count": 128,
   "id": "ce4e7ea6",
   "metadata": {},
   "outputs": [],
   "source": [
    "def detect_outliers(df=None, column=None, weight=1.5):\n",
    "    Q1 = df[column].quantile(0.25)\n",
    "    Q3 = df[column].quantile(0.75)\n",
    "    IQR = Q3 - Q1\n",
    "    IQR_weight = IQR * weight\n",
    "    \n",
    "    outlier_idx = df[(df[column] < Q1 - IQR_weight) | (df[column] > Q3 + IQR_weight)].index\n",
    "    \n",
    "    return outlier_idx"
   ]
  },
  {
   "cell_type": "code",
   "execution_count": 129,
   "id": "cd72ac5a",
   "metadata": {
    "scrolled": true
   },
   "outputs": [
    {
     "name": "stdout",
     "output_type": "stream",
     "text": [
      "이상치 갯수: Q1 - 1.5 * IQR 미만, 또는 Q3 + 1.5 * IQR 초과하는 값\n",
      "Pregnancies 4\n",
      "88     15\n",
      "159    17\n",
      "298    14\n",
      "455    14\n",
      "Name: Pregnancies, dtype: int64\n",
      "Glucose 5\n",
      "75     0\n",
      "182    0\n",
      "342    0\n",
      "349    0\n",
      "502    0\n",
      "Name: Glucose, dtype: int64\n",
      "BloodPressure 45\n",
      "7         0\n",
      "15        0\n",
      "18       30\n",
      "43      110\n",
      "49        0\n",
      "60        0\n",
      "78        0\n",
      "81        0\n",
      "84      108\n",
      "106     122\n",
      "125      30\n",
      "172       0\n",
      "177     110\n",
      "193       0\n",
      "222       0\n",
      "261       0\n",
      "266       0\n",
      "269       0\n",
      "300       0\n",
      "332       0\n",
      "336       0\n",
      "347       0\n",
      "357       0\n",
      "362     108\n",
      "426       0\n",
      "430       0\n",
      "435       0\n",
      "453       0\n",
      "468       0\n",
      "484       0\n",
      "494       0\n",
      "522       0\n",
      "533       0\n",
      "535       0\n",
      "549     110\n",
      "589       0\n",
      "597      24\n",
      "601       0\n",
      "604       0\n",
      "619       0\n",
      "643       0\n",
      "691    9999\n",
      "697       0\n",
      "703       0\n",
      "706       0\n",
      "Name: BloodPressure, dtype: int64\n",
      "SkinThickness 1\n",
      "579    99\n",
      "Name: SkinThickness, dtype: int64\n",
      "Insulin 34\n",
      "8      543\n",
      "13     846\n",
      "54     342\n",
      "111    495\n",
      "139    325\n",
      "153    485\n",
      "186    495\n",
      "220    478\n",
      "228    744\n",
      "231    370\n",
      "247    680\n",
      "248    402\n",
      "258    375\n",
      "286    545\n",
      "296    360\n",
      "360    325\n",
      "370    465\n",
      "375    325\n",
      "392    415\n",
      "409    579\n",
      "415    474\n",
      "480    328\n",
      "486    480\n",
      "519    326\n",
      "574    330\n",
      "584    600\n",
      "612    321\n",
      "645    440\n",
      "655    540\n",
      "695    480\n",
      "707    335\n",
      "710    387\n",
      "715    392\n",
      "753    510\n",
      "Name: Insulin, dtype: int64\n",
      "BMI 19\n",
      "9         0.0\n",
      "49        0.0\n",
      "60        0.0\n",
      "81        0.0\n",
      "120      53.2\n",
      "125      55.0\n",
      "145       0.0\n",
      "177      67.1\n",
      "193      52.3\n",
      "247      52.3\n",
      "303      52.9\n",
      "371       0.0\n",
      "426       0.0\n",
      "445    9999.0\n",
      "494       0.0\n",
      "522       0.0\n",
      "673      57.3\n",
      "684       0.0\n",
      "706       0.0\n",
      "Name: BMI, dtype: float64\n",
      "DiabetesPedigreeFunction 29\n",
      "4      2.288\n",
      "12     1.441\n",
      "39     1.390\n",
      "45     1.893\n",
      "58     1.781\n",
      "100    1.222\n",
      "147    1.400\n",
      "187    1.321\n",
      "218    1.224\n",
      "228    2.329\n",
      "243    1.318\n",
      "245    1.213\n",
      "259    1.353\n",
      "292    1.224\n",
      "308    1.391\n",
      "330    1.476\n",
      "370    2.137\n",
      "371    1.731\n",
      "383    1.268\n",
      "395    1.600\n",
      "445    2.420\n",
      "534    1.251\n",
      "593    1.699\n",
      "606    1.258\n",
      "618    1.282\n",
      "621    1.698\n",
      "622    1.461\n",
      "659    1.292\n",
      "661    1.394\n",
      "Name: DiabetesPedigreeFunction, dtype: float64\n",
      "Age 9\n",
      "123     69\n",
      "363     67\n",
      "453    999\n",
      "459     81\n",
      "489     67\n",
      "537     67\n",
      "666     70\n",
      "674     68\n",
      "684     69\n",
      "Name: Age, dtype: int64\n",
      "Outcome 0\n",
      "Series([], Name: Outcome, dtype: int64)\n"
     ]
    }
   ],
   "source": [
    "print(\"이상치 갯수: Q1 - 1.5 * IQR 미만, 또는 Q3 + 1.5 * IQR 초과하는 값\")\n",
    "for column in df1.columns:\n",
    "    print(column, len(df1.loc[detect_outliers(df=df1, column = column), column]))\n",
    "    #print(detect_outliers(df=df1, column = column))\n",
    "    print(df1.loc[detect_outliers(df=df1, column = column), column])\n",
    "    #df1[detect_outliers(df=df1, column = column)]"
   ]
  },
  {
   "cell_type": "markdown",
   "id": "1adbbff9",
   "metadata": {},
   "source": [
    "### 이상치 분석\n",
    "**이상치: Q1 - 1.5 * IQR 미만, 또는 Q3 + 1.5 * IQR 초과하는 값**\n",
    "- Pregnancies: 범위 초과값이 값이 4개 존재하지만 큰 차이를 보이지 않는다.\n",
    "- Glucose: 범위 초과값이 5개이며, 0의 값을 가진다. 실질적으로 Glucose의 값이 0이 될 수 없다고 가정했을 때, 측정 오류로 볼 수 있으며, 이상치 처리가 필요하다.\n",
    "- BloodPressure: 범위 초과값이 45개 존재한다. 해당 값이 0 또는 9999가 될 수 없다고 가정했을 때, 이 값들은 측정 오류로 볼 수 있으며, 이상치 처리가 필요하다.\n",
    "- SkinThickness: 범위 초과값이 1개 존재하나, 큰 차이를 보이지 않는다.\n",
    "- Insulin: 범위 초과값이 34개 존재하나, 큰 차이를 보이지 않는다.\n",
    "- BMI: 범위 초과값이 19개 존재한다. 값이 0 또는 9999가 될 수 없다고 가정했을 때, 이 값들은 측정 오류로 볼 수 있으며, 이상치 처리가 필요하다.\n",
    "- DiabetesPedigreeFunction: 범위 초과값이 29개 존재하나, 큰 차이를 보이지 않는다.\n",
    "- Age: 범위를 초과하는 값이 9개 존재하나, 값이 999가 될 수 없다고 가정했을 때, 오류로 볼 수 있으며, 이상치 처리가 필요하다.\n",
    "- Outcome: 범위 초과값이 없다.\n",
    "\n",
    "### 이상치 처리 방안\n",
    "수치형 변수의 이상치 처리는 아래와 같은 방안이 있다.\n",
    "1. 최솟값 대치\n",
    "1. 최댓값 대치\n",
    "1. 평균값 대치\n",
    "1. 중앙값 대치\n",
    "1. KNN 대치  \n",
    "\n",
    "__이번 분석에서는 이상치가 0 또는 999, 9999와 같이 측정 오류로 보이는 값이며, 정상 범위 값이 다수를 차지하기 때문에 나머지 변수를 통한 K-최근접 이웃 알고리듬 보간법을 통해 이상치를 대치 할 수 있다.__  \n",
    "\n",
    "\n",
    "범주형 변수의 이상치 처리는 아래와 같은 방안이 있다.\n",
    "1. 최빈값 대치\n",
    "1. KNN 대치 (원핫인코딩을 통한)"
   ]
  },
  {
   "cell_type": "code",
   "execution_count": 132,
   "id": "6244d784",
   "metadata": {},
   "outputs": [],
   "source": [
    "df1.loc[df1.Glucose==0,'Glucose'] = np.nan\n",
    "df1.loc[(df1.BloodPressure==0)|(df1.BloodPressure==9999), 'BloodPressure'] = np.nan\n",
    "df1.loc[(df1.BMI==0)|(df1.BMI==9999),\"BMI\"] = np.nan\n",
    "df1.loc[df1.Age==999,'Age'] = np.nan\n",
    "\n",
    "from sklearn.impute import KNNImputer\n",
    "imputer = KNNImputer(n_neighbors=5)\n",
    "imputer.fit(df1)\n",
    "df1_after = imputer.transform(df1)\n",
    "df1_after = pd.DataFrame(df1_after, columns=df1.columns)\n",
    "#df1.isna()"
   ]
  },
  {
   "cell_type": "markdown",
   "id": "natural-chassis",
   "metadata": {
    "papermill": {
     "duration": 0.016821,
     "end_time": "2022-03-12T12:44:12.471832",
     "exception": false,
     "start_time": "2022-03-12T12:44:12.455011",
     "status": "completed"
    },
    "tags": []
   },
   "source": [
    "## 1-3 앞선 두 단계에서 얻은 향후 분석시 고려사항 작성"
   ]
  },
  {
   "cell_type": "markdown",
   "id": "50630a07",
   "metadata": {},
   "source": [
    "- Outcome 0과 1, 두개의 클래스 중, 0을 가지는 데이터가 1을 가지는 데이터보다 상대적으로 많고, 불균형 분포를 보인다. 이 때, Outcome 분류를 예측할 때, 0을 예측하는 것에 과대적합할 가능성이 있으므로, 오버샘플링 또는 언더샘플링을 통해 균형적인 데이터로 전처리한다면 과대적합을 방지하고, 예측 모델의 성능을 향상시킬 수 있다.\n",
    "- Skewness가 -2 ~ +2를 초과하는 수치형 변수의 경우, 정규화를 통해 예측 모델의 성능을 향상시킬 수 있다."
   ]
  },
  {
   "cell_type": "markdown",
   "id": "legendary-suggestion",
   "metadata": {
    "papermill": {
     "duration": 0.016927,
     "end_time": "2022-03-12T12:44:12.506303",
     "exception": false,
     "start_time": "2022-03-12T12:44:12.489376",
     "status": "completed"
    },
    "tags": []
   },
   "source": [
    "# 문제 2"
   ]
  },
  {
   "cell_type": "code",
   "execution_count": 133,
   "id": "c672875a",
   "metadata": {},
   "outputs": [
    {
     "data": {
      "text/plain": [
       "((537, 8), (231, 8), (537,), (231,))"
      ]
     },
     "execution_count": 133,
     "metadata": {},
     "output_type": "execute_result"
    }
   ],
   "source": [
    "from sklearn.model_selection import train_test_split\n",
    "\n",
    "X = df1_after.drop(columns=['Outcome'])\n",
    "y = df1_after.Outcome\n",
    "\n",
    "X_train, X_test, y_train ,y_test = train_test_split(X,y,test_size=0.3, stratify=y, random_state=1)\n",
    "X_train.shape, X_test.shape, y_train.shape, y_test.shape"
   ]
  },
  {
   "cell_type": "markdown",
   "id": "expected-improvement",
   "metadata": {
    "papermill": {
     "duration": 0.017531,
     "end_time": "2022-03-12T12:44:12.540941",
     "exception": false,
     "start_time": "2022-03-12T12:44:12.523410",
     "status": "completed"
    },
    "tags": []
   },
   "source": [
    "## 2-1 오버샘플링 과정 설명하고 결과 작성"
   ]
  },
  {
   "cell_type": "code",
   "execution_count": 134,
   "id": "85e583e5",
   "metadata": {},
   "outputs": [
    {
     "name": "stdout",
     "output_type": "stream",
     "text": [
      "SMOTE, the shape of X_train:  (700, 8)\n",
      "SMOTE, the shape of y_train:  (700,)\n",
      "SMOTE, counts of 0 in y_train:  350\n",
      "SMOTE, counts of 1 in y_train:  350\n"
     ]
    }
   ],
   "source": [
    "from imblearn.over_sampling import SMOTE, RandomOverSampler\n",
    "\n",
    "smote = SMOTE(random_state=1,k_neighbors=3)\n",
    "X_smote_train, y_smote_train = smote.fit_resample(X_train,y_train)\n",
    "print(\"SMOTE, the shape of X_train: \", X_smote_train.shape)\n",
    "print(\"SMOTE, the shape of y_train: \", y_smote_train.shape)\n",
    "\n",
    "print(\"SMOTE, counts of 0 in y_train: \", (y_smote_train==0).sum())\n",
    "print(\"SMOTE, counts of 1 in y_train: \", (y_smote_train==1).sum())"
   ]
  },
  {
   "cell_type": "markdown",
   "id": "b92145cb",
   "metadata": {},
   "source": [
    "### SMOTE 오버샘플링\n",
    "- KNN을 이용하여 최근접 이웃의 거리 계산을 통해 K개의 중간 지점의 데이터를 생성한다.\n",
    "- 장점: 데이터 불균형 문제 해결. 무작위로 오버샘플링을 수행하는 방법에 비해 과대적합 가능성이 낮다. 또한, 언더샘플링에 비해 정보가 소실되지 않고, 데이터의 수가 줄어들지 않는다. 또한, 데이터 분포를 고려하여 중복없는 데이터가 생성 가능함.\n",
    "- 단점: 새로운 데이터나 작은 데이터 셋에서는 사용하기가 어렵다. 또한, 낮은 비율로 존재하는 클래스 외에는 다른 클래스는 고려하지 않고 샘플링을 하므로 생성된 데이터가 다른 클래스의 데이터와 중첩되는 경우가 발생하여 노이즈를 생성할 수도 있다.\n",
    "\n",
    "\n",
    "### Random 오버샘플링\n",
    "- 소수 클래스의 정보를 복제하여 다수 클래스의 크기에 맞추는 기법이다.\n",
    "- 장점: 데이터 불균형 문제 해결. 또한, 언더샘플링에 비해 정보가 소실되지 않고, 데이터의 수가 줄어들지 않는다.\n",
    "- 단점: 종속 변수에 대한 고려없이 중복 생성하여, 오버피팅의 우려가 존재함\n",
    "\n",
    "### 오버샘플링 결과\n",
    "- 최근접이웃, k_neighbors=3으로 오버샘플링 실시\n",
    "- X_train, y_train 데이터가 537개에서, SMOTE 오버샘플링을 통해 700개의 데이터를 가지도록 오버샘플링 실시\n",
    "- y_train의 값이 0를 가지는 데이터가 350개, 1을 가지는 데이터가 350개로 균형적으로 오버샘플링"
   ]
  },
  {
   "cell_type": "markdown",
   "id": "overhead-verification",
   "metadata": {
    "papermill": {
     "duration": 0.016732,
     "end_time": "2022-03-12T12:44:12.575049",
     "exception": false,
     "start_time": "2022-03-12T12:44:12.558317",
     "status": "completed"
    },
    "tags": []
   },
   "source": [
    "## 2-2 언더샘플링 과정 설명하고 결과 작성"
   ]
  },
  {
   "cell_type": "code",
   "execution_count": 135,
   "id": "2e4a7dc6",
   "metadata": {},
   "outputs": [
    {
     "name": "stdout",
     "output_type": "stream",
     "text": [
      "Random Under Sample, the shape of X_train:  (374, 8)\n",
      "Random Under Sample, the shape of y_train:  (374,)\n",
      "Random Under Sample, counts of 0 in y_train:  187\n",
      "Random Under Sample, counts of 1 in y_train:  187\n"
     ]
    }
   ],
   "source": [
    "from imblearn.under_sampling import RandomUnderSampler\n",
    "\n",
    "rus = RandomUnderSampler(random_state=1)\n",
    "X_under_train, y_under_train = rus.fit_resample(X_train, y_train)\n",
    "print(\"Random Under Sample, the shape of X_train: \", X_under_train.shape)\n",
    "print(\"Random Under Sample, the shape of y_train: \", y_under_train.shape)\n",
    "\n",
    "print(\"Random Under Sample, counts of 0 in y_train: \", (y_under_train==0).sum())\n",
    "print(\"Random Under Sample, counts of 1 in y_train: \", (y_under_train==1).sum())"
   ]
  },
  {
   "cell_type": "markdown",
   "id": "95df6ad6",
   "metadata": {},
   "source": [
    "### Random 언더샘플링\n",
    "- 다수 클래스의 정보를 랜덤하게 삭제하여 소수 클래스의 크기에 맞추는 기법이다.\n",
    "- 장점: 데이터 불균형 문제 해결. 오버샘플링으로 데이터가 잘못 생성되었을 때 발생할 수 있는 과대적합의 가능성이 낮다.\n",
    "- 단점: 오버샘플링에 비해 정보가 소실됨.\n",
    "\n",
    "### 언더샘플링 결과\n",
    "- 랜덤 언더샘플링 실시\n",
    "- X_train, y_train 데이터가 537개에서, 랜덤 언더샘플링을 통해 374개의 데이터를 가지도록 언더샘플링 실시\n",
    "- y_train의 값이 0을 가지는 데이터가 187개, 1을 가지는 데이터가 187개로 균형적으로 언더샘플링"
   ]
  },
  {
   "cell_type": "markdown",
   "id": "radical-behavior",
   "metadata": {
    "papermill": {
     "duration": 0.016917,
     "end_time": "2022-03-12T12:44:12.609075",
     "exception": false,
     "start_time": "2022-03-12T12:44:12.592158",
     "status": "completed"
    },
    "tags": []
   },
   "source": [
    "## 2-3 둘 중 선택하고 이유 설명"
   ]
  },
  {
   "cell_type": "markdown",
   "id": "57691807",
   "metadata": {},
   "source": [
    "__SMOTE 오버샘플링 방법을 사용한다. 그 이유는__\n",
    "- 데이터 불균형 문제를 해결\n",
    "- 언더샘플링에 비해 데이터가 소실되지 않음\n",
    "- 랜덤 오버샘플링에 비해 과대적합 가능성이 낮고, 데이터 분포를 고려하여 중복없는 데이터가 생성가능함."
   ]
  },
  {
   "cell_type": "markdown",
   "id": "empty-sacrifice",
   "metadata": {
    "papermill": {
     "duration": 0.017738,
     "end_time": "2022-03-12T12:44:12.643968",
     "exception": false,
     "start_time": "2022-03-12T12:44:12.626230",
     "status": "completed"
    },
    "tags": []
   },
   "source": [
    "# 문제 3"
   ]
  },
  {
   "cell_type": "markdown",
   "id": "improved-honor",
   "metadata": {
    "papermill": {
     "duration": 0.017261,
     "end_time": "2022-03-12T12:44:12.678991",
     "exception": false,
     "start_time": "2022-03-12T12:44:12.661730",
     "status": "completed"
    },
    "tags": []
   },
   "source": [
    "## 3-1 최소 3개 이상 알고리즘 제시하고 정확도 측면의 모델 1개와 속도 측면의 모델 1개를 꼭 구현(총 2개 이상)"
   ]
  },
  {
   "cell_type": "markdown",
   "id": "5f1cd8b2",
   "metadata": {},
   "source": [
    "### 분류 알고리듬 3개\n",
    "Outcome 종속변수의 분류를 예측하는 모델\n",
    "1. Logistic Regression 분류 모델\n",
    "1. Random Forest 분류 모델\n",
    "1. XGBoost 분류 모델"
   ]
  },
  {
   "cell_type": "code",
   "execution_count": 150,
   "id": "4f75c5bd",
   "metadata": {},
   "outputs": [],
   "source": [
    "from sklearn.linear_model import LogisticRegression\n",
    "lr = LogisticRegression()\n",
    "#lr.fit(X_smote_train, y_smote_train)"
   ]
  },
  {
   "cell_type": "code",
   "execution_count": 151,
   "id": "8ca31898",
   "metadata": {},
   "outputs": [],
   "source": [
    "from xgboost import XGBClassifier\n",
    "xgb = XGBClassifier()"
   ]
  },
  {
   "cell_type": "code",
   "execution_count": 164,
   "id": "fc8427af",
   "metadata": {},
   "outputs": [
    {
     "name": "stderr",
     "output_type": "stream",
     "text": [
      "/Users/hmc/opt/anaconda3/envs/ADP_Class/lib/python3.7/site-packages/sklearn/linear_model/_logistic.py:818: ConvergenceWarning: lbfgs failed to converge (status=1):\n",
      "STOP: TOTAL NO. of ITERATIONS REACHED LIMIT.\n",
      "\n",
      "Increase the number of iterations (max_iter) or scale the data as shown in:\n",
      "    https://scikit-learn.org/stable/modules/preprocessing.html\n",
      "Please also refer to the documentation for alternative solver options:\n",
      "    https://scikit-learn.org/stable/modules/linear_model.html#logistic-regression\n",
      "  extra_warning_msg=_LOGISTIC_SOLVER_CONVERGENCE_MSG,\n"
     ]
    }
   ],
   "source": [
    "import time\n",
    "from sklearn.metrics import roc_auc_score, f1_score\n",
    "roc_auc = []\n",
    "f1_scores = []\n",
    "times = []\n",
    "\n",
    "for model in [lr, xgb]:\n",
    "    now = time.time()\n",
    "    model.fit(X_smote_train, y_smote_train)\n",
    "    roc_auc.append(roc_auc_score(y_test, model.predict_proba(X_test)[:,1]))\n",
    "    f1_scores.append(f1_score(y_test, model.predict(X_test), average=\"macro\"))\n",
    "    times.append(time.time() - now)"
   ]
  },
  {
   "cell_type": "code",
   "execution_count": 165,
   "id": "24a4ad6a",
   "metadata": {},
   "outputs": [
    {
     "data": {
      "text/html": [
       "<div>\n",
       "<style scoped>\n",
       "    .dataframe tbody tr th:only-of-type {\n",
       "        vertical-align: middle;\n",
       "    }\n",
       "\n",
       "    .dataframe tbody tr th {\n",
       "        vertical-align: top;\n",
       "    }\n",
       "\n",
       "    .dataframe thead th {\n",
       "        text-align: right;\n",
       "    }\n",
       "</style>\n",
       "<table border=\"1\" class=\"dataframe\">\n",
       "  <thead>\n",
       "    <tr style=\"text-align: right;\">\n",
       "      <th></th>\n",
       "      <th>roc_auc_score</th>\n",
       "    </tr>\n",
       "  </thead>\n",
       "  <tbody>\n",
       "    <tr>\n",
       "      <th>lr</th>\n",
       "      <td>0.815226</td>\n",
       "    </tr>\n",
       "    <tr>\n",
       "      <th>xgb</th>\n",
       "      <td>0.813251</td>\n",
       "    </tr>\n",
       "  </tbody>\n",
       "</table>\n",
       "</div>"
      ],
      "text/plain": [
       "     roc_auc_score\n",
       "lr        0.815226\n",
       "xgb       0.813251"
      ]
     },
     "execution_count": 165,
     "metadata": {},
     "output_type": "execute_result"
    }
   ],
   "source": [
    "pd.DataFrame(roc_auc, columns = ['roc_auc_score'], index = ['lr','xgb'])"
   ]
  },
  {
   "cell_type": "code",
   "execution_count": 166,
   "id": "5b6bb776",
   "metadata": {},
   "outputs": [
    {
     "data": {
      "text/html": [
       "<div>\n",
       "<style scoped>\n",
       "    .dataframe tbody tr th:only-of-type {\n",
       "        vertical-align: middle;\n",
       "    }\n",
       "\n",
       "    .dataframe tbody tr th {\n",
       "        vertical-align: top;\n",
       "    }\n",
       "\n",
       "    .dataframe thead th {\n",
       "        text-align: right;\n",
       "    }\n",
       "</style>\n",
       "<table border=\"1\" class=\"dataframe\">\n",
       "  <thead>\n",
       "    <tr style=\"text-align: right;\">\n",
       "      <th></th>\n",
       "      <th>f1_score</th>\n",
       "    </tr>\n",
       "  </thead>\n",
       "  <tbody>\n",
       "    <tr>\n",
       "      <th>lr</th>\n",
       "      <td>0.739404</td>\n",
       "    </tr>\n",
       "    <tr>\n",
       "      <th>xgb</th>\n",
       "      <td>0.736644</td>\n",
       "    </tr>\n",
       "  </tbody>\n",
       "</table>\n",
       "</div>"
      ],
      "text/plain": [
       "     f1_score\n",
       "lr   0.739404\n",
       "xgb  0.736644"
      ]
     },
     "execution_count": 166,
     "metadata": {},
     "output_type": "execute_result"
    }
   ],
   "source": [
    "pd.DataFrame(f1_scores, columns = ['f1_score'], index = ['lr','xgb'])"
   ]
  },
  {
   "cell_type": "code",
   "execution_count": 167,
   "id": "d3a6f6a3",
   "metadata": {},
   "outputs": [
    {
     "data": {
      "text/html": [
       "<div>\n",
       "<style scoped>\n",
       "    .dataframe tbody tr th:only-of-type {\n",
       "        vertical-align: middle;\n",
       "    }\n",
       "\n",
       "    .dataframe tbody tr th {\n",
       "        vertical-align: top;\n",
       "    }\n",
       "\n",
       "    .dataframe thead th {\n",
       "        text-align: right;\n",
       "    }\n",
       "</style>\n",
       "<table border=\"1\" class=\"dataframe\">\n",
       "  <thead>\n",
       "    <tr style=\"text-align: right;\">\n",
       "      <th></th>\n",
       "      <th>time</th>\n",
       "    </tr>\n",
       "  </thead>\n",
       "  <tbody>\n",
       "    <tr>\n",
       "      <th>lr</th>\n",
       "      <td>0.035531</td>\n",
       "    </tr>\n",
       "    <tr>\n",
       "      <th>xgb</th>\n",
       "      <td>0.053821</td>\n",
       "    </tr>\n",
       "  </tbody>\n",
       "</table>\n",
       "</div>"
      ],
      "text/plain": [
       "         time\n",
       "lr   0.035531\n",
       "xgb  0.053821"
      ]
     },
     "execution_count": 167,
     "metadata": {},
     "output_type": "execute_result"
    }
   ],
   "source": [
    "pd.DataFrame(times, columns = ['time'], index = ['lr','xgb'])"
   ]
  },
  {
   "cell_type": "markdown",
   "id": "opponent-elements",
   "metadata": {
    "papermill": {
     "duration": 0.017931,
     "end_time": "2022-03-12T12:44:12.715003",
     "exception": false,
     "start_time": "2022-03-12T12:44:12.697072",
     "status": "completed"
    },
    "tags": []
   },
   "source": [
    "## 3-2 모델 비교하고 결과 설명"
   ]
  },
  {
   "cell_type": "code",
   "execution_count": 168,
   "id": "307387a5",
   "metadata": {},
   "outputs": [
    {
     "name": "stdout",
     "output_type": "stream",
     "text": [
      "LR\n",
      "              precision    recall  f1-score   support\n",
      "\n",
      "         0.0       0.83      0.79      0.81       150\n",
      "         1.0       0.64      0.70      0.67        81\n",
      "\n",
      "    accuracy                           0.76       231\n",
      "   macro avg       0.74      0.75      0.74       231\n",
      "weighted avg       0.76      0.76      0.76       231\n",
      "\n",
      "XGB\n",
      "              precision    recall  f1-score   support\n",
      "\n",
      "         0.0       0.83      0.77      0.80       150\n",
      "         1.0       0.63      0.72      0.67        81\n",
      "\n",
      "    accuracy                           0.75       231\n",
      "   macro avg       0.73      0.74      0.74       231\n",
      "weighted avg       0.76      0.75      0.76       231\n",
      "\n"
     ]
    }
   ],
   "source": [
    "from sklearn.metrics import classification_report\n",
    "print(\"LR\")\n",
    "print(classification_report(y_test, lr.predict(X_test)))\n",
    "print(\"XGB\")\n",
    "print(classification_report(y_test, xgb.predict(X_test)))"
   ]
  },
  {
   "cell_type": "markdown",
   "id": "87c1cb02",
   "metadata": {},
   "source": [
    "- ROC_AUC_SCORE: roc_auc_curve의 면적을 계산했을 때, 로지스틱회귀 분류모델과 XGBoost 분류모델의 TPR 및 1-FPR 점수가 유사하다는 것을 알 수 있다.\n",
    "- f1_score(macro): 두 모델 모두 precision과 recall 조화평균 점수가 유사하다는 것을 알 수 있다.\n",
    "- time: 모델 적합 및 예측 시간을 비교했을 때, 로지스틱회귀 분류모델 < XGBoost 분류모델로, 로지스틱회귀 분류모델의 속도가 가장 빠르다는 것을 알 수 있다. 단, 현업에서는 매개변수의 변경이나 이터레이션 등 환경에 따라 달라질 수 있다."
   ]
  },
  {
   "cell_type": "markdown",
   "id": "flying-engine",
   "metadata": {
    "papermill": {
     "duration": 0.019203,
     "end_time": "2022-03-12T12:44:12.752167",
     "exception": false,
     "start_time": "2022-03-12T12:44:12.732964",
     "status": "completed"
    },
    "tags": []
   },
   "source": [
    "## 3-3 속도 개선을 위한 차원 축소 설명하고 수행, 예측 성능과 속도 비교하고 결과 작성"
   ]
  },
  {
   "cell_type": "markdown",
   "id": "d172965e",
   "metadata": {},
   "source": [
    "__주성분 분석의 개념__\n",
    "- 주성분 분석이란 데이터에 여러 변수들이 있을 때, 서로 상관성이 높은 변수들의 선형결합으로 이루어진 \"주성분\"이라는 새로운 변수를 만들어 변수들을 요약하고 축소하는 기법이다.\n",
    "\n",
    "__주성분 분석 방법__\n",
    "- 변수 간 스케일이 차이가 나면 스케일 큰 변수가 주셩분에 영향을 많이 주기 때문에 주성분 분석 전에 변수를 표준화/정규화 시켜주는 것이 좋다. 일반적으로 StandardScaler()를 사용한다.\n",
    "- Explained variance ratio, 또는 Scree plot으로 각 주성분의 설명력을 확인할 수 있다.\n",
    "- PCA 함수는 공분산 행렬의 고유벡터를 구하는 방법을 사용한다.\n",
    "\n",
    "__차원 축소 이유__\n",
    "- 데이터 용량이 커질수록 불필요한 샘플 증가 현상이 일어남\n",
    "- 과도한 정보를 훈련시키면 부정확하고 잘못된 모델이 탄생할 가능성이 증가함"
   ]
  },
  {
   "cell_type": "code",
   "execution_count": 173,
   "id": "b720079d",
   "metadata": {},
   "outputs": [
    {
     "name": "stdout",
     "output_type": "stream",
     "text": [
      "[0.89967386 0.06648627 0.01412683 0.01103558 0.0060408 ]\n"
     ]
    }
   ],
   "source": [
    "from sklearn.decomposition import PCA\n",
    "\n",
    "pca = PCA(n_components=5)\n",
    "pca_fit = pca.fit(X_smote_train)\n",
    "X_pca_train = pca_fit.transform(X_smote_train)\n",
    "X_pca_test = pca_fit.transform(X_test)\n",
    "\n",
    "print(pca_fit.explained_variance_ratio_)\n",
    "\n",
    "import time\n",
    "from sklearn.metrics import roc_auc_score, f1_score\n",
    "roc_auc = []\n",
    "f1_scores = []\n",
    "times = []\n",
    "\n",
    "for model in [lr, xgb]:\n",
    "    now = time.time()\n",
    "    model.fit(X_pca_train, y_smote_train)\n",
    "    roc_auc.append(roc_auc_score(y_test, model.predict_proba(X_pca_test)[:,1]))\n",
    "    f1_scores.append(f1_score(y_test, model.predict(X_pca_test), average=\"macro\"))\n",
    "    times.append(time.time() - now)"
   ]
  },
  {
   "cell_type": "code",
   "execution_count": 172,
   "id": "acf3533f",
   "metadata": {},
   "outputs": [
    {
     "name": "stdout",
     "output_type": "stream",
     "text": [
      "     roc_auc_score\n",
      "lr        0.788148\n",
      "xgb       0.782798\n",
      "     f1_score\n",
      "lr   0.691918\n",
      "xgb  0.708923\n",
      "         time\n",
      "lr   0.011509\n",
      "xgb  0.048225\n"
     ]
    }
   ],
   "source": [
    "print(pd.DataFrame(roc_auc, columns = ['roc_auc_score'], index = ['lr','xgb']))\n",
    "print(pd.DataFrame(f1_scores, columns = ['f1_score'], index = ['lr','xgb']))\n",
    "print(pd.DataFrame(times, columns = ['time'], index = ['lr','xgb']))"
   ]
  },
  {
   "cell_type": "markdown",
   "id": "ac7428f3",
   "metadata": {},
   "source": [
    "### 결과 비교\n",
    "5개 주성분 분석을 통해, 첫번째 주성분부터 5번째 주성분이 전체 데이터의 분산을 설명하는 비율은 아래와 같다.  \n",
    "[0.89967386 0.06648627 0.01412683 0.01103558 0.0060408 ]\n",
    "\n",
    "5개 주성분 분석을 통해 로지스틱회귀 분류모델과 XGBoost 분류모델의 성능과 속도를 비교했을 때,\n",
    "- roc_auc_score 소폭 감소\n",
    "- f1_score 소폭 감소\n",
    "- time 소폭 감소\n",
    "\n",
    "예측 성능은 약간 감소하였으나, 모델 속도는 소폭 빨라진 것을 알 수 있다. 주성분의 갯수에 따라 모델 성능과 속도 차이가 달라질 수 있다."
   ]
  },
  {
   "cell_type": "markdown",
   "id": "practical-hammer",
   "metadata": {
    "papermill": {
     "duration": 0.017196,
     "end_time": "2022-03-12T12:44:12.787025",
     "exception": false,
     "start_time": "2022-03-12T12:44:12.769829",
     "status": "completed"
    },
    "tags": []
   },
   "source": [
    "# 문제 4 \n",
    "금속 성분 함유량 데이터(변수 1개) - 제품에 금속 재질 함유량의 분산이 1.3을 넘으면 불량이라고 보고 있는데 제조사별로 차이가 난다고 제보를 받았으며, 분산에 대해 검정을 수행하시오. (유의확률 0.05)"
   ]
  },
  {
   "cell_type": "markdown",
   "id": "attempted-budapest",
   "metadata": {
    "papermill": {
     "duration": 0.017131,
     "end_time": "2022-03-12T12:44:12.821667",
     "exception": false,
     "start_time": "2022-03-12T12:44:12.804536",
     "status": "completed"
    },
    "tags": []
   },
   "source": [
    "#### dataset : /kaggle/input/adpkrp5/content.csv"
   ]
  },
  {
   "cell_type": "code",
   "execution_count": 174,
   "id": "4ab25ee8",
   "metadata": {},
   "outputs": [
    {
     "data": {
      "text/html": [
       "<div>\n",
       "<style scoped>\n",
       "    .dataframe tbody tr th:only-of-type {\n",
       "        vertical-align: middle;\n",
       "    }\n",
       "\n",
       "    .dataframe tbody tr th {\n",
       "        vertical-align: top;\n",
       "    }\n",
       "\n",
       "    .dataframe thead th {\n",
       "        text-align: right;\n",
       "    }\n",
       "</style>\n",
       "<table border=\"1\" class=\"dataframe\">\n",
       "  <thead>\n",
       "    <tr style=\"text-align: right;\">\n",
       "      <th></th>\n",
       "      <th>content</th>\n",
       "    </tr>\n",
       "  </thead>\n",
       "  <tbody>\n",
       "    <tr>\n",
       "      <th>0</th>\n",
       "      <td>97.995295</td>\n",
       "    </tr>\n",
       "    <tr>\n",
       "      <th>1</th>\n",
       "      <td>101.478315</td>\n",
       "    </tr>\n",
       "    <tr>\n",
       "      <th>2</th>\n",
       "      <td>102.284913</td>\n",
       "    </tr>\n",
       "    <tr>\n",
       "      <th>3</th>\n",
       "      <td>98.993634</td>\n",
       "    </tr>\n",
       "    <tr>\n",
       "      <th>4</th>\n",
       "      <td>104.635232</td>\n",
       "    </tr>\n",
       "    <tr>\n",
       "      <th>...</th>\n",
       "      <td>...</td>\n",
       "    </tr>\n",
       "    <tr>\n",
       "      <th>195</th>\n",
       "      <td>100.568703</td>\n",
       "    </tr>\n",
       "    <tr>\n",
       "      <th>196</th>\n",
       "      <td>99.082193</td>\n",
       "    </tr>\n",
       "    <tr>\n",
       "      <th>197</th>\n",
       "      <td>100.163027</td>\n",
       "    </tr>\n",
       "    <tr>\n",
       "      <th>198</th>\n",
       "      <td>99.327200</td>\n",
       "    </tr>\n",
       "    <tr>\n",
       "      <th>199</th>\n",
       "      <td>100.920466</td>\n",
       "    </tr>\n",
       "  </tbody>\n",
       "</table>\n",
       "<p>200 rows × 1 columns</p>\n",
       "</div>"
      ],
      "text/plain": [
       "        content\n",
       "0     97.995295\n",
       "1    101.478315\n",
       "2    102.284913\n",
       "3     98.993634\n",
       "4    104.635232\n",
       "..          ...\n",
       "195  100.568703\n",
       "196   99.082193\n",
       "197  100.163027\n",
       "198   99.327200\n",
       "199  100.920466\n",
       "\n",
       "[200 rows x 1 columns]"
      ]
     },
     "execution_count": 174,
     "metadata": {},
     "output_type": "execute_result"
    }
   ],
   "source": [
    "df2 = pd.read_csv('./content.csv')\n",
    "df2"
   ]
  },
  {
   "cell_type": "markdown",
   "id": "tracked-period",
   "metadata": {
    "papermill": {
     "duration": 0.017002,
     "end_time": "2022-03-12T12:44:12.856226",
     "exception": false,
     "start_time": "2022-03-12T12:44:12.839224",
     "status": "completed"
    },
    "tags": []
   },
   "source": [
    "## 4-1 연구가설과 귀무가설 작성"
   ]
  },
  {
   "cell_type": "markdown",
   "id": "8d93914e",
   "metadata": {},
   "source": [
    "- 귀무가설(H0): 모집단의 분산이 1.3과 같다.\n",
    "- 연구가설(H1): 모집단의 분산이 1.3과 다르다."
   ]
  },
  {
   "cell_type": "markdown",
   "id": "tamil-transport",
   "metadata": {
    "papermill": {
     "duration": 0.017203,
     "end_time": "2022-03-12T12:44:12.890980",
     "exception": false,
     "start_time": "2022-03-12T12:44:12.873777",
     "status": "completed"
    },
    "tags": []
   },
   "source": [
    "## 4-2 양측 검정"
   ]
  },
  {
   "cell_type": "code",
   "execution_count": 192,
   "id": "2532cfa1",
   "metadata": {},
   "outputs": [],
   "source": [
    "# 모집단의 평균을 모를때,\n",
    "# T = (n-1) * 표본집단비편향분산 / 모집단분산\n",
    "# T는 자유도 n-1인 카이제곱분포 chi2(n-1)을 따름"
   ]
  },
  {
   "cell_type": "code",
   "execution_count": 285,
   "id": "7ff848a8",
   "metadata": {},
   "outputs": [
    {
     "data": {
      "text/plain": [
       "(content    328.292298\n",
       " dtype: float64,\n",
       " 161.82618239364686,\n",
       " 239.9596818276442)"
      ]
     },
     "execution_count": 285,
     "metadata": {},
     "output_type": "execute_result"
    }
   ],
   "source": [
    "from scipy.stats import chi2\n",
    "n = len(df2)\n",
    "alpha = 0.05\n",
    "va0 = 1.3\n",
    "va1 = np.var(df2, ddof=1)\n",
    "T = (n-1) * va1 / va0\n",
    "t1 = chi2.ppf(alpha/2, n-1)\n",
    "t2 = chi2.ppf(1-alpha/2, n-1)\n",
    "\n",
    "T,t1,t2"
   ]
  },
  {
   "cell_type": "markdown",
   "id": "chief-history",
   "metadata": {
    "papermill": {
     "duration": 0.017126,
     "end_time": "2022-03-12T12:44:12.925978",
     "exception": false,
     "start_time": "2022-03-12T12:44:12.908852",
     "status": "completed"
    },
    "tags": []
   },
   "source": [
    "## 4-3 검정통계량, 가설 채택\n",
    "- 유의 수준 0.05 양측 검정 실시\n",
    "- 표본집단의 카이제곱 통계량T가 328.3이고, 이는 상단 2.5% 기각역(t > 240.0)에 포함되므로, 귀무가설을 기각할 수 있다.\n",
    "- 따라서, 모집단의 분산은 1.3과 다르다. (연구가설 채택)"
   ]
  },
  {
   "cell_type": "markdown",
   "id": "silver-garlic",
   "metadata": {
    "papermill": {
     "duration": 0.018615,
     "end_time": "2022-03-12T12:44:12.962085",
     "exception": false,
     "start_time": "2022-03-12T12:44:12.943470",
     "status": "completed"
    },
    "tags": []
   },
   "source": [
    "# 문제 5\n",
    "Lot별 200개에 대한 불량 제품 수량 데이터(변수 2개 - lot번호, 불량제품수)    \n",
    "/kaggle/input/adpkrp5/error.csv"
   ]
  },
  {
   "cell_type": "code",
   "execution_count": 193,
   "id": "297854b9",
   "metadata": {},
   "outputs": [
    {
     "data": {
      "text/html": [
       "<div>\n",
       "<style scoped>\n",
       "    .dataframe tbody tr th:only-of-type {\n",
       "        vertical-align: middle;\n",
       "    }\n",
       "\n",
       "    .dataframe tbody tr th {\n",
       "        vertical-align: top;\n",
       "    }\n",
       "\n",
       "    .dataframe thead th {\n",
       "        text-align: right;\n",
       "    }\n",
       "</style>\n",
       "<table border=\"1\" class=\"dataframe\">\n",
       "  <thead>\n",
       "    <tr style=\"text-align: right;\">\n",
       "      <th></th>\n",
       "      <th>iot_number</th>\n",
       "      <th>error_case_number</th>\n",
       "    </tr>\n",
       "  </thead>\n",
       "  <tbody>\n",
       "    <tr>\n",
       "      <th>0</th>\n",
       "      <td>1</td>\n",
       "      <td>4.5</td>\n",
       "    </tr>\n",
       "    <tr>\n",
       "      <th>1</th>\n",
       "      <td>2</td>\n",
       "      <td>2.5</td>\n",
       "    </tr>\n",
       "    <tr>\n",
       "      <th>2</th>\n",
       "      <td>3</td>\n",
       "      <td>2.0</td>\n",
       "    </tr>\n",
       "    <tr>\n",
       "      <th>3</th>\n",
       "      <td>4</td>\n",
       "      <td>3.0</td>\n",
       "    </tr>\n",
       "    <tr>\n",
       "      <th>4</th>\n",
       "      <td>5</td>\n",
       "      <td>0.5</td>\n",
       "    </tr>\n",
       "    <tr>\n",
       "      <th>...</th>\n",
       "      <td>...</td>\n",
       "      <td>...</td>\n",
       "    </tr>\n",
       "    <tr>\n",
       "      <th>95</th>\n",
       "      <td>96</td>\n",
       "      <td>2.0</td>\n",
       "    </tr>\n",
       "    <tr>\n",
       "      <th>96</th>\n",
       "      <td>97</td>\n",
       "      <td>3.0</td>\n",
       "    </tr>\n",
       "    <tr>\n",
       "      <th>97</th>\n",
       "      <td>98</td>\n",
       "      <td>5.5</td>\n",
       "    </tr>\n",
       "    <tr>\n",
       "      <th>98</th>\n",
       "      <td>99</td>\n",
       "      <td>2.0</td>\n",
       "    </tr>\n",
       "    <tr>\n",
       "      <th>99</th>\n",
       "      <td>100</td>\n",
       "      <td>1.0</td>\n",
       "    </tr>\n",
       "  </tbody>\n",
       "</table>\n",
       "<p>100 rows × 2 columns</p>\n",
       "</div>"
      ],
      "text/plain": [
       "    iot_number  error_case_number\n",
       "0            1                4.5\n",
       "1            2                2.5\n",
       "2            3                2.0\n",
       "3            4                3.0\n",
       "4            5                0.5\n",
       "..         ...                ...\n",
       "95          96                2.0\n",
       "96          97                3.0\n",
       "97          98                5.5\n",
       "98          99                2.0\n",
       "99         100                1.0\n",
       "\n",
       "[100 rows x 2 columns]"
      ]
     },
     "execution_count": 193,
     "metadata": {},
     "output_type": "execute_result"
    }
   ],
   "source": [
    "df3 = pd.read_csv('./error.csv')\n",
    "df3"
   ]
  },
  {
   "cell_type": "markdown",
   "id": "quarterly-consequence",
   "metadata": {
    "papermill": {
     "duration": 0.017084,
     "end_time": "2022-03-12T12:44:12.997067",
     "exception": false,
     "start_time": "2022-03-12T12:44:12.979983",
     "status": "completed"
    },
    "tags": []
   },
   "source": [
    "## 5-1 불량률 관리도에 따라 관리중심선(CL : Center Line), 관리 상한선(UCL : Upper Control Limit), 하한선(LCL : Lower Control Limit) 구하기"
   ]
  },
  {
   "cell_type": "code",
   "execution_count": 265,
   "id": "74062b8a",
   "metadata": {},
   "outputs": [
    {
     "data": {
      "text/plain": [
       "(3.41, 13.358458080618231, -6.538458080618231)"
      ]
     },
     "execution_count": 265,
     "metadata": {},
     "output_type": "execute_result"
    }
   ],
   "source": [
    "#6시그마 +3시그마, -3시그마 구간을 구한다\n",
    "#표본집단 표준편차\n",
    "\n",
    "sigma = np.std(df3.error_case_number, ddof=1) #비편향 표본표준편차 (n-1)\n",
    "cl = df3.error_case_number.mean()\n",
    "ucl = cl + 3*sigma\n",
    "lcl = cl - 3*sigma\n",
    "cl, ucl, lcl"
   ]
  },
  {
   "cell_type": "markdown",
   "id": "69e4a52b",
   "metadata": {},
   "source": [
    "### 풀이\n",
    "error_case_number의 경우 Lot의 전체 제품 200개 중, 불량품의 갯수이므로, 정상 제품의 갯수는 (200 - error_case_number) 이다.\n",
    "- CL: Lot별 불량 제품 수량의 평균 = 3.41\n",
    "- UCL: Lot별 불량 제품 수량의 평균에서 +3 표준편차 = 13.36.64 (상위 0.13%)\n",
    "- LCL: Lot별 불량 제품 수량의 평균에서 -3 표준편차 = -6.54 (하위 0.13%)\n",
    "    - 단, Lot별 불량 제품은 최소 0개이므로, 실질적으로는 0으로 관리되어야함\n",
    "- UCL~LCL 사이일 경우, 약 99.74% 신뢰구간을 가진다"
   ]
  },
  {
   "cell_type": "markdown",
   "id": "homeless-church",
   "metadata": {
    "papermill": {
     "duration": 0.018656,
     "end_time": "2022-03-12T12:44:13.034525",
     "exception": false,
     "start_time": "2022-03-12T12:44:13.015869",
     "status": "completed"
    },
    "tags": []
   },
   "source": [
    "### 5-2 관리도 시각화"
   ]
  },
  {
   "cell_type": "code",
   "execution_count": 263,
   "id": "6e60d2b1",
   "metadata": {},
   "outputs": [
    {
     "data": {
      "text/plain": [
       "<matplotlib.legend.Legend at 0x7f8ca132c6d0>"
      ]
     },
     "execution_count": 263,
     "metadata": {},
     "output_type": "execute_result"
    },
    {
     "data": {
      "image/png": "[encoded data removed]",
      "text/plain": [
       "<Figure size 432x288 with 1 Axes>"
      ]
     },
     "metadata": {
      "needs_background": "light"
     },
     "output_type": "display_data"
    }
   ],
   "source": [
    "plt.scatter(x=df3.iot_number, y=df3.error_case_number, alpha = 0.5)\n",
    "#plt.rc('font',family=\"AppleGothic\")\n",
    "plt.hlines(cl, xmin=df3.iot_number.min(), xmax=df3.iot_number.max(), colors='blue', label='CL')\n",
    "plt.hlines(0, xmin=df3.iot_number.min(), xmax=df3.iot_number.max(), colors='green', label='LCL')\n",
    "plt.hlines(ucl, xmin=df3.iot_number.min(), xmax=df3.iot_number.max(), colors='red', label='UCL')\n",
    "plt.xlabel(\"iot_number\")\n",
    "plt.ylabel(\"error_cases\")\n",
    "plt.legend()"
   ]
  },
  {
   "cell_type": "markdown",
   "id": "three-elite",
   "metadata": {
    "papermill": {
     "duration": 0.017183,
     "end_time": "2022-03-12T12:44:13.070109",
     "exception": false,
     "start_time": "2022-03-12T12:44:13.052926",
     "status": "completed"
    },
    "tags": []
   },
   "source": [
    "# 문제 6\n",
    "상품 a와 b가 있을 때 다음과 같은 구매 패턴이 있다고 한다. aa bb aaaa bbbb a b aa bb aa bbb aa bb a b 구매하는 패턴으로 보아 두 상품이 연관이 있는지 확인하라"
   ]
  },
  {
   "cell_type": "markdown",
   "id": "6c754469",
   "metadata": {},
   "source": [
    "https://m.blog.naver.com/PostView.naver?isHttpsRedirect=true&blogId=li0224il&logNo=220722414973\n",
    "\n",
    "(1) 가설의 설정\n",
    "\n",
    " H_0 : 연속적인 관측값이 임의적이다.\n",
    "\n",
    " H_1 : 연속적인 관측값이 임의적이 아니다.\n",
    "\n",
    "\n",
    "\n",
    "(2) Run-test의 검정통계량\n",
    "\n",
    "- n_k=변환된 데이터에서 부호만을 고려한 런의 수\n",
    "- n=n_1+n_2\n",
    "- u=Run의 총 회수\n",
    "\n",
    " \n",
    "\n",
    "n_1 값과 n_2 값을 기준으로 표를 통해 상,하한 임계치를 확인\n",
    "\n",
    "상, 하한 임계치의 범위에 속하면 귀무가설을 기각\n",
    "\n",
    "\n",
    "\n",
    "귀무가설하에서 u에 대응하는 확률변수의 평균, 분산, z값\n",
    "![img](https://mblogthumb-phinf.pstatic.net/20160529_77/li0224il_1464523997863sxvLD_PNG/%C4%B8%C3%B3.PNG?type=w2)\n",
    "\n",
    " \n",
    "\n",
    "(3) 기각역 <대표본인 경우>\n",
    "\n",
    "  귀무가설하에서 통계량 u의 평균과 분산은 각각 다음과 같다.\n",
    "\n",
    " ![img](https://mblogthumb-phinf.pstatic.net/20160529_60/li0224il_1464524055823pP36r_PNG/1.PNG?type=w2) \n",
    "\n",
    "한편, n_1  또는 n_2 이 충분히 클때 u는 평균이 E(u)이고 분산이 v(u)인 점근적 정규분포를 따른다.\n",
    "\n",
    "![img](https://mblogthumb-phinf.pstatic.net/20160529_299/li0224il_1464524056166B02xu_PNG/2.PNG?type=w2)\n",
    "\n",
    " \n",
    "\n",
    "(4) 기각역 <소표본인 경우>\n",
    "\n",
    "\n",
    "\n",
    " 기각역 :     또는 u≥c_2    \n",
    "\n",
    " \n",
    "\n",
    " 여기서 n_1 과 n_2 둘다 20이하인 경우 유의수준 5%에서 기각값\n",
    "\n",
    "​    u≤c_1 또는 u≥c_2 을 수표에서 제시하고있다.\n",
    "\n",
    " \n",
    "\n",
    " 여기서  c_1는 하한기각값이고 c_2는 상한기각값을 나타낸다.\n",
    "\n",
    "\n",
    "\n",
    "![img](https://mblogthumb-phinf.pstatic.net/20160529_195/li0224il_1464524120143zN3vG_PNG/1.PNG?type=w2)\n",
    "\n",
    " \n",
    "\n",
    "RUN-TEST 검정 사례\n",
    "\n",
    " \n",
    "\n",
    " \n",
    "\n",
    "﻿﻿﻿1) 어느 연수원에서 2주간의 교육 프로그램을 진행한 후 교육성과를 측정하기 위하여 20개의 TRUE-FALSE 문항으로 이루어진 시험을 실시하였다. 시험의 정답은 다음과 같은 순서로 구성되었다.\n",
    "\n",
    " \n",
    "\n",
    "T F F T F T F T T F T F F T F T F T T F\n",
    "\n",
    " \n",
    "\n",
    "H_0 : T 와 F 는 무작위로 배열되어 있다.\n",
    "\n",
    "H_1 : T 와 F 는 무작위로 배열되어 있지 않다.\n",
    "\n",
    "\n",
    "\n",
    "손으로푸는 방법1)   n_1 = 10 (T의 개수)  n_2 = 10 (F의 개수)  u = 16 (런의 개수)\n",
    "\n",
    "\n",
    "\n",
    "![img](https://mblogthumb-phinf.pstatic.net/20160529_249/li0224il_1464524178167flLtm_PNG/1.PNG?type=w2)\n",
    "\n",
    " \n",
    "\n",
    "u≤6 이거나 u≥16 이면 귀무가설을 기각한다.\n",
    "\n",
    "u=16 이므로 귀무가설을 기각한다.\n",
    "\n",
    "즉, T와 F는 무작위로 배열되어 있지 않다.\n",
    "\n",
    "\n",
    "\n",
    "![img](https://mblogthumb-phinf.pstatic.net/20160529_166/li0224il_1464524227970NamvL_PNG/1.PNG?type=w2)\n",
    "\n",
    " \n",
    "\n",
    "따라서, z=2.30 이므로 귀무가설을 기각한다.\n",
    "\n",
    "즉, T와 F는 무작위로 배열되어 있지 않다."
   ]
  },
  {
   "cell_type": "markdown",
   "id": "great-electricity",
   "metadata": {
    "papermill": {
     "duration": 0.017145,
     "end_time": "2022-03-12T12:44:13.104747",
     "exception": false,
     "start_time": "2022-03-12T12:44:13.087602",
     "status": "completed"
    },
    "tags": []
   },
   "source": [
    "## 6-1 연구가설과 귀무가설 작성"
   ]
  },
  {
   "cell_type": "markdown",
   "id": "282c5607",
   "metadata": {},
   "source": [
    "- 귀무가설(H0): 관측값이(a,b) 임의적이다.\n",
    "- 연구가설(H1): 관측값은 임의적이 아니다."
   ]
  },
  {
   "cell_type": "code",
   "execution_count": 275,
   "id": "356b2914",
   "metadata": {},
   "outputs": [],
   "source": [
    "data6='a a b b a a a a b b b b a b a a b b a a b b b a a b b a b'\n",
    "data6 = data6.split(\" \")\n",
    "data6 = pd.DataFrame(data6)\n",
    "data6 = pd.get_dummies(data6, drop_first=True)"
   ]
  },
  {
   "cell_type": "code",
   "execution_count": 232,
   "id": "53f9fa1a",
   "metadata": {},
   "outputs": [
    {
     "data": {
      "text/plain": [
       "(-0.3721438547031917, 0.7097857460625617)"
      ]
     },
     "execution_count": 232,
     "metadata": {},
     "output_type": "execute_result"
    }
   ],
   "source": [
    "from statsmodels.sandbox.stats.runs import runstest_1samp\n",
    "\n",
    "runstest_1samp(data6)"
   ]
  },
  {
   "cell_type": "code",
   "execution_count": 233,
   "id": "9495d042",
   "metadata": {},
   "outputs": [
    {
     "name": "stdout",
     "output_type": "stream",
     "text": [
      "Help on function runstest_1samp in module statsmodels.sandbox.stats.runs:\n",
      "\n",
      "runstest_1samp(x, cutoff='mean', correction=True)\n",
      "    use runs test on binary discretized data above/below cutoff\n",
      "    \n",
      "    Parameters\n",
      "    ----------\n",
      "    x : array_like\n",
      "        data, numeric\n",
      "    cutoff : {'mean', 'median'} or number\n",
      "        This specifies the cutoff to split the data into large and small\n",
      "        values.\n",
      "    correction : bool\n",
      "        Following the SAS manual, for samplesize below 50, the test\n",
      "        statistic is corrected by 0.5. This can be turned off with\n",
      "        correction=False, and was included to match R, tseries, which\n",
      "        does not use any correction.\n",
      "    \n",
      "    Returns\n",
      "    -------\n",
      "    z_stat : float\n",
      "        test statistic, asymptotically normally distributed\n",
      "    p-value : float\n",
      "        p-value, reject the null hypothesis if it is below an type 1 error\n",
      "        level, alpha .\n",
      "\n"
     ]
    }
   ],
   "source": [
    "help(runstest_1samp)"
   ]
  },
  {
   "cell_type": "markdown",
   "id": "familiar-moses",
   "metadata": {
    "papermill": {
     "duration": 0.017032,
     "end_time": "2022-03-12T12:44:13.139167",
     "exception": false,
     "start_time": "2022-03-12T12:44:13.122135",
     "status": "completed"
    },
    "tags": []
   },
   "source": [
    "## 6-2 평균과 표준편차"
   ]
  },
  {
   "cell_type": "code",
   "execution_count": 276,
   "id": "f34824cb",
   "metadata": {
    "scrolled": true
   },
   "outputs": [
    {
     "data": {
      "text/plain": [
       "0_b    15\n",
       "dtype: int64"
      ]
     },
     "execution_count": 276,
     "metadata": {},
     "output_type": "execute_result"
    }
   ],
   "source": [
    "(data6==1).sum()"
   ]
  },
  {
   "cell_type": "code",
   "execution_count": 277,
   "id": "d02c8379",
   "metadata": {},
   "outputs": [
    {
     "data": {
      "text/plain": [
       "0_b    14\n",
       "dtype: int64"
      ]
     },
     "execution_count": 277,
     "metadata": {},
     "output_type": "execute_result"
    }
   ],
   "source": [
    "(data6==0).sum()"
   ]
  },
  {
   "cell_type": "code",
   "execution_count": 278,
   "id": "f8fcb0d1",
   "metadata": {},
   "outputs": [],
   "source": [
    "n1 = 14\n",
    "n2 = 15\n",
    "run = 14"
   ]
  },
  {
   "cell_type": "code",
   "execution_count": 290,
   "id": "5a8ac9d3",
   "metadata": {},
   "outputs": [
    {
     "name": "stdout",
     "output_type": "stream",
     "text": [
      "15.482758620689655 4438.378378378378 -0.022256573103804574\n",
      "평균:  15.482758620689655\n",
      "표준편차:  66.62115563676736\n"
     ]
    }
   ],
   "source": [
    "u = 2*n1*n2/(n1+n2) + 1\n",
    "var = 2*n1*n2*(2*n1*n2 - n1 - n2) / ((n1+n2)^2 * (n1 + n2 - 1))\n",
    "z = (run-u) / np.sqrt(var)\n",
    "print(u, var, z)\n",
    "print(\"평균: \", u)\n",
    "print(\"표준편차: \", np.sqrt(var))"
   ]
  },
  {
   "cell_type": "markdown",
   "id": "powerful-functionality",
   "metadata": {
    "papermill": {
     "duration": 0.017028,
     "end_time": "2022-03-12T12:44:13.173751",
     "exception": false,
     "start_time": "2022-03-12T12:44:13.156723",
     "status": "completed"
    },
    "tags": []
   },
   "source": [
    "## 6-3 가설 채택"
   ]
  },
  {
   "cell_type": "code",
   "execution_count": 288,
   "id": "61e8eb1c",
   "metadata": {},
   "outputs": [
    {
     "data": {
      "text/plain": [
       "0.4911216449677591"
      ]
     },
     "execution_count": 288,
     "metadata": {},
     "output_type": "execute_result"
    }
   ],
   "source": [
    "from scipy.stats import norm\n",
    "norm.cdf(z)"
   ]
  },
  {
   "cell_type": "markdown",
   "id": "da599560",
   "metadata": {},
   "source": [
    "### 풀이\n",
    "- z통계량은 -0.022, p-value는 0.49로, 유의수준인 0.05에 비해 매우 크므로, 귀무가설을 기각할 수 없다.\n",
    "- 따라서, 관측값은 임의적이 안"
   ]
  },
  {
   "cell_type": "code",
   "execution_count": 289,
   "id": "553cf9b1",
   "metadata": {},
   "outputs": [
    {
     "data": {
      "text/plain": [
       "-0.02506890825871106"
      ]
     },
     "execution_count": 289,
     "metadata": {},
     "output_type": "execute_result"
    }
   ],
   "source": [
    "norm.ppf(0.49)"
   ]
  },
  {
   "cell_type": "code",
   "execution_count": 287,
   "id": "85d276e5",
   "metadata": {},
   "outputs": [
    {
     "name": "stdout",
     "output_type": "stream",
     "text": [
      "Help on function zscore in module scipy.stats.stats:\n",
      "\n",
      "zscore(a, axis=0, ddof=0, nan_policy='propagate')\n",
      "    Compute the z score.\n",
      "    \n",
      "    Compute the z score of each value in the sample, relative to the\n",
      "    sample mean and standard deviation.\n",
      "    \n",
      "    Parameters\n",
      "    ----------\n",
      "    a : array_like\n",
      "        An array like object containing the sample data.\n",
      "    axis : int or None, optional\n",
      "        Axis along which to operate. Default is 0. If None, compute over\n",
      "        the whole array `a`.\n",
      "    ddof : int, optional\n",
      "        Degrees of freedom correction in the calculation of the\n",
      "        standard deviation. Default is 0.\n",
      "    nan_policy : {'propagate', 'raise', 'omit'}, optional\n",
      "        Defines how to handle when input contains nan. 'propagate' returns nan,\n",
      "        'raise' throws an error, 'omit' performs the calculations ignoring nan\n",
      "        values. Default is 'propagate'.  Note that when the value is 'omit',\n",
      "        nans in the input also propagate to the output, but they do not affect\n",
      "        the z-scores computed for the non-nan values.\n",
      "    \n",
      "    Returns\n",
      "    -------\n",
      "    zscore : array_like\n",
      "        The z-scores, standardized by mean and standard deviation of\n",
      "        input array `a`.\n",
      "    \n",
      "    Notes\n",
      "    -----\n",
      "    This function preserves ndarray subclasses, and works also with\n",
      "    matrices and masked arrays (it uses `asanyarray` instead of\n",
      "    `asarray` for parameters).\n",
      "    \n",
      "    Examples\n",
      "    --------\n",
      "    >>> a = np.array([ 0.7972,  0.0767,  0.4383,  0.7866,  0.8091,\n",
      "    ...                0.1954,  0.6307,  0.6599,  0.1065,  0.0508])\n",
      "    >>> from scipy import stats\n",
      "    >>> stats.zscore(a)\n",
      "    array([ 1.1273, -1.247 , -0.0552,  1.0923,  1.1664, -0.8559,  0.5786,\n",
      "            0.6748, -1.1488, -1.3324])\n",
      "    \n",
      "    Computing along a specified axis, using n-1 degrees of freedom\n",
      "    (``ddof=1``) to calculate the standard deviation:\n",
      "    \n",
      "    >>> b = np.array([[ 0.3148,  0.0478,  0.6243,  0.4608],\n",
      "    ...               [ 0.7149,  0.0775,  0.6072,  0.9656],\n",
      "    ...               [ 0.6341,  0.1403,  0.9759,  0.4064],\n",
      "    ...               [ 0.5918,  0.6948,  0.904 ,  0.3721],\n",
      "    ...               [ 0.0921,  0.2481,  0.1188,  0.1366]])\n",
      "    >>> stats.zscore(b, axis=1, ddof=1)\n",
      "    array([[-0.19264823, -1.28415119,  1.07259584,  0.40420358],\n",
      "           [ 0.33048416, -1.37380874,  0.04251374,  1.00081084],\n",
      "           [ 0.26796377, -1.12598418,  1.23283094, -0.37481053],\n",
      "           [-0.22095197,  0.24468594,  1.19042819, -1.21416216],\n",
      "           [-0.82780366,  1.4457416 , -0.43867764, -0.1792603 ]])\n",
      "    \n",
      "    An example with `nan_policy='omit'`:\n",
      "    \n",
      "    >>> x = np.array([[25.11, 30.10, np.nan, 32.02, 43.15],\n",
      "    ...               [14.95, 16.06, 121.25, 94.35, 29.81]])\n",
      "    >>> stats.zscore(x, axis=1, nan_policy='omit')\n",
      "    array([[-1.13490897, -0.37830299,         nan, -0.08718406,  1.60039602],\n",
      "           [-0.91611681, -0.89090508,  1.4983032 ,  0.88731639, -0.5785977 ]])\n",
      "\n"
     ]
    }
   ],
   "source": [
    "from scipy.stats import zscore\n",
    "help(zscore)"
   ]
  },
  {
   "cell_type": "code",
   "execution_count": 286,
   "id": "b6dc8b88",
   "metadata": {},
   "outputs": [
    {
     "name": "stdout",
     "output_type": "stream",
     "text": [
      "Help on method ppf in module scipy.stats._distn_infrastructure:\n",
      "\n",
      "ppf(q, *args, **kwds) method of scipy.stats._continuous_distns.chi2_gen instance\n",
      "    Percent point function (inverse of `cdf`) at q of the given RV.\n",
      "    \n",
      "    Parameters\n",
      "    ----------\n",
      "    q : array_like\n",
      "        lower tail probability\n",
      "    arg1, arg2, arg3,... : array_like\n",
      "        The shape parameter(s) for the distribution (see docstring of the\n",
      "        instance object for more information)\n",
      "    loc : array_like, optional\n",
      "        location parameter (default=0)\n",
      "    scale : array_like, optional\n",
      "        scale parameter (default=1)\n",
      "    \n",
      "    Returns\n",
      "    -------\n",
      "    x : array_like\n",
      "        quantile corresponding to the lower tail probability q.\n",
      "\n"
     ]
    }
   ],
   "source": [
    "help(chi2.ppf)"
   ]
  },
  {
   "cell_type": "code",
   "execution_count": null,
   "id": "9d4c171f",
   "metadata": {},
   "outputs": [],
   "source": []
  }
 ],
 "metadata": {
  "kernelspec": {
   "display_name": "Python 3 (ipykernel)",
   "language": "python",
   "name": "python3"
  },
  "language_info": {
   "codemirror_mode": {
    "name": "ipython",
    "version": 3
   },
   "file_extension": ".py",
   "mimetype": "text/x-python",
   "name": "python",
   "nbconvert_exporter": "python",
   "pygments_lexer": "ipython3",
   "version": "3.7.11"
  },
  "papermill": {
   "default_parameters": {},
   "duration": 12.741958,
   "end_time": "2022-03-12T12:44:13.904101",
   "environment_variables": {},
   "exception": null,
   "input_path": "__notebook__.ipynb",
   "output_path": "__notebook__.ipynb",
   "parameters": {},
   "start_time": "2022-03-12T12:44:01.162143",
   "version": "2.3.3"
  },
  "toc": {
   "base_numbering": 1,
   "nav_menu": {},
   "number_sections": true,
   "sideBar": true,
   "skip_h1_title": false,
   "title_cell": "Table of Contents",
   "title_sidebar": "Contents",
   "toc_cell": true,
   "toc_position": {},
   "toc_section_display": true,
   "toc_window_display": true
  }
 },
 "nbformat": 4,
 "nbformat_minor": 5
}
