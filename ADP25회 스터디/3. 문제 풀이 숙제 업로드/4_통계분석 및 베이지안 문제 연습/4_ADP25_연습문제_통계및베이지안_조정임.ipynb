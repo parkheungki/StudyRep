{
 "cells": [
  {
   "cell_type": "code",
   "execution_count": 1,
   "metadata": {
    "id": "nlWTskrTvgg5"
   },
   "outputs": [],
   "source": [
    "import matplotlib.pyplot as plt\n",
    "import numpy as np\n",
    "from scipy.stats import binom\n",
    "from scipy.stats import norm\n",
    "%matplotlib inline"
   ]
  },
  {
   "cell_type": "markdown",
   "metadata": {
    "id": "SDbvu9Tovgg8"
   },
   "source": [
    "### 통계 문제 연습 "
   ]
  },
  {
   "cell_type": "markdown",
   "metadata": {
    "id": "3YjylIESvgg-"
   },
   "source": [
    "scipy.stats 의 binom, norm 등의 툴을 이용해서 풀어보세요.  "
   ]
  },
  {
   "cell_type": "markdown",
   "metadata": {
    "id": "BAcDnhIHvgg-"
   },
   "source": [
    "#### 1.\t김포국제공항에서 비행기 승객이 짐을 수화물로 보낼 확률은 70%이고 서로 독립이라고 가정하자. 16명의 승객이 김포국제공항에서 대기하고 있다. 다음의 확률을 계산하라.\n",
    "\n",
    "#### (a) 16명 승객 모두 짐을 수화물로 보낼 확률"
   ]
  },
  {
   "cell_type": "code",
   "execution_count": 19,
   "metadata": {
    "id": "oG2gAAdqvgg_"
   },
   "outputs": [
    {
     "data": {
      "text/plain": [
       "0.0033232930569600965"
      ]
     },
     "execution_count": 19,
     "metadata": {},
     "output_type": "execute_result"
    }
   ],
   "source": [
    "p = 0.7\n",
    "n = 16\n",
    "x = 16\n",
    "\n",
    "def combi(a, b):\n",
    "    return np.math.factorial(a)/np.math.factorial(a-b)/np.math.factorial(b)\n",
    "\n",
    "prob = combi(n, x) * (p**x) * ((1-p)**(n-x))\n",
    "prob"
   ]
  },
  {
   "cell_type": "markdown",
   "metadata": {
    "id": "STC3BUaZvgg_"
   },
   "source": [
    "#### (b) 10명 미만의 승객이 짐을 수화물로 보낼 확률"
   ]
  },
  {
   "cell_type": "code",
   "execution_count": 18,
   "metadata": {},
   "outputs": [
    {
     "data": {
      "text/plain": [
       "0.3402176740888923"
      ]
     },
     "execution_count": 18,
     "metadata": {},
     "output_type": "execute_result"
    }
   ],
   "source": [
    "binom.cdf(10, n, p)"
   ]
  },
  {
   "cell_type": "markdown",
   "metadata": {
    "id": "1ZuUkFENvghA"
   },
   "source": [
    "#### (c) 16명의 승객을 무작위로 추출하여 그 중 짐을 수화물로 보내는 승객의 수를 세는 실험을 1000번 하는 상황을 시뮬레이션 하여 그 데이터의 히스토그램을 그리시오. "
   ]
  },
  {
   "cell_type": "markdown",
   "metadata": {
    "id": "t324cxzXvghB"
   },
   "source": [
    "힌트) binorm.rvs를 사용하면 여러 번의 실험 결과를 확인할 수 있습니다. document 등을 확인하여 이용해보세요!!"
   ]
  },
  {
   "cell_type": "code",
   "execution_count": 62,
   "metadata": {
    "id": "JzuNqEX0vghB"
   },
   "outputs": [
    {
     "data": {
      "image/png": "[encoded data removed]",
      "text/plain": [
       "<Figure size 432x288 with 1 Axes>"
      ]
     },
     "metadata": {
      "needs_background": "light"
     },
     "output_type": "display_data"
    }
   ],
   "source": [
    "np.random.seed(0)\n",
    "data = binom.rvs(n, p, size=1000)\n",
    "plt.hist(data)\n",
    "plt.show()"
   ]
  },
  {
   "cell_type": "markdown",
   "metadata": {
    "id": "vq-UjifcvghC"
   },
   "source": [
    "#### (d) 위의 시뮬레이션 데이터의 평균과 분산은 무엇인가? 이는 이론적인 기대값, 분산과 일치하는가?"
   ]
  },
  {
   "cell_type": "code",
   "execution_count": 46,
   "metadata": {
    "id": "EEEFmmsBvghC"
   },
   "outputs": [
    {
     "name": "stdout",
     "output_type": "stream",
     "text": [
      "데이터에서 수화물을 보내는 평균 승객 수: 11.21\n",
      "데이터에서 수화물을 보내는 승객 수의 분산: 3.43\n",
      "이론적인 기대값:  11.2\n",
      "분산:  3.3600000000000003\n"
     ]
    }
   ],
   "source": [
    "print(\"데이터에서 수화물을 보내는 평균 승객 수: {:.2f}\".format(np.mean(data)))\n",
    "print(\"데이터에서 수화물을 보내는 승객 수의 분산: {:.2f}\".format(np.std(data, ddof=1)**2))\n",
    "\n",
    "print(\"이론적 기대값: \", n*p)\n",
    "print(\"이론적 분산: \", n*p*(1-p))\n",
    "\n",
    "## 매우 유사하다."
   ]
  },
  {
   "cell_type": "markdown",
   "metadata": {
    "id": "Ck6ZJfsgvghD"
   },
   "source": [
    "#### 2. 콜로라도에서 잡히는 송어의 길이는 정규분포를 따르고 평균이 12.5인치이고 표준편차는 1.2인치이다. \n",
    "#### (a) 11 인치 이하의 송어는 잡히더라도 방류해 주어야 하는 규정을 만든다면 잡히는 송어의 몇 %가 방류되겠는가? "
   ]
  },
  {
   "cell_type": "code",
   "execution_count": 54,
   "metadata": {
    "id": "yq1ZGuQbvghD"
   },
   "outputs": [
    {
     "name": "stdout",
     "output_type": "stream",
     "text": [
      "11인치 이하의 송어 10.56%는 방류될 것이다\n"
     ]
    }
   ],
   "source": [
    "u = 12.5\n",
    "sigma = 1.2\n",
    "z = (11 - u) / sigma #z = -1.25\n",
    "prob = norm.cdf(z)\n",
    "print(\"11인치 이하의 송어 {:.2%}는 방류될 것이다\".format(prob))"
   ]
  },
  {
   "cell_type": "markdown",
   "metadata": {
    "id": "iGfU0QeDvghD"
   },
   "source": [
    "#### (b) 잡히는 송어의 80%를 집에 가져가고 나머지는 다시 방류하게 하려면, 담당 부서에서 허용하는 최소 송어의 길이는?"
   ]
  },
  {
   "cell_type": "code",
   "execution_count": 57,
   "metadata": {
    "id": "iYjHE2RmvghE"
   },
   "outputs": [
    {
     "name": "stdout",
     "output_type": "stream",
     "text": [
      "송어 길이는 최소 11.49인치여야 한다.\n"
     ]
    }
   ],
   "source": [
    "zstat = norm.ppf(0.2)\n",
    "print(\"송어 길이는 최소 {:.2f}인치여야 한다.\".format(zstat * sigma + u))"
   ]
  },
  {
   "cell_type": "markdown",
   "metadata": {
    "id": "39MpttBKvghE"
   },
   "source": [
    "#### (c) 무작위로 잡은 100마리의 송어 길이를 시뮬레이션 하여 그 데이터의 히스토그램을 그리시오. 그 데이터의 평균과 표준편차를 계산하시오."
   ]
  },
  {
   "cell_type": "markdown",
   "metadata": {
    "id": "ulOIkxLkvghE"
   },
   "source": [
    "힌트) norm.rvs를 사용하면 여러 번의 실험 결과를 확인할 수 있습니다. document 등을 확인하여 이용해보세요!!"
   ]
  },
  {
   "cell_type": "code",
   "execution_count": 64,
   "metadata": {
    "id": "Vv-9gAcPvghE"
   },
   "outputs": [
    {
     "data": {
      "image/png": "[encoded data removed]",
      "text/plain": [
       "<Figure size 432x288 with 1 Axes>"
      ]
     },
     "metadata": {
      "needs_background": "light"
     },
     "output_type": "display_data"
    },
    {
     "name": "stdout",
     "output_type": "stream",
     "text": [
      "평균: 12.57, 표준편차: 1.22\n"
     ]
    }
   ],
   "source": [
    "np.random.seed(0)\n",
    "data2 = norm.rvs(12.5, 1.2, size=100)\n",
    "plt.hist(data2)\n",
    "plt.show()\n",
    "\n",
    "print(\"평균: {:.2f}, 표준편차: {:.2f}\".format(np.mean(data2), np.std(data2, ddof=1)))"
   ]
  },
  {
   "cell_type": "markdown",
   "metadata": {
    "id": "IeUOiXt9vghE"
   },
   "source": [
    "### 베이지안 연습"
   ]
  },
  {
   "cell_type": "markdown",
   "metadata": {
    "id": "KX5R0m9ivghE"
   },
   "source": [
    "##### 1. 벤처기업의 성공 확률은 10%로 조사되었다. 성공한 벤처기업 중 신용평가 기관으로부터 투자심사를 통해 투자를 받은 경우는 85%, 실패한 벤처기업 중 투자가 기각된 경우는 75%로 조사되었다. 신용평가 기관에서 임의의 벤처기업에 투자하였을 때, 해당 벤처기업이 성공할 확률은 무엇인가?  "
   ]
  },
  {
   "cell_type": "code",
   "execution_count": 70,
   "metadata": {
    "id": "Zb8Ldv2NvghF"
   },
   "outputs": [
    {
     "data": {
      "text/plain": [
       "0.077"
      ]
     },
     "execution_count": 70,
     "metadata": {},
     "output_type": "execute_result"
    }
   ],
   "source": [
    "# success = 0.1\n",
    "# fail = 0.9\n",
    "# invested | success = 0.85\n",
    "# not invested | fail = 0.75 --> invested | fail = 1 - 0.75\n",
    "# success | invested = ? = (i|s * s) / (i)\n",
    "# (i) = i|s + i|f\n",
    "S = 0.1\n",
    "F = 0.9\n",
    "IS = 0.85\n",
    "NIF = 0.75\n",
    "IF = 1-NIF\n",
    "\n",
    "np.round((IS * S) / (IS + IF), 3)"
   ]
  },
  {
   "cell_type": "markdown",
   "metadata": {
    "id": "mwUorRrYvghF"
   },
   "source": [
    "##### 2. 소독약의 곰팡이 처리효과는 0.2 또는 0.3으로 알려져 있으나, Label이 지워져서 어느 것인지 구분되지 않으나, 실험실 처리과정에서 5번 실험 중 2번이 효과가 있었다. 소독약 처리효과는 0.2 또는 0.3 중 어느 것인가? "
   ]
  },
  {
   "cell_type": "code",
   "execution_count": 71,
   "metadata": {
    "id": "gXCzIwhyvghF"
   },
   "outputs": [
    {
     "name": "stdout",
     "output_type": "stream",
     "text": [
      "0.25 0.37499999999999994\n"
     ]
    }
   ],
   "source": [
    "# L0.2 = 0.5\n",
    "# L0.3 = 0.5\n",
    "# E | L0.2 = 0.2\n",
    "# E | L0.3 = 0.3\n",
    "# E = 0.4\n",
    "# L0.2 | E = ? E|L2*L2 / E\n",
    "# L0.3 | E = ? E|L3*L3 / E\n",
    "\n",
    "L2 = 0.5\n",
    "L3 = 0.5\n",
    "E = 0.4\n",
    "EL2 = 0.2\n",
    "EL3 = 0.3\n",
    "\n",
    "L2E = EL2 * L2 / E\n",
    "L3E = EL3 * L3 / E\n",
    "print(L2E, L3E)\n",
    "# 0.3"
   ]
  },
  {
   "cell_type": "markdown",
   "metadata": {
    "id": "2WobNqp7vghF"
   },
   "source": [
    "##### 3. 3개 공장에서 제품을 생산하는데, 각 공장 1일 생산량은 제1공장 100단위, 제2공장 50단위, 제3공장 80단위 이다. 제품 불량률은 제1공장 3%, 제2공장 2.5%, 제3공장 2.1%로 조사되었다. 임의의 제품이 불량품으로 판정되었다. 그 불량품이 제1공장에서 생산된 제품일 확률은 얼마인가?"
   ]
  },
  {
   "cell_type": "code",
   "execution_count": 84,
   "metadata": {
    "id": "494sr-O3vghF"
   },
   "outputs": [
    {
     "name": "stdout",
     "output_type": "stream",
     "text": [
      "불량품이 1공장에서 생산된 제품일 확률: 0.506\n"
     ]
    }
   ],
   "source": [
    "fac1n = 100\n",
    "fac2n = 50\n",
    "fac3n = 80\n",
    "n = fac1n+fac2n+fac3n\n",
    "\n",
    "fac1 = fac1n / n\n",
    "fac2 = fac2n / n\n",
    "fac3 = fac3n / n\n",
    "\n",
    "#모비율 0.02\n",
    "loss = (fac1n*loss1 + fac2n*loss2 + fac3n*loss3) / n\n",
    "# or loss1*fac1 + loss2*fac2 + loss3*fac3\n",
    "\n",
    "loss1 = 0.03 # loss | fac1\n",
    "loss2 = 0.025 # loss | fac2\n",
    "loss3 = 0.021 # loss | fac3\n",
    "\n",
    "# P(fac1 | loss)=?  fac1's loss / loss\n",
    "print(\"불량품이 1공장에서 생산된 제품일 확률: %.3f\" %(fac1*loss1 / loss))"
   ]
  },
  {
   "cell_type": "markdown",
   "metadata": {
    "id": "PG1DPsrtvghF"
   },
   "source": [
    "#### 4. 몬티홀 문제  \n",
    "\n",
    "A,B,C 3개의 Room이 있으며, 3개의 Room 중에서 1개에만 상금이 놓여 있다. 게임은 도전자가 임의로 Room 1개를 선택하면 사회자는 남은 2개의 Room 중에서 비어진 하나의 Room을 보여준다. 그리고 도전자에게 선택을 유지할 것인가, 바꿀 것인가를 묻는다. 이 때 도전자에게 유리한 의사결정은 무엇인지 아래의 질문을 통해 답하시오. \n",
    "     \n",
    "   - 가설\n",
    "        - H1: 도전자가 선택한 Room(A라 한다)에 상금 존재\n",
    "        - H2: Open된 Room(B라 한다)에 상금 존재\n",
    "        - H3: 남은 Room(C라 한다)에 상금 존재  \n",
    "          \n",
    "   - 관측 데이터 \n",
    "     \n",
    "        - 사회자가 Room B를 Open   \n",
    "        \n",
    "        \n",
    "   - 가설 1,2,3에 대한 사전분포는 동일하게 1/3로 가정한다. 즉, P(H1)=P(H2)=P(H3)=1/3이다.  \n",
    "    \n",
    "    \n",
    "##### (1) P(D|H1) 즉, 상금이 Room A에 존재할 때 사회자가 Room B를 Open할 확률을 구하시오. "
   ]
  },
  {
   "cell_type": "markdown",
   "metadata": {
    "id": "B0g-dd8qvghG"
   },
   "source": [
    "##### (2) 위의 (1)과 비슷하게 P(D|H2), P(D|H3)을 구하시오."
   ]
  },
  {
   "cell_type": "code",
   "execution_count": null,
   "metadata": {},
   "outputs": [],
   "source": [
    "# P(D|H1) = 0.5, P(D|H2) = 0, P(D|H3) = 1"
   ]
  },
  {
   "cell_type": "markdown",
   "metadata": {
    "id": "idPjPR0VvghG"
   },
   "source": [
    "##### (3) 사회자가 Room B를 Open 했을 때 상금이 A에 존재할 확률, P(H1|D),과 상금이 C에 존재할 확률, P(H3|D),을 계산하시오. 계산 결과를 바탕으로 도전자에게 유리할 의사결정이 무엇인지 답하시오.`"
   ]
  },
  {
   "cell_type": "code",
   "execution_count": 98,
   "metadata": {
    "id": "lxQyKGJXvghH"
   },
   "outputs": [
    {
     "name": "stdout",
     "output_type": "stream",
     "text": [
      "0.3333333333333333 0.6666666666666666\n"
     ]
    }
   ],
   "source": [
    "# P(H1|D) = P(D|H1)/(P(D|H1) + P(D|H2) + P(D|H3))\n",
    "A = 0.5 / (0.5 + 0 + 1)\n",
    "# P(H3|D) = P(D|H3)/(P(D|H1) + P(D|H2) + P(D|H3))\n",
    "C = 1 / (0.5 + 0 + 1 )\n",
    "\n",
    "print(A,C)\n",
    "#선택을 바꾼다!"
   ]
  }
 ],
 "metadata": {
  "colab": {
   "name": "ADP25_연습문제_통계및베이지안.ipynb",
   "provenance": []
  },
  "kernelspec": {
   "display_name": "Python 3",
   "language": "python",
   "name": "python3"
  },
  "language_info": {
   "codemirror_mode": {
    "name": "ipython",
    "version": 3
   },
   "file_extension": ".py",
   "mimetype": "text/x-python",
   "name": "python",
   "nbconvert_exporter": "python",
   "pygments_lexer": "ipython3",
   "version": "3.8.8"
  }
 },
 "nbformat": 4,
 "nbformat_minor": 4
}
