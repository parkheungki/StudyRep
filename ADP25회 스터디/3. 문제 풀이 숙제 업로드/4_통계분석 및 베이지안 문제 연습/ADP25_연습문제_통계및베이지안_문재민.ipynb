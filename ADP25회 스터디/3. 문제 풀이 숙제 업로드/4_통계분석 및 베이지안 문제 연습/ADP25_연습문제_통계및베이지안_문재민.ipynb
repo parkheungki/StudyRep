{
 "cells": [
  {
   "cell_type": "markdown",
   "metadata": {
    "toc": true
   },
   "source": [
    "<h1>Table of Contents<span class=\"tocSkip\"></span></h1>\n",
    "<div class=\"toc\"><ul class=\"toc-item\"><li><span><a href=\"#통계-문제-연습\" data-toc-modified-id=\"통계-문제-연습-1\"><span class=\"toc-item-num\">1&nbsp;&nbsp;</span>통계 문제 연습</a></span><ul class=\"toc-item\"><li><span><a href=\"#1.----김포국제공항에서-비행기-승객이-짐을-수화물로-보낼-확률은-70%이고-서로-독립이라고-가정하자.-16명의-승객이-김포국제공항에서-대기하고-있다.-다음의-확률을-계산하라.\" data-toc-modified-id=\"1.----김포국제공항에서-비행기-승객이-짐을-수화물로-보낼-확률은-70%이고-서로-독립이라고-가정하자.-16명의-승객이-김포국제공항에서-대기하고-있다.-다음의-확률을-계산하라.-1.1\"><span class=\"toc-item-num\">1.1&nbsp;&nbsp;</span>1.    김포국제공항에서 비행기 승객이 짐을 수화물로 보낼 확률은 70%이고 서로 독립이라고 가정하자. 16명의 승객이 김포국제공항에서 대기하고 있다. 다음의 확률을 계산하라.</a></span></li><li><span><a href=\"#(a)-16명-승객-모두-짐을-수화물로-보낼-확률\" data-toc-modified-id=\"(a)-16명-승객-모두-짐을-수화물로-보낼-확률-1.2\"><span class=\"toc-item-num\">1.2&nbsp;&nbsp;</span>(a) 16명 승객 모두 짐을 수화물로 보낼 확률</a></span><ul class=\"toc-item\"><li><span><a href=\"#정답\" data-toc-modified-id=\"정답-1.2.1\"><span class=\"toc-item-num\">1.2.1&nbsp;&nbsp;</span>정답</a></span></li></ul></li><li><span><a href=\"#(b)-10명-미만의-승객이-짐을-수화물로-보낼-확률\" data-toc-modified-id=\"(b)-10명-미만의-승객이-짐을-수화물로-보낼-확률-1.3\"><span class=\"toc-item-num\">1.3&nbsp;&nbsp;</span>(b) 10명 미만의 승객이 짐을 수화물로 보낼 확률</a></span><ul class=\"toc-item\"><li><span><a href=\"#정답\" data-toc-modified-id=\"정답-1.3.1\"><span class=\"toc-item-num\">1.3.1&nbsp;&nbsp;</span>정답</a></span></li></ul></li><li><span><a href=\"#(c)-16명의-승객을-무작위로-추출하여-그-중-짐을-수화물로-보내는-승객의-수를-세는-실험을-1000번-하는-상황을-시뮬레이션-하여-그-데이터의-히스토그램을-그리시오.\" data-toc-modified-id=\"(c)-16명의-승객을-무작위로-추출하여-그-중-짐을-수화물로-보내는-승객의-수를-세는-실험을-1000번-하는-상황을-시뮬레이션-하여-그-데이터의-히스토그램을-그리시오.-1.4\"><span class=\"toc-item-num\">1.4&nbsp;&nbsp;</span>(c) 16명의 승객을 무작위로 추출하여 그 중 짐을 수화물로 보내는 승객의 수를 세는 실험을 1000번 하는 상황을 시뮬레이션 하여 그 데이터의 히스토그램을 그리시오.</a></span></li><li><span><a href=\"#(d)-위의-시뮬레이션-데이터의-평균과-분산은-무엇인가?-이는-이론적인-기대값,-분산과-일치하는가?\" data-toc-modified-id=\"(d)-위의-시뮬레이션-데이터의-평균과-분산은-무엇인가?-이는-이론적인-기대값,-분산과-일치하는가?-1.5\"><span class=\"toc-item-num\">1.5&nbsp;&nbsp;</span>(d) 위의 시뮬레이션 데이터의 평균과 분산은 무엇인가? 이는 이론적인 기대값, 분산과 일치하는가?</a></span><ul class=\"toc-item\"><li><span><a href=\"#매우-유사함\" data-toc-modified-id=\"매우-유사함-1.5.1\"><span class=\"toc-item-num\">1.5.1&nbsp;&nbsp;</span>매우 유사함</a></span></li></ul></li><li><span><a href=\"#2.-콜로라도에서-잡히는-송어의-길이는-정규분포를-따르고-평균이-12.5인치이고-표준편차는-1.2인치이다.\" data-toc-modified-id=\"2.-콜로라도에서-잡히는-송어의-길이는-정규분포를-따르고-평균이-12.5인치이고-표준편차는-1.2인치이다.-1.6\"><span class=\"toc-item-num\">1.6&nbsp;&nbsp;</span>2. 콜로라도에서 잡히는 송어의 길이는 정규분포를 따르고 평균이 12.5인치이고 표준편차는 1.2인치이다.</a></span></li><li><span><a href=\"#(a)-11-인치-이하의-송어는-잡히더라도-방류해-주어야-하는-규정을-만든다면-잡히는-송어의-몇-%가-방류되겠는가?\" data-toc-modified-id=\"(a)-11-인치-이하의-송어는-잡히더라도-방류해-주어야-하는-규정을-만든다면-잡히는-송어의-몇-%가-방류되겠는가?-1.7\"><span class=\"toc-item-num\">1.7&nbsp;&nbsp;</span>(a) 11 인치 이하의 송어는 잡히더라도 방류해 주어야 하는 규정을 만든다면 잡히는 송어의 몇 %가 방류되겠는가?</a></span><ul class=\"toc-item\"><li><span><a href=\"#정답\" data-toc-modified-id=\"정답-1.7.1\"><span class=\"toc-item-num\">1.7.1&nbsp;&nbsp;</span>정답</a></span></li></ul></li><li><span><a href=\"#(b)-잡히는-송어의-80%를-집에-가져가고-나머지는-다시-방류하게-하려면,-담당-부서에서-허용하는-최소-송어의-길이는?\" data-toc-modified-id=\"(b)-잡히는-송어의-80%를-집에-가져가고-나머지는-다시-방류하게-하려면,-담당-부서에서-허용하는-최소-송어의-길이는?-1.8\"><span class=\"toc-item-num\">1.8&nbsp;&nbsp;</span>(b) 잡히는 송어의 80%를 집에 가져가고 나머지는 다시 방류하게 하려면, 담당 부서에서 허용하는 최소 송어의 길이는?</a></span><ul class=\"toc-item\"><li><span><a href=\"#정답\" data-toc-modified-id=\"정답-1.8.1\"><span class=\"toc-item-num\">1.8.1&nbsp;&nbsp;</span>정답</a></span></li></ul></li><li><span><a href=\"#(c)-무작위로-잡은-100마리의-송어-길이를-시뮬레이션-하여-그-데이터의-히스토그램을-그리시오.-그-데이터의-평균과-표준편차를-계산하시오.\" data-toc-modified-id=\"(c)-무작위로-잡은-100마리의-송어-길이를-시뮬레이션-하여-그-데이터의-히스토그램을-그리시오.-그-데이터의-평균과-표준편차를-계산하시오.-1.9\"><span class=\"toc-item-num\">1.9&nbsp;&nbsp;</span>(c) 무작위로 잡은 100마리의 송어 길이를 시뮬레이션 하여 그 데이터의 히스토그램을 그리시오. 그 데이터의 평균과 표준편차를 계산하시오.</a></span></li></ul></li><li><span><a href=\"#베이지안-연습\" data-toc-modified-id=\"베이지안-연습-2\"><span class=\"toc-item-num\">2&nbsp;&nbsp;</span>베이지안 연습</a></span><ul class=\"toc-item\"><li><ul class=\"toc-item\"><li><span><a href=\"#1.-벤처기업의-성공-확률은-10%로-조사되었다.-성공한-벤처기업-중-신용평가-기관으로부터-투자심사를-통해-투자를-받은-경우는-85%,-실패한-벤처기업-중-투자가-기각된-경우는-75%로-조사되었다.-신용평가-기관에서-임의의-벤처기업에-투자하였을-때,-해당-벤처기업이-성공할-확률은-무엇인가?\" data-toc-modified-id=\"1.-벤처기업의-성공-확률은-10%로-조사되었다.-성공한-벤처기업-중-신용평가-기관으로부터-투자심사를-통해-투자를-받은-경우는-85%,-실패한-벤처기업-중-투자가-기각된-경우는-75%로-조사되었다.-신용평가-기관에서-임의의-벤처기업에-투자하였을-때,-해당-벤처기업이-성공할-확률은-무엇인가?-2.0.1\"><span class=\"toc-item-num\">2.0.1&nbsp;&nbsp;</span>1. 벤처기업의 성공 확률은 10%로 조사되었다. 성공한 벤처기업 중 신용평가 기관으로부터 투자심사를 통해 투자를 받은 경우는 85%, 실패한 벤처기업 중 투자가 기각된 경우는 75%로 조사되었다. 신용평가 기관에서 임의의 벤처기업에 투자하였을 때, 해당 벤처기업이 성공할 확률은 무엇인가?</a></span></li><li><span><a href=\"#2.-소독약의-곰팡이-처리효과는-0.2-또는-0.3으로-알려져-있으나,-Label이-지워져서-어느-것인지-구분되지-않으나,-실험실-처리과정에서-5번-실험-중-2번이-효과가-있었다.-소독약-처리효과는-0.2-또는-0.3-중-어느-것인가?\" data-toc-modified-id=\"2.-소독약의-곰팡이-처리효과는-0.2-또는-0.3으로-알려져-있으나,-Label이-지워져서-어느-것인지-구분되지-않으나,-실험실-처리과정에서-5번-실험-중-2번이-효과가-있었다.-소독약-처리효과는-0.2-또는-0.3-중-어느-것인가?-2.0.2\"><span class=\"toc-item-num\">2.0.2&nbsp;&nbsp;</span>2. 소독약의 곰팡이 처리효과는 0.2 또는 0.3으로 알려져 있으나, Label이 지워져서 어느 것인지 구분되지 않으나, 실험실 처리과정에서 5번 실험 중 2번이 효과가 있었다. 소독약 처리효과는 0.2 또는 0.3 중 어느 것인가?</a></span></li><li><span><a href=\"#3.-3개-공장에서-제품을-생산하는데,-각-공장-1일-생산량은-제1공장-100단위,-제2공장-50단위,-제3공장-80단위-이다.-제품-불량률은-제1공장-3%,-제2공장-2.5%,-제3공장-2.1%로-조사되었다.-임의의-제품이-불량품으로-판정되었다.-그-불량품이-제1공장에서-생산된-제품일-확률은-얼마인가?\" data-toc-modified-id=\"3.-3개-공장에서-제품을-생산하는데,-각-공장-1일-생산량은-제1공장-100단위,-제2공장-50단위,-제3공장-80단위-이다.-제품-불량률은-제1공장-3%,-제2공장-2.5%,-제3공장-2.1%로-조사되었다.-임의의-제품이-불량품으로-판정되었다.-그-불량품이-제1공장에서-생산된-제품일-확률은-얼마인가?-2.0.3\"><span class=\"toc-item-num\">2.0.3&nbsp;&nbsp;</span>3. 3개 공장에서 제품을 생산하는데, 각 공장 1일 생산량은 제1공장 100단위, 제2공장 50단위, 제3공장 80단위 이다. 제품 불량률은 제1공장 3%, 제2공장 2.5%, 제3공장 2.1%로 조사되었다. 임의의 제품이 불량품으로 판정되었다. 그 불량품이 제1공장에서 생산된 제품일 확률은 얼마인가?</a></span></li></ul></li><li><span><a href=\"#4.-몬티홀-문제\" data-toc-modified-id=\"4.-몬티홀-문제-2.1\"><span class=\"toc-item-num\">2.1&nbsp;&nbsp;</span>4. 몬티홀 문제</a></span><ul class=\"toc-item\"><li><span><a href=\"#(1)-P(D|H1)-즉,-상금이-Room-A에-존재할-때-사회자가-Room-B를-Open할-확률을-구하시오.\" data-toc-modified-id=\"(1)-P(D|H1)-즉,-상금이-Room-A에-존재할-때-사회자가-Room-B를-Open할-확률을-구하시오.-2.1.1\"><span class=\"toc-item-num\">2.1.1&nbsp;&nbsp;</span>(1) P(D|H1) 즉, 상금이 Room A에 존재할 때 사회자가 Room B를 Open할 확률을 구하시오.</a></span></li><li><span><a href=\"#(2)-위의-(1)과-비슷하게-P(D|H2),-P(D|H3)을-구하시오.\" data-toc-modified-id=\"(2)-위의-(1)과-비슷하게-P(D|H2),-P(D|H3)을-구하시오.-2.1.2\"><span class=\"toc-item-num\">2.1.2&nbsp;&nbsp;</span>(2) 위의 (1)과 비슷하게 P(D|H2), P(D|H3)을 구하시오.</a></span></li><li><span><a href=\"#(3)-사회자가-Room-B를-Open-했을-때-상금이-A에-존재할-확률,-P(H1|D),과-상금이-C에-존재할-확률,-P(H3|D),을-계산하시오.-계산-결과를-바탕으로-도전자에게-유리할-의사결정이-무엇인지-답하시오.`\" data-toc-modified-id=\"(3)-사회자가-Room-B를-Open-했을-때-상금이-A에-존재할-확률,-P(H1|D),과-상금이-C에-존재할-확률,-P(H3|D),을-계산하시오.-계산-결과를-바탕으로-도전자에게-유리할-의사결정이-무엇인지-답하시오.`-2.1.3\"><span class=\"toc-item-num\">2.1.3&nbsp;&nbsp;</span>(3) 사회자가 Room B를 Open 했을 때 상금이 A에 존재할 확률, P(H1|D),과 상금이 C에 존재할 확률, P(H3|D),을 계산하시오. 계산 결과를 바탕으로 도전자에게 유리할 의사결정이 무엇인지 답하시오.`</a></span></li></ul></li></ul></li></ul></div>"
   ]
  },
  {
   "cell_type": "code",
   "execution_count": 1,
   "metadata": {
    "id": "nlWTskrTvgg5"
   },
   "outputs": [],
   "source": [
    "import matplotlib.pyplot as plt\n",
    "import numpy as np\n",
    "from scipy.stats import binom\n",
    "from scipy.stats import norm\n",
    "%matplotlib inline"
   ]
  },
  {
   "cell_type": "markdown",
   "metadata": {
    "id": "SDbvu9Tovgg8"
   },
   "source": [
    "### 통계 문제 연습 "
   ]
  },
  {
   "cell_type": "markdown",
   "metadata": {
    "id": "3YjylIESvgg-"
   },
   "source": [
    "scipy.stats 의 binom, norm 등의 툴을 이용해서 풀어보세요.  "
   ]
  },
  {
   "cell_type": "markdown",
   "metadata": {
    "id": "BAcDnhIHvgg-"
   },
   "source": [
    "#### 1.\t김포국제공항에서 비행기 승객이 짐을 수화물로 보낼 확률은 70%이고 서로 독립이라고 가정하자. 16명의 승객이 김포국제공항에서 대기하고 있다. 다음의 확률을 계산하라.\n",
    "\n",
    "#### (a) 16명 승객 모두 짐을 수화물로 보낼 확률"
   ]
  },
  {
   "cell_type": "code",
   "execution_count": 5,
   "metadata": {
    "id": "oG2gAAdqvgg_"
   },
   "outputs": [
    {
     "data": {
      "text/plain": [
       "0.0033232930569600965"
      ]
     },
     "execution_count": 5,
     "metadata": {},
     "output_type": "execute_result"
    }
   ],
   "source": [
    "# 이항분포 확률\n",
    "# 어떤 사건이 일어날 확률이 p이고, 그렇지 않은 확률이 1-p 일때,\n",
    "# n번 시행 중, 사건이 k번 일어날 확률은 아래와 같다.\n",
    "# nCk * p^k * (1-p)^(n-k)\n",
    "\n",
    "# 16명이 모두 짐을 수화물로 보낼 확률이기 때문에\n",
    "# 16C16 * p^16 * (1-p)^(16-16)\n",
    "\n",
    "p_luggage = 0.7\n",
    "1 * p_luggage**16 * (1-p_luggage)**(0)"
   ]
  },
  {
   "cell_type": "markdown",
   "metadata": {},
   "source": [
    "##### 정답\n",
    "약 0.3%"
   ]
  },
  {
   "cell_type": "markdown",
   "metadata": {
    "id": "STC3BUaZvgg_"
   },
   "source": [
    "#### (b) 10명 미만의 승객이 짐을 수화물로 보낼 확률"
   ]
  },
  {
   "cell_type": "code",
   "execution_count": 19,
   "metadata": {
    "id": "NRCE2MXzvghA"
   },
   "outputs": [
    {
     "data": {
      "text/plain": [
       "0.1753133693068756"
      ]
     },
     "execution_count": 19,
     "metadata": {},
     "output_type": "execute_result"
    }
   ],
   "source": [
    "# 9명이 짐을 수화물로 보내고, 7명이 수화물을 보내지 않을 확률\n",
    "# + 8명이 짐을 수화물로 보내고, 8명이 수화물을 보내지 않을 확률\n",
    "# + ...\n",
    "# + 1명이 짐을 수화물로 보내고, 15명이 수화물을 보내지 않을 확률\n",
    "# + 16명이 수화물을 보내지 않을 확률\n",
    "\n",
    "import math\n",
    "\n",
    "def bin_prob(n,k,p):\n",
    "    nCk = math.factorial(n) / (math.factorial(k) * math.factorial(n-k))\n",
    "    return nCk * p**k * (1-p)**(n-k)\n",
    "\n",
    "n=16 #전체 인원\n",
    "p_luggage = 0.7 #개별 사건의 확률\n",
    "p_under_10 = 0 #전체 확률\n",
    "\n",
    "for k in range(0,10): #k가 0~9사이인 확률을 모두 더함\n",
    "    p_under_10 = p_under_10+bin_prob(n,k,p_luggage)\n",
    "p_under_10"
   ]
  },
  {
   "cell_type": "markdown",
   "metadata": {},
   "source": [
    "##### 정답\n",
    "약 17.5%"
   ]
  },
  {
   "cell_type": "markdown",
   "metadata": {
    "id": "1ZuUkFENvghA"
   },
   "source": [
    "#### (c) 16명의 승객을 무작위로 추출하여 그 중 짐을 수화물로 보내는 승객의 수를 세는 실험을 1000번 하는 상황을 시뮬레이션 하여 그 데이터의 히스토그램을 그리시오. "
   ]
  },
  {
   "cell_type": "markdown",
   "metadata": {
    "id": "t324cxzXvghB"
   },
   "source": [
    "힌트) binorm.rvs를 사용하면 여러 번의 실험 결과를 확인할 수 있습니다. document 등을 확인하여 이용해보세요!!"
   ]
  },
  {
   "cell_type": "code",
   "execution_count": 44,
   "metadata": {},
   "outputs": [
    {
     "data": {
      "text/plain": [
       "array([[<AxesSubplot:title={'center':'0'}>]], dtype=object)"
      ]
     },
     "execution_count": 44,
     "metadata": {},
     "output_type": "execute_result"
    },
    {
     "data": {
      "image/png": "[encoded data removed]",
      "text/plain": [
       "<Figure size 432x288 with 1 Axes>"
      ]
     },
     "metadata": {
      "needs_background": "light"
     },
     "output_type": "display_data"
    }
   ],
   "source": [
    "import random\n",
    "import pandas as pd\n",
    "\n",
    "numbers = []\n",
    "n=16\n",
    "p_luggage = 0.7\n",
    "\n",
    "for i in range(0,1000):\n",
    "    np.random.seed(i)\n",
    "    numbers.append(np.random.binomial(n,p_luggage))\n",
    "numbers = pd.DataFrame(numbers)\n",
    "numbers.hist()"
   ]
  },
  {
   "cell_type": "markdown",
   "metadata": {
    "id": "vq-UjifcvghC"
   },
   "source": [
    "#### (d) 위의 시뮬레이션 데이터의 평균과 분산은 무엇인가? 이는 이론적인 기대값, 분산과 일치하는가?"
   ]
  },
  {
   "cell_type": "code",
   "execution_count": 65,
   "metadata": {
    "id": "EEEFmmsBvghC"
   },
   "outputs": [
    {
     "name": "stdout",
     "output_type": "stream",
     "text": [
      "시뮬레이션 평균:  0    11.271\n",
      "dtype: float64\n",
      "시뮬레이션 분산(표본분산):  0    3.342902\n",
      "dtype: float64\n",
      "이론 평균, np:  11.2\n",
      "이론 분산, np(1-p):  3.3600000000000003\n"
     ]
    }
   ],
   "source": [
    "# 실험결과\n",
    "print(\"시뮬레이션 평균: \", numbers.mean())\n",
    "print(\"시뮬레이션 분산(표본분산): \", numbers.std(ddof=1)**2)\n",
    "\n",
    "# 이론값\n",
    "n=16\n",
    "p=p_luggage\n",
    "print(\"이론 평균, np: \", n*p)\n",
    "print(\"이론 분산, np(1-p): \", n*p*(1-p))"
   ]
  },
  {
   "cell_type": "markdown",
   "metadata": {},
   "source": [
    "##### 매우 유사함"
   ]
  },
  {
   "cell_type": "markdown",
   "metadata": {
    "id": "Ck6ZJfsgvghD"
   },
   "source": [
    "#### 2. 콜로라도에서 잡히는 송어의 길이는 정규분포를 따르고 평균이 12.5인치이고 표준편차는 1.2인치이다. \n",
    "#### (a) 11 인치 이하의 송어는 잡히더라도 방류해 주어야 하는 규정을 만든다면 잡히는 송어의 몇 %가 방류되겠는가? "
   ]
  },
  {
   "cell_type": "code",
   "execution_count": 74,
   "metadata": {
    "id": "yq1ZGuQbvghD"
   },
   "outputs": [
    {
     "data": {
      "text/plain": [
       "(-1.25, 0.10564977366685535)"
      ]
     },
     "execution_count": 74,
     "metadata": {},
     "output_type": "execute_result"
    }
   ],
   "source": [
    "fish_mean = 12.5\n",
    "fish_sigma = 1.2\n",
    "X=11\n",
    "\n",
    "# 모집단이 정규분포를 따른다고 가정했을 때,\n",
    "# N(12.5, 1.2^2)의 정규분포에서, 11인치 이하의 확률을 계산\n",
    "\n",
    "#확률변수 Y=(X-u)/sigma\n",
    "z_value = (X - fish_mean) / fish_sigma\n",
    "z_value, norm.cdf(z_value)"
   ]
  },
  {
   "cell_type": "code",
   "execution_count": 80,
   "metadata": {},
   "outputs": [
    {
     "data": {
      "text/plain": [
       "0.10564977366685535"
      ]
     },
     "execution_count": 80,
     "metadata": {},
     "output_type": "execute_result"
    }
   ],
   "source": [
    "norm.cdf(loc=fish_mean, scale=fish_sigma, x=11)\n",
    "#N(loc,scale^2)분포를 가질때 x값 이하의 누적분포확률"
   ]
  },
  {
   "cell_type": "markdown",
   "metadata": {},
   "source": [
    "##### 정답\n",
    "N(12.5, 1.2^2)의 정규분포를 따를때, X=11의 분포는 z_value_11가 약 -1.25이며,  \n",
    "해당 값, z_value_11(11인치) 이하의 확률은 약 11%의 확률을 가진다."
   ]
  },
  {
   "cell_type": "markdown",
   "metadata": {
    "id": "iGfU0QeDvghD"
   },
   "source": [
    "#### (b) 잡히는 송어의 80%를 집에 가져가고 나머지는 다시 방류하게 하려면, 담당 부서에서 허용하는 최소 송어의 길이는?"
   ]
  },
  {
   "cell_type": "code",
   "execution_count": 77,
   "metadata": {
    "id": "iYjHE2RmvghE"
   },
   "outputs": [
    {
     "data": {
      "text/plain": [
       "(-0.8416212335729143, 11.490054519712503)"
      ]
     },
     "execution_count": 77,
     "metadata": {},
     "output_type": "execute_result"
    }
   ],
   "source": [
    "fish_mean = 12.5\n",
    "fish_sigma = 1.2\n",
    "p_value = 1-0.8 #방률 확률\n",
    "\n",
    "#20%의 확률을 가지는 cut_off value 구하기\n",
    "z_value_20 = norm.ppf(p_value)\n",
    "z_value_20, z_value_20 * fish_sigma + fish_mean"
   ]
  },
  {
   "cell_type": "code",
   "execution_count": 83,
   "metadata": {},
   "outputs": [
    {
     "data": {
      "text/plain": [
       "11.490054519712503"
      ]
     },
     "execution_count": 83,
     "metadata": {},
     "output_type": "execute_result"
    }
   ],
   "source": [
    "norm.ppf(loc=fish_mean, scale=fish_sigma, q=0.2)\n",
    "#N(loc,scale^2)분포를 가질때 누적분포확률이 0.2인 x값"
   ]
  },
  {
   "cell_type": "markdown",
   "metadata": {},
   "source": [
    "##### 정답\n",
    "N(0,1)의 정규분포를 따를때, 좌측 영역이 20% (0.2)를 가지는 cut_off_value(z_value_20)은 약 -0.84이며,  \n",
    "N(12.5, 1.2^2)의 정규분포로 변환했을 때, 해당값은 약 11.49인치이다."
   ]
  },
  {
   "cell_type": "markdown",
   "metadata": {
    "id": "39MpttBKvghE"
   },
   "source": [
    "#### (c) 무작위로 잡은 100마리의 송어 길이를 시뮬레이션 하여 그 데이터의 히스토그램을 그리시오. 그 데이터의 평균과 표준편차를 계산하시오."
   ]
  },
  {
   "cell_type": "markdown",
   "metadata": {
    "id": "ulOIkxLkvghE"
   },
   "source": [
    "힌트) norm.rvs를 사용하면 여러 번의 실험 결과를 확인할 수 있습니다. document 등을 확인하여 이용해보세요!!"
   ]
  },
  {
   "cell_type": "code",
   "execution_count": 100,
   "metadata": {},
   "outputs": [
    {
     "data": {
      "text/plain": [
       "array([[<AxesSubplot:title={'center':'0'}>]], dtype=object)"
      ]
     },
     "execution_count": 100,
     "metadata": {},
     "output_type": "execute_result"
    },
    {
     "data": {
      "image/png": "[encoded data removed]",
      "text/plain": [
       "<Figure size 432x288 with 1 Axes>"
      ]
     },
     "metadata": {
      "needs_background": "light"
     },
     "output_type": "display_data"
    }
   ],
   "source": [
    "fish_100s = norm.rvs(fish_mean, fish_sigma, 100)\n",
    "fish_100s = pd.DataFrame(fish_100s)\n",
    "fish_100s.hist()"
   ]
  },
  {
   "cell_type": "code",
   "execution_count": 101,
   "metadata": {},
   "outputs": [
    {
     "name": "stdout",
     "output_type": "stream",
     "text": [
      "표본평균:  0    12.430734\n",
      "dtype: float64\n",
      "표본 표준편차:  0    1.395195\n",
      "dtype: float64\n"
     ]
    }
   ],
   "source": [
    "print(\"표본평균: \",fish_100s.mean())\n",
    "print(\"표본 표준편차: \",fish_100s.std(ddof=1))"
   ]
  },
  {
   "cell_type": "code",
   "execution_count": 105,
   "metadata": {},
   "outputs": [
    {
     "name": "stdout",
     "output_type": "stream",
     "text": [
      "표본평균:  0    12.415141\n",
      "dtype: float64\n",
      "표본 표준편차:  0    1.05555\n",
      "dtype: float64\n"
     ]
    },
    {
     "data": {
      "image/png": "[encoded data removed]",
      "text/plain": [
       "<Figure size 432x288 with 1 Axes>"
      ]
     },
     "metadata": {
      "needs_background": "light"
     },
     "output_type": "display_data"
    }
   ],
   "source": [
    "fish_100s = []\n",
    "for i in range(0,100):\n",
    "    fish_100s.append(random.normalvariate(mu=fish_mean,sigma=fish_sigma))\n",
    "fish_100s = pd.DataFrame(fish_100s)\n",
    "fish_100s.hist()\n",
    "\n",
    "print(\"표본평균: \",fish_100s.mean())\n",
    "print(\"표본 표준편차: \",fish_100s.std(ddof=1))"
   ]
  },
  {
   "cell_type": "markdown",
   "metadata": {
    "id": "IeUOiXt9vghE"
   },
   "source": [
    "### 베이지안 연습"
   ]
  },
  {
   "cell_type": "markdown",
   "metadata": {
    "id": "KX5R0m9ivghE"
   },
   "source": [
    "##### 1. 벤처기업의 성공 확률은 10%로 조사되었다. 성공한 벤처기업 중 신용평가 기관으로부터 투자심사를 통해 투자를 받은 경우는 85%, 실패한 벤처기업 중 투자가 기각된 경우는 75%로 조사되었다. 신용평가 기관에서 임의의 벤처기업에 투자하였을 때, 해당 벤처기업이 성공할 확률은 무엇인가?  "
   ]
  },
  {
   "cell_type": "code",
   "execution_count": null,
   "metadata": {
    "id": "Zb8Ldv2NvghF"
   },
   "outputs": [],
   "source": []
  },
  {
   "cell_type": "markdown",
   "metadata": {
    "id": "mwUorRrYvghF"
   },
   "source": [
    "##### 2. 소독약의 곰팡이 처리효과는 0.2 또는 0.3으로 알려져 있으나, Label이 지워져서 어느 것인지 구분되지 않으나, 실험실 처리과정에서 5번 실험 중 2번이 효과가 있었다. 소독약 처리효과는 0.2 또는 0.3 중 어느 것인가? "
   ]
  },
  {
   "cell_type": "code",
   "execution_count": null,
   "metadata": {
    "id": "gXCzIwhyvghF"
   },
   "outputs": [],
   "source": []
  },
  {
   "cell_type": "markdown",
   "metadata": {
    "id": "2WobNqp7vghF"
   },
   "source": [
    "##### 3. 3개 공장에서 제품을 생산하는데, 각 공장 1일 생산량은 제1공장 100단위, 제2공장 50단위, 제3공장 80단위 이다. 제품 불량률은 제1공장 3%, 제2공장 2.5%, 제3공장 2.1%로 조사되었다. 임의의 제품이 불량품으로 판정되었다. 그 불량품이 제1공장에서 생산된 제품일 확률은 얼마인가?"
   ]
  },
  {
   "cell_type": "code",
   "execution_count": null,
   "metadata": {
    "id": "494sr-O3vghF"
   },
   "outputs": [],
   "source": []
  },
  {
   "cell_type": "markdown",
   "metadata": {
    "id": "PG1DPsrtvghF"
   },
   "source": [
    "#### 4. 몬티홀 문제  \n",
    "\n",
    "A,B,C 3개의 Room이 있으며, 3개의 Room 중에서 1개에만 상금이 놓여 있다. 게임은 도전자가 임의로 Room 1개를 선택하면 사회자는 남은 2개의 Room 중에서 비어진 하나의 Room을 보여준다. 그리고 도전자에게 선택을 유지할 것인가, 바꿀 것인가를 묻는다. 이 때 도전자에게 유리한 의사결정은 무엇인지 아래의 질문을 통해 답하시오. \n",
    "     \n",
    "   - 가설\n",
    "        - H1: 도전자가 선택한 Room(A라 한다)에 상금 존재\n",
    "        - H2: Open된 Room(B라 한다)에 상금 존재\n",
    "        - H3: 남은 Room(C라 한다)에 상금 존재  \n",
    "          \n",
    "   - 관측 데이터 \n",
    "     \n",
    "        - 사회자가 Room B를 Open   \n",
    "        \n",
    "        \n",
    "   - 가설 1,2,3에 대한 사전분포는 동일하게 1/3로 가정한다. 즉, P(H1)=P(H2)=P(H3)=1/3이다.  \n",
    "    \n",
    "    \n",
    "##### (1) P(D|H1) 즉, 상금이 Room A에 존재할 때 사회자가 Room B를 Open할 확률을 구하시오. "
   ]
  },
  {
   "cell_type": "code",
   "execution_count": null,
   "metadata": {
    "id": "m92D_MWevghG"
   },
   "outputs": [],
   "source": []
  },
  {
   "cell_type": "markdown",
   "metadata": {
    "id": "B0g-dd8qvghG"
   },
   "source": [
    "##### (2) 위의 (1)과 비슷하게 P(D|H2), P(D|H3)을 구하시오."
   ]
  },
  {
   "cell_type": "code",
   "execution_count": null,
   "metadata": {
    "id": "nVHqpF4E9_r8"
   },
   "outputs": [],
   "source": []
  },
  {
   "cell_type": "code",
   "execution_count": null,
   "metadata": {
    "id": "qAxxuQc-vghG"
   },
   "outputs": [],
   "source": []
  },
  {
   "cell_type": "markdown",
   "metadata": {
    "id": "idPjPR0VvghG"
   },
   "source": [
    "##### (3) 사회자가 Room B를 Open 했을 때 상금이 A에 존재할 확률, P(H1|D),과 상금이 C에 존재할 확률, P(H3|D),을 계산하시오. 계산 결과를 바탕으로 도전자에게 유리할 의사결정이 무엇인지 답하시오.`"
   ]
  },
  {
   "cell_type": "code",
   "execution_count": null,
   "metadata": {
    "id": "lxQyKGJXvghH"
   },
   "outputs": [],
   "source": []
  }
 ],
 "metadata": {
  "colab": {
   "name": "ADP25_연습문제_통계및베이지안.ipynb",
   "provenance": []
  },
  "kernelspec": {
   "display_name": "Python 3 (ipykernel)",
   "language": "python",
   "name": "python3"
  },
  "language_info": {
   "codemirror_mode": {
    "name": "ipython",
    "version": 3
   },
   "file_extension": ".py",
   "mimetype": "text/x-python",
   "name": "python",
   "nbconvert_exporter": "python",
   "pygments_lexer": "ipython3",
   "version": "3.7.11"
  },
  "toc": {
   "base_numbering": 1,
   "nav_menu": {},
   "number_sections": true,
   "sideBar": true,
   "skip_h1_title": false,
   "title_cell": "Table of Contents",
   "title_sidebar": "Contents",
   "toc_cell": true,
   "toc_position": {},
   "toc_section_display": true,
   "toc_window_display": true
  }
 },
 "nbformat": 4,
 "nbformat_minor": 1
}
