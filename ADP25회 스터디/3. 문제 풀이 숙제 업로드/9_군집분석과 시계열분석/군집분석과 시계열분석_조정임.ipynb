{
 "cells": [
  {
   "cell_type": "markdown",
   "id": "deluxe-composite",
   "metadata": {},
   "source": [
    "# 문제1 : 온라인 소비자 분석(군집분석)"
   ]
  },
  {
   "cell_type": "code",
   "execution_count": 10,
   "id": "worse-position",
   "metadata": {},
   "outputs": [
    {
     "data": {
      "text/html": [
       "<div>\n",
       "<style scoped>\n",
       "    .dataframe tbody tr th:only-of-type {\n",
       "        vertical-align: middle;\n",
       "    }\n",
       "\n",
       "    .dataframe tbody tr th {\n",
       "        vertical-align: top;\n",
       "    }\n",
       "\n",
       "    .dataframe thead th {\n",
       "        text-align: right;\n",
       "    }\n",
       "</style>\n",
       "<table border=\"1\" class=\"dataframe\">\n",
       "  <thead>\n",
       "    <tr style=\"text-align: right;\">\n",
       "      <th></th>\n",
       "      <th>CustomerID</th>\n",
       "      <th>Recency</th>\n",
       "      <th>Frequency</th>\n",
       "      <th>Amount</th>\n",
       "    </tr>\n",
       "  </thead>\n",
       "  <tbody>\n",
       "    <tr>\n",
       "      <th>0</th>\n",
       "      <td>12346</td>\n",
       "      <td>325</td>\n",
       "      <td>2</td>\n",
       "      <td>0.00</td>\n",
       "    </tr>\n",
       "    <tr>\n",
       "      <th>1</th>\n",
       "      <td>12747</td>\n",
       "      <td>22</td>\n",
       "      <td>103</td>\n",
       "      <td>4196.01</td>\n",
       "    </tr>\n",
       "    <tr>\n",
       "      <th>2</th>\n",
       "      <td>12748</td>\n",
       "      <td>4</td>\n",
       "      <td>4642</td>\n",
       "      <td>32034.17</td>\n",
       "    </tr>\n",
       "    <tr>\n",
       "      <th>3</th>\n",
       "      <td>12749</td>\n",
       "      <td>22</td>\n",
       "      <td>231</td>\n",
       "      <td>3868.20</td>\n",
       "    </tr>\n",
       "    <tr>\n",
       "      <th>4</th>\n",
       "      <td>12820</td>\n",
       "      <td>44</td>\n",
       "      <td>59</td>\n",
       "      <td>942.34</td>\n",
       "    </tr>\n",
       "    <tr>\n",
       "      <th>...</th>\n",
       "      <td>...</td>\n",
       "      <td>...</td>\n",
       "      <td>...</td>\n",
       "      <td>...</td>\n",
       "    </tr>\n",
       "    <tr>\n",
       "      <th>3945</th>\n",
       "      <td>18280</td>\n",
       "      <td>159</td>\n",
       "      <td>10</td>\n",
       "      <td>180.60</td>\n",
       "    </tr>\n",
       "    <tr>\n",
       "      <th>3946</th>\n",
       "      <td>18281</td>\n",
       "      <td>3</td>\n",
       "      <td>7</td>\n",
       "      <td>80.82</td>\n",
       "    </tr>\n",
       "    <tr>\n",
       "      <th>3947</th>\n",
       "      <td>18282</td>\n",
       "      <td>92</td>\n",
       "      <td>13</td>\n",
       "      <td>176.60</td>\n",
       "    </tr>\n",
       "    <tr>\n",
       "      <th>3948</th>\n",
       "      <td>18283</td>\n",
       "      <td>9</td>\n",
       "      <td>756</td>\n",
       "      <td>2329.67</td>\n",
       "    </tr>\n",
       "    <tr>\n",
       "      <th>3949</th>\n",
       "      <td>18287</td>\n",
       "      <td>-1</td>\n",
       "      <td>70</td>\n",
       "      <td>2032.88</td>\n",
       "    </tr>\n",
       "  </tbody>\n",
       "</table>\n",
       "<p>3950 rows × 4 columns</p>\n",
       "</div>"
      ],
      "text/plain": [
       "      CustomerID  Recency  Frequency    Amount\n",
       "0          12346      325          2      0.00\n",
       "1          12747       22        103   4196.01\n",
       "2          12748        4       4642  32034.17\n",
       "3          12749       22        231   3868.20\n",
       "4          12820       44         59    942.34\n",
       "...          ...      ...        ...       ...\n",
       "3945       18280      159         10    180.60\n",
       "3946       18281        3          7     80.82\n",
       "3947       18282       92         13    176.60\n",
       "3948       18283        9        756   2329.67\n",
       "3949       18287       -1         70   2032.88\n",
       "\n",
       "[3950 rows x 4 columns]"
      ]
     },
     "execution_count": 10,
     "metadata": {},
     "output_type": "execute_result"
    }
   ],
   "source": [
    "from pandas import read_csv\n",
    "retail = read_csv('OnlineRetail_after.csv').drop('Unnamed: 0', axis=1)\n",
    "retail"
   ]
  },
  {
   "cell_type": "markdown",
   "id": "second-orange",
   "metadata": {},
   "source": [
    "1. EDA를 통해 소비자 특성 등 인사이트를 도출하시오."
   ]
  },
  {
   "cell_type": "code",
   "execution_count": 11,
   "id": "impossible-preview",
   "metadata": {},
   "outputs": [
    {
     "data": {
      "text/html": [
       "<div>\n",
       "<style scoped>\n",
       "    .dataframe tbody tr th:only-of-type {\n",
       "        vertical-align: middle;\n",
       "    }\n",
       "\n",
       "    .dataframe tbody tr th {\n",
       "        vertical-align: top;\n",
       "    }\n",
       "\n",
       "    .dataframe thead th {\n",
       "        text-align: right;\n",
       "    }\n",
       "</style>\n",
       "<table border=\"1\" class=\"dataframe\">\n",
       "  <thead>\n",
       "    <tr style=\"text-align: right;\">\n",
       "      <th></th>\n",
       "      <th>CustomerID</th>\n",
       "      <th>Recency</th>\n",
       "      <th>Frequency</th>\n",
       "      <th>Amount</th>\n",
       "    </tr>\n",
       "  </thead>\n",
       "  <tbody>\n",
       "    <tr>\n",
       "      <th>count</th>\n",
       "      <td>3950.000000</td>\n",
       "      <td>3950.000000</td>\n",
       "      <td>3950.000000</td>\n",
       "      <td>3950.000000</td>\n",
       "    </tr>\n",
       "    <tr>\n",
       "      <th>mean</th>\n",
       "      <td>15562.029367</td>\n",
       "      <td>100.417975</td>\n",
       "      <td>91.614684</td>\n",
       "      <td>1742.702009</td>\n",
       "    </tr>\n",
       "    <tr>\n",
       "      <th>std</th>\n",
       "      <td>1576.848325</td>\n",
       "      <td>114.009397</td>\n",
       "      <td>220.557389</td>\n",
       "      <td>6556.472672</td>\n",
       "    </tr>\n",
       "    <tr>\n",
       "      <th>min</th>\n",
       "      <td>12346.000000</td>\n",
       "      <td>-1.000000</td>\n",
       "      <td>1.000000</td>\n",
       "      <td>-4287.630000</td>\n",
       "    </tr>\n",
       "    <tr>\n",
       "      <th>25%</th>\n",
       "      <td>14208.250000</td>\n",
       "      <td>19.000000</td>\n",
       "      <td>17.000000</td>\n",
       "      <td>290.505000</td>\n",
       "    </tr>\n",
       "    <tr>\n",
       "      <th>50%</th>\n",
       "      <td>15571.500000</td>\n",
       "      <td>57.000000</td>\n",
       "      <td>41.000000</td>\n",
       "      <td>642.395000</td>\n",
       "    </tr>\n",
       "    <tr>\n",
       "      <th>75%</th>\n",
       "      <td>16913.750000</td>\n",
       "      <td>152.000000</td>\n",
       "      <td>101.000000</td>\n",
       "      <td>1562.067500</td>\n",
       "    </tr>\n",
       "    <tr>\n",
       "      <th>max</th>\n",
       "      <td>18287.000000</td>\n",
       "      <td>696.000000</td>\n",
       "      <td>7983.000000</td>\n",
       "      <td>256438.490000</td>\n",
       "    </tr>\n",
       "  </tbody>\n",
       "</table>\n",
       "</div>"
      ],
      "text/plain": [
       "         CustomerID      Recency    Frequency         Amount\n",
       "count   3950.000000  3950.000000  3950.000000    3950.000000\n",
       "mean   15562.029367   100.417975    91.614684    1742.702009\n",
       "std     1576.848325   114.009397   220.557389    6556.472672\n",
       "min    12346.000000    -1.000000     1.000000   -4287.630000\n",
       "25%    14208.250000    19.000000    17.000000     290.505000\n",
       "50%    15571.500000    57.000000    41.000000     642.395000\n",
       "75%    16913.750000   152.000000   101.000000    1562.067500\n",
       "max    18287.000000   696.000000  7983.000000  256438.490000"
      ]
     },
     "execution_count": 11,
     "metadata": {},
     "output_type": "execute_result"
    }
   ],
   "source": [
    "# 결측치는 보이지 않음\n",
    "# 마지막 구매 후 흐른 날짜가 -1이 있어서 살펴봐야 할 것으로 보임 (환불?)\n",
    "retail.describe()"
   ]
  },
  {
   "cell_type": "code",
   "execution_count": 16,
   "id": "cooperative-river",
   "metadata": {},
   "outputs": [
    {
     "data": {
      "image/png": "[encoded data removed]",
      "text/plain": [
       "<Figure size 432x288 with 4 Axes>"
      ]
     },
     "metadata": {
      "needs_background": "light"
     },
     "output_type": "display_data"
    }
   ],
   "source": [
    "from matplotlib import pyplot as plt\n",
    "retail.hist()\n",
    "plt.show()\n",
    "#Recency, Frequency, Amount 모두 최소-최대 차이가 엄청 큼 (비정규분포)"
   ]
  },
  {
   "cell_type": "code",
   "execution_count": 26,
   "id": "pharmaceutical-genesis",
   "metadata": {},
   "outputs": [
    {
     "data": {
      "image/png": "[encoded data removed]",
      "text/plain": [
       "<Figure size 432x288 with 2 Axes>"
      ]
     },
     "metadata": {
      "needs_background": "light"
     },
     "output_type": "display_data"
    },
    {
     "name": "stdout",
     "output_type": "stream",
     "text": [
      "상관계수 0.38, pvalue 0.00\n"
     ]
    }
   ],
   "source": [
    "import seaborn as sns\n",
    "sns.heatmap(retail.corr(), annot=True)\n",
    "plt.show()\n",
    "\n",
    "from scipy.stats import pearsonr\n",
    "r, p = pearsonr(retail['Frequency'], retail['Amount'])\n",
    "print(\"상관계수 {:.2f}, pvalue {:.2f}\".format(r, p))\n",
    "# Frequancy-Amount 통계적으로 유의한 상관관계 확인함 (상식적으로 생각해도 그럴듯)\n",
    "# 그 외에는 상관관계가 없는 것으로 보임"
   ]
  },
  {
   "cell_type": "markdown",
   "id": "compliant-credits",
   "metadata": {},
   "source": [
    "2. 계층적 군집분석을 통해 고객 집단을 그룹핑하고 집단의 특성을 설명하시오.\n",
    "- random_state=123(=set.seed(123)\n",
    "- 비지도학습 : 'Amount', 'Frequency', ‘Recency'를 변수로 사용"
   ]
  },
  {
   "cell_type": "code",
   "execution_count": 42,
   "id": "occasional-faculty",
   "metadata": {},
   "outputs": [
    {
     "data": {
      "image/png": "[encoded data removed]",
      "text/plain": [
       "<Figure size 432x288 with 1 Axes>"
      ]
     },
     "metadata": {
      "needs_background": "light"
     },
     "output_type": "display_data"
    }
   ],
   "source": [
    "### 계층 클러스터링 (원본데이터)\n",
    "#retail=retail.drop('CustomerID', axis=1)\n",
    "#from sklearn.preprocessing import StandardScaler\n",
    "#retail2 = StandardScaler().fit_transform(retail)\n",
    "\n",
    "from scipy.cluster.hierarchy import linkage, dendrogram, cut_tree\n",
    "Z = linkage(retail, method='ward')\n",
    "dendrogram(Z)\n",
    "plt.show()"
   ]
  },
  {
   "cell_type": "code",
   "execution_count": 46,
   "id": "preliminary-boxing",
   "metadata": {},
   "outputs": [
    {
     "data": {
      "text/html": [
       "<div>\n",
       "<style scoped>\n",
       "    .dataframe tbody tr th:only-of-type {\n",
       "        vertical-align: middle;\n",
       "    }\n",
       "\n",
       "    .dataframe tbody tr th {\n",
       "        vertical-align: top;\n",
       "    }\n",
       "\n",
       "    .dataframe thead th {\n",
       "        text-align: right;\n",
       "    }\n",
       "</style>\n",
       "<table border=\"1\" class=\"dataframe\">\n",
       "  <thead>\n",
       "    <tr style=\"text-align: right;\">\n",
       "      <th></th>\n",
       "      <th>label</th>\n",
       "      <th>cluster_n</th>\n",
       "      <th>SC</th>\n",
       "    </tr>\n",
       "  </thead>\n",
       "  <tbody>\n",
       "    <tr>\n",
       "      <th>0</th>\n",
       "      <td>hier(raw)</td>\n",
       "      <td>3</td>\n",
       "      <td>0.954579</td>\n",
       "    </tr>\n",
       "    <tr>\n",
       "      <th>1</th>\n",
       "      <td>hier(raw)</td>\n",
       "      <td>4</td>\n",
       "      <td>0.842549</td>\n",
       "    </tr>\n",
       "    <tr>\n",
       "      <th>2</th>\n",
       "      <td>hier(raw)</td>\n",
       "      <td>5</td>\n",
       "      <td>0.843404</td>\n",
       "    </tr>\n",
       "    <tr>\n",
       "      <th>3</th>\n",
       "      <td>hier(raw)</td>\n",
       "      <td>6</td>\n",
       "      <td>0.705871</td>\n",
       "    </tr>\n",
       "  </tbody>\n",
       "</table>\n",
       "</div>"
      ],
      "text/plain": [
       "       label cluster_n        SC\n",
       "0  hier(raw)         3  0.954579\n",
       "1  hier(raw)         4  0.842549\n",
       "2  hier(raw)         5  0.843404\n",
       "3  hier(raw)         6  0.705871"
      ]
     },
     "execution_count": 46,
     "metadata": {},
     "output_type": "execute_result"
    }
   ],
   "source": [
    "result5 = DataFrame(columns=['label', 'cluster_n', 'SC'])\n",
    "for i in range(4): #군집분석 4회 실시\n",
    "    result5.loc[i, 'cluster_n'] = i+3\n",
    "    result5.loc[i, 'label'] = 'hier(raw)'\n",
    "    labels = cut_tree(Z, i+3).flatten()\n",
    "    result5.loc[i, 'SC'] = silhouette_score(retail, labels)\n",
    "result5"
   ]
  },
  {
   "cell_type": "code",
   "execution_count": 47,
   "id": "administrative-dallas",
   "metadata": {},
   "outputs": [
    {
     "data": {
      "image/png": "[encoded data removed]",
      "text/plain": [
       "<Figure size 432x288 with 1 Axes>"
      ]
     },
     "metadata": {
      "needs_background": "light"
     },
     "output_type": "display_data"
    }
   ],
   "source": [
    "### 계층 클러스터링 (표준화데이터)\n",
    "Z2 = linkage(retail2, method='ward')\n",
    "dendrogram(Z2)\n",
    "plt.show()"
   ]
  },
  {
   "cell_type": "code",
   "execution_count": 49,
   "id": "instrumental-columbia",
   "metadata": {},
   "outputs": [
    {
     "data": {
      "text/html": [
       "<div>\n",
       "<style scoped>\n",
       "    .dataframe tbody tr th:only-of-type {\n",
       "        vertical-align: middle;\n",
       "    }\n",
       "\n",
       "    .dataframe tbody tr th {\n",
       "        vertical-align: top;\n",
       "    }\n",
       "\n",
       "    .dataframe thead th {\n",
       "        text-align: right;\n",
       "    }\n",
       "</style>\n",
       "<table border=\"1\" class=\"dataframe\">\n",
       "  <thead>\n",
       "    <tr style=\"text-align: right;\">\n",
       "      <th></th>\n",
       "      <th>label</th>\n",
       "      <th>cluster_n</th>\n",
       "      <th>SC</th>\n",
       "    </tr>\n",
       "  </thead>\n",
       "  <tbody>\n",
       "    <tr>\n",
       "      <th>0</th>\n",
       "      <td>hier(raw)</td>\n",
       "      <td>3</td>\n",
       "      <td>-0.070759</td>\n",
       "    </tr>\n",
       "    <tr>\n",
       "      <th>1</th>\n",
       "      <td>hier(raw)</td>\n",
       "      <td>4</td>\n",
       "      <td>-0.073248</td>\n",
       "    </tr>\n",
       "    <tr>\n",
       "      <th>2</th>\n",
       "      <td>hier(raw)</td>\n",
       "      <td>5</td>\n",
       "      <td>0.003512</td>\n",
       "    </tr>\n",
       "    <tr>\n",
       "      <th>3</th>\n",
       "      <td>hier(raw)</td>\n",
       "      <td>6</td>\n",
       "      <td>-0.133073</td>\n",
       "    </tr>\n",
       "  </tbody>\n",
       "</table>\n",
       "</div>"
      ],
      "text/plain": [
       "       label cluster_n        SC\n",
       "0  hier(raw)         3 -0.070759\n",
       "1  hier(raw)         4 -0.073248\n",
       "2  hier(raw)         5  0.003512\n",
       "3  hier(raw)         6 -0.133073"
      ]
     },
     "execution_count": 49,
     "metadata": {},
     "output_type": "execute_result"
    }
   ],
   "source": [
    "result6 = DataFrame(columns=['label', 'cluster_n', 'SC'])\n",
    "for i in range(4): #군집분석 4회 실시\n",
    "    result6.loc[i, 'cluster_n'] = i+3\n",
    "    result6.loc[i, 'label'] = 'hier(raw)'\n",
    "    labels = cut_tree(Z2, i+3).flatten()\n",
    "    result6.loc[i, 'SC'] = silhouette_score(retail, labels)\n",
    "result6"
   ]
  },
  {
   "cell_type": "code",
   "execution_count": 55,
   "id": "critical-medium",
   "metadata": {},
   "outputs": [
    {
     "data": {
      "text/html": [
       "<div>\n",
       "<style scoped>\n",
       "    .dataframe tbody tr th:only-of-type {\n",
       "        vertical-align: middle;\n",
       "    }\n",
       "\n",
       "    .dataframe tbody tr th {\n",
       "        vertical-align: top;\n",
       "    }\n",
       "\n",
       "    .dataframe thead th {\n",
       "        text-align: right;\n",
       "    }\n",
       "</style>\n",
       "<table border=\"1\" class=\"dataframe\">\n",
       "  <thead>\n",
       "    <tr style=\"text-align: right;\">\n",
       "      <th></th>\n",
       "      <th>Recency</th>\n",
       "      <th>Frequency</th>\n",
       "      <th>Amount</th>\n",
       "      <th>hier_cluster</th>\n",
       "    </tr>\n",
       "  </thead>\n",
       "  <tbody>\n",
       "    <tr>\n",
       "      <th>0</th>\n",
       "      <td>325</td>\n",
       "      <td>2</td>\n",
       "      <td>0.00</td>\n",
       "      <td>0</td>\n",
       "    </tr>\n",
       "    <tr>\n",
       "      <th>1</th>\n",
       "      <td>22</td>\n",
       "      <td>103</td>\n",
       "      <td>4196.01</td>\n",
       "      <td>1</td>\n",
       "    </tr>\n",
       "    <tr>\n",
       "      <th>2</th>\n",
       "      <td>4</td>\n",
       "      <td>4642</td>\n",
       "      <td>32034.17</td>\n",
       "      <td>2</td>\n",
       "    </tr>\n",
       "    <tr>\n",
       "      <th>3</th>\n",
       "      <td>22</td>\n",
       "      <td>231</td>\n",
       "      <td>3868.20</td>\n",
       "      <td>1</td>\n",
       "    </tr>\n",
       "    <tr>\n",
       "      <th>4</th>\n",
       "      <td>44</td>\n",
       "      <td>59</td>\n",
       "      <td>942.34</td>\n",
       "      <td>1</td>\n",
       "    </tr>\n",
       "    <tr>\n",
       "      <th>...</th>\n",
       "      <td>...</td>\n",
       "      <td>...</td>\n",
       "      <td>...</td>\n",
       "      <td>...</td>\n",
       "    </tr>\n",
       "    <tr>\n",
       "      <th>3945</th>\n",
       "      <td>159</td>\n",
       "      <td>10</td>\n",
       "      <td>180.60</td>\n",
       "      <td>0</td>\n",
       "    </tr>\n",
       "    <tr>\n",
       "      <th>3946</th>\n",
       "      <td>3</td>\n",
       "      <td>7</td>\n",
       "      <td>80.82</td>\n",
       "      <td>1</td>\n",
       "    </tr>\n",
       "    <tr>\n",
       "      <th>3947</th>\n",
       "      <td>92</td>\n",
       "      <td>13</td>\n",
       "      <td>176.60</td>\n",
       "      <td>1</td>\n",
       "    </tr>\n",
       "    <tr>\n",
       "      <th>3948</th>\n",
       "      <td>9</td>\n",
       "      <td>756</td>\n",
       "      <td>2329.67</td>\n",
       "      <td>1</td>\n",
       "    </tr>\n",
       "    <tr>\n",
       "      <th>3949</th>\n",
       "      <td>-1</td>\n",
       "      <td>70</td>\n",
       "      <td>2032.88</td>\n",
       "      <td>1</td>\n",
       "    </tr>\n",
       "  </tbody>\n",
       "</table>\n",
       "<p>3950 rows × 4 columns</p>\n",
       "</div>"
      ],
      "text/plain": [
       "      Recency  Frequency    Amount  hier_cluster\n",
       "0         325          2      0.00             0\n",
       "1          22        103   4196.01             1\n",
       "2           4       4642  32034.17             2\n",
       "3          22        231   3868.20             1\n",
       "4          44         59    942.34             1\n",
       "...       ...        ...       ...           ...\n",
       "3945      159         10    180.60             0\n",
       "3946        3          7     80.82             1\n",
       "3947       92         13    176.60             1\n",
       "3948        9        756   2329.67             1\n",
       "3949       -1         70   2032.88             1\n",
       "\n",
       "[3950 rows x 4 columns]"
      ]
     },
     "execution_count": 55,
     "metadata": {},
     "output_type": "execute_result"
    }
   ],
   "source": [
    "# 표준화된 데이터 기반으로 계층적 군집을 3개로 나누기로 결정함\n",
    "z = linkage(retail2, method='ward')\n",
    "labels = cut_tree(z, 3).flatten()\n",
    "labeled_data = retail.copy()\n",
    "labeled_data['hier_cluster'] = labels\n",
    "labeled_data"
   ]
  },
  {
   "cell_type": "code",
   "execution_count": 57,
   "id": "large-cleaners",
   "metadata": {},
   "outputs": [
    {
     "data": {
      "image/png": "[encoded data removed]",
      "text/plain": [
       "<Figure size 606.625x540 with 12 Axes>"
      ]
     },
     "metadata": {
      "needs_background": "light"
     },
     "output_type": "display_data"
    }
   ],
   "source": [
    "# cluster0은 Amount와 Frequency가 낮고, Recency가 높은 그룹이다. 즉 현재 구매가 잘 일어나지 않는 휴면 고객으로 볼 수 있다.\n",
    "# cluster3은 Amount와 Frequency가 높고, Recency는 낮은 그룹이다. 활발한 구매자이다. Amount가 많이 높지않아도 Frequency가 높거나, Frequency가 좀 낮아도 Amount는 높은 편이다.\n",
    "# cluster2는 Recency는 낮아서 지속적으로 구매하고 있지만, Amount와 Frequency가 낮은 편이다.\n",
    "sns.pairplot(labeled_data, hue='hier_cluster')\n",
    "plt.show()"
   ]
  },
  {
   "cell_type": "markdown",
   "id": "metric-sleeve",
   "metadata": {},
   "source": [
    "3. 비계층적 분석을 통해 고객 집단을 그룹핑하고 집단의 특성을 설명하시오.\n",
    "- random_state=123(=set.seed(123))\n",
    "- 비지도학습 : 'Amount', 'Frequency', ‘Recency'를 변수로 사용"
   ]
  },
  {
   "cell_type": "code",
   "execution_count": 54,
   "id": "civil-harvest",
   "metadata": {},
   "outputs": [
    {
     "data": {
      "text/html": [
       "<div>\n",
       "<style scoped>\n",
       "    .dataframe tbody tr th:only-of-type {\n",
       "        vertical-align: middle;\n",
       "    }\n",
       "\n",
       "    .dataframe tbody tr th {\n",
       "        vertical-align: top;\n",
       "    }\n",
       "\n",
       "    .dataframe thead th {\n",
       "        text-align: right;\n",
       "    }\n",
       "</style>\n",
       "<table border=\"1\" class=\"dataframe\">\n",
       "  <thead>\n",
       "    <tr style=\"text-align: right;\">\n",
       "      <th></th>\n",
       "      <th>label</th>\n",
       "      <th>cluster_n</th>\n",
       "      <th>loglikelyhood</th>\n",
       "      <th>aic</th>\n",
       "      <th>bic</th>\n",
       "      <th>SC</th>\n",
       "    </tr>\n",
       "  </thead>\n",
       "  <tbody>\n",
       "    <tr>\n",
       "      <th>0</th>\n",
       "      <td>GM(raw)</td>\n",
       "      <td>3</td>\n",
       "      <td>-19.919311</td>\n",
       "      <td>157420.553654</td>\n",
       "      <td>157420.553654</td>\n",
       "      <td>0.63961</td>\n",
       "    </tr>\n",
       "    <tr>\n",
       "      <th>1</th>\n",
       "      <td>GM(raw)</td>\n",
       "      <td>4</td>\n",
       "      <td>-19.295622</td>\n",
       "      <td>152513.412645</td>\n",
       "      <td>152513.412645</td>\n",
       "      <td>0.414064</td>\n",
       "    </tr>\n",
       "    <tr>\n",
       "      <th>2</th>\n",
       "      <td>GM(raw)</td>\n",
       "      <td>5</td>\n",
       "      <td>-19.112257</td>\n",
       "      <td>151084.828457</td>\n",
       "      <td>151084.828457</td>\n",
       "      <td>0.370847</td>\n",
       "    </tr>\n",
       "    <tr>\n",
       "      <th>3</th>\n",
       "      <td>GM(raw)</td>\n",
       "      <td>6</td>\n",
       "      <td>-19.103559</td>\n",
       "      <td>151036.1192</td>\n",
       "      <td>151036.1192</td>\n",
       "      <td>0.370527</td>\n",
       "    </tr>\n",
       "  </tbody>\n",
       "</table>\n",
       "</div>"
      ],
      "text/plain": [
       "     label cluster_n loglikelyhood            aic            bic        SC\n",
       "0  GM(raw)         3    -19.919311  157420.553654  157420.553654   0.63961\n",
       "1  GM(raw)         4    -19.295622  152513.412645  152513.412645  0.414064\n",
       "2  GM(raw)         5    -19.112257  151084.828457  151084.828457  0.370847\n",
       "3  GM(raw)         6    -19.103559    151036.1192    151036.1192  0.370527"
      ]
     },
     "execution_count": 54,
     "metadata": {},
     "output_type": "execute_result"
    }
   ],
   "source": [
    "### 혼합분포 클러스터링 (원본데이터)\n",
    "from sklearn.mixture import GaussianMixture\n",
    "from sklearn.metrics import silhouette_score\n",
    "from pandas import DataFrame\n",
    "result = DataFrame(columns=['label', 'cluster_n', 'loglikelyhood', 'aic', 'bic', 'SC'])\n",
    "for i in range(4): #군집분석 4회 실시\n",
    "    result.loc[i, 'cluster_n'] = i+3\n",
    "    result.loc[i, 'label'] = 'GM(raw)'\n",
    "    gm = GaussianMixture(i+3, random_state=123).fit(retail) \n",
    "    #군집개수 3~6 fitting\n",
    "    pred = gm.predict(retail) #predict labels\n",
    "    result.loc[i, 'aic'] = gm.aic(retail)\n",
    "    result.loc[i, 'bic'] = gm.aic(retail)\n",
    "    result.loc[i, 'loglikelyhood'] = gm.score(retail)\n",
    "    result.loc[i, 'SC'] = silhouette_score(retail, pred)\n",
    "result"
   ]
  },
  {
   "cell_type": "code",
   "execution_count": 53,
   "id": "funded-pavilion",
   "metadata": {},
   "outputs": [
    {
     "data": {
      "text/html": [
       "<div>\n",
       "<style scoped>\n",
       "    .dataframe tbody tr th:only-of-type {\n",
       "        vertical-align: middle;\n",
       "    }\n",
       "\n",
       "    .dataframe tbody tr th {\n",
       "        vertical-align: top;\n",
       "    }\n",
       "\n",
       "    .dataframe thead th {\n",
       "        text-align: right;\n",
       "    }\n",
       "</style>\n",
       "<table border=\"1\" class=\"dataframe\">\n",
       "  <thead>\n",
       "    <tr style=\"text-align: right;\">\n",
       "      <th></th>\n",
       "      <th>label</th>\n",
       "      <th>cluster_n</th>\n",
       "      <th>loglikelyhood</th>\n",
       "      <th>aic</th>\n",
       "      <th>bic</th>\n",
       "      <th>SC</th>\n",
       "    </tr>\n",
       "  </thead>\n",
       "  <tbody>\n",
       "    <tr>\n",
       "      <th>0</th>\n",
       "      <td>GM(ss)</td>\n",
       "      <td>3</td>\n",
       "      <td>-0.98611</td>\n",
       "      <td>7848.26827</td>\n",
       "      <td>7848.26827</td>\n",
       "      <td>0.324309</td>\n",
       "    </tr>\n",
       "    <tr>\n",
       "      <th>1</th>\n",
       "      <td>GM(ss)</td>\n",
       "      <td>4</td>\n",
       "      <td>-0.380883</td>\n",
       "      <td>3086.977909</td>\n",
       "      <td>3086.977909</td>\n",
       "      <td>0.129361</td>\n",
       "    </tr>\n",
       "    <tr>\n",
       "      <th>2</th>\n",
       "      <td>GM(ss)</td>\n",
       "      <td>5</td>\n",
       "      <td>-0.316385</td>\n",
       "      <td>2597.440532</td>\n",
       "      <td>2597.440532</td>\n",
       "      <td>0.124269</td>\n",
       "    </tr>\n",
       "    <tr>\n",
       "      <th>3</th>\n",
       "      <td>GM(ss)</td>\n",
       "      <td>6</td>\n",
       "      <td>-0.179304</td>\n",
       "      <td>1534.497942</td>\n",
       "      <td>1534.497942</td>\n",
       "      <td>0.094021</td>\n",
       "    </tr>\n",
       "  </tbody>\n",
       "</table>\n",
       "</div>"
      ],
      "text/plain": [
       "    label cluster_n loglikelyhood          aic          bic        SC\n",
       "0  GM(ss)         3      -0.98611   7848.26827   7848.26827  0.324309\n",
       "1  GM(ss)         4     -0.380883  3086.977909  3086.977909  0.129361\n",
       "2  GM(ss)         5     -0.316385  2597.440532  2597.440532  0.124269\n",
       "3  GM(ss)         6     -0.179304  1534.497942  1534.497942  0.094021"
      ]
     },
     "execution_count": 53,
     "metadata": {},
     "output_type": "execute_result"
    }
   ],
   "source": [
    "### 혼합분포 클러스터링 (표준화데이터)\n",
    "result2 = DataFrame(columns=['label', 'cluster_n', 'loglikelyhood', 'aic', 'bic', 'SC'])\n",
    "for i in range(4): #군집분석 4회 실시\n",
    "    result2.loc[i, 'cluster_n'] = i+3\n",
    "    result2.loc[i, 'label'] = 'GM(ss)'\n",
    "    gm = GaussianMixture(i+3, random_state=123).fit(retail2) \n",
    "    #군집개수 3~6 fitting\n",
    "    pred = gm.predict(retail2) #predict labels\n",
    "    result2.loc[i, 'aic'] = gm.aic(retail2)\n",
    "    result2.loc[i, 'bic'] = gm.aic(retail2)\n",
    "    result2.loc[i, 'loglikelyhood'] = gm.score(retail2)\n",
    "    result2.loc[i, 'SC'] = silhouette_score(retail2, pred)\n",
    "result2"
   ]
  },
  {
   "cell_type": "code",
   "execution_count": 52,
   "id": "golden-president",
   "metadata": {},
   "outputs": [
    {
     "data": {
      "text/html": [
       "<div>\n",
       "<style scoped>\n",
       "    .dataframe tbody tr th:only-of-type {\n",
       "        vertical-align: middle;\n",
       "    }\n",
       "\n",
       "    .dataframe tbody tr th {\n",
       "        vertical-align: top;\n",
       "    }\n",
       "\n",
       "    .dataframe thead th {\n",
       "        text-align: right;\n",
       "    }\n",
       "</style>\n",
       "<table border=\"1\" class=\"dataframe\">\n",
       "  <thead>\n",
       "    <tr style=\"text-align: right;\">\n",
       "      <th></th>\n",
       "      <th>label</th>\n",
       "      <th>cluster_n</th>\n",
       "      <th>inertia</th>\n",
       "      <th>SC</th>\n",
       "    </tr>\n",
       "  </thead>\n",
       "  <tbody>\n",
       "    <tr>\n",
       "      <th>0</th>\n",
       "      <td>KM(raw)</td>\n",
       "      <td>3</td>\n",
       "      <td>26187009111.103626</td>\n",
       "      <td>0.954579</td>\n",
       "    </tr>\n",
       "    <tr>\n",
       "      <th>1</th>\n",
       "      <td>KM(raw)</td>\n",
       "      <td>4</td>\n",
       "      <td>15509201720.522978</td>\n",
       "      <td>0.841353</td>\n",
       "    </tr>\n",
       "    <tr>\n",
       "      <th>2</th>\n",
       "      <td>KM(raw)</td>\n",
       "      <td>5</td>\n",
       "      <td>9956590151.85486</td>\n",
       "      <td>0.767941</td>\n",
       "    </tr>\n",
       "    <tr>\n",
       "      <th>3</th>\n",
       "      <td>KM(raw)</td>\n",
       "      <td>6</td>\n",
       "      <td>7427814545.048742</td>\n",
       "      <td>0.719526</td>\n",
       "    </tr>\n",
       "  </tbody>\n",
       "</table>\n",
       "</div>"
      ],
      "text/plain": [
       "     label cluster_n             inertia        SC\n",
       "0  KM(raw)         3  26187009111.103626  0.954579\n",
       "1  KM(raw)         4  15509201720.522978  0.841353\n",
       "2  KM(raw)         5    9956590151.85486  0.767941\n",
       "3  KM(raw)         6   7427814545.048742  0.719526"
      ]
     },
     "execution_count": 52,
     "metadata": {},
     "output_type": "execute_result"
    }
   ],
   "source": [
    "### KMeans 클러스터링 (원본데이터)\n",
    "from sklearn.cluster import KMeans\n",
    "result3 = DataFrame(columns=['label', 'cluster_n', 'inertia', 'SC'])\n",
    "for i in range(4): #군집분석 4회 실시\n",
    "    result3.loc[i, 'cluster_n'] = i+3\n",
    "    result3.loc[i, 'label'] = 'KM(raw)'\n",
    "    km = KMeans(i+3, random_state=123).fit(retail) #군집개수 3~6 fitting\n",
    "    result3.loc[i, 'inertia'] = km.inertia_\n",
    "    result3.loc[i, 'SC'] = silhouette_score(retail, km.labels_)\n",
    "result3"
   ]
  },
  {
   "cell_type": "code",
   "execution_count": 58,
   "id": "extensive-trademark",
   "metadata": {},
   "outputs": [
    {
     "data": {
      "text/html": [
       "<div>\n",
       "<style scoped>\n",
       "    .dataframe tbody tr th:only-of-type {\n",
       "        vertical-align: middle;\n",
       "    }\n",
       "\n",
       "    .dataframe tbody tr th {\n",
       "        vertical-align: top;\n",
       "    }\n",
       "\n",
       "    .dataframe thead th {\n",
       "        text-align: right;\n",
       "    }\n",
       "</style>\n",
       "<table border=\"1\" class=\"dataframe\">\n",
       "  <thead>\n",
       "    <tr style=\"text-align: right;\">\n",
       "      <th></th>\n",
       "      <th>label</th>\n",
       "      <th>cluster_n</th>\n",
       "      <th>inertia</th>\n",
       "      <th>SC</th>\n",
       "    </tr>\n",
       "  </thead>\n",
       "  <tbody>\n",
       "    <tr>\n",
       "      <th>0</th>\n",
       "      <td>KM(ss)</td>\n",
       "      <td>3</td>\n",
       "      <td>5884.987941</td>\n",
       "      <td>0.542902</td>\n",
       "    </tr>\n",
       "    <tr>\n",
       "      <th>1</th>\n",
       "      <td>KM(ss)</td>\n",
       "      <td>4</td>\n",
       "      <td>4487.330979</td>\n",
       "      <td>0.543692</td>\n",
       "    </tr>\n",
       "    <tr>\n",
       "      <th>2</th>\n",
       "      <td>KM(ss)</td>\n",
       "      <td>5</td>\n",
       "      <td>3280.657483</td>\n",
       "      <td>0.575122</td>\n",
       "    </tr>\n",
       "    <tr>\n",
       "      <th>3</th>\n",
       "      <td>KM(ss)</td>\n",
       "      <td>6</td>\n",
       "      <td>2607.715823</td>\n",
       "      <td>0.549162</td>\n",
       "    </tr>\n",
       "  </tbody>\n",
       "</table>\n",
       "</div>"
      ],
      "text/plain": [
       "    label cluster_n      inertia        SC\n",
       "0  KM(ss)         3  5884.987941  0.542902\n",
       "1  KM(ss)         4  4487.330979  0.543692\n",
       "2  KM(ss)         5  3280.657483  0.575122\n",
       "3  KM(ss)         6  2607.715823  0.549162"
      ]
     },
     "execution_count": 58,
     "metadata": {},
     "output_type": "execute_result"
    }
   ],
   "source": [
    "### KMeans (표준화 데이터)\n",
    "result4 = DataFrame(columns=['label', 'cluster_n', 'inertia', 'SC'])\n",
    "for i in range(4): #군집분석 4회 실시\n",
    "    result4.loc[i, 'cluster_n'] = i+3\n",
    "    result4.loc[i, 'label'] = 'KM(ss)'\n",
    "    km = KMeans(i+3, random_state=123).fit(retail2) #군집개수 3~6 fitting\n",
    "    result4.loc[i, 'inertia'] = km.inertia_\n",
    "    result4.loc[i, 'SC'] = silhouette_score(retail2, km.labels_)\n",
    "result4"
   ]
  },
  {
   "cell_type": "code",
   "execution_count": 59,
   "id": "ancient-bobby",
   "metadata": {},
   "outputs": [
    {
     "data": {
      "text/html": [
       "<div>\n",
       "<style scoped>\n",
       "    .dataframe tbody tr th:only-of-type {\n",
       "        vertical-align: middle;\n",
       "    }\n",
       "\n",
       "    .dataframe tbody tr th {\n",
       "        vertical-align: top;\n",
       "    }\n",
       "\n",
       "    .dataframe thead th {\n",
       "        text-align: right;\n",
       "    }\n",
       "</style>\n",
       "<table border=\"1\" class=\"dataframe\">\n",
       "  <thead>\n",
       "    <tr style=\"text-align: right;\">\n",
       "      <th></th>\n",
       "      <th>Recency</th>\n",
       "      <th>Frequency</th>\n",
       "      <th>Amount</th>\n",
       "      <th>hier_cluster</th>\n",
       "      <th>km_cluster</th>\n",
       "    </tr>\n",
       "  </thead>\n",
       "  <tbody>\n",
       "    <tr>\n",
       "      <th>0</th>\n",
       "      <td>325</td>\n",
       "      <td>2</td>\n",
       "      <td>0.00</td>\n",
       "      <td>0</td>\n",
       "      <td>1</td>\n",
       "    </tr>\n",
       "    <tr>\n",
       "      <th>1</th>\n",
       "      <td>22</td>\n",
       "      <td>103</td>\n",
       "      <td>4196.01</td>\n",
       "      <td>1</td>\n",
       "      <td>0</td>\n",
       "    </tr>\n",
       "    <tr>\n",
       "      <th>2</th>\n",
       "      <td>4</td>\n",
       "      <td>4642</td>\n",
       "      <td>32034.17</td>\n",
       "      <td>2</td>\n",
       "      <td>2</td>\n",
       "    </tr>\n",
       "    <tr>\n",
       "      <th>3</th>\n",
       "      <td>22</td>\n",
       "      <td>231</td>\n",
       "      <td>3868.20</td>\n",
       "      <td>1</td>\n",
       "      <td>0</td>\n",
       "    </tr>\n",
       "    <tr>\n",
       "      <th>4</th>\n",
       "      <td>44</td>\n",
       "      <td>59</td>\n",
       "      <td>942.34</td>\n",
       "      <td>1</td>\n",
       "      <td>0</td>\n",
       "    </tr>\n",
       "    <tr>\n",
       "      <th>...</th>\n",
       "      <td>...</td>\n",
       "      <td>...</td>\n",
       "      <td>...</td>\n",
       "      <td>...</td>\n",
       "      <td>...</td>\n",
       "    </tr>\n",
       "    <tr>\n",
       "      <th>3945</th>\n",
       "      <td>159</td>\n",
       "      <td>10</td>\n",
       "      <td>180.60</td>\n",
       "      <td>0</td>\n",
       "      <td>1</td>\n",
       "    </tr>\n",
       "    <tr>\n",
       "      <th>3946</th>\n",
       "      <td>3</td>\n",
       "      <td>7</td>\n",
       "      <td>80.82</td>\n",
       "      <td>1</td>\n",
       "      <td>0</td>\n",
       "    </tr>\n",
       "    <tr>\n",
       "      <th>3947</th>\n",
       "      <td>92</td>\n",
       "      <td>13</td>\n",
       "      <td>176.60</td>\n",
       "      <td>1</td>\n",
       "      <td>0</td>\n",
       "    </tr>\n",
       "    <tr>\n",
       "      <th>3948</th>\n",
       "      <td>9</td>\n",
       "      <td>756</td>\n",
       "      <td>2329.67</td>\n",
       "      <td>1</td>\n",
       "      <td>4</td>\n",
       "    </tr>\n",
       "    <tr>\n",
       "      <th>3949</th>\n",
       "      <td>-1</td>\n",
       "      <td>70</td>\n",
       "      <td>2032.88</td>\n",
       "      <td>1</td>\n",
       "      <td>0</td>\n",
       "    </tr>\n",
       "  </tbody>\n",
       "</table>\n",
       "<p>3950 rows × 5 columns</p>\n",
       "</div>"
      ],
      "text/plain": [
       "      Recency  Frequency    Amount  hier_cluster  km_cluster\n",
       "0         325          2      0.00             0           1\n",
       "1          22        103   4196.01             1           0\n",
       "2           4       4642  32034.17             2           2\n",
       "3          22        231   3868.20             1           0\n",
       "4          44         59    942.34             1           0\n",
       "...       ...        ...       ...           ...         ...\n",
       "3945      159         10    180.60             0           1\n",
       "3946        3          7     80.82             1           0\n",
       "3947       92         13    176.60             1           0\n",
       "3948        9        756   2329.67             1           4\n",
       "3949       -1         70   2032.88             1           0\n",
       "\n",
       "[3950 rows x 5 columns]"
      ]
     },
     "execution_count": 59,
     "metadata": {},
     "output_type": "execute_result"
    }
   ],
   "source": [
    "# 표준화된 데이터 기반으로 비계층적 군집을 5개로 나누기로 결정함\n",
    "km = KMeans(5, random_state=123).fit(retail2)\n",
    "labeled_data['km_cluster'] = km.labels_\n",
    "labeled_data"
   ]
  },
  {
   "cell_type": "code",
   "execution_count": 74,
   "id": "genuine-abortion",
   "metadata": {},
   "outputs": [
    {
     "data": {
      "image/png": "[encoded data removed]",
      "text/plain": [
       "<Figure size 602.5x540 with 12 Axes>"
      ]
     },
     "metadata": {
      "needs_background": "light"
     },
     "output_type": "display_data"
    }
   ],
   "source": [
    "#cluster0은 구매빈도와 구매금액이 아주 낮은 비활성화 그룹이다. Recency가 아주 낮지는 않다.\n",
    "#cluster1은 구매빈도와 구매금액이 아주 낮은 비활성화 그룹이다. Recency가 아주 낮다. cluster0과 다른 고객 전략이 필요할 것으로 보인다.\n",
    "#cluster2는 구매금액은 높지 않지만, 구매 빈도가 극도로 높은 활성화 그룹이다. Recency가 아주 낮다.\n",
    "#cluster3은 구매빈도는 높지 않지만, 구매금액이 극도로 높은 활성화 그룹이다. Recency도 낮다. VIP로 특별관리가 필요할 것으로 보인다.\n",
    "#cluster4는 일반적인 금액과 빈도로 구매하는 활성화그룹이다.\n",
    "\n",
    "sns.pairplot(labeled_data.drop('hier_cluster', axis=1), hue='km_cluster', palette='Pastel1')\n",
    "plt.show()"
   ]
  },
  {
   "cell_type": "markdown",
   "id": "ancient-extra",
   "metadata": {},
   "source": [
    "4. 최종적으로 고객에 대한 마케팅 전략을 수립하시오. "
   ]
  },
  {
   "cell_type": "code",
   "execution_count": 82,
   "id": "previous-return",
   "metadata": {},
   "outputs": [
    {
     "data": {
      "text/plain": [
       "0    71.189873\n",
       "1    24.481013\n",
       "4     4.202532\n",
       "2     0.075949\n",
       "3     0.050633\n",
       "Name: km_cluster, dtype: float64"
      ]
     },
     "execution_count": 82,
     "metadata": {},
     "output_type": "execute_result"
    }
   ],
   "source": [
    "### 비계층적 군집분석을 통해 구분한 고객들을 대상으로 세분화한 마케팅 전략을 수립하고자 한다.\n",
    "### 클러스터별 특성과 비율은 다음과 같다.\n",
    "#cluster0은 비활성화, 일반적인 Recency (71%)\n",
    "#cluster1은 비활성화, 극도로 낮은 Recency (24%)\n",
    "#cluster4는 활성화, 일반적인 Frequency, Amount (4%)\n",
    "#cluster2는 활성화, 극도로 높은 Frequency (0.07%)\n",
    "#cluster3은 활성화, 극도로 높은 Amount (0.05%)\n",
    "labeled_data['km_cluster'].value_counts() /len(labeled_data) *100\n",
    "\n",
    "#고객 중 높은 비율을 차지하고 있으면서 일반적인 Recency를 가지는 비활성화 그룹인 cluster0을 대상으로 Amount 및 Frequency 증대를 위한 promotion을 진행할 것이다. 이를 통해 고객 활성화 비율을 높이고 매출 증대라는 목표를 달성할 것을 기대한다."
   ]
  },
  {
   "cell_type": "markdown",
   "id": "flying-alliance",
   "metadata": {},
   "source": [
    "5. 추가적인 고객 분석을 하고자 할 때 어떤 방식이 좋을지를 논하시오."
   ]
  },
  {
   "cell_type": "code",
   "execution_count": null,
   "id": "reserved-wholesale",
   "metadata": {},
   "outputs": [],
   "source": [
    "# 고객들이 계절에 따른 구매 패턴 차이는 없는지 확인함으로써 계절별 고객 전략을 수립할 수 있음\n",
    "# 구매량과 개별 가격에 따라 고객을 추가적으로 clustering함으로써 세분화 전략을 수립할 수 있음"
   ]
  },
  {
   "cell_type": "markdown",
   "id": "acting-english",
   "metadata": {},
   "source": [
    "# 문제2 : ’금시세와 코로나19 바이러스는 관련이 있을까?‘(시계열 분석)\n",
    "(외생변수 : 미국 워싱턴 기준 코로나 19 확진자수, 종속변수 : 금 종가)"
   ]
  },
  {
   "cell_type": "code",
   "execution_count": 121,
   "id": "polyphonic-soundtrack",
   "metadata": {},
   "outputs": [],
   "source": [
    "covid = read_csv('covid19_wc.csv').drop('Unnamed: 0', axis=1)\n",
    "gold = read_csv('gold.csv').filter(['date','Close'])"
   ]
  },
  {
   "cell_type": "markdown",
   "id": "unavailable-intellectual",
   "metadata": {},
   "source": [
    "1. 위 두 데이터셋을 불러와서 covid19_wc 데이터셋의 날짜 기준으로 merge(inner join)하고 [’date’, ‘ cases’, ‘ Close’] 3개의 변수를 갖는 데이터셋으로 만드시오."
   ]
  },
  {
   "cell_type": "code",
   "execution_count": 122,
   "id": "meaningful-concentrate",
   "metadata": {},
   "outputs": [
    {
     "data": {
      "text/html": [
       "<div>\n",
       "<style scoped>\n",
       "    .dataframe tbody tr th:only-of-type {\n",
       "        vertical-align: middle;\n",
       "    }\n",
       "\n",
       "    .dataframe tbody tr th {\n",
       "        vertical-align: top;\n",
       "    }\n",
       "\n",
       "    .dataframe thead th {\n",
       "        text-align: right;\n",
       "    }\n",
       "</style>\n",
       "<table border=\"1\" class=\"dataframe\">\n",
       "  <thead>\n",
       "    <tr style=\"text-align: right;\">\n",
       "      <th></th>\n",
       "      <th>date</th>\n",
       "      <th>cases</th>\n",
       "      <th>Close</th>\n",
       "    </tr>\n",
       "  </thead>\n",
       "  <tbody>\n",
       "    <tr>\n",
       "      <th>0</th>\n",
       "      <td>2020-01-21</td>\n",
       "      <td>1</td>\n",
       "      <td>1557.9</td>\n",
       "    </tr>\n",
       "    <tr>\n",
       "      <th>1</th>\n",
       "      <td>2020-01-22</td>\n",
       "      <td>1</td>\n",
       "      <td>1556.7</td>\n",
       "    </tr>\n",
       "    <tr>\n",
       "      <th>2</th>\n",
       "      <td>2020-01-23</td>\n",
       "      <td>1</td>\n",
       "      <td>1565.4</td>\n",
       "    </tr>\n",
       "    <tr>\n",
       "      <th>3</th>\n",
       "      <td>2020-01-24</td>\n",
       "      <td>1</td>\n",
       "      <td>1571.9</td>\n",
       "    </tr>\n",
       "    <tr>\n",
       "      <th>4</th>\n",
       "      <td>2020-01-25</td>\n",
       "      <td>1</td>\n",
       "      <td>NaN</td>\n",
       "    </tr>\n",
       "    <tr>\n",
       "      <th>...</th>\n",
       "      <td>...</td>\n",
       "      <td>...</td>\n",
       "      <td>...</td>\n",
       "    </tr>\n",
       "    <tr>\n",
       "      <th>839</th>\n",
       "      <td>2022-05-09</td>\n",
       "      <td>1522821</td>\n",
       "      <td>1858.6</td>\n",
       "    </tr>\n",
       "    <tr>\n",
       "      <th>840</th>\n",
       "      <td>2022-05-10</td>\n",
       "      <td>1522842</td>\n",
       "      <td>1841.0</td>\n",
       "    </tr>\n",
       "    <tr>\n",
       "      <th>841</th>\n",
       "      <td>2022-05-11</td>\n",
       "      <td>1527939</td>\n",
       "      <td>1853.7</td>\n",
       "    </tr>\n",
       "    <tr>\n",
       "      <th>842</th>\n",
       "      <td>2022-05-12</td>\n",
       "      <td>1528056</td>\n",
       "      <td>1824.6</td>\n",
       "    </tr>\n",
       "    <tr>\n",
       "      <th>843</th>\n",
       "      <td>2022-05-13</td>\n",
       "      <td>1534324</td>\n",
       "      <td>1808.2</td>\n",
       "    </tr>\n",
       "  </tbody>\n",
       "</table>\n",
       "<p>844 rows × 3 columns</p>\n",
       "</div>"
      ],
      "text/plain": [
       "           date    cases   Close\n",
       "0    2020-01-21        1  1557.9\n",
       "1    2020-01-22        1  1556.7\n",
       "2    2020-01-23        1  1565.4\n",
       "3    2020-01-24        1  1571.9\n",
       "4    2020-01-25        1     NaN\n",
       "..          ...      ...     ...\n",
       "839  2022-05-09  1522821  1858.6\n",
       "840  2022-05-10  1522842  1841.0\n",
       "841  2022-05-11  1527939  1853.7\n",
       "842  2022-05-12  1528056  1824.6\n",
       "843  2022-05-13  1534324  1808.2\n",
       "\n",
       "[844 rows x 3 columns]"
      ]
     },
     "execution_count": 122,
     "metadata": {},
     "output_type": "execute_result"
    }
   ],
   "source": [
    "from pandas import merge\n",
    "df = merge(covid, gold, how='left', on='date')\n",
    "df"
   ]
  },
  {
   "cell_type": "markdown",
   "id": "bacterial-people",
   "metadata": {},
   "source": [
    "2. 코로나 확진자수에 따라 금시세가 변하는지 회귀분석을 실시하시오. "
   ]
  },
  {
   "cell_type": "code",
   "execution_count": 126,
   "id": "processed-ferry",
   "metadata": {},
   "outputs": [
    {
     "data": {
      "text/html": [
       "<table class=\"simpletable\">\n",
       "<caption>OLS Regression Results</caption>\n",
       "<tr>\n",
       "  <th>Dep. Variable:</th>          <td>Close</td>      <th>  R-squared:         </th> <td>   0.146</td>\n",
       "</tr>\n",
       "<tr>\n",
       "  <th>Model:</th>                   <td>OLS</td>       <th>  Adj. R-squared:    </th> <td>   0.145</td>\n",
       "</tr>\n",
       "<tr>\n",
       "  <th>Method:</th>             <td>Least Squares</td>  <th>  F-statistic:       </th> <td>   104.4</td>\n",
       "</tr>\n",
       "<tr>\n",
       "  <th>Date:</th>             <td>Sat, 04 Jun 2022</td> <th>  Prob (F-statistic):</th> <td>9.85e-23</td>\n",
       "</tr>\n",
       "<tr>\n",
       "  <th>Time:</th>                 <td>11:22:41</td>     <th>  Log-Likelihood:    </th> <td> -3636.8</td>\n",
       "</tr>\n",
       "<tr>\n",
       "  <th>No. Observations:</th>      <td>   611</td>      <th>  AIC:               </th> <td>   7278.</td>\n",
       "</tr>\n",
       "<tr>\n",
       "  <th>Df Residuals:</th>          <td>   609</td>      <th>  BIC:               </th> <td>   7287.</td>\n",
       "</tr>\n",
       "<tr>\n",
       "  <th>Df Model:</th>              <td>     1</td>      <th>                     </th>     <td> </td>   \n",
       "</tr>\n",
       "<tr>\n",
       "  <th>Covariance Type:</th>      <td>nonrobust</td>    <th>                     </th>     <td> </td>   \n",
       "</tr>\n",
       "</table>\n",
       "<table class=\"simpletable\">\n",
       "<tr>\n",
       "      <td></td>         <th>coef</th>     <th>std err</th>      <th>t</th>      <th>P>|t|</th>  <th>[0.025</th>    <th>0.975]</th>  \n",
       "</tr>\n",
       "<tr>\n",
       "  <th>Intercept</th> <td> 1769.3226</td> <td>    5.331</td> <td>  331.908</td> <td> 0.000</td> <td> 1758.854</td> <td> 1779.792</td>\n",
       "</tr>\n",
       "<tr>\n",
       "  <th>cases</th>     <td> 8.358e-05</td> <td> 8.18e-06</td> <td>   10.219</td> <td> 0.000</td> <td> 6.75e-05</td> <td> 9.96e-05</td>\n",
       "</tr>\n",
       "</table>\n",
       "<table class=\"simpletable\">\n",
       "<tr>\n",
       "  <th>Omnibus:</th>       <td> 3.608</td> <th>  Durbin-Watson:     </th> <td>   0.047</td>\n",
       "</tr>\n",
       "<tr>\n",
       "  <th>Prob(Omnibus):</th> <td> 0.165</td> <th>  Jarque-Bera (JB):  </th> <td>   4.201</td>\n",
       "</tr>\n",
       "<tr>\n",
       "  <th>Skew:</th>          <td>-0.022</td> <th>  Prob(JB):          </th> <td>   0.122</td>\n",
       "</tr>\n",
       "<tr>\n",
       "  <th>Kurtosis:</th>      <td> 3.404</td> <th>  Cond. No.          </th> <td>9.21e+05</td>\n",
       "</tr>\n",
       "</table><br/><br/>Notes:<br/>[1] Standard Errors assume that the covariance matrix of the errors is correctly specified.<br/>[2] The condition number is large, 9.21e+05. This might indicate that there are<br/>strong multicollinearity or other numerical problems."
      ],
      "text/plain": [
       "<class 'statsmodels.iolib.summary.Summary'>\n",
       "\"\"\"\n",
       "                            OLS Regression Results                            \n",
       "==============================================================================\n",
       "Dep. Variable:                  Close   R-squared:                       0.146\n",
       "Model:                            OLS   Adj. R-squared:                  0.145\n",
       "Method:                 Least Squares   F-statistic:                     104.4\n",
       "Date:                Sat, 04 Jun 2022   Prob (F-statistic):           9.85e-23\n",
       "Time:                        11:22:41   Log-Likelihood:                -3636.8\n",
       "No. Observations:                 611   AIC:                             7278.\n",
       "Df Residuals:                     609   BIC:                             7287.\n",
       "Df Model:                           1                                         \n",
       "Covariance Type:            nonrobust                                         \n",
       "==============================================================================\n",
       "                 coef    std err          t      P>|t|      [0.025      0.975]\n",
       "------------------------------------------------------------------------------\n",
       "Intercept   1769.3226      5.331    331.908      0.000    1758.854    1779.792\n",
       "cases       8.358e-05   8.18e-06     10.219      0.000    6.75e-05    9.96e-05\n",
       "==============================================================================\n",
       "Omnibus:                        3.608   Durbin-Watson:                   0.047\n",
       "Prob(Omnibus):                  0.165   Jarque-Bera (JB):                4.201\n",
       "Skew:                          -0.022   Prob(JB):                        0.122\n",
       "Kurtosis:                       3.404   Cond. No.                     9.21e+05\n",
       "==============================================================================\n",
       "\n",
       "Notes:\n",
       "[1] Standard Errors assume that the covariance matrix of the errors is correctly specified.\n",
       "[2] The condition number is large, 9.21e+05. This might indicate that there are\n",
       "strong multicollinearity or other numerical problems.\n",
       "\"\"\""
      ]
     },
     "execution_count": 126,
     "metadata": {},
     "output_type": "execute_result"
    }
   ],
   "source": [
    "df = df.dropna()\n",
    "\n",
    "#회귀모델의 F통계량과 pvalue를 봤을 때 회귀분석 모델이 통계적으로 유의함을 알 수 있다.\n",
    "#즉, 확진자수에 따라 금시세가 변한다고 볼 수 있다.\n",
    "from statsmodels.formula.api import ols\n",
    "fitted = ols('Close ~ cases', data=df).fit()\n",
    "fitted.summary()"
   ]
  },
  {
   "cell_type": "code",
   "execution_count": 134,
   "id": "loaded-princess",
   "metadata": {},
   "outputs": [
    {
     "data": {
      "text/html": [
       "<table class=\"simpletable\">\n",
       "<caption>OLS Regression Results</caption>\n",
       "<tr>\n",
       "  <th>Dep. Variable:</th>          <td>Close</td>      <th>  R-squared:         </th> <td>   0.146</td>\n",
       "</tr>\n",
       "<tr>\n",
       "  <th>Model:</th>                   <td>OLS</td>       <th>  Adj. R-squared:    </th> <td>   0.145</td>\n",
       "</tr>\n",
       "<tr>\n",
       "  <th>Method:</th>             <td>Least Squares</td>  <th>  F-statistic:       </th> <td>   104.4</td>\n",
       "</tr>\n",
       "<tr>\n",
       "  <th>Date:</th>             <td>Sat, 04 Jun 2022</td> <th>  Prob (F-statistic):</th> <td>9.85e-23</td>\n",
       "</tr>\n",
       "<tr>\n",
       "  <th>Time:</th>                 <td>11:30:24</td>     <th>  Log-Likelihood:    </th> <td> -818.62</td>\n",
       "</tr>\n",
       "<tr>\n",
       "  <th>No. Observations:</th>      <td>   611</td>      <th>  AIC:               </th> <td>   1641.</td>\n",
       "</tr>\n",
       "<tr>\n",
       "  <th>Df Residuals:</th>          <td>   609</td>      <th>  BIC:               </th> <td>   1650.</td>\n",
       "</tr>\n",
       "<tr>\n",
       "  <th>Df Model:</th>              <td>     1</td>      <th>                     </th>     <td> </td>   \n",
       "</tr>\n",
       "<tr>\n",
       "  <th>Covariance Type:</th>      <td>nonrobust</td>    <th>                     </th>     <td> </td>   \n",
       "</tr>\n",
       "</table>\n",
       "<table class=\"simpletable\">\n",
       "<tr>\n",
       "      <td></td>         <th>coef</th>     <th>std err</th>      <th>t</th>      <th>P>|t|</th>  <th>[0.025</th>    <th>0.975]</th>  \n",
       "</tr>\n",
       "<tr>\n",
       "  <th>Intercept</th> <td> 3.797e-15</td> <td>    0.037</td> <td> 1.01e-13</td> <td> 1.000</td> <td>   -0.074</td> <td>    0.074</td>\n",
       "</tr>\n",
       "<tr>\n",
       "  <th>cases</th>     <td>    0.3826</td> <td>    0.037</td> <td>   10.219</td> <td> 0.000</td> <td>    0.309</td> <td>    0.456</td>\n",
       "</tr>\n",
       "</table>\n",
       "<table class=\"simpletable\">\n",
       "<tr>\n",
       "  <th>Omnibus:</th>       <td> 3.608</td> <th>  Durbin-Watson:     </th> <td>   0.047</td>\n",
       "</tr>\n",
       "<tr>\n",
       "  <th>Prob(Omnibus):</th> <td> 0.165</td> <th>  Jarque-Bera (JB):  </th> <td>   4.201</td>\n",
       "</tr>\n",
       "<tr>\n",
       "  <th>Skew:</th>          <td>-0.022</td> <th>  Prob(JB):          </th> <td>   0.122</td>\n",
       "</tr>\n",
       "<tr>\n",
       "  <th>Kurtosis:</th>      <td> 3.404</td> <th>  Cond. No.          </th> <td>    1.00</td>\n",
       "</tr>\n",
       "</table><br/><br/>Notes:<br/>[1] Standard Errors assume that the covariance matrix of the errors is correctly specified."
      ],
      "text/plain": [
       "<class 'statsmodels.iolib.summary.Summary'>\n",
       "\"\"\"\n",
       "                            OLS Regression Results                            \n",
       "==============================================================================\n",
       "Dep. Variable:                  Close   R-squared:                       0.146\n",
       "Model:                            OLS   Adj. R-squared:                  0.145\n",
       "Method:                 Least Squares   F-statistic:                     104.4\n",
       "Date:                Sat, 04 Jun 2022   Prob (F-statistic):           9.85e-23\n",
       "Time:                        11:30:24   Log-Likelihood:                -818.62\n",
       "No. Observations:                 611   AIC:                             1641.\n",
       "Df Residuals:                     609   BIC:                             1650.\n",
       "Df Model:                           1                                         \n",
       "Covariance Type:            nonrobust                                         \n",
       "==============================================================================\n",
       "                 coef    std err          t      P>|t|      [0.025      0.975]\n",
       "------------------------------------------------------------------------------\n",
       "Intercept   3.797e-15      0.037   1.01e-13      1.000      -0.074       0.074\n",
       "cases          0.3826      0.037     10.219      0.000       0.309       0.456\n",
       "==============================================================================\n",
       "Omnibus:                        3.608   Durbin-Watson:                   0.047\n",
       "Prob(Omnibus):                  0.165   Jarque-Bera (JB):                4.201\n",
       "Skew:                          -0.022   Prob(JB):                        0.122\n",
       "Kurtosis:                       3.404   Cond. No.                         1.00\n",
       "==============================================================================\n",
       "\n",
       "Notes:\n",
       "[1] Standard Errors assume that the covariance matrix of the errors is correctly specified.\n",
       "\"\"\""
      ]
     },
     "execution_count": 134,
     "metadata": {},
     "output_type": "execute_result"
    }
   ],
   "source": [
    "#회귀계수 분석을 위해서 변수 스케일링이 필요하다\n",
    "# cases의 회귀계수는 0.3826(유의한 pvalue)으로 양의 인과관계가 있는 것으로 보인다.\n",
    "from sklearn.preprocessing import StandardScaler\n",
    "df2 = StandardScaler().fit_transform(df.filter(['cases', 'Close']))\n",
    "df2 = DataFrame(df2, columns = ['cases', 'Close'])\n",
    "fitted2 = ols('Close ~ cases', data=df2).fit()\n",
    "fitted2.summary()"
   ]
  },
  {
   "cell_type": "markdown",
   "id": "stupid-newton",
   "metadata": {},
   "source": [
    "3. 훈련 데이터와 테스트 데이터 셋을 80:20으로 분할하여 진행하시오. "
   ]
  },
  {
   "cell_type": "code",
   "execution_count": 235,
   "id": "broke-silver",
   "metadata": {},
   "outputs": [],
   "source": [
    "idx = len(df)*0.8\n",
    "#feature 생성\n",
    "df['date'] = df['date'].astype('datetime64')\n",
    "df['year'] = df['date'].dt.year\n",
    "df['month'] = df['date'].dt.month\n",
    "df['weekday'] = df['date'].dt.weekday\n",
    "\n",
    "#분할\n",
    "train = df.loc[0:idx].set_index('date').to_period('D')\n",
    "test = df.loc[idx:].set_index('date').to_period('D')"
   ]
  },
  {
   "cell_type": "markdown",
   "id": "following-society",
   "metadata": {},
   "source": [
    "3-1. 금시세를 예측하기 위해서 금시세(종가 기준) 한 개 변수를 가지고 시계열 모델을 적합하시오."
   ]
  },
  {
   "cell_type": "code",
   "execution_count": 215,
   "id": "wrong-insured",
   "metadata": {},
   "outputs": [
    {
     "name": "stdout",
     "output_type": "stream",
     "text": [
      "adfuller: -3.11, 0.03\n",
      "kpss: 0.72, 0.01\n",
      "adfuller: -11.48, 0.00\n",
      "kpss: 0.14, 0.10\n"
     ]
    },
    {
     "name": "stderr",
     "output_type": "stream",
     "text": [
      "/Library/Frameworks/Python.framework/Versions/3.8/lib/python3.8/site-packages/statsmodels/tsa/stattools.py:1910: InterpolationWarning: The test statistic is outside of the range of p-values available in the\n",
      "look-up table. The actual p-value is greater than the p-value returned.\n",
      "\n",
      "  warnings.warn(\n"
     ]
    }
   ],
   "source": [
    "from statsmodels.tsa.stattools import adfuller, kpss\n",
    "r1 = adfuller(df['Close'])\n",
    "print(\"adfuller: {:.2f}, {:.2f}\".format(r1[0], r1[1])) #정상성 O\n",
    "\n",
    "r2 = kpss(df['Close'], nlags='legacy')\n",
    "print(\"kpss: {:.2f}, {:.2f}\".format(r2[0], r2[1])) #정상성 X\n",
    "\n",
    "diff = df['Close'].diff(1).dropna() #차분 1회\n",
    "r3 = adfuller(diff)\n",
    "print(\"adfuller: {:.2f}, {:.2f}\".format(r3[0], r3[1])) #정상성 O\n",
    "\n",
    "r4 = kpss(diff, nlags='legacy')\n",
    "print(\"kpss: {:.2f}, {:.2f}\".format(r4[0], r4[1])) #정상성 O"
   ]
  },
  {
   "cell_type": "code",
   "execution_count": 216,
   "id": "classical-detail",
   "metadata": {},
   "outputs": [
    {
     "data": {
      "image/png": "[encoded data removed]",
      "text/plain": [
       "<Figure size 432x288 with 4 Axes>"
      ]
     },
     "metadata": {
      "needs_background": "light"
     },
     "output_type": "display_data"
    },
    {
     "data": {
      "image/png": "[encoded data removed]",
      "text/plain": [
       "<Figure size 432x288 with 4 Axes>"
      ]
     },
     "metadata": {
      "needs_background": "light"
     },
     "output_type": "display_data"
    }
   ],
   "source": [
    "from statsmodels.tsa.seasonal import STL\n",
    "#30일 기준으로 계절성이 있는 것처럼 보임\n",
    "#Trend는 없어보임\n",
    "p7= STL(df['Close'], period=7).fit()\n",
    "p30= STL(df['Close'], period=30).fit()\n",
    "p7.plot()\n",
    "p30.plot()\n",
    "plt.show()"
   ]
  },
  {
   "cell_type": "code",
   "execution_count": 217,
   "id": "direct-processor",
   "metadata": {},
   "outputs": [
    {
     "data": {
      "image/png": "[encoded data removed]",
      "text/plain": [
       "<Figure size 720x360 with 2 Axes>"
      ]
     },
     "metadata": {
      "needs_background": "light"
     },
     "output_type": "display_data"
    }
   ],
   "source": [
    "from statsmodels.graphics.tsaplots import plot_acf, plot_pacf\n",
    "fig, ax = plt.subplots(1,2, figsize=(10,5))\n",
    "plot_acf(df['Close'], ax=ax[0])\n",
    "plot_pacf(df['Close'], ax=ax[1])\n",
    "plt.show()\n",
    "#ACF로 자기상관이 있음을 확인함\n",
    "#acf가 점진적으로 줄고, PACF lag2에서 절단점을 갖는 것으로 보아 AR(1) 모델이 예상됨"
   ]
  },
  {
   "cell_type": "code",
   "execution_count": 333,
   "id": "other-demographic",
   "metadata": {},
   "outputs": [
    {
     "name": "stdout",
     "output_type": "stream",
     "text": [
      " ARIMA(0,1,0)(0,0,0)[7]          \n"
     ]
    }
   ],
   "source": [
    "from pmdarima import auto_arima\n",
    "print(auto_arima(train['Close'], seasonal=True, m=7))"
   ]
  },
  {
   "cell_type": "code",
   "execution_count": 331,
   "id": "environmental-marriage",
   "metadata": {},
   "outputs": [
    {
     "data": {
      "text/html": [
       "<table class=\"simpletable\">\n",
       "<caption>SARIMAX Results</caption>\n",
       "<tr>\n",
       "  <th>Dep. Variable:</th>         <td>Close</td>      <th>  No. Observations:  </th>    <td>352</td>   \n",
       "</tr>\n",
       "<tr>\n",
       "  <th>Model:</th>            <td>ARIMA(0, 1, 0)</td>  <th>  Log Likelihood     </th> <td>-1585.516</td>\n",
       "</tr>\n",
       "<tr>\n",
       "  <th>Date:</th>            <td>Sat, 04 Jun 2022</td> <th>  AIC                </th> <td>3173.032</td> \n",
       "</tr>\n",
       "<tr>\n",
       "  <th>Time:</th>                <td>20:39:09</td>     <th>  BIC                </th> <td>3176.893</td> \n",
       "</tr>\n",
       "<tr>\n",
       "  <th>Sample:</th>             <td>01-21-2020</td>    <th>  HQIC               </th> <td>3174.569</td> \n",
       "</tr>\n",
       "<tr>\n",
       "  <th></th>                   <td>- 05-21-2021</td>   <th>                     </th>     <td> </td>    \n",
       "</tr>\n",
       "<tr>\n",
       "  <th>Covariance Type:</th>        <td>opg</td>       <th>                     </th>     <td> </td>    \n",
       "</tr>\n",
       "</table>\n",
       "<table class=\"simpletable\">\n",
       "<tr>\n",
       "     <td></td>       <th>coef</th>     <th>std err</th>      <th>z</th>      <th>P>|z|</th>  <th>[0.025</th>    <th>0.975]</th>  \n",
       "</tr>\n",
       "<tr>\n",
       "  <th>sigma2</th> <td>  490.9844</td> <td>   22.530</td> <td>   21.793</td> <td> 0.000</td> <td>  446.827</td> <td>  535.142</td>\n",
       "</tr>\n",
       "</table>\n",
       "<table class=\"simpletable\">\n",
       "<tr>\n",
       "  <th>Ljung-Box (L1) (Q):</th>     <td>0.14</td> <th>  Jarque-Bera (JB):  </th> <td>190.81</td>\n",
       "</tr>\n",
       "<tr>\n",
       "  <th>Prob(Q):</th>                <td>0.70</td> <th>  Prob(JB):          </th>  <td>0.00</td> \n",
       "</tr>\n",
       "<tr>\n",
       "  <th>Heteroskedasticity (H):</th> <td>0.49</td> <th>  Skew:              </th>  <td>-0.45</td>\n",
       "</tr>\n",
       "<tr>\n",
       "  <th>Prob(H) (two-sided):</th>    <td>0.00</td> <th>  Kurtosis:          </th>  <td>6.50</td> \n",
       "</tr>\n",
       "</table><br/><br/>Warnings:<br/>[1] Covariance matrix calculated using the outer product of gradients (complex-step)."
      ],
      "text/plain": [
       "<class 'statsmodels.iolib.summary.Summary'>\n",
       "\"\"\"\n",
       "                               SARIMAX Results                                \n",
       "==============================================================================\n",
       "Dep. Variable:                  Close   No. Observations:                  352\n",
       "Model:                 ARIMA(0, 1, 0)   Log Likelihood               -1585.516\n",
       "Date:                Sat, 04 Jun 2022   AIC                           3173.032\n",
       "Time:                        20:39:09   BIC                           3176.893\n",
       "Sample:                    01-21-2020   HQIC                          3174.569\n",
       "                         - 05-21-2021                                         \n",
       "Covariance Type:                  opg                                         \n",
       "==============================================================================\n",
       "                 coef    std err          z      P>|z|      [0.025      0.975]\n",
       "------------------------------------------------------------------------------\n",
       "sigma2       490.9844     22.530     21.793      0.000     446.827     535.142\n",
       "===================================================================================\n",
       "Ljung-Box (L1) (Q):                   0.14   Jarque-Bera (JB):               190.81\n",
       "Prob(Q):                              0.70   Prob(JB):                         0.00\n",
       "Heteroskedasticity (H):               0.49   Skew:                            -0.45\n",
       "Prob(H) (two-sided):                  0.00   Kurtosis:                         6.50\n",
       "===================================================================================\n",
       "\n",
       "Warnings:\n",
       "[1] Covariance matrix calculated using the outer product of gradients (complex-step).\n",
       "\"\"\""
      ]
     },
     "execution_count": 331,
     "metadata": {},
     "output_type": "execute_result"
    }
   ],
   "source": [
    "from statsmodels.tsa.arima.model import ARIMA\n",
    "model1 = ARIMA(train['Close'], order=(0,1,0)).fit()\n",
    "model1.summary()"
   ]
  },
  {
   "cell_type": "markdown",
   "id": "numeric-spotlight",
   "metadata": {},
   "source": [
    "3-2. 금시세를 예측하기 위해서 금시세(종가 기준)와 외생변수(코로나 확진자수)를 통해 ARIMA-X 모형을 접하시오. \n"
   ]
  },
  {
   "cell_type": "code",
   "execution_count": 337,
   "id": "dying-bread",
   "metadata": {},
   "outputs": [
    {
     "data": {
      "text/html": [
       "<table class=\"simpletable\">\n",
       "<caption>SARIMAX Results</caption>\n",
       "<tr>\n",
       "  <th>Dep. Variable:</th>         <td>Close</td>      <th>  No. Observations:  </th>    <td>352</td>   \n",
       "</tr>\n",
       "<tr>\n",
       "  <th>Model:</th>           <td>SARIMAX(0, 1, 0)</td> <th>  Log Likelihood     </th> <td>-1585.516</td>\n",
       "</tr>\n",
       "<tr>\n",
       "  <th>Date:</th>            <td>Sat, 04 Jun 2022</td> <th>  AIC                </th> <td>3173.032</td> \n",
       "</tr>\n",
       "<tr>\n",
       "  <th>Time:</th>                <td>20:42:28</td>     <th>  BIC                </th> <td>3176.893</td> \n",
       "</tr>\n",
       "<tr>\n",
       "  <th>Sample:</th>             <td>01-21-2020</td>    <th>  HQIC               </th> <td>3174.569</td> \n",
       "</tr>\n",
       "<tr>\n",
       "  <th></th>                   <td>- 05-21-2021</td>   <th>                     </th>     <td> </td>    \n",
       "</tr>\n",
       "<tr>\n",
       "  <th>Covariance Type:</th>        <td>opg</td>       <th>                     </th>     <td> </td>    \n",
       "</tr>\n",
       "</table>\n",
       "<table class=\"simpletable\">\n",
       "<tr>\n",
       "     <td></td>       <th>coef</th>     <th>std err</th>      <th>z</th>      <th>P>|z|</th>  <th>[0.025</th>    <th>0.975]</th>  \n",
       "</tr>\n",
       "<tr>\n",
       "  <th>sigma2</th> <td>  490.9844</td> <td>   22.530</td> <td>   21.793</td> <td> 0.000</td> <td>  446.827</td> <td>  535.142</td>\n",
       "</tr>\n",
       "</table>\n",
       "<table class=\"simpletable\">\n",
       "<tr>\n",
       "  <th>Ljung-Box (L1) (Q):</th>     <td>0.14</td> <th>  Jarque-Bera (JB):  </th> <td>190.81</td>\n",
       "</tr>\n",
       "<tr>\n",
       "  <th>Prob(Q):</th>                <td>0.70</td> <th>  Prob(JB):          </th>  <td>0.00</td> \n",
       "</tr>\n",
       "<tr>\n",
       "  <th>Heteroskedasticity (H):</th> <td>0.49</td> <th>  Skew:              </th>  <td>-0.45</td>\n",
       "</tr>\n",
       "<tr>\n",
       "  <th>Prob(H) (two-sided):</th>    <td>0.00</td> <th>  Kurtosis:          </th>  <td>6.50</td> \n",
       "</tr>\n",
       "</table><br/><br/>Warnings:<br/>[1] Covariance matrix calculated using the outer product of gradients (complex-step)."
      ],
      "text/plain": [
       "<class 'statsmodels.iolib.summary.Summary'>\n",
       "\"\"\"\n",
       "                               SARIMAX Results                                \n",
       "==============================================================================\n",
       "Dep. Variable:                  Close   No. Observations:                  352\n",
       "Model:               SARIMAX(0, 1, 0)   Log Likelihood               -1585.516\n",
       "Date:                Sat, 04 Jun 2022   AIC                           3173.032\n",
       "Time:                        20:42:28   BIC                           3176.893\n",
       "Sample:                    01-21-2020   HQIC                          3174.569\n",
       "                         - 05-21-2021                                         \n",
       "Covariance Type:                  opg                                         \n",
       "==============================================================================\n",
       "                 coef    std err          z      P>|z|      [0.025      0.975]\n",
       "------------------------------------------------------------------------------\n",
       "sigma2       490.9844     22.530     21.793      0.000     446.827     535.142\n",
       "===================================================================================\n",
       "Ljung-Box (L1) (Q):                   0.14   Jarque-Bera (JB):               190.81\n",
       "Prob(Q):                              0.70   Prob(JB):                         0.00\n",
       "Heteroskedasticity (H):               0.49   Skew:                            -0.45\n",
       "Prob(H) (two-sided):                  0.00   Kurtosis:                         6.50\n",
       "===================================================================================\n",
       "\n",
       "Warnings:\n",
       "[1] Covariance matrix calculated using the outer product of gradients (complex-step).\n",
       "\"\"\""
      ]
     },
     "execution_count": 337,
     "metadata": {},
     "output_type": "execute_result"
    }
   ],
   "source": [
    "from statsmodels.tsa.statespace.sarimax import SARIMAX\n",
    "model2 = SARIMAX(train['Close'], order=(0,1,0), seasonal_order=(0,0,0,7)).fit()\n",
    "model2.summary()\n",
    "#cases의 회귀계수가 유효하지 않은 것으로 나와서 삭제하고 백색잡음만 있는 상태에서의 피팅으로 진행"
   ]
  },
  {
   "cell_type": "markdown",
   "id": "exclusive-praise",
   "metadata": {},
   "source": [
    "3-3. 위 두 모델에 대한 예측결과를 시각화 하시오"
   ]
  },
  {
   "cell_type": "code",
   "execution_count": 349,
   "id": "integral-chart",
   "metadata": {
    "tags": []
   },
   "outputs": [
    {
     "data": {
      "text/html": [
       "<table class=\"simpletable\">\n",
       "<caption>SARIMAX Results</caption>\n",
       "<tr>\n",
       "  <th>Dep. Variable:</th>           <td>y</td>        <th>  No. Observations:  </th>    <td>611</td>   \n",
       "</tr>\n",
       "<tr>\n",
       "  <th>Model:</th>           <td>SARIMAX(0, 1, 0)</td> <th>  Log Likelihood     </th> <td>-2698.347</td>\n",
       "</tr>\n",
       "<tr>\n",
       "  <th>Date:</th>            <td>Sat, 04 Jun 2022</td> <th>  AIC                </th> <td>5398.693</td> \n",
       "</tr>\n",
       "<tr>\n",
       "  <th>Time:</th>                <td>21:03:29</td>     <th>  BIC                </th> <td>5403.107</td> \n",
       "</tr>\n",
       "<tr>\n",
       "  <th>Sample:</th>                  <td>0</td>        <th>  HQIC               </th> <td>5400.410</td> \n",
       "</tr>\n",
       "<tr>\n",
       "  <th></th>                      <td> - 611</td>      <th>                     </th>     <td> </td>    \n",
       "</tr>\n",
       "<tr>\n",
       "  <th>Covariance Type:</th>        <td>opg</td>       <th>                     </th>     <td> </td>    \n",
       "</tr>\n",
       "</table>\n",
       "<table class=\"simpletable\">\n",
       "<tr>\n",
       "     <td></td>       <th>coef</th>     <th>std err</th>      <th>z</th>      <th>P>|z|</th>  <th>[0.025</th>    <th>0.975]</th>  \n",
       "</tr>\n",
       "<tr>\n",
       "  <th>sigma2</th> <td>  407.1501</td> <td>   13.925</td> <td>   29.238</td> <td> 0.000</td> <td>  379.857</td> <td>  434.443</td>\n",
       "</tr>\n",
       "</table>\n",
       "<table class=\"simpletable\">\n",
       "<tr>\n",
       "  <th>Ljung-Box (L1) (Q):</th>     <td>0.27</td> <th>  Jarque-Bera (JB):  </th> <td>366.56</td>\n",
       "</tr>\n",
       "<tr>\n",
       "  <th>Prob(Q):</th>                <td>0.60</td> <th>  Prob(JB):          </th>  <td>0.00</td> \n",
       "</tr>\n",
       "<tr>\n",
       "  <th>Heteroskedasticity (H):</th> <td>0.55</td> <th>  Skew:              </th>  <td>-0.52</td>\n",
       "</tr>\n",
       "<tr>\n",
       "  <th>Prob(H) (two-sided):</th>    <td>0.00</td> <th>  Kurtosis:          </th>  <td>6.65</td> \n",
       "</tr>\n",
       "</table><br/><br/>Warnings:<br/>[1] Covariance matrix calculated using the outer product of gradients (complex-step)."
      ],
      "text/plain": [
       "<class 'statsmodels.iolib.summary.Summary'>\n",
       "\"\"\"\n",
       "                               SARIMAX Results                                \n",
       "==============================================================================\n",
       "Dep. Variable:                      y   No. Observations:                  611\n",
       "Model:               SARIMAX(0, 1, 0)   Log Likelihood               -2698.347\n",
       "Date:                Sat, 04 Jun 2022   AIC                           5398.693\n",
       "Time:                        21:03:29   BIC                           5403.107\n",
       "Sample:                             0   HQIC                          5400.410\n",
       "                                - 611                                         \n",
       "Covariance Type:                  opg                                         \n",
       "==============================================================================\n",
       "                 coef    std err          z      P>|z|      [0.025      0.975]\n",
       "------------------------------------------------------------------------------\n",
       "sigma2       407.1501     13.925     29.238      0.000     379.857     434.443\n",
       "===================================================================================\n",
       "Ljung-Box (L1) (Q):                   0.27   Jarque-Bera (JB):               366.56\n",
       "Prob(Q):                              0.60   Prob(JB):                         0.00\n",
       "Heteroskedasticity (H):               0.55   Skew:                            -0.52\n",
       "Prob(H) (two-sided):                  0.00   Kurtosis:                         6.65\n",
       "===================================================================================\n",
       "\n",
       "Warnings:\n",
       "[1] Covariance matrix calculated using the outer product of gradients (complex-step).\n",
       "\"\"\""
      ]
     },
     "execution_count": 349,
     "metadata": {},
     "output_type": "execute_result"
    }
   ],
   "source": [
    "#두 모델이 동일한 모델이기 때문에 하나의 예측결과만 정리함\n",
    "## Refresh 방법을 통해 백색잡음으로만 이루어진 임의보행모형을 예측함\n",
    "import datetime as dt\n",
    "aa = auto_arima(train['Close'], seasonal=True, m=7)\n",
    "aa.fit(train['Close'])\n",
    "\n",
    "pred = []\n",
    "conf_upper = []\n",
    "conf_lower = []\n",
    "for data in test['Close']:\n",
    "    fc, conf = aa.predict(n_periods=1, return_conf_int=True)\n",
    "    fc_v = fc.tolist()[0]\n",
    "    conf_v = np.asarray(conf).tolist()[0]\n",
    "    lower = conf_v[0]\n",
    "    upper = conf_v[1]\n",
    "    #리스트에 각 값 추가\n",
    "    pred.append(fc)\n",
    "    conf_lower.append(lower)\n",
    "    conf_upper.append(upper)\n",
    "    #모델 업데이트\n",
    "    aa.update(data)\n",
    "aa.summary()"
   ]
  },
  {
   "cell_type": "code",
   "execution_count": 361,
   "id": "junior-mainland",
   "metadata": {},
   "outputs": [
    {
     "data": {
      "image/png": "[encoded data removed]",
      "text/plain": [
       "<Figure size 432x288 with 1 Axes>"
      ]
     },
     "metadata": {
      "needs_background": "light"
     },
     "output_type": "display_data"
    }
   ],
   "source": [
    "plt.plot(pred)\n",
    "plt.plot(test['Close'].values)\n",
    "plt.show()"
   ]
  },
  {
   "cell_type": "markdown",
   "id": "successful-parks",
   "metadata": {},
   "source": [
    "3-4. 위 모델에 대한 잔차분석을 시행하시오."
   ]
  },
  {
   "cell_type": "code",
   "execution_count": 366,
   "id": "bacterial-tissue",
   "metadata": {
    "tags": []
   },
   "outputs": [
    {
     "name": "stderr",
     "output_type": "stream",
     "text": [
      "/Library/Frameworks/Python.framework/Versions/3.8/lib/python3.8/site-packages/statsmodels/graphics/gofplots.py:993: UserWarning: marker is redundantly defined by the 'marker' keyword argument and the fmt string \"bo\" (-> marker='o'). The keyword argument will take precedence.\n",
      "  ax.plot(x, y, fmt, **plot_style)\n"
     ]
    },
    {
     "data": {
      "image/png": "[encoded data removed]",
      "text/plain": [
       "<Figure size 720x720 with 4 Axes>"
      ]
     },
     "metadata": {
      "needs_background": "light"
     },
     "output_type": "display_data"
    }
   ],
   "source": [
    "aa.plot_diagnostics(figsize=(10,10))\n",
    "plt.show()\n",
    "#QQ plot과 잔차 plot을 봤을때 정상성을 만족하지 못하지만 자기상관은 없는 데이터로 보임"
   ]
  },
  {
   "cell_type": "code",
   "execution_count": 369,
   "id": "standard-quest",
   "metadata": {},
   "outputs": [
    {
     "name": "stdout",
     "output_type": "stream",
     "text": [
      "0.006729859806900813\n"
     ]
    }
   ],
   "source": [
    "from sklearn.metrics import mean_absolute_percentage_error as MAPE\n",
    "print(MAPE(test['Close'].values, pred))\n",
    "#매우 낮은 MAPE를 보이며 잘 적합되었다고 볼 수 있음 (0에 가까울수록 잘 예측)"
   ]
  }
 ],
 "metadata": {
  "kernelspec": {
   "display_name": "Python 3",
   "language": "python",
   "name": "python3"
  },
  "language_info": {
   "codemirror_mode": {
    "name": "ipython",
    "version": 3
   },
   "file_extension": ".py",
   "mimetype": "text/x-python",
   "name": "python",
   "nbconvert_exporter": "python",
   "pygments_lexer": "ipython3",
   "version": "3.8.8"
  }
 },
 "nbformat": 4,
 "nbformat_minor": 5
}
