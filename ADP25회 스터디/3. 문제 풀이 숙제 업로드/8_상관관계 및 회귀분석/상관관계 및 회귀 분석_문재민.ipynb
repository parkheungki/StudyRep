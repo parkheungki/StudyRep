{
 "cells": [
  {
   "cell_type": "markdown",
   "id": "af2f73c5",
   "metadata": {
    "toc": true
   },
   "source": [
    "<h1>Table of Contents<span class=\"tocSkip\"></span></h1>\n",
    "<div class=\"toc\"><ul class=\"toc-item\"><li><span><a href=\"#머신-러닝\" data-toc-modified-id=\"머신-러닝-1\"><span class=\"toc-item-num\">1&nbsp;&nbsp;</span>머신 러닝</a></span><ul class=\"toc-item\"><li><ul class=\"toc-item\"><li><span><a href=\"#문제-1.-자전거-대여-수요(count)-예측\" data-toc-modified-id=\"문제-1.-자전거-대여-수요(count)-예측-1.0.1\"><span class=\"toc-item-num\">1.0.1&nbsp;&nbsp;</span>문제 1. 자전거 대여 수요(count) 예측</a></span><ul class=\"toc-item\"><li><span><a href=\"#주요-Feature-설명-:-bike_train.csv\" data-toc-modified-id=\"주요-Feature-설명-:-bike_train.csv-1.0.1.1\"><span class=\"toc-item-num\">1.0.1.1&nbsp;&nbsp;</span>주요 Feature 설명 : bike_train.csv</a></span></li></ul></li><li><span><a href=\"#1-1)-Train-데이터셋을-이용하여-탐색적-데이터-분석을-시행-하고,-시각화와-함께-그-결과에-대해-논하시오\" data-toc-modified-id=\"1-1)-Train-데이터셋을-이용하여-탐색적-데이터-분석을-시행-하고,-시각화와-함께-그-결과에-대해-논하시오-1.0.2\"><span class=\"toc-item-num\">1.0.2&nbsp;&nbsp;</span>1-1) Train 데이터셋을 이용하여 탐색적 데이터 분석을 시행 하고, 시각화와 함께 그 결과에 대해 논하시오</a></span><ul class=\"toc-item\"><li><span><a href=\"#데이터-구조\" data-toc-modified-id=\"데이터-구조-1.0.2.1\"><span class=\"toc-item-num\">1.0.2.1&nbsp;&nbsp;</span>데이터 구조</a></span></li><li><span><a href=\"#결측치\" data-toc-modified-id=\"결측치-1.0.2.2\"><span class=\"toc-item-num\">1.0.2.2&nbsp;&nbsp;</span>결측치</a></span></li><li><span><a href=\"#데이터-분포\" data-toc-modified-id=\"데이터-분포-1.0.2.3\"><span class=\"toc-item-num\">1.0.2.3&nbsp;&nbsp;</span>데이터 분포</a></span></li><li><span><a href=\"#상관관계-분석\" data-toc-modified-id=\"상관관계-분석-1.0.2.4\"><span class=\"toc-item-num\">1.0.2.4&nbsp;&nbsp;</span>상관관계 분석</a></span></li><li><span><a href=\"#이상치\" data-toc-modified-id=\"이상치-1.0.2.5\"><span class=\"toc-item-num\">1.0.2.5&nbsp;&nbsp;</span>이상치</a></span></li></ul></li><li><span><a href=\"#1-2)-Train-데이터-셋을-8:2-비율로-데이터를-분할하고,-전처리를-수행하시오\" data-toc-modified-id=\"1-2)-Train-데이터-셋을-8:2-비율로-데이터를-분할하고,-전처리를-수행하시오-1.0.3\"><span class=\"toc-item-num\">1.0.3&nbsp;&nbsp;</span>1-2) Train 데이터 셋을 8:2 비율로 데이터를 분할하고, 전처리를 수행하시오</a></span><ul class=\"toc-item\"><li><span><a href=\"#순위형-변수-전처리\" data-toc-modified-id=\"순위형-변수-전처리-1.0.3.1\"><span class=\"toc-item-num\">1.0.3.1&nbsp;&nbsp;</span>순위형 변수 전처리</a></span></li><li><span><a href=\"#dateTime-변수-삭제\" data-toc-modified-id=\"dateTime-변수-삭제-1.0.3.2\"><span class=\"toc-item-num\">1.0.3.2&nbsp;&nbsp;</span>dateTime 변수 삭제</a></span></li></ul></li><li><span><a href=\"#1-3)-Ridge-회귀분석을-수행하는데,-0~1까지-0.1간격으로-alpha를-조절하여-만든-모델중-${R}^2$-최적인-모델에-대해-1-2)에서-분할된-test-set으로-예측한-값들에-대해-${R}^2$와-RMSE를-구하시오.\" data-toc-modified-id=\"1-3)-Ridge-회귀분석을-수행하는데,-0~1까지-0.1간격으로-alpha를-조절하여-만든-모델중-${R}^2$-최적인-모델에-대해-1-2)에서-분할된-test-set으로-예측한-값들에-대해-${R}^2$와-RMSE를-구하시오.-1.0.4\"><span class=\"toc-item-num\">1.0.4&nbsp;&nbsp;</span>1-3) Ridge 회귀분석을 수행하는데, 0~1까지 0.1간격으로 alpha를 조절하여 만든 모델중 ${R}^2$ 최적인 모델에 대해 1-2)에서 분할된 test set으로 예측한 값들에 대해 ${R}^2$와 RMSE를 구하시오.</a></span></li><li><span><a href=\"#1-4)-마찬가지로-Lasso-회귀분석을-수행하고,-0~1까지-0.1간격으로-alpha를-조절하여-만든-모델중-${R}^2$-최적인-모델에-대해-1-2)에서-분할된-test-set으로-예측한-값들에-대해-${R}^2$와-RMSE를-구하시오\" data-toc-modified-id=\"1-4)-마찬가지로-Lasso-회귀분석을-수행하고,-0~1까지-0.1간격으로-alpha를-조절하여-만든-모델중-${R}^2$-최적인-모델에-대해-1-2)에서-분할된-test-set으로-예측한-값들에-대해-${R}^2$와-RMSE를-구하시오-1.0.5\"><span class=\"toc-item-num\">1.0.5&nbsp;&nbsp;</span>1-4) 마찬가지로 Lasso 회귀분석을 수행하고, 0~1까지 0.1간격으로 alpha를 조절하여 만든 모델중 ${R}^2$ 최적인 모델에 대해 1-2)에서 분할된 test set으로 예측한 값들에 대해 ${R}^2$와 RMSE를 구하시오</a></span></li><li><span><a href=\"#1-5)-3가지-회귀-트리-모델을-선택하여-모형-학습-및-예측/변수-중요도를-시각화를-하시오\" data-toc-modified-id=\"1-5)-3가지-회귀-트리-모델을-선택하여-모형-학습-및-예측/변수-중요도를-시각화를-하시오-1.0.6\"><span class=\"toc-item-num\">1.0.6&nbsp;&nbsp;</span>1-5) 3가지 회귀 트리 모델을 선택하여 모형 학습 및 예측/변수 중요도를 시각화를 하시오</a></span><ul class=\"toc-item\"><li><span><a href=\"#3가지-회귀-모델\" data-toc-modified-id=\"3가지-회귀-모델-1.0.6.1\"><span class=\"toc-item-num\">1.0.6.1&nbsp;&nbsp;</span>3가지 회귀 모델</a></span></li></ul></li></ul></li></ul></li><li><span><a href=\"#통계-분석\" data-toc-modified-id=\"통계-분석-2\"><span class=\"toc-item-num\">2&nbsp;&nbsp;</span>통계 분석</a></span><ul class=\"toc-item\"><li><span><a href=\"#문제-2.-시계열-분석---삼성전자-종가(Close)-예측\" data-toc-modified-id=\"문제-2.-시계열-분석---삼성전자-종가(Close)-예측-2.1\"><span class=\"toc-item-num\">2.1&nbsp;&nbsp;</span>문제 2. 시계열 분석 - 삼성전자 종가(Close) 예측</a></span><ul class=\"toc-item\"><li><span><a href=\"#주요-Feature-설명-:-samsung.csv\" data-toc-modified-id=\"주요-Feature-설명-:-samsung.csv-2.1.1\"><span class=\"toc-item-num\">2.1.1&nbsp;&nbsp;</span>주요 Feature 설명 : samsung.csv</a></span></li><li><span><a href=\"#2-1)-EDA-및-전처리를-수행-하시오\" data-toc-modified-id=\"2-1)-EDA-및-전처리를-수행-하시오-2.1.2\"><span class=\"toc-item-num\">2.1.2&nbsp;&nbsp;</span>2-1) EDA 및 전처리를 수행 하시오</a></span></li><li><span><a href=\"#2-2)-데이터-셋을-7:3의-비율로-데이터를-분할-하고-,-시계열-분석을-수행하시오\" data-toc-modified-id=\"2-2)-데이터-셋을-7:3의-비율로-데이터를-분할-하고-,-시계열-분석을-수행하시오-2.1.3\"><span class=\"toc-item-num\">2.1.3&nbsp;&nbsp;</span>2-2) 데이터 셋을 7:3의 비율로 데이터를 분할 하고 , 시계열 분석을 수행하시오</a></span></li><li><span><a href=\"#2-3)-잔차-검정을-수행하고,-테스트-데이터를-예측-및-시각화를-수행-하시오\" data-toc-modified-id=\"2-3)-잔차-검정을-수행하고,-테스트-데이터를-예측-및-시각화를-수행-하시오-2.1.4\"><span class=\"toc-item-num\">2.1.4&nbsp;&nbsp;</span>2-3) 잔차 검정을 수행하고, 테스트 데이터를 예측 및 시각화를 수행 하시오</a></span></li><li><span><a href=\"#2-4)-테스트-데이터에-대한-평가지표-MAPE-값을-도출-하시오\" data-toc-modified-id=\"2-4)-테스트-데이터에-대한-평가지표-MAPE-값을-도출-하시오-2.1.5\"><span class=\"toc-item-num\">2.1.5&nbsp;&nbsp;</span>2-4) 테스트 데이터에 대한 평가지표 MAPE 값을 도출 하시오</a></span></li><li><span><a href=\"#2-5)-모형-성능-개선을-하기-위해서-전략-및-구현을-하시오(ex:-refresh)\" data-toc-modified-id=\"2-5)-모형-성능-개선을-하기-위해서-전략-및-구현을-하시오(ex:-refresh)-2.1.6\"><span class=\"toc-item-num\">2.1.6&nbsp;&nbsp;</span>2-5) 모형 성능 개선을 하기 위해서 전략 및 구현을 하시오(ex: refresh)</a></span></li></ul></li><li><span><a href=\"#문제-3.-통계분석(명목형-변수-검정)\" data-toc-modified-id=\"문제-3.-통계분석(명목형-변수-검정)-2.2\"><span class=\"toc-item-num\">2.2&nbsp;&nbsp;</span>문제 3. 통계분석(명목형 변수 검정)</a></span><ul class=\"toc-item\"><li><span><a href=\"#3개의-모델의-분류-결과-값에-대하여-모델의-분류-정확도-간에-차이가-있는지-검정-하시오\" data-toc-modified-id=\"3개의-모델의-분류-결과-값에-대하여-모델의-분류-정확도-간에-차이가-있는지-검정-하시오-2.2.1\"><span class=\"toc-item-num\">2.2.1&nbsp;&nbsp;</span>3개의 모델의 분류 결과 값에 대하여 모델의 분류 정확도 간에 차이가 있는지 검정 하시오</a></span><ul class=\"toc-item\"><li><span><a href=\"#독립성-검정-가설\" data-toc-modified-id=\"독립성-검정-가설-2.2.1.1\"><span class=\"toc-item-num\">2.2.1.1&nbsp;&nbsp;</span>독립성 검정 가설</a></span></li><li><span><a href=\"#결론\" data-toc-modified-id=\"결론-2.2.1.2\"><span class=\"toc-item-num\">2.2.1.2&nbsp;&nbsp;</span>결론</a></span></li></ul></li></ul></li><li><span><a href=\"#문제4.-상관관계-분석\" data-toc-modified-id=\"문제4.-상관관계-분석-2.3\"><span class=\"toc-item-num\">2.3&nbsp;&nbsp;</span>문제4. 상관관계 분석</a></span><ul class=\"toc-item\"><li><span><a href=\"#한-수출기업에서-원-달러-환율과-수출액-간의-관계를-분석하기-위하여-한-지점의-최근-10개월간의-데이터를-수집한-결과가-다음과-같다.-(유의수준-5%)\" data-toc-modified-id=\"한-수출기업에서-원-달러-환율과-수출액-간의-관계를-분석하기-위하여-한-지점의-최근-10개월간의-데이터를-수집한-결과가-다음과-같다.-(유의수준-5%)-2.3.1\"><span class=\"toc-item-num\">2.3.1&nbsp;&nbsp;</span>한 수출기업에서 원-달러 환율과 수출액 간의 관계를 분석하기 위하여 한 지점의 최근 10개월간의 데이터를 수집한 결과가 다음과 같다. (유의수준 5%)</a></span><ul class=\"toc-item\"><li><span><a href=\"#문제-4-1)-환율과-수출액-간에-상관관계가-있는지-검정-하시오\" data-toc-modified-id=\"문제-4-1)-환율과-수출액-간에-상관관계가-있는지-검정-하시오-2.3.1.1\"><span class=\"toc-item-num\">2.3.1.1&nbsp;&nbsp;</span>문제 4-1) 환율과 수출액 간에 상관관계가 있는지 검정 하시오</a></span></li><li><span><a href=\"#문제-4-2)-환율과-수출액간의-상관계수가-0.9라고-할수-있는지-검정-하시오\" data-toc-modified-id=\"문제-4-2)-환율과-수출액간의-상관계수가-0.9라고-할수-있는지-검정-하시오-2.3.1.2\"><span class=\"toc-item-num\">2.3.1.2&nbsp;&nbsp;</span>문제 4-2) 환율과 수출액간의 상관계수가 0.9라고 할수 있는지 검정 하시오</a></span></li><li><span><a href=\"#문제-4-3)-어느-공장에서-작업자의-“결근횟수”와-“생산량”이-서로-상관관계가-있는지를-파악하는-중이다.-그래서-과거의-데이터를-분석해서-총-15개의-표본을-뽑았더니,-상관계수는--0.45가-나왔다.-그럼-“결근횟수”와-“생산량”은-서로-상관관계가-있다고-할-수-있는지-유의수준-5%에서-검정하시오.\" data-toc-modified-id=\"문제-4-3)-어느-공장에서-작업자의-“결근횟수”와-“생산량”이-서로-상관관계가-있는지를-파악하는-중이다.-그래서-과거의-데이터를-분석해서-총-15개의-표본을-뽑았더니,-상관계수는--0.45가-나왔다.-그럼-“결근횟수”와-“생산량”은-서로-상관관계가-있다고-할-수-있는지-유의수준-5%에서-검정하시오.-2.3.1.3\"><span class=\"toc-item-num\">2.3.1.3&nbsp;&nbsp;</span>문제 4-3) 어느 공장에서 작업자의 “결근횟수”와 “생산량”이 서로 상관관계가 있는지를 파악하는 중이다. 그래서 과거의 데이터를 분석해서 총 15개의 표본을 뽑았더니, 상관계수는 -0.45가 나왔다. 그럼 “결근횟수”와 “생산량”은 서로 상관관계가 있다고 할 수 있는지 유의수준 5%에서 검정하시오.</a></span></li></ul></li></ul></li><li><span><a href=\"#문제-5-회귀분석-(문제-4번의-환율과-수출액간의-데이터를-이용)\" data-toc-modified-id=\"문제-5-회귀분석-(문제-4번의-환율과-수출액간의-데이터를-이용)-2.4\"><span class=\"toc-item-num\">2.4&nbsp;&nbsp;</span>문제 5 회귀분석 (문제 4번의 환율과 수출액간의 데이터를 이용)</a></span><ul class=\"toc-item\"><li><ul class=\"toc-item\"><li><span><a href=\"#5-1)-환율을-독립변수,-수출액을-종속변수로-놓고-추정된-회귀식-및-회귀-모형을-검정-하시오\" data-toc-modified-id=\"5-1)-환율을-독립변수,-수출액을-종속변수로-놓고-추정된-회귀식-및-회귀-모형을-검정-하시오-2.4.0.1\"><span class=\"toc-item-num\">2.4.0.1&nbsp;&nbsp;</span>5-1) 환율을 독립변수, 수출액을 종속변수로 놓고 추정된 회귀식 및 회귀 모형을 검정 하시오</a></span></li><li><span><a href=\"#5-2)-위에서-구한-회귀식이-유용한지-아니면-유용하지-않는지-모형의-적합성-검정(분산분석)을-수행하시오\" data-toc-modified-id=\"5-2)-위에서-구한-회귀식이-유용한지-아니면-유용하지-않는지-모형의-적합성-검정(분산분석)을-수행하시오-2.4.0.2\"><span class=\"toc-item-num\">2.4.0.2&nbsp;&nbsp;</span>5-2) 위에서 구한 회귀식이 유용한지 아니면 유용하지 않는지 모형의 적합성 검정(분산분석)을 수행하시오</a></span></li><li><span><a href=\"#5-3)-환율이-1200일때-예상되는-수출액에-대한-95%-신뢰구간과-95%-예측구간을-구하시오\" data-toc-modified-id=\"5-3)-환율이-1200일때-예상되는-수출액에-대한-95%-신뢰구간과-95%-예측구간을-구하시오-2.4.0.3\"><span class=\"toc-item-num\">2.4.0.3&nbsp;&nbsp;</span>5-3) 환율이 1200일때 예상되는 수출액에 대한 95% 신뢰구간과 95% 예측구간을 구하시오</a></span></li></ul></li></ul></li></ul></li></ul></div>"
   ]
  },
  {
   "cell_type": "markdown",
   "id": "39235205-1e7c-4871-aa4c-5e7e3ae740ef",
   "metadata": {
    "id": "39235205-1e7c-4871-aa4c-5e7e3ae740ef"
   },
   "source": [
    "# 머신 러닝"
   ]
  },
  {
   "cell_type": "markdown",
   "id": "8f2fd68a-2ace-4068-96b4-43e26a3490bf",
   "metadata": {
    "id": "8f2fd68a-2ace-4068-96b4-43e26a3490bf"
   },
   "source": [
    "### 문제 1. 자전거 대여 수요(count) 예측\n",
    "\n",
    "#### 주요 Feature 설명 : bike_train.csv\n",
    "***\n",
    "- datatime : 날짜\n",
    "\n",
    "- season : 1 = 봄, 2 = 여름, 3 = 가을, 4 = 겨울\n",
    "\n",
    "- holiday : 1 = 주말 및 휴일, 0 = 평일\n",
    "\n",
    "- workingday: 1 = 주중, 0 = 주말 및 휴일\n",
    "\n",
    "- weather : 1 = 맑음, 약간 구름 낀 흐림, 2 = 안개, 안개 + 흐림, 3 = 가벼운 눈, 가벼운 비 + 천둥, 4 = 심한 눈/비, 천둥/번개\n",
    "\n",
    "- temp : 온도(섭씨)\n",
    "\n",
    "- atem : 체감 온도(섭씨)\n",
    "\n",
    "- humidity : 상대 습도\n",
    "\n",
    "- windspeed : 풍속\n",
    "\n",
    "- casual : 미등록 사용자 대여수\n",
    "\n",
    "- registered : 등록된 사용자 대여수\n",
    "\n",
    "- count : 대여 횟수(casual + registered)\n",
    "***"
   ]
  },
  {
   "cell_type": "markdown",
   "id": "ab3bcb27-3f84-406b-bf9a-e92903d20b5b",
   "metadata": {
    "id": "ab3bcb27-3f84-406b-bf9a-e92903d20b5b"
   },
   "source": [
    "### 1-1) Train 데이터셋을 이용하여 탐색적 데이터 분석을 시행 하고, 시각화와 함께 그 결과에 대해 논하시오"
   ]
  },
  {
   "cell_type": "code",
   "execution_count": 31,
   "id": "04114396",
   "metadata": {},
   "outputs": [
    {
     "name": "stdout",
     "output_type": "stream",
     "text": [
      "<class 'pandas.core.frame.DataFrame'>\n",
      "RangeIndex: 10886 entries, 0 to 10885\n",
      "Data columns (total 12 columns):\n",
      " #   Column      Non-Null Count  Dtype  \n",
      "---  ------      --------------  -----  \n",
      " 0   datetime    10886 non-null  object \n",
      " 1   season      10886 non-null  int64  \n",
      " 2   holiday     10886 non-null  int64  \n",
      " 3   workingday  10886 non-null  int64  \n",
      " 4   weather     10886 non-null  int64  \n",
      " 5   temp        10886 non-null  float64\n",
      " 6   atemp       10886 non-null  float64\n",
      " 7   humidity    10886 non-null  int64  \n",
      " 8   windspeed   10886 non-null  float64\n",
      " 9   casual      10886 non-null  int64  \n",
      " 10  registered  10886 non-null  int64  \n",
      " 11  count       10886 non-null  int64  \n",
      "dtypes: float64(3), int64(8), object(1)\n",
      "memory usage: 1020.7+ KB\n"
     ]
    }
   ],
   "source": [
    "import pandas as pd\n",
    "import numpy as np\n",
    "\n",
    "df1 = pd.read_csv('./bike_train.csv')\n",
    "df1.info()"
   ]
  },
  {
   "cell_type": "code",
   "execution_count": 32,
   "id": "067469b3",
   "metadata": {},
   "outputs": [
    {
     "name": "stderr",
     "output_type": "stream",
     "text": [
      "/Users/hmc/opt/anaconda3/envs/ADP_Class/lib/python3.7/site-packages/ipykernel_launcher.py:2: FutureWarning: Treating datetime data as categorical rather than numeric in `.describe` is deprecated and will be removed in a future version of pandas. Specify `datetime_is_numeric=True` to silence this warning and adopt the future behavior now.\n",
      "  \n"
     ]
    },
    {
     "data": {
      "text/html": [
       "<div>\n",
       "<style scoped>\n",
       "    .dataframe tbody tr th:only-of-type {\n",
       "        vertical-align: middle;\n",
       "    }\n",
       "\n",
       "    .dataframe tbody tr th {\n",
       "        vertical-align: top;\n",
       "    }\n",
       "\n",
       "    .dataframe thead th {\n",
       "        text-align: right;\n",
       "    }\n",
       "</style>\n",
       "<table border=\"1\" class=\"dataframe\">\n",
       "  <thead>\n",
       "    <tr style=\"text-align: right;\">\n",
       "      <th></th>\n",
       "      <th>datetime</th>\n",
       "      <th>season</th>\n",
       "      <th>holiday</th>\n",
       "      <th>workingday</th>\n",
       "      <th>weather</th>\n",
       "      <th>temp</th>\n",
       "      <th>atemp</th>\n",
       "      <th>humidity</th>\n",
       "      <th>windspeed</th>\n",
       "      <th>casual</th>\n",
       "      <th>registered</th>\n",
       "      <th>count</th>\n",
       "    </tr>\n",
       "  </thead>\n",
       "  <tbody>\n",
       "    <tr>\n",
       "      <th>count</th>\n",
       "      <td>10886</td>\n",
       "      <td>10886.000000</td>\n",
       "      <td>10886.000000</td>\n",
       "      <td>10886.000000</td>\n",
       "      <td>10886.000000</td>\n",
       "      <td>10886.00000</td>\n",
       "      <td>10886.000000</td>\n",
       "      <td>10886.000000</td>\n",
       "      <td>10886.000000</td>\n",
       "      <td>10886.000000</td>\n",
       "      <td>10886.000000</td>\n",
       "      <td>10886.000000</td>\n",
       "    </tr>\n",
       "    <tr>\n",
       "      <th>unique</th>\n",
       "      <td>10886</td>\n",
       "      <td>NaN</td>\n",
       "      <td>NaN</td>\n",
       "      <td>NaN</td>\n",
       "      <td>NaN</td>\n",
       "      <td>NaN</td>\n",
       "      <td>NaN</td>\n",
       "      <td>NaN</td>\n",
       "      <td>NaN</td>\n",
       "      <td>NaN</td>\n",
       "      <td>NaN</td>\n",
       "      <td>NaN</td>\n",
       "    </tr>\n",
       "    <tr>\n",
       "      <th>top</th>\n",
       "      <td>2012-07-04 14:00:00</td>\n",
       "      <td>NaN</td>\n",
       "      <td>NaN</td>\n",
       "      <td>NaN</td>\n",
       "      <td>NaN</td>\n",
       "      <td>NaN</td>\n",
       "      <td>NaN</td>\n",
       "      <td>NaN</td>\n",
       "      <td>NaN</td>\n",
       "      <td>NaN</td>\n",
       "      <td>NaN</td>\n",
       "      <td>NaN</td>\n",
       "    </tr>\n",
       "    <tr>\n",
       "      <th>freq</th>\n",
       "      <td>1</td>\n",
       "      <td>NaN</td>\n",
       "      <td>NaN</td>\n",
       "      <td>NaN</td>\n",
       "      <td>NaN</td>\n",
       "      <td>NaN</td>\n",
       "      <td>NaN</td>\n",
       "      <td>NaN</td>\n",
       "      <td>NaN</td>\n",
       "      <td>NaN</td>\n",
       "      <td>NaN</td>\n",
       "      <td>NaN</td>\n",
       "    </tr>\n",
       "    <tr>\n",
       "      <th>first</th>\n",
       "      <td>2011-01-01 00:00:00</td>\n",
       "      <td>NaN</td>\n",
       "      <td>NaN</td>\n",
       "      <td>NaN</td>\n",
       "      <td>NaN</td>\n",
       "      <td>NaN</td>\n",
       "      <td>NaN</td>\n",
       "      <td>NaN</td>\n",
       "      <td>NaN</td>\n",
       "      <td>NaN</td>\n",
       "      <td>NaN</td>\n",
       "      <td>NaN</td>\n",
       "    </tr>\n",
       "    <tr>\n",
       "      <th>last</th>\n",
       "      <td>2012-12-19 23:00:00</td>\n",
       "      <td>NaN</td>\n",
       "      <td>NaN</td>\n",
       "      <td>NaN</td>\n",
       "      <td>NaN</td>\n",
       "      <td>NaN</td>\n",
       "      <td>NaN</td>\n",
       "      <td>NaN</td>\n",
       "      <td>NaN</td>\n",
       "      <td>NaN</td>\n",
       "      <td>NaN</td>\n",
       "      <td>NaN</td>\n",
       "    </tr>\n",
       "    <tr>\n",
       "      <th>mean</th>\n",
       "      <td>NaN</td>\n",
       "      <td>2.506614</td>\n",
       "      <td>0.028569</td>\n",
       "      <td>0.680875</td>\n",
       "      <td>1.418427</td>\n",
       "      <td>20.23086</td>\n",
       "      <td>23.655084</td>\n",
       "      <td>61.886460</td>\n",
       "      <td>12.799395</td>\n",
       "      <td>36.021955</td>\n",
       "      <td>155.552177</td>\n",
       "      <td>191.574132</td>\n",
       "    </tr>\n",
       "    <tr>\n",
       "      <th>std</th>\n",
       "      <td>NaN</td>\n",
       "      <td>1.116174</td>\n",
       "      <td>0.166599</td>\n",
       "      <td>0.466159</td>\n",
       "      <td>0.633839</td>\n",
       "      <td>7.79159</td>\n",
       "      <td>8.474601</td>\n",
       "      <td>19.245033</td>\n",
       "      <td>8.164537</td>\n",
       "      <td>49.960477</td>\n",
       "      <td>151.039033</td>\n",
       "      <td>181.144454</td>\n",
       "    </tr>\n",
       "    <tr>\n",
       "      <th>min</th>\n",
       "      <td>NaN</td>\n",
       "      <td>1.000000</td>\n",
       "      <td>0.000000</td>\n",
       "      <td>0.000000</td>\n",
       "      <td>1.000000</td>\n",
       "      <td>0.82000</td>\n",
       "      <td>0.760000</td>\n",
       "      <td>0.000000</td>\n",
       "      <td>0.000000</td>\n",
       "      <td>0.000000</td>\n",
       "      <td>0.000000</td>\n",
       "      <td>1.000000</td>\n",
       "    </tr>\n",
       "    <tr>\n",
       "      <th>25%</th>\n",
       "      <td>NaN</td>\n",
       "      <td>2.000000</td>\n",
       "      <td>0.000000</td>\n",
       "      <td>0.000000</td>\n",
       "      <td>1.000000</td>\n",
       "      <td>13.94000</td>\n",
       "      <td>16.665000</td>\n",
       "      <td>47.000000</td>\n",
       "      <td>7.001500</td>\n",
       "      <td>4.000000</td>\n",
       "      <td>36.000000</td>\n",
       "      <td>42.000000</td>\n",
       "    </tr>\n",
       "    <tr>\n",
       "      <th>50%</th>\n",
       "      <td>NaN</td>\n",
       "      <td>3.000000</td>\n",
       "      <td>0.000000</td>\n",
       "      <td>1.000000</td>\n",
       "      <td>1.000000</td>\n",
       "      <td>20.50000</td>\n",
       "      <td>24.240000</td>\n",
       "      <td>62.000000</td>\n",
       "      <td>12.998000</td>\n",
       "      <td>17.000000</td>\n",
       "      <td>118.000000</td>\n",
       "      <td>145.000000</td>\n",
       "    </tr>\n",
       "    <tr>\n",
       "      <th>75%</th>\n",
       "      <td>NaN</td>\n",
       "      <td>4.000000</td>\n",
       "      <td>0.000000</td>\n",
       "      <td>1.000000</td>\n",
       "      <td>2.000000</td>\n",
       "      <td>26.24000</td>\n",
       "      <td>31.060000</td>\n",
       "      <td>77.000000</td>\n",
       "      <td>16.997900</td>\n",
       "      <td>49.000000</td>\n",
       "      <td>222.000000</td>\n",
       "      <td>284.000000</td>\n",
       "    </tr>\n",
       "    <tr>\n",
       "      <th>max</th>\n",
       "      <td>NaN</td>\n",
       "      <td>4.000000</td>\n",
       "      <td>1.000000</td>\n",
       "      <td>1.000000</td>\n",
       "      <td>4.000000</td>\n",
       "      <td>41.00000</td>\n",
       "      <td>45.455000</td>\n",
       "      <td>100.000000</td>\n",
       "      <td>56.996900</td>\n",
       "      <td>367.000000</td>\n",
       "      <td>886.000000</td>\n",
       "      <td>977.000000</td>\n",
       "    </tr>\n",
       "  </tbody>\n",
       "</table>\n",
       "</div>"
      ],
      "text/plain": [
       "                   datetime        season       holiday    workingday  \\\n",
       "count                 10886  10886.000000  10886.000000  10886.000000   \n",
       "unique                10886           NaN           NaN           NaN   \n",
       "top     2012-07-04 14:00:00           NaN           NaN           NaN   \n",
       "freq                      1           NaN           NaN           NaN   \n",
       "first   2011-01-01 00:00:00           NaN           NaN           NaN   \n",
       "last    2012-12-19 23:00:00           NaN           NaN           NaN   \n",
       "mean                    NaN      2.506614      0.028569      0.680875   \n",
       "std                     NaN      1.116174      0.166599      0.466159   \n",
       "min                     NaN      1.000000      0.000000      0.000000   \n",
       "25%                     NaN      2.000000      0.000000      0.000000   \n",
       "50%                     NaN      3.000000      0.000000      1.000000   \n",
       "75%                     NaN      4.000000      0.000000      1.000000   \n",
       "max                     NaN      4.000000      1.000000      1.000000   \n",
       "\n",
       "             weather         temp         atemp      humidity     windspeed  \\\n",
       "count   10886.000000  10886.00000  10886.000000  10886.000000  10886.000000   \n",
       "unique           NaN          NaN           NaN           NaN           NaN   \n",
       "top              NaN          NaN           NaN           NaN           NaN   \n",
       "freq             NaN          NaN           NaN           NaN           NaN   \n",
       "first            NaN          NaN           NaN           NaN           NaN   \n",
       "last             NaN          NaN           NaN           NaN           NaN   \n",
       "mean        1.418427     20.23086     23.655084     61.886460     12.799395   \n",
       "std         0.633839      7.79159      8.474601     19.245033      8.164537   \n",
       "min         1.000000      0.82000      0.760000      0.000000      0.000000   \n",
       "25%         1.000000     13.94000     16.665000     47.000000      7.001500   \n",
       "50%         1.000000     20.50000     24.240000     62.000000     12.998000   \n",
       "75%         2.000000     26.24000     31.060000     77.000000     16.997900   \n",
       "max         4.000000     41.00000     45.455000    100.000000     56.996900   \n",
       "\n",
       "              casual    registered         count  \n",
       "count   10886.000000  10886.000000  10886.000000  \n",
       "unique           NaN           NaN           NaN  \n",
       "top              NaN           NaN           NaN  \n",
       "freq             NaN           NaN           NaN  \n",
       "first            NaN           NaN           NaN  \n",
       "last             NaN           NaN           NaN  \n",
       "mean       36.021955    155.552177    191.574132  \n",
       "std        49.960477    151.039033    181.144454  \n",
       "min         0.000000      0.000000      1.000000  \n",
       "25%         4.000000     36.000000     42.000000  \n",
       "50%        17.000000    118.000000    145.000000  \n",
       "75%        49.000000    222.000000    284.000000  \n",
       "max       367.000000    886.000000    977.000000  "
      ]
     },
     "execution_count": 32,
     "metadata": {},
     "output_type": "execute_result"
    }
   ],
   "source": [
    "df1['datetime'] = pd.to_datetime(df1.datetime)\n",
    "df1.describe(include='all')"
   ]
  },
  {
   "cell_type": "code",
   "execution_count": 33,
   "id": "db6a4de4",
   "metadata": {},
   "outputs": [
    {
     "data": {
      "image/png": "[encoded data removed]",
      "text/plain": [
       "<Figure size 432x288 with 12 Axes>"
      ]
     },
     "metadata": {
      "needs_background": "light"
     },
     "output_type": "display_data"
    }
   ],
   "source": [
    "import matplotlib.pyplot as plt\n",
    "import seaborn as sns\n",
    "\n",
    "#plt.figure(figsize=(20,10))\n",
    "df1.hist()\n",
    "plt.tight_layout()\n",
    "plt.show()"
   ]
  },
  {
   "cell_type": "code",
   "execution_count": 34,
   "id": "eef42a24",
   "metadata": {},
   "outputs": [
    {
     "data": {
      "text/html": [
       "<div>\n",
       "<style scoped>\n",
       "    .dataframe tbody tr th:only-of-type {\n",
       "        vertical-align: middle;\n",
       "    }\n",
       "\n",
       "    .dataframe tbody tr th {\n",
       "        vertical-align: top;\n",
       "    }\n",
       "\n",
       "    .dataframe thead th {\n",
       "        text-align: right;\n",
       "    }\n",
       "</style>\n",
       "<table border=\"1\" class=\"dataframe\">\n",
       "  <thead>\n",
       "    <tr style=\"text-align: right;\">\n",
       "      <th></th>\n",
       "      <th>skew</th>\n",
       "      <th>kurtosis</th>\n",
       "    </tr>\n",
       "  </thead>\n",
       "  <tbody>\n",
       "    <tr>\n",
       "      <th>season</th>\n",
       "      <td>-0.007076</td>\n",
       "      <td>-1.355661</td>\n",
       "    </tr>\n",
       "    <tr>\n",
       "      <th>holiday</th>\n",
       "      <td>5.660517</td>\n",
       "      <td>30.046975</td>\n",
       "    </tr>\n",
       "    <tr>\n",
       "      <th>workingday</th>\n",
       "      <td>-0.776163</td>\n",
       "      <td>-1.397828</td>\n",
       "    </tr>\n",
       "    <tr>\n",
       "      <th>weather</th>\n",
       "      <td>1.243484</td>\n",
       "      <td>0.395533</td>\n",
       "    </tr>\n",
       "    <tr>\n",
       "      <th>temp</th>\n",
       "      <td>0.003691</td>\n",
       "      <td>-0.914530</td>\n",
       "    </tr>\n",
       "    <tr>\n",
       "      <th>atemp</th>\n",
       "      <td>-0.102560</td>\n",
       "      <td>-0.850076</td>\n",
       "    </tr>\n",
       "    <tr>\n",
       "      <th>humidity</th>\n",
       "      <td>-0.086335</td>\n",
       "      <td>-0.759818</td>\n",
       "    </tr>\n",
       "    <tr>\n",
       "      <th>windspeed</th>\n",
       "      <td>0.588767</td>\n",
       "      <td>0.630133</td>\n",
       "    </tr>\n",
       "    <tr>\n",
       "      <th>casual</th>\n",
       "      <td>2.495748</td>\n",
       "      <td>7.551629</td>\n",
       "    </tr>\n",
       "    <tr>\n",
       "      <th>registered</th>\n",
       "      <td>1.524805</td>\n",
       "      <td>2.626081</td>\n",
       "    </tr>\n",
       "    <tr>\n",
       "      <th>count</th>\n",
       "      <td>1.242066</td>\n",
       "      <td>1.300093</td>\n",
       "    </tr>\n",
       "  </tbody>\n",
       "</table>\n",
       "</div>"
      ],
      "text/plain": [
       "                skew   kurtosis\n",
       "season     -0.007076  -1.355661\n",
       "holiday     5.660517  30.046975\n",
       "workingday -0.776163  -1.397828\n",
       "weather     1.243484   0.395533\n",
       "temp        0.003691  -0.914530\n",
       "atemp      -0.102560  -0.850076\n",
       "humidity   -0.086335  -0.759818\n",
       "windspeed   0.588767   0.630133\n",
       "casual      2.495748   7.551629\n",
       "registered  1.524805   2.626081\n",
       "count       1.242066   1.300093"
      ]
     },
     "execution_count": 34,
     "metadata": {},
     "output_type": "execute_result"
    }
   ],
   "source": [
    "df1.agg(['skew','kurtosis']).T\n",
    "# skewness: -2 ~ +2 사이면 왜도가 크지 않다고 판단함.\n",
    "# urtosis: 첨도가 높을수록 이상치가 많아짐."
   ]
  },
  {
   "cell_type": "markdown",
   "id": "f1b39089",
   "metadata": {},
   "source": [
    "#### 데이터 구조\n",
    "- 10886개의 행을 가지며, 12개의 열을 가진 데이터임\n",
    "- datetime: 시간날짜\n",
    "- season, weather: 순위형 변수\n",
    "- holiday, workingday: 이진형 변수\n",
    "- 이외 변수는 모두 수치형 변수\n",
    "\n",
    "#### 결측치\n",
    "- 결측치는 존재하지 않음\n",
    "\n",
    "#### 데이터 분포\n",
    "- season: 0~4사이 정수값을 가지며 균등한 분포를 보임\n",
    "- holiday: 대부분 0의 값을 가짐 (왜도 5이상)\n",
    "- workingday: 대부분 1의 값을 가짐 (왜도 -0.7)\n",
    "- "
   ]
  },
  {
   "cell_type": "code",
   "execution_count": 35,
   "id": "a737a88a",
   "metadata": {
    "scrolled": false
   },
   "outputs": [
    {
     "data": {
      "image/png": "[encoded data removed]",
      "text/plain": [
       "<Figure size 720x720 with 2 Axes>"
      ]
     },
     "metadata": {
      "needs_background": "light"
     },
     "output_type": "display_data"
    }
   ],
   "source": [
    "plt.figure(figsize=(10,10))\n",
    "sns.heatmap(df1.corr(method='pearson'), annot=True, cmap = 'RdBu_r', vmin=-1, vmax=1)\n",
    "plt.tight_layout()\n",
    "plt.show()"
   ]
  },
  {
   "cell_type": "markdown",
   "id": "6c47afa2",
   "metadata": {},
   "source": [
    "#### 상관관계 분석\n",
    "pearson 상관계수 계산 결과,\n",
    "- registered ~ count: 상관계수가 0.97로 매우 높은 양의 상관관계\n",
    "- casual ~ count: 0.67로 높은 양의 상관관계\n",
    "- registered ~ casual: 0.5로 높은 양의 상관관계\n",
    "- 이외에도 상관계수의 절대값이 0.3을 넘는 관계가 다수 발견됨"
   ]
  },
  {
   "cell_type": "code",
   "execution_count": 36,
   "id": "52d35f35",
   "metadata": {},
   "outputs": [
    {
     "data": {
      "text/plain": [
       "<Figure size 1440x720 with 0 Axes>"
      ]
     },
     "metadata": {},
     "output_type": "display_data"
    },
    {
     "data": {
      "image/png": "[encoded data removed]",
      "text/plain": [
       "<Figure size 1440x720 with 14 Axes>"
      ]
     },
     "metadata": {
      "needs_background": "light"
     },
     "output_type": "display_data"
    }
   ],
   "source": [
    "plt.figure(figsize=(20,10))\n",
    "df1.plot(kind='box', subplots=True, layout=(2,len(df1.columns)//2+1), figsize=(20,10))\n",
    "plt.show()"
   ]
  },
  {
   "cell_type": "markdown",
   "id": "77ea9aaf",
   "metadata": {},
   "source": [
    "#### 이상치\n",
    "-"
   ]
  },
  {
   "cell_type": "markdown",
   "id": "a43794f5-77ae-47ed-9272-4d3f71714790",
   "metadata": {
    "id": "a43794f5-77ae-47ed-9272-4d3f71714790"
   },
   "source": [
    "### 1-2) Train 데이터 셋을 8:2 비율로 데이터를 분할하고, 전처리를 수행하시오 "
   ]
  },
  {
   "cell_type": "markdown",
   "id": "a17f3330",
   "metadata": {},
   "source": [
    "#### 순위형 변수 전처리"
   ]
  },
  {
   "cell_type": "code",
   "execution_count": 94,
   "id": "d30e7216",
   "metadata": {},
   "outputs": [
    {
     "data": {
      "text/html": [
       "<div>\n",
       "<style scoped>\n",
       "    .dataframe tbody tr th:only-of-type {\n",
       "        vertical-align: middle;\n",
       "    }\n",
       "\n",
       "    .dataframe tbody tr th {\n",
       "        vertical-align: top;\n",
       "    }\n",
       "\n",
       "    .dataframe thead th {\n",
       "        text-align: right;\n",
       "    }\n",
       "</style>\n",
       "<table border=\"1\" class=\"dataframe\">\n",
       "  <thead>\n",
       "    <tr style=\"text-align: right;\">\n",
       "      <th></th>\n",
       "      <th>datetime</th>\n",
       "      <th>season</th>\n",
       "      <th>holiday</th>\n",
       "      <th>workingday</th>\n",
       "      <th>weather</th>\n",
       "      <th>temp</th>\n",
       "      <th>atemp</th>\n",
       "      <th>humidity</th>\n",
       "      <th>windspeed</th>\n",
       "      <th>casual</th>\n",
       "      <th>registered</th>\n",
       "      <th>count</th>\n",
       "      <th>season_str</th>\n",
       "      <th>waether_str</th>\n",
       "      <th>weather_str</th>\n",
       "    </tr>\n",
       "  </thead>\n",
       "  <tbody>\n",
       "    <tr>\n",
       "      <th>0</th>\n",
       "      <td>2011-01-01 00:00:00</td>\n",
       "      <td>1</td>\n",
       "      <td>0</td>\n",
       "      <td>0</td>\n",
       "      <td>1</td>\n",
       "      <td>9.84</td>\n",
       "      <td>14.395</td>\n",
       "      <td>81</td>\n",
       "      <td>0.0</td>\n",
       "      <td>3</td>\n",
       "      <td>13</td>\n",
       "      <td>16</td>\n",
       "      <td>봄</td>\n",
       "      <td>맑음</td>\n",
       "      <td>맑음</td>\n",
       "    </tr>\n",
       "    <tr>\n",
       "      <th>1</th>\n",
       "      <td>2011-01-01 01:00:00</td>\n",
       "      <td>1</td>\n",
       "      <td>0</td>\n",
       "      <td>0</td>\n",
       "      <td>1</td>\n",
       "      <td>9.02</td>\n",
       "      <td>13.635</td>\n",
       "      <td>80</td>\n",
       "      <td>0.0</td>\n",
       "      <td>8</td>\n",
       "      <td>32</td>\n",
       "      <td>40</td>\n",
       "      <td>봄</td>\n",
       "      <td>맑음</td>\n",
       "      <td>맑음</td>\n",
       "    </tr>\n",
       "    <tr>\n",
       "      <th>2</th>\n",
       "      <td>2011-01-01 02:00:00</td>\n",
       "      <td>1</td>\n",
       "      <td>0</td>\n",
       "      <td>0</td>\n",
       "      <td>1</td>\n",
       "      <td>9.02</td>\n",
       "      <td>13.635</td>\n",
       "      <td>80</td>\n",
       "      <td>0.0</td>\n",
       "      <td>5</td>\n",
       "      <td>27</td>\n",
       "      <td>32</td>\n",
       "      <td>봄</td>\n",
       "      <td>맑음</td>\n",
       "      <td>맑음</td>\n",
       "    </tr>\n",
       "    <tr>\n",
       "      <th>3</th>\n",
       "      <td>2011-01-01 03:00:00</td>\n",
       "      <td>1</td>\n",
       "      <td>0</td>\n",
       "      <td>0</td>\n",
       "      <td>1</td>\n",
       "      <td>9.84</td>\n",
       "      <td>14.395</td>\n",
       "      <td>75</td>\n",
       "      <td>0.0</td>\n",
       "      <td>3</td>\n",
       "      <td>10</td>\n",
       "      <td>13</td>\n",
       "      <td>봄</td>\n",
       "      <td>맑음</td>\n",
       "      <td>맑음</td>\n",
       "    </tr>\n",
       "    <tr>\n",
       "      <th>4</th>\n",
       "      <td>2011-01-01 04:00:00</td>\n",
       "      <td>1</td>\n",
       "      <td>0</td>\n",
       "      <td>0</td>\n",
       "      <td>1</td>\n",
       "      <td>9.84</td>\n",
       "      <td>14.395</td>\n",
       "      <td>75</td>\n",
       "      <td>0.0</td>\n",
       "      <td>0</td>\n",
       "      <td>1</td>\n",
       "      <td>1</td>\n",
       "      <td>봄</td>\n",
       "      <td>맑음</td>\n",
       "      <td>맑음</td>\n",
       "    </tr>\n",
       "  </tbody>\n",
       "</table>\n",
       "</div>"
      ],
      "text/plain": [
       "             datetime  season  holiday  workingday  weather  temp   atemp  \\\n",
       "0 2011-01-01 00:00:00       1        0           0        1  9.84  14.395   \n",
       "1 2011-01-01 01:00:00       1        0           0        1  9.02  13.635   \n",
       "2 2011-01-01 02:00:00       1        0           0        1  9.02  13.635   \n",
       "3 2011-01-01 03:00:00       1        0           0        1  9.84  14.395   \n",
       "4 2011-01-01 04:00:00       1        0           0        1  9.84  14.395   \n",
       "\n",
       "   humidity  windspeed  casual  registered  count season_str waether_str  \\\n",
       "0        81        0.0       3          13     16          봄          맑음   \n",
       "1        80        0.0       8          32     40          봄          맑음   \n",
       "2        80        0.0       5          27     32          봄          맑음   \n",
       "3        75        0.0       3          10     13          봄          맑음   \n",
       "4        75        0.0       0           1      1          봄          맑음   \n",
       "\n",
       "  weather_str  \n",
       "0          맑음  \n",
       "1          맑음  \n",
       "2          맑음  \n",
       "3          맑음  \n",
       "4          맑음  "
      ]
     },
     "execution_count": 94,
     "metadata": {},
     "output_type": "execute_result"
    }
   ],
   "source": [
    "df1['season_str']=\"\"\n",
    "#df1.loc[:]['season']==1\n",
    "df1.loc[df1['season']==1,'season_str']=\"봄\"\n",
    "df1.loc[df1['season']==2,'season_str']=\"여름\"\n",
    "df1.loc[df1['season']==3,'season_str']=\"가을\"\n",
    "df1.loc[df1['season']==4,'season_str']=\"겨울\"\n",
    "\n",
    "df1['waether_str']=\"\"\n",
    "df1.loc[df1['weather']==1,'waether_str']=\"맑음\"\n",
    "df1.loc[df1['weather']==2,'waether_str']=\"안개\"\n",
    "df1.loc[df1['weather']==3,'weather_str']=\"가벼운눈비\"\n",
    "df1.loc[df1['weather']==4,'weather_str']=\"심한눈비\"\n",
    "#1 = 맑음, 약간 구름 낀 흐림, 2 = 안개, 안개 + 흐림, 3 = 가벼운 눈, 가벼운 비 + 천둥, 4 = 심한 눈/비, 천둥/번개\n",
    "\n",
    "df1.head()"
   ]
  },
  {
   "cell_type": "code",
   "execution_count": 141,
   "id": "1770a2f9",
   "metadata": {},
   "outputs": [],
   "source": [
    "df1_dum = pd.get_dummies(df1,columns=['season_str','weather_str'])\n",
    "df1_dum.drop(columns=['casual','registered'],inplace=True)"
   ]
  },
  {
   "cell_type": "code",
   "execution_count": 142,
   "id": "9c08da7e",
   "metadata": {},
   "outputs": [
    {
     "name": "stdout",
     "output_type": "stream",
     "text": [
      "<class 'pandas.core.frame.DataFrame'>\n",
      "RangeIndex: 10886 entries, 0 to 10885\n",
      "Data columns (total 19 columns):\n",
      " #   Column             Non-Null Count  Dtype         \n",
      "---  ------             --------------  -----         \n",
      " 0   datetime           10886 non-null  datetime64[ns]\n",
      " 1   season             10886 non-null  int64         \n",
      " 2   holiday            10886 non-null  int64         \n",
      " 3   workingday         10886 non-null  int64         \n",
      " 4   weather            10886 non-null  int64         \n",
      " 5   temp               10886 non-null  float64       \n",
      " 6   atemp              10886 non-null  float64       \n",
      " 7   humidity           10886 non-null  int64         \n",
      " 8   windspeed          10886 non-null  float64       \n",
      " 9   count              10886 non-null  int64         \n",
      " 10  waether_str        10886 non-null  object        \n",
      " 11  season_str_가을      10886 non-null  uint8         \n",
      " 12  season_str_겨울      10886 non-null  uint8         \n",
      " 13  season_str_봄       10886 non-null  uint8         \n",
      " 14  season_str_여름      10886 non-null  uint8         \n",
      " 15  weather_str_가벼운눈비  10886 non-null  uint8         \n",
      " 16  weather_str_맑음     10886 non-null  uint8         \n",
      " 17  weather_str_심한눈비   10886 non-null  uint8         \n",
      " 18  weather_str_안개     10886 non-null  uint8         \n",
      "dtypes: datetime64[ns](1), float64(3), int64(6), object(1), uint8(8)\n",
      "memory usage: 1020.7+ KB\n"
     ]
    }
   ],
   "source": [
    "df1_dum.info()"
   ]
  },
  {
   "cell_type": "markdown",
   "id": "f36a04a0",
   "metadata": {},
   "source": [
    "#### dateTime 변수 삭제\n",
    "- 계절, 주말/주중 등의 계절+날짜 요소가 다른 변수에 반영되어있다고 판단함."
   ]
  },
  {
   "cell_type": "code",
   "execution_count": 143,
   "id": "c3b8fde4",
   "metadata": {},
   "outputs": [
    {
     "data": {
      "text/plain": [
       "((8708, 14), (2178, 14), (8708,), (2178,))"
      ]
     },
     "execution_count": 143,
     "metadata": {},
     "output_type": "execute_result"
    }
   ],
   "source": [
    "from sklearn.model_selection import train_test_split\n",
    "\n",
    "X = df1_dum.drop(columns=['season','weather','waether_str','datetime','count'])\n",
    "y = df1_dum['count']\n",
    "\n",
    "X_train, X_test, y_train ,y_test = train_test_split(X,y,test_size=0.2, random_state=1)\n",
    "X_train.shape, X_test.shape, y_train.shape, y_test.shape"
   ]
  },
  {
   "cell_type": "markdown",
   "id": "35aea634-12be-4df4-bd02-6f47d4072bed",
   "metadata": {
    "id": "35aea634-12be-4df4-bd02-6f47d4072bed"
   },
   "source": [
    "### 1-3) Ridge 회귀분석을 수행하는데, 0~1까지 0.1간격으로 alpha를 조절하여 만든 모델중 ${R}^2$ 최적인 모델에 대해 1-2)에서 분할된 test set으로 예측한 값들에 대해 ${R}^2$와 RMSE를 구하시오."
   ]
  },
  {
   "cell_type": "code",
   "execution_count": 144,
   "id": "141de55d",
   "metadata": {},
   "outputs": [
    {
     "data": {
      "text/plain": [
       "GridSearchCV(estimator=Ridge(),\n",
       "             param_grid={'alpha': (0.1, 0.2, 0.3, 0.4, 0.5, 0.6, 0.7, 0.8, 0.9,\n",
       "                                   1)})"
      ]
     },
     "execution_count": 144,
     "metadata": {},
     "output_type": "execute_result"
    }
   ],
   "source": [
    "from sklearn.model_selection import GridSearchCV\n",
    "from sklearn.linear_model import Ridge\n",
    "\n",
    "ridge = Ridge()\n",
    "param_grid = {'alpha':(0.1,0.2,0.3,0.4,0.5,0.6,0.7,0.8,0.9,1)}\n",
    "model = GridSearchCV(ridge, param_grid)\n",
    "model.fit(X_train,y_train)"
   ]
  },
  {
   "cell_type": "code",
   "execution_count": 145,
   "id": "70677f77",
   "metadata": {},
   "outputs": [
    {
     "data": {
      "text/plain": [
       "Ridge(alpha=0.1)"
      ]
     },
     "execution_count": 145,
     "metadata": {},
     "output_type": "execute_result"
    }
   ],
   "source": [
    "model.best_estimator_"
   ]
  },
  {
   "cell_type": "code",
   "execution_count": 146,
   "id": "956ef687",
   "metadata": {},
   "outputs": [
    {
     "data": {
      "text/plain": [
       "array([204.29610528,  75.60836031, 371.83162669, ..., 123.80685404,\n",
       "       275.98985541, 120.28572769])"
      ]
     },
     "execution_count": 146,
     "metadata": {},
     "output_type": "execute_result"
    }
   ],
   "source": [
    "ridge_predict = model.best_estimator_.predict(X_test)\n",
    "ridge_predict"
   ]
  },
  {
   "cell_type": "code",
   "execution_count": 147,
   "id": "cd746e07",
   "metadata": {},
   "outputs": [
    {
     "name": "stdout",
     "output_type": "stream",
     "text": [
      "0.2688709241743015\n",
      "-1.5065888046715976\n",
      "157.89743273318422\n"
     ]
    }
   ],
   "source": [
    "from sklearn.metrics import r2_score, mean_squared_error\n",
    "print(model.score(X_test,y_test))\n",
    "print(r2_score(ridge_predict, y_test))\n",
    "print(np.sqrt(mean_squared_error(ridge_predict,y_test)))"
   ]
  },
  {
   "cell_type": "markdown",
   "id": "d246ffdb-2bf1-4fd4-9bf9-8920cd404f53",
   "metadata": {
    "id": "d246ffdb-2bf1-4fd4-9bf9-8920cd404f53"
   },
   "source": [
    "### 1-4) 마찬가지로 Lasso 회귀분석을 수행하고, 0~1까지 0.1간격으로 alpha를 조절하여 만든 모델중 ${R}^2$ 최적인 모델에 대해 1-2)에서 분할된 test set으로 예측한 값들에 대해 ${R}^2$와 RMSE를 구하시오"
   ]
  },
  {
   "cell_type": "code",
   "execution_count": 148,
   "id": "f8dfccf7",
   "metadata": {},
   "outputs": [
    {
     "data": {
      "text/plain": [
       "GridSearchCV(estimator=Lasso(),\n",
       "             param_grid={'alpha': (0.1, 0.2, 0.3, 0.4, 0.5, 0.6, 0.7, 0.8, 0.9,\n",
       "                                   1)})"
      ]
     },
     "execution_count": 148,
     "metadata": {},
     "output_type": "execute_result"
    }
   ],
   "source": [
    "from sklearn.linear_model import Lasso\n",
    "\n",
    "lasso = Lasso()\n",
    "param_grid = {'alpha':(0.1,0.2,0.3,0.4,0.5,0.6,0.7,0.8,0.9,1)}\n",
    "model2 = GridSearchCV(lasso, param_grid)\n",
    "model2.fit(X_train,y_train)"
   ]
  },
  {
   "cell_type": "code",
   "execution_count": 149,
   "id": "699486d5",
   "metadata": {},
   "outputs": [
    {
     "data": {
      "text/plain": [
       "Lasso(alpha=0.1)"
      ]
     },
     "execution_count": 149,
     "metadata": {},
     "output_type": "execute_result"
    }
   ],
   "source": [
    "model2.best_estimator_"
   ]
  },
  {
   "cell_type": "code",
   "execution_count": 150,
   "id": "76b2cefd",
   "metadata": {},
   "outputs": [
    {
     "data": {
      "text/plain": [
       "array([207.90369932,  73.41879658, 369.82074253, ..., 123.92558483,\n",
       "       274.80233588, 121.97092711])"
      ]
     },
     "execution_count": 150,
     "metadata": {},
     "output_type": "execute_result"
    }
   ],
   "source": [
    "lasso_predict = model2.best_estimator_.predict(X_test)\n",
    "lasso_predict"
   ]
  },
  {
   "cell_type": "code",
   "execution_count": 151,
   "id": "d04d4659",
   "metadata": {},
   "outputs": [
    {
     "name": "stdout",
     "output_type": "stream",
     "text": [
      "0.26926368611740736\n",
      "-1.5159068133806826\n",
      "157.85501584981142\n"
     ]
    }
   ],
   "source": [
    "print(model2.score(X_test,y_test))\n",
    "print(r2_score(lasso_predict, y_test))\n",
    "print(np.sqrt(mean_squared_error(lasso_predict,y_test)))"
   ]
  },
  {
   "cell_type": "code",
   "execution_count": 152,
   "id": "08782b0d",
   "metadata": {
    "scrolled": true
   },
   "outputs": [
    {
     "data": {
      "text/plain": [
       "array([-18.13828509,  -4.48000384,   8.14049107,   2.8137506 ,\n",
       "        -2.87763078,   0.60205531, -43.09926795,  59.67361172,\n",
       "        -4.80311877, -11.771225  , -52.82347029, -45.71563455,\n",
       "       129.77499957, -31.23589473])"
      ]
     },
     "execution_count": 152,
     "metadata": {},
     "output_type": "execute_result"
    }
   ],
   "source": [
    "model.best_estimator_.coef_"
   ]
  },
  {
   "cell_type": "markdown",
   "id": "13f8e1e8-f0ba-4d8a-a4c5-d76d8f8a5d21",
   "metadata": {
    "id": "13f8e1e8-f0ba-4d8a-a4c5-d76d8f8a5d21"
   },
   "source": [
    "### 1-5) 3가지 회귀 트리 모델을 선택하여 모형 학습 및 예측/변수 중요도를 시각화를 하시오        "
   ]
  },
  {
   "cell_type": "markdown",
   "id": "1546c573",
   "metadata": {},
   "source": [
    "#### 3가지 회귀 모델\n",
    "1. ElasticNet 회귀\n",
    "1. XGboost 회귀"
   ]
  },
  {
   "cell_type": "code",
   "execution_count": 153,
   "id": "5f6b1e41",
   "metadata": {},
   "outputs": [
    {
     "name": "stdout",
     "output_type": "stream",
     "text": [
      "[18:12:43] WARNING: src/objective/regression_obj.cu:152: reg:linear is now deprecated in favor of reg:squarederror.\n"
     ]
    }
   ],
   "source": [
    "from xgboost import XGBRegressor\n",
    "xgb = XGBRegressor()\n",
    "xgb.fit(X_train, y_train)\n",
    "xgb_predict = xgb.predict(X_test)"
   ]
  },
  {
   "cell_type": "code",
   "execution_count": 154,
   "id": "50220f1b",
   "metadata": {},
   "outputs": [
    {
     "name": "stdout",
     "output_type": "stream",
     "text": [
      "0.32478079395185255\n",
      "-1.1263910607900307\n",
      "151.74012398561294\n"
     ]
    }
   ],
   "source": [
    "print(xgb.score(X_test,y_test))\n",
    "print(r2_score(xgb_predict,y_test))\n",
    "print(np.sqrt(mean_squared_error(xgb_predict,y_test)))"
   ]
  },
  {
   "cell_type": "code",
   "execution_count": 155,
   "id": "5dcd1e07",
   "metadata": {},
   "outputs": [
    {
     "data": {
      "text/plain": [
       "array([-18.13828509,  -4.48000384,   8.14049107,   2.8137506 ,\n",
       "        -2.87763078,   0.60205531, -43.09926795,  59.67361172,\n",
       "        -4.80311877, -11.771225  , -52.82347029, -45.71563455,\n",
       "       129.77499957, -31.23589473])"
      ]
     },
     "execution_count": 155,
     "metadata": {},
     "output_type": "execute_result"
    }
   ],
   "source": [
    "model.best_estimator_.coef_"
   ]
  },
  {
   "cell_type": "code",
   "execution_count": null,
   "id": "8843d033",
   "metadata": {},
   "outputs": [],
   "source": []
  },
  {
   "cell_type": "code",
   "execution_count": 156,
   "id": "1cfaef33-7e8e-431b-8962-9b507ea4c827",
   "metadata": {
    "id": "1cfaef33-7e8e-431b-8962-9b507ea4c827"
   },
   "outputs": [
    {
     "data": {
      "text/html": [
       "<div>\n",
       "<style scoped>\n",
       "    .dataframe tbody tr th:only-of-type {\n",
       "        vertical-align: middle;\n",
       "    }\n",
       "\n",
       "    .dataframe tbody tr th {\n",
       "        vertical-align: top;\n",
       "    }\n",
       "\n",
       "    .dataframe thead th {\n",
       "        text-align: right;\n",
       "    }\n",
       "</style>\n",
       "<table border=\"1\" class=\"dataframe\">\n",
       "  <thead>\n",
       "    <tr style=\"text-align: right;\">\n",
       "      <th></th>\n",
       "      <th>coef</th>\n",
       "      <th>feature</th>\n",
       "    </tr>\n",
       "  </thead>\n",
       "  <tbody>\n",
       "    <tr>\n",
       "      <th>10</th>\n",
       "      <td>-52.823470</td>\n",
       "      <td>weather_str_가벼운눈비</td>\n",
       "    </tr>\n",
       "    <tr>\n",
       "      <th>11</th>\n",
       "      <td>-45.715635</td>\n",
       "      <td>weather_str_맑음</td>\n",
       "    </tr>\n",
       "    <tr>\n",
       "      <th>6</th>\n",
       "      <td>-43.099268</td>\n",
       "      <td>season_str_가을</td>\n",
       "    </tr>\n",
       "    <tr>\n",
       "      <th>13</th>\n",
       "      <td>-31.235895</td>\n",
       "      <td>weather_str_안개</td>\n",
       "    </tr>\n",
       "    <tr>\n",
       "      <th>0</th>\n",
       "      <td>-18.138285</td>\n",
       "      <td>holiday</td>\n",
       "    </tr>\n",
       "    <tr>\n",
       "      <th>9</th>\n",
       "      <td>-11.771225</td>\n",
       "      <td>season_str_여름</td>\n",
       "    </tr>\n",
       "    <tr>\n",
       "      <th>8</th>\n",
       "      <td>-4.803119</td>\n",
       "      <td>season_str_봄</td>\n",
       "    </tr>\n",
       "    <tr>\n",
       "      <th>1</th>\n",
       "      <td>-4.480004</td>\n",
       "      <td>workingday</td>\n",
       "    </tr>\n",
       "    <tr>\n",
       "      <th>4</th>\n",
       "      <td>-2.877631</td>\n",
       "      <td>humidity</td>\n",
       "    </tr>\n",
       "    <tr>\n",
       "      <th>5</th>\n",
       "      <td>0.602055</td>\n",
       "      <td>windspeed</td>\n",
       "    </tr>\n",
       "    <tr>\n",
       "      <th>3</th>\n",
       "      <td>2.813751</td>\n",
       "      <td>atemp</td>\n",
       "    </tr>\n",
       "    <tr>\n",
       "      <th>2</th>\n",
       "      <td>8.140491</td>\n",
       "      <td>temp</td>\n",
       "    </tr>\n",
       "    <tr>\n",
       "      <th>7</th>\n",
       "      <td>59.673612</td>\n",
       "      <td>season_str_겨울</td>\n",
       "    </tr>\n",
       "    <tr>\n",
       "      <th>12</th>\n",
       "      <td>129.775000</td>\n",
       "      <td>weather_str_심한눈비</td>\n",
       "    </tr>\n",
       "  </tbody>\n",
       "</table>\n",
       "</div>"
      ],
      "text/plain": [
       "          coef            feature\n",
       "10  -52.823470  weather_str_가벼운눈비\n",
       "11  -45.715635     weather_str_맑음\n",
       "6   -43.099268      season_str_가을\n",
       "13  -31.235895     weather_str_안개\n",
       "0   -18.138285            holiday\n",
       "9   -11.771225      season_str_여름\n",
       "8    -4.803119       season_str_봄\n",
       "1    -4.480004         workingday\n",
       "4    -2.877631           humidity\n",
       "5     0.602055          windspeed\n",
       "3     2.813751              atemp\n",
       "2     8.140491               temp\n",
       "7    59.673612      season_str_겨울\n",
       "12  129.775000   weather_str_심한눈비"
      ]
     },
     "execution_count": 156,
     "metadata": {},
     "output_type": "execute_result"
    }
   ],
   "source": [
    "model_coeff = pd.concat([pd.DataFrame(model.best_estimator_.coef_), pd.DataFrame(model.best_estimator_.feature_names_in_)], axis = 1)\n",
    "model_coeff.columns = ['coef','feature']\n",
    "model_coeff.sort_values(by='coef')"
   ]
  },
  {
   "cell_type": "code",
   "execution_count": 139,
   "id": "90f1360d",
   "metadata": {},
   "outputs": [
    {
     "data": {
      "text/html": [
       "<div>\n",
       "<style scoped>\n",
       "    .dataframe tbody tr th:only-of-type {\n",
       "        vertical-align: middle;\n",
       "    }\n",
       "\n",
       "    .dataframe tbody tr th {\n",
       "        vertical-align: top;\n",
       "    }\n",
       "\n",
       "    .dataframe thead th {\n",
       "        text-align: right;\n",
       "    }\n",
       "</style>\n",
       "<table border=\"1\" class=\"dataframe\">\n",
       "  <thead>\n",
       "    <tr style=\"text-align: right;\">\n",
       "      <th></th>\n",
       "      <th>coef</th>\n",
       "      <th>feature</th>\n",
       "    </tr>\n",
       "  </thead>\n",
       "  <tbody>\n",
       "    <tr>\n",
       "      <th>0</th>\n",
       "      <td>0.000000</td>\n",
       "      <td>holiday</td>\n",
       "    </tr>\n",
       "    <tr>\n",
       "      <th>1</th>\n",
       "      <td>-0.000000</td>\n",
       "      <td>workingday</td>\n",
       "    </tr>\n",
       "    <tr>\n",
       "      <th>2</th>\n",
       "      <td>0.000000</td>\n",
       "      <td>temp</td>\n",
       "    </tr>\n",
       "    <tr>\n",
       "      <th>3</th>\n",
       "      <td>0.000000</td>\n",
       "      <td>atemp</td>\n",
       "    </tr>\n",
       "    <tr>\n",
       "      <th>4</th>\n",
       "      <td>-0.000000</td>\n",
       "      <td>humidity</td>\n",
       "    </tr>\n",
       "    <tr>\n",
       "      <th>5</th>\n",
       "      <td>0.000000</td>\n",
       "      <td>windspeed</td>\n",
       "    </tr>\n",
       "    <tr>\n",
       "      <th>8</th>\n",
       "      <td>0.000000</td>\n",
       "      <td>season_str_가을</td>\n",
       "    </tr>\n",
       "    <tr>\n",
       "      <th>9</th>\n",
       "      <td>-0.000000</td>\n",
       "      <td>season_str_겨울</td>\n",
       "    </tr>\n",
       "    <tr>\n",
       "      <th>10</th>\n",
       "      <td>-0.000000</td>\n",
       "      <td>season_str_봄</td>\n",
       "    </tr>\n",
       "    <tr>\n",
       "      <th>11</th>\n",
       "      <td>0.000000</td>\n",
       "      <td>season_str_여름</td>\n",
       "    </tr>\n",
       "    <tr>\n",
       "      <th>12</th>\n",
       "      <td>-0.000000</td>\n",
       "      <td>weather_str_가벼운눈비</td>\n",
       "    </tr>\n",
       "    <tr>\n",
       "      <th>13</th>\n",
       "      <td>0.000000</td>\n",
       "      <td>weather_str_맑음</td>\n",
       "    </tr>\n",
       "    <tr>\n",
       "      <th>14</th>\n",
       "      <td>-0.000000</td>\n",
       "      <td>weather_str_심한눈비</td>\n",
       "    </tr>\n",
       "    <tr>\n",
       "      <th>15</th>\n",
       "      <td>-0.000000</td>\n",
       "      <td>weather_str_안개</td>\n",
       "    </tr>\n",
       "    <tr>\n",
       "      <th>6</th>\n",
       "      <td>0.999931</td>\n",
       "      <td>casual</td>\n",
       "    </tr>\n",
       "    <tr>\n",
       "      <th>7</th>\n",
       "      <td>1.000007</td>\n",
       "      <td>registered</td>\n",
       "    </tr>\n",
       "  </tbody>\n",
       "</table>\n",
       "</div>"
      ],
      "text/plain": [
       "        coef            feature\n",
       "0   0.000000            holiday\n",
       "1  -0.000000         workingday\n",
       "2   0.000000               temp\n",
       "3   0.000000              atemp\n",
       "4  -0.000000           humidity\n",
       "5   0.000000          windspeed\n",
       "8   0.000000      season_str_가을\n",
       "9  -0.000000      season_str_겨울\n",
       "10 -0.000000       season_str_봄\n",
       "11  0.000000      season_str_여름\n",
       "12 -0.000000  weather_str_가벼운눈비\n",
       "13  0.000000     weather_str_맑음\n",
       "14 -0.000000   weather_str_심한눈비\n",
       "15 -0.000000     weather_str_안개\n",
       "6   0.999931             casual\n",
       "7   1.000007         registered"
      ]
     },
     "execution_count": 139,
     "metadata": {},
     "output_type": "execute_result"
    }
   ],
   "source": [
    "model_coeff2 = pd.concat([pd.DataFrame(model2.best_estimator_.coef_), pd.DataFrame(model2.best_estimator_.feature_names_in_)], axis = 1)\n",
    "model_coeff2.columns = ['coef','feature']\n",
    "model_coeff2.sort_values(by='coef')"
   ]
  },
  {
   "cell_type": "markdown",
   "id": "b241942b-284a-466a-b14c-167faaa74966",
   "metadata": {
    "id": "b241942b-284a-466a-b14c-167faaa74966"
   },
   "source": [
    "# 통계 분석"
   ]
  },
  {
   "cell_type": "markdown",
   "id": "6fdcb232-6be3-46f0-8c93-9ef62dcc2488",
   "metadata": {
    "id": "6fdcb232-6be3-46f0-8c93-9ef62dcc2488"
   },
   "source": [
    "## 문제 2. 시계열 분석 - 삼성전자 종가(Close) 예측\n",
    "\n",
    "### 주요 Feature 설명 : samsung.csv\n",
    "***\n",
    "Close: 종가 - 주식 시장이 마감했을 때의 가격\n",
    "\n",
    "Open: 시가 - 주식 시장이 시작했을 때의 가격\n",
    "\n",
    "High: 최고가\n",
    "\n",
    "Low: 최저가\n",
    "\n",
    "Volume: 거래량\n",
    "\n",
    "Change: 증감률 - 어제 종가 대비 오늘 종가의 증감률\n",
    "***"
   ]
  },
  {
   "cell_type": "markdown",
   "id": "2926a12e-ef4a-48ff-9c30-2256624b0b5c",
   "metadata": {
    "id": "2926a12e-ef4a-48ff-9c30-2256624b0b5c"
   },
   "source": [
    "### 2-1) EDA 및 전처리를 수행 하시오"
   ]
  },
  {
   "cell_type": "code",
   "execution_count": 157,
   "id": "5baf8b09",
   "metadata": {},
   "outputs": [
    {
     "data": {
      "text/html": [
       "<div>\n",
       "<style scoped>\n",
       "    .dataframe tbody tr th:only-of-type {\n",
       "        vertical-align: middle;\n",
       "    }\n",
       "\n",
       "    .dataframe tbody tr th {\n",
       "        vertical-align: top;\n",
       "    }\n",
       "\n",
       "    .dataframe thead th {\n",
       "        text-align: right;\n",
       "    }\n",
       "</style>\n",
       "<table border=\"1\" class=\"dataframe\">\n",
       "  <thead>\n",
       "    <tr style=\"text-align: right;\">\n",
       "      <th></th>\n",
       "      <th>Date</th>\n",
       "      <th>Open</th>\n",
       "      <th>High</th>\n",
       "      <th>Low</th>\n",
       "      <th>Close</th>\n",
       "      <th>Volume</th>\n",
       "      <th>Change</th>\n",
       "    </tr>\n",
       "  </thead>\n",
       "  <tbody>\n",
       "    <tr>\n",
       "      <th>0</th>\n",
       "      <td>2020-01-02</td>\n",
       "      <td>55500</td>\n",
       "      <td>56000</td>\n",
       "      <td>55000</td>\n",
       "      <td>55200</td>\n",
       "      <td>12993228</td>\n",
       "      <td>-0.010753</td>\n",
       "    </tr>\n",
       "    <tr>\n",
       "      <th>1</th>\n",
       "      <td>2020-01-03</td>\n",
       "      <td>56000</td>\n",
       "      <td>56600</td>\n",
       "      <td>54900</td>\n",
       "      <td>55500</td>\n",
       "      <td>15422255</td>\n",
       "      <td>0.005435</td>\n",
       "    </tr>\n",
       "    <tr>\n",
       "      <th>2</th>\n",
       "      <td>2020-01-06</td>\n",
       "      <td>54900</td>\n",
       "      <td>55600</td>\n",
       "      <td>54600</td>\n",
       "      <td>55500</td>\n",
       "      <td>10278951</td>\n",
       "      <td>0.000000</td>\n",
       "    </tr>\n",
       "    <tr>\n",
       "      <th>3</th>\n",
       "      <td>2020-01-07</td>\n",
       "      <td>55700</td>\n",
       "      <td>56400</td>\n",
       "      <td>55600</td>\n",
       "      <td>55800</td>\n",
       "      <td>10009778</td>\n",
       "      <td>0.005405</td>\n",
       "    </tr>\n",
       "    <tr>\n",
       "      <th>4</th>\n",
       "      <td>2020-01-08</td>\n",
       "      <td>56200</td>\n",
       "      <td>57400</td>\n",
       "      <td>55900</td>\n",
       "      <td>56800</td>\n",
       "      <td>23501171</td>\n",
       "      <td>0.017921</td>\n",
       "    </tr>\n",
       "  </tbody>\n",
       "</table>\n",
       "</div>"
      ],
      "text/plain": [
       "         Date   Open   High    Low  Close    Volume    Change\n",
       "0  2020-01-02  55500  56000  55000  55200  12993228 -0.010753\n",
       "1  2020-01-03  56000  56600  54900  55500  15422255  0.005435\n",
       "2  2020-01-06  54900  55600  54600  55500  10278951  0.000000\n",
       "3  2020-01-07  55700  56400  55600  55800  10009778  0.005405\n",
       "4  2020-01-08  56200  57400  55900  56800  23501171  0.017921"
      ]
     },
     "execution_count": 157,
     "metadata": {},
     "output_type": "execute_result"
    }
   ],
   "source": [
    "df2 = pd.read_csv('samsung.csv')\n",
    "df2.head()"
   ]
  },
  {
   "cell_type": "code",
   "execution_count": 158,
   "id": "8ffb00f8",
   "metadata": {},
   "outputs": [],
   "source": [
    "df2['Date'] = pd.to_datetime(df2.Date)"
   ]
  },
  {
   "cell_type": "code",
   "execution_count": 160,
   "id": "8cd6dc09",
   "metadata": {},
   "outputs": [
    {
     "name": "stdout",
     "output_type": "stream",
     "text": [
      "<class 'pandas.core.frame.DataFrame'>\n",
      "RangeIndex: 413 entries, 0 to 412\n",
      "Data columns (total 7 columns):\n",
      " #   Column  Non-Null Count  Dtype         \n",
      "---  ------  --------------  -----         \n",
      " 0   Date    413 non-null    datetime64[ns]\n",
      " 1   Open    413 non-null    int64         \n",
      " 2   High    413 non-null    int64         \n",
      " 3   Low     413 non-null    int64         \n",
      " 4   Close   413 non-null    int64         \n",
      " 5   Volume  413 non-null    int64         \n",
      " 6   Change  413 non-null    float64       \n",
      "dtypes: datetime64[ns](1), float64(1), int64(5)\n",
      "memory usage: 22.7 KB\n"
     ]
    }
   ],
   "source": [
    "df2.info()"
   ]
  },
  {
   "cell_type": "code",
   "execution_count": 161,
   "id": "556c2bc3",
   "metadata": {},
   "outputs": [
    {
     "name": "stderr",
     "output_type": "stream",
     "text": [
      "/Users/hmc/opt/anaconda3/envs/ADP_Class/lib/python3.7/site-packages/ipykernel_launcher.py:1: FutureWarning: Treating datetime data as categorical rather than numeric in `.describe` is deprecated and will be removed in a future version of pandas. Specify `datetime_is_numeric=True` to silence this warning and adopt the future behavior now.\n",
      "  \"\"\"Entry point for launching an IPython kernel.\n"
     ]
    },
    {
     "data": {
      "text/html": [
       "<div>\n",
       "<style scoped>\n",
       "    .dataframe tbody tr th:only-of-type {\n",
       "        vertical-align: middle;\n",
       "    }\n",
       "\n",
       "    .dataframe tbody tr th {\n",
       "        vertical-align: top;\n",
       "    }\n",
       "\n",
       "    .dataframe thead th {\n",
       "        text-align: right;\n",
       "    }\n",
       "</style>\n",
       "<table border=\"1\" class=\"dataframe\">\n",
       "  <thead>\n",
       "    <tr style=\"text-align: right;\">\n",
       "      <th></th>\n",
       "      <th>Date</th>\n",
       "      <th>Open</th>\n",
       "      <th>High</th>\n",
       "      <th>Low</th>\n",
       "      <th>Close</th>\n",
       "      <th>Volume</th>\n",
       "      <th>Change</th>\n",
       "    </tr>\n",
       "  </thead>\n",
       "  <tbody>\n",
       "    <tr>\n",
       "      <th>count</th>\n",
       "      <td>413</td>\n",
       "      <td>413.000000</td>\n",
       "      <td>413.000000</td>\n",
       "      <td>413.000000</td>\n",
       "      <td>413.000000</td>\n",
       "      <td>4.130000e+02</td>\n",
       "      <td>413.000000</td>\n",
       "    </tr>\n",
       "    <tr>\n",
       "      <th>unique</th>\n",
       "      <td>413</td>\n",
       "      <td>NaN</td>\n",
       "      <td>NaN</td>\n",
       "      <td>NaN</td>\n",
       "      <td>NaN</td>\n",
       "      <td>NaN</td>\n",
       "      <td>NaN</td>\n",
       "    </tr>\n",
       "    <tr>\n",
       "      <th>top</th>\n",
       "      <td>2020-02-11 00:00:00</td>\n",
       "      <td>NaN</td>\n",
       "      <td>NaN</td>\n",
       "      <td>NaN</td>\n",
       "      <td>NaN</td>\n",
       "      <td>NaN</td>\n",
       "      <td>NaN</td>\n",
       "    </tr>\n",
       "    <tr>\n",
       "      <th>freq</th>\n",
       "      <td>1</td>\n",
       "      <td>NaN</td>\n",
       "      <td>NaN</td>\n",
       "      <td>NaN</td>\n",
       "      <td>NaN</td>\n",
       "      <td>NaN</td>\n",
       "      <td>NaN</td>\n",
       "    </tr>\n",
       "    <tr>\n",
       "      <th>first</th>\n",
       "      <td>2020-01-02 00:00:00</td>\n",
       "      <td>NaN</td>\n",
       "      <td>NaN</td>\n",
       "      <td>NaN</td>\n",
       "      <td>NaN</td>\n",
       "      <td>NaN</td>\n",
       "      <td>NaN</td>\n",
       "    </tr>\n",
       "    <tr>\n",
       "      <th>last</th>\n",
       "      <td>2021-08-30 00:00:00</td>\n",
       "      <td>NaN</td>\n",
       "      <td>NaN</td>\n",
       "      <td>NaN</td>\n",
       "      <td>NaN</td>\n",
       "      <td>NaN</td>\n",
       "      <td>NaN</td>\n",
       "    </tr>\n",
       "    <tr>\n",
       "      <th>mean</th>\n",
       "      <td>NaN</td>\n",
       "      <td>66981.355932</td>\n",
       "      <td>67675.302663</td>\n",
       "      <td>66312.953995</td>\n",
       "      <td>66953.510896</td>\n",
       "      <td>2.147010e+07</td>\n",
       "      <td>0.000873</td>\n",
       "    </tr>\n",
       "    <tr>\n",
       "      <th>std</th>\n",
       "      <td>NaN</td>\n",
       "      <td>13367.888858</td>\n",
       "      <td>13439.795465</td>\n",
       "      <td>13358.538159</td>\n",
       "      <td>13366.136244</td>\n",
       "      <td>9.792911e+06</td>\n",
       "      <td>0.018508</td>\n",
       "    </tr>\n",
       "    <tr>\n",
       "      <th>min</th>\n",
       "      <td>NaN</td>\n",
       "      <td>42600.000000</td>\n",
       "      <td>43550.000000</td>\n",
       "      <td>42300.000000</td>\n",
       "      <td>42500.000000</td>\n",
       "      <td>8.330969e+06</td>\n",
       "      <td>-0.063877</td>\n",
       "    </tr>\n",
       "    <tr>\n",
       "      <th>25%</th>\n",
       "      <td>NaN</td>\n",
       "      <td>55700.000000</td>\n",
       "      <td>56300.000000</td>\n",
       "      <td>54900.000000</td>\n",
       "      <td>55500.000000</td>\n",
       "      <td>1.495092e+07</td>\n",
       "      <td>-0.009926</td>\n",
       "    </tr>\n",
       "    <tr>\n",
       "      <th>50%</th>\n",
       "      <td>NaN</td>\n",
       "      <td>61100.000000</td>\n",
       "      <td>61500.000000</td>\n",
       "      <td>60500.000000</td>\n",
       "      <td>61000.000000</td>\n",
       "      <td>1.871666e+07</td>\n",
       "      <td>0.000000</td>\n",
       "    </tr>\n",
       "    <tr>\n",
       "      <th>75%</th>\n",
       "      <td>NaN</td>\n",
       "      <td>81100.000000</td>\n",
       "      <td>81500.000000</td>\n",
       "      <td>80600.000000</td>\n",
       "      <td>81000.000000</td>\n",
       "      <td>2.510836e+07</td>\n",
       "      <td>0.010017</td>\n",
       "    </tr>\n",
       "    <tr>\n",
       "      <th>max</th>\n",
       "      <td>NaN</td>\n",
       "      <td>90300.000000</td>\n",
       "      <td>96800.000000</td>\n",
       "      <td>89500.000000</td>\n",
       "      <td>91000.000000</td>\n",
       "      <td>9.030618e+07</td>\n",
       "      <td>0.104706</td>\n",
       "    </tr>\n",
       "  </tbody>\n",
       "</table>\n",
       "</div>"
      ],
      "text/plain": [
       "                       Date          Open          High           Low  \\\n",
       "count                   413    413.000000    413.000000    413.000000   \n",
       "unique                  413           NaN           NaN           NaN   \n",
       "top     2020-02-11 00:00:00           NaN           NaN           NaN   \n",
       "freq                      1           NaN           NaN           NaN   \n",
       "first   2020-01-02 00:00:00           NaN           NaN           NaN   \n",
       "last    2021-08-30 00:00:00           NaN           NaN           NaN   \n",
       "mean                    NaN  66981.355932  67675.302663  66312.953995   \n",
       "std                     NaN  13367.888858  13439.795465  13358.538159   \n",
       "min                     NaN  42600.000000  43550.000000  42300.000000   \n",
       "25%                     NaN  55700.000000  56300.000000  54900.000000   \n",
       "50%                     NaN  61100.000000  61500.000000  60500.000000   \n",
       "75%                     NaN  81100.000000  81500.000000  80600.000000   \n",
       "max                     NaN  90300.000000  96800.000000  89500.000000   \n",
       "\n",
       "               Close        Volume      Change  \n",
       "count     413.000000  4.130000e+02  413.000000  \n",
       "unique           NaN           NaN         NaN  \n",
       "top              NaN           NaN         NaN  \n",
       "freq             NaN           NaN         NaN  \n",
       "first            NaN           NaN         NaN  \n",
       "last             NaN           NaN         NaN  \n",
       "mean    66953.510896  2.147010e+07    0.000873  \n",
       "std     13366.136244  9.792911e+06    0.018508  \n",
       "min     42500.000000  8.330969e+06   -0.063877  \n",
       "25%     55500.000000  1.495092e+07   -0.009926  \n",
       "50%     61000.000000  1.871666e+07    0.000000  \n",
       "75%     81000.000000  2.510836e+07    0.010017  \n",
       "max     91000.000000  9.030618e+07    0.104706  "
      ]
     },
     "execution_count": 161,
     "metadata": {},
     "output_type": "execute_result"
    }
   ],
   "source": [
    "df2.describe(include='all')"
   ]
  },
  {
   "cell_type": "code",
   "execution_count": 162,
   "id": "482babd7",
   "metadata": {},
   "outputs": [
    {
     "data": {
      "image/png": "[encoded data removed]",
      "text/plain": [
       "<Figure size 432x288 with 9 Axes>"
      ]
     },
     "metadata": {
      "needs_background": "light"
     },
     "output_type": "display_data"
    }
   ],
   "source": [
    "import matplotlib.pyplot as plt\n",
    "import seaborn as sns\n",
    "\n",
    "#plt.figure(figsize=(20,10))\n",
    "df2.hist()\n",
    "plt.tight_layout()\n",
    "plt.show()"
   ]
  },
  {
   "cell_type": "code",
   "execution_count": 163,
   "id": "a530efb1",
   "metadata": {},
   "outputs": [
    {
     "data": {
      "text/plain": [
       "<Figure size 1440x720 with 0 Axes>"
      ]
     },
     "metadata": {},
     "output_type": "display_data"
    },
    {
     "data": {
      "image/png": "[encoded data removed]",
      "text/plain": [
       "<Figure size 1440x720 with 8 Axes>"
      ]
     },
     "metadata": {
      "needs_background": "light"
     },
     "output_type": "display_data"
    }
   ],
   "source": [
    "plt.figure(figsize=(20,10))\n",
    "df2.plot(kind='box', subplots=True, layout=(2,len(df2.columns)//2+1), figsize=(20,10))\n",
    "plt.show()"
   ]
  },
  {
   "cell_type": "markdown",
   "id": "300ffa68-48b0-483d-a4fd-3fdfaddfdcaf",
   "metadata": {
    "id": "300ffa68-48b0-483d-a4fd-3fdfaddfdcaf"
   },
   "source": [
    "### 2-2) 데이터 셋을 7:3의 비율로 데이터를 분할 하고 , 시계열 분석을 수행하시오"
   ]
  },
  {
   "cell_type": "code",
   "execution_count": null,
   "id": "0e2e4941",
   "metadata": {},
   "outputs": [],
   "source": []
  },
  {
   "cell_type": "markdown",
   "id": "8308ec20-37d9-434f-8286-82641343f7dd",
   "metadata": {
    "id": "8308ec20-37d9-434f-8286-82641343f7dd"
   },
   "source": [
    "### 2-3) 잔차 검정을 수행하고, 테스트 데이터를 예측 및 시각화를 수행 하시오"
   ]
  },
  {
   "cell_type": "markdown",
   "id": "5e080d32-4541-4059-9e74-819fd86165f6",
   "metadata": {
    "id": "5e080d32-4541-4059-9e74-819fd86165f6"
   },
   "source": [
    "### 2-4) 테스트 데이터에 대한 평가지표 MAPE 값을 도출 하시오\n",
    "\n",
    "<font size=\"5\">$MAPE = \\frac{100\\%}{n}\\sum_{t=1}^{n}\\frac{\\vert F_{t}-A_{t}\\vert}{\\vert A_{t} \\vert}$</font>\n"
   ]
  },
  {
   "cell_type": "markdown",
   "id": "dded7f37-e935-42e5-bc7b-d0e9cbac77c2",
   "metadata": {
    "id": "dded7f37-e935-42e5-bc7b-d0e9cbac77c2"
   },
   "source": [
    "### 2-5) 모형 성능 개선을 하기 위해서 전략 및 구현을 하시오(ex: refresh)"
   ]
  },
  {
   "cell_type": "code",
   "execution_count": null,
   "id": "5907301f-a7bf-4078-8356-7e3ea620b2f9",
   "metadata": {
    "id": "5907301f-a7bf-4078-8356-7e3ea620b2f9"
   },
   "outputs": [],
   "source": []
  },
  {
   "cell_type": "markdown",
   "id": "b34b70ef-4eaf-46ec-9b80-0eb9aa815e2e",
   "metadata": {
    "id": "b34b70ef-4eaf-46ec-9b80-0eb9aa815e2e"
   },
   "source": [
    "## 문제 3. 통계분석(명목형 변수 검정)\n",
    "\n",
    "### 3개의 모델의 분류 결과 값에 대하여 모델의 분류 정확도 간에 차이가 있는지 검정 하시오"
   ]
  },
  {
   "cell_type": "code",
   "execution_count": 164,
   "id": "f93c9625-7411-421b-ac5e-b2360f823e0a",
   "metadata": {
    "id": "f93c9625-7411-421b-ac5e-b2360f823e0a",
    "outputId": "2007d16e-f9ec-48bd-a8a5-32df40156116"
   },
   "outputs": [
    {
     "data": {
      "text/html": [
       "<div>\n",
       "<style scoped>\n",
       "    .dataframe tbody tr th:only-of-type {\n",
       "        vertical-align: middle;\n",
       "    }\n",
       "\n",
       "    .dataframe tbody tr th {\n",
       "        vertical-align: top;\n",
       "    }\n",
       "\n",
       "    .dataframe thead th {\n",
       "        text-align: right;\n",
       "    }\n",
       "</style>\n",
       "<table border=\"1\" class=\"dataframe\">\n",
       "  <thead>\n",
       "    <tr style=\"text-align: right;\">\n",
       "      <th></th>\n",
       "      <th>y_true</th>\n",
       "      <th>model_1</th>\n",
       "      <th>model_2</th>\n",
       "      <th>model_3</th>\n",
       "    </tr>\n",
       "  </thead>\n",
       "  <tbody>\n",
       "    <tr>\n",
       "      <th>0</th>\n",
       "      <td>0</td>\n",
       "      <td>1</td>\n",
       "      <td>1</td>\n",
       "      <td>1</td>\n",
       "    </tr>\n",
       "    <tr>\n",
       "      <th>1</th>\n",
       "      <td>0</td>\n",
       "      <td>1</td>\n",
       "      <td>1</td>\n",
       "      <td>1</td>\n",
       "    </tr>\n",
       "    <tr>\n",
       "      <th>2</th>\n",
       "      <td>0</td>\n",
       "      <td>1</td>\n",
       "      <td>1</td>\n",
       "      <td>1</td>\n",
       "    </tr>\n",
       "    <tr>\n",
       "      <th>3</th>\n",
       "      <td>0</td>\n",
       "      <td>1</td>\n",
       "      <td>1</td>\n",
       "      <td>0</td>\n",
       "    </tr>\n",
       "    <tr>\n",
       "      <th>4</th>\n",
       "      <td>0</td>\n",
       "      <td>1</td>\n",
       "      <td>1</td>\n",
       "      <td>0</td>\n",
       "    </tr>\n",
       "    <tr>\n",
       "      <th>...</th>\n",
       "      <td>...</td>\n",
       "      <td>...</td>\n",
       "      <td>...</td>\n",
       "      <td>...</td>\n",
       "    </tr>\n",
       "    <tr>\n",
       "      <th>95</th>\n",
       "      <td>0</td>\n",
       "      <td>0</td>\n",
       "      <td>0</td>\n",
       "      <td>0</td>\n",
       "    </tr>\n",
       "    <tr>\n",
       "      <th>96</th>\n",
       "      <td>0</td>\n",
       "      <td>0</td>\n",
       "      <td>0</td>\n",
       "      <td>0</td>\n",
       "    </tr>\n",
       "    <tr>\n",
       "      <th>97</th>\n",
       "      <td>0</td>\n",
       "      <td>0</td>\n",
       "      <td>0</td>\n",
       "      <td>0</td>\n",
       "    </tr>\n",
       "    <tr>\n",
       "      <th>98</th>\n",
       "      <td>0</td>\n",
       "      <td>0</td>\n",
       "      <td>0</td>\n",
       "      <td>1</td>\n",
       "    </tr>\n",
       "    <tr>\n",
       "      <th>99</th>\n",
       "      <td>0</td>\n",
       "      <td>0</td>\n",
       "      <td>0</td>\n",
       "      <td>1</td>\n",
       "    </tr>\n",
       "  </tbody>\n",
       "</table>\n",
       "<p>100 rows × 4 columns</p>\n",
       "</div>"
      ],
      "text/plain": [
       "    y_true  model_1  model_2  model_3\n",
       "0        0        1        1        1\n",
       "1        0        1        1        1\n",
       "2        0        1        1        1\n",
       "3        0        1        1        0\n",
       "4        0        1        1        0\n",
       "..     ...      ...      ...      ...\n",
       "95       0        0        0        0\n",
       "96       0        0        0        0\n",
       "97       0        0        0        0\n",
       "98       0        0        0        1\n",
       "99       0        0        0        1\n",
       "\n",
       "[100 rows x 4 columns]"
      ]
     },
     "execution_count": 164,
     "metadata": {},
     "output_type": "execute_result"
    }
   ],
   "source": [
    "y_true = np.array([0, 0, 0, 0, 0, 0, 0, 0, 0, 0, 0, 0, 0, 0, 0, 0, 0, 0, 0,\n",
    "                   0, 0, 0, 0, 0, 0, 0, 0, 0, 0, 0, 0, 0, 0, 0, 0, 0, 0, 0,\n",
    "                   0, 0, 0, 0, 0, 0, 0, 0, 0, 0, 0, 0, 0, 0, 0, 0, 0, 0, 0,\n",
    "                   0, 0, 0, 0, 0, 0, 0, 0, 0, 0, 0, 0, 0, 0, 0, 0, 0, 0, 0,\n",
    "                   0, 0, 0, 0, 0, 0, 0, 0, 0, 0, 0, 0, 0, 0, 0, 0, 0, 0, 0,\n",
    "                   0, 0, 0, 0, 0])\n",
    "y_model_1 = np.array([1, 1, 1, 1, 1, 1, 1, 1, 1, 1, 1, 1, 1, 1, 1, 1, 0, 0, 0, 0,\n",
    "                      0, 0, 0, 0, 0, 0, 0, 0, 0, 0, 0, 0, 0, 0, 0, 0, 0, 0, 0, 0,\n",
    "                      0, 0, 0, 0, 0, 0, 0, 0, 0, 0, 0, 0, 0, 0, 0, 0, 0, 0, 0, 0,\n",
    "                      0, 0, 0, 0, 0, 0, 0, 0, 0, 0, 0, 0, 0, 0, 0, 0, 0, 0, 0, 0,\n",
    "                      0, 0, 0, 0, 0, 0, 0, 0, 0, 0, 0, 0, 0, 0, 0, 0, 0, 0,\n",
    "                      0, 0])\n",
    "y_model_2 = np.array([1, 1, 1, 1, 1, 1, 0, 0, 0, 0, 0, 0, 0, 0, 0, 0, 0, 0, 0, 0,\n",
    "                      1, 1, 0, 0, 0, 0, 0, 0, 0, 0, 0, 0, 0, 0, 0, 0, 0, 0, 0, 0,\n",
    "                      0, 0, 0, 0, 0, 0, 0, 0, 0, 0, 0, 0, 0, 0, 0, 0, 0, 0, 0, 0,\n",
    "                      0, 0, 0, 0, 0, 0, 0, 0, 0, 0, 0, 0, 0, 0, 0, 0, 0, 0, 0, 0,\n",
    "                      0, 0, 0, 0, 0, 0, 0, 0, 0, 0, 0, 0, 0, 0, 0, 0, 0, 0,\n",
    "                      0, 0])\n",
    "y_model_3 = np.array([1, 1, 1, 0, 0, 0, 1, 0, 0, 0, 0, 0, 0, 0, 0, 0, 0, 0, 0, 0,\n",
    "                      1, 1, 0, 0, 0, 0, 0, 0, 0, 0, 0, 0, 0, 0, 0, 0, 0, 0, 0, 0,\n",
    "                      0, 0, 0, 0, 0, 0, 0, 0, 0, 0, 0, 0, 0, 0, 0, 0, 0, 0, 0, 0,\n",
    "                      0, 0, 0, 0, 0, 0, 0, 0, 0, 0, 0, 0, 0, 0, 0, 0, 0, 0, 0, 0,\n",
    "                      0, 0, 0, 0, 0, 0, 0, 0, 0, 0, 0, 0, 0, 0, 0, 0, 0, 0,\n",
    "                      1, 1])\n",
    "\n",
    "data = pd.DataFrame({'y_true':y_true, 'model_1':y_model_1, \n",
    "                         'model_2':y_model_2, 'model_3':y_model_3 })\n",
    "\n",
    "data"
   ]
  },
  {
   "cell_type": "markdown",
   "id": "1a0a1179",
   "metadata": {
    "id": "541a5c2b-2ef8-4171-a714-904136f7d285"
   },
   "source": [
    "#### 독립성 검정 가설\n",
    "1. H0 모델 123의 정확도가 모두 같다.\n",
    "1. H1 모델 123의 정확도 중 차이가 있다."
   ]
  },
  {
   "cell_type": "code",
   "execution_count": 181,
   "id": "535dd30b-0c9d-4e74-bffc-a1f936230730",
   "metadata": {
    "id": "535dd30b-0c9d-4e74-bffc-a1f936230730"
   },
   "outputs": [
    {
     "data": {
      "text/html": [
       "<div>\n",
       "<style scoped>\n",
       "    .dataframe tbody tr th:only-of-type {\n",
       "        vertical-align: middle;\n",
       "    }\n",
       "\n",
       "    .dataframe tbody tr th {\n",
       "        vertical-align: top;\n",
       "    }\n",
       "\n",
       "    .dataframe thead th {\n",
       "        text-align: right;\n",
       "    }\n",
       "</style>\n",
       "<table border=\"1\" class=\"dataframe\">\n",
       "  <thead>\n",
       "    <tr style=\"text-align: right;\">\n",
       "      <th></th>\n",
       "      <th>y_true</th>\n",
       "      <th>model_1</th>\n",
       "      <th>model_2</th>\n",
       "      <th>model_3</th>\n",
       "      <th>y1</th>\n",
       "      <th>y2</th>\n",
       "      <th>y3</th>\n",
       "    </tr>\n",
       "  </thead>\n",
       "  <tbody>\n",
       "    <tr>\n",
       "      <th>0</th>\n",
       "      <td>0</td>\n",
       "      <td>1</td>\n",
       "      <td>1</td>\n",
       "      <td>1</td>\n",
       "      <td>False</td>\n",
       "      <td>False</td>\n",
       "      <td>False</td>\n",
       "    </tr>\n",
       "    <tr>\n",
       "      <th>1</th>\n",
       "      <td>0</td>\n",
       "      <td>1</td>\n",
       "      <td>1</td>\n",
       "      <td>1</td>\n",
       "      <td>False</td>\n",
       "      <td>False</td>\n",
       "      <td>False</td>\n",
       "    </tr>\n",
       "    <tr>\n",
       "      <th>2</th>\n",
       "      <td>0</td>\n",
       "      <td>1</td>\n",
       "      <td>1</td>\n",
       "      <td>1</td>\n",
       "      <td>False</td>\n",
       "      <td>False</td>\n",
       "      <td>False</td>\n",
       "    </tr>\n",
       "    <tr>\n",
       "      <th>3</th>\n",
       "      <td>0</td>\n",
       "      <td>1</td>\n",
       "      <td>1</td>\n",
       "      <td>0</td>\n",
       "      <td>False</td>\n",
       "      <td>False</td>\n",
       "      <td>True</td>\n",
       "    </tr>\n",
       "    <tr>\n",
       "      <th>4</th>\n",
       "      <td>0</td>\n",
       "      <td>1</td>\n",
       "      <td>1</td>\n",
       "      <td>0</td>\n",
       "      <td>False</td>\n",
       "      <td>False</td>\n",
       "      <td>True</td>\n",
       "    </tr>\n",
       "    <tr>\n",
       "      <th>...</th>\n",
       "      <td>...</td>\n",
       "      <td>...</td>\n",
       "      <td>...</td>\n",
       "      <td>...</td>\n",
       "      <td>...</td>\n",
       "      <td>...</td>\n",
       "      <td>...</td>\n",
       "    </tr>\n",
       "    <tr>\n",
       "      <th>95</th>\n",
       "      <td>0</td>\n",
       "      <td>0</td>\n",
       "      <td>0</td>\n",
       "      <td>0</td>\n",
       "      <td>True</td>\n",
       "      <td>True</td>\n",
       "      <td>True</td>\n",
       "    </tr>\n",
       "    <tr>\n",
       "      <th>96</th>\n",
       "      <td>0</td>\n",
       "      <td>0</td>\n",
       "      <td>0</td>\n",
       "      <td>0</td>\n",
       "      <td>True</td>\n",
       "      <td>True</td>\n",
       "      <td>True</td>\n",
       "    </tr>\n",
       "    <tr>\n",
       "      <th>97</th>\n",
       "      <td>0</td>\n",
       "      <td>0</td>\n",
       "      <td>0</td>\n",
       "      <td>0</td>\n",
       "      <td>True</td>\n",
       "      <td>True</td>\n",
       "      <td>True</td>\n",
       "    </tr>\n",
       "    <tr>\n",
       "      <th>98</th>\n",
       "      <td>0</td>\n",
       "      <td>0</td>\n",
       "      <td>0</td>\n",
       "      <td>1</td>\n",
       "      <td>True</td>\n",
       "      <td>True</td>\n",
       "      <td>False</td>\n",
       "    </tr>\n",
       "    <tr>\n",
       "      <th>99</th>\n",
       "      <td>0</td>\n",
       "      <td>0</td>\n",
       "      <td>0</td>\n",
       "      <td>1</td>\n",
       "      <td>True</td>\n",
       "      <td>True</td>\n",
       "      <td>False</td>\n",
       "    </tr>\n",
       "  </tbody>\n",
       "</table>\n",
       "<p>100 rows × 7 columns</p>\n",
       "</div>"
      ],
      "text/plain": [
       "    y_true  model_1  model_2  model_3     y1     y2     y3\n",
       "0        0        1        1        1  False  False  False\n",
       "1        0        1        1        1  False  False  False\n",
       "2        0        1        1        1  False  False  False\n",
       "3        0        1        1        0  False  False   True\n",
       "4        0        1        1        0  False  False   True\n",
       "..     ...      ...      ...      ...    ...    ...    ...\n",
       "95       0        0        0        0   True   True   True\n",
       "96       0        0        0        0   True   True   True\n",
       "97       0        0        0        0   True   True   True\n",
       "98       0        0        0        1   True   True  False\n",
       "99       0        0        0        1   True   True  False\n",
       "\n",
       "[100 rows x 7 columns]"
      ]
     },
     "execution_count": 181,
     "metadata": {},
     "output_type": "execute_result"
    }
   ],
   "source": [
    "data['y1'] = data.y_true == data.model_1\n",
    "data['y2'] = data.y_true == data.model_2\n",
    "data['y3'] = data.y_true == data.model_3\n",
    "data"
   ]
  },
  {
   "cell_type": "code",
   "execution_count": 187,
   "id": "2d362a9d",
   "metadata": {},
   "outputs": [
    {
     "data": {
      "text/plain": [
       "(True     84\n",
       " False    16\n",
       " Name: y1, dtype: int64,\n",
       " True     92\n",
       " False     8\n",
       " Name: y2, dtype: int64,\n",
       " True     92\n",
       " False     8\n",
       " Name: y3, dtype: int64)"
      ]
     },
     "execution_count": 187,
     "metadata": {},
     "output_type": "execute_result"
    }
   ],
   "source": [
    "data.y1.value_counts(), data.y2.value_counts(), data.y3.value_counts()"
   ]
  },
  {
   "cell_type": "code",
   "execution_count": 206,
   "id": "446550ce",
   "metadata": {},
   "outputs": [
    {
     "data": {
      "text/html": [
       "<div>\n",
       "<style scoped>\n",
       "    .dataframe tbody tr th:only-of-type {\n",
       "        vertical-align: middle;\n",
       "    }\n",
       "\n",
       "    .dataframe tbody tr th {\n",
       "        vertical-align: top;\n",
       "    }\n",
       "\n",
       "    .dataframe thead th {\n",
       "        text-align: right;\n",
       "    }\n",
       "</style>\n",
       "<table border=\"1\" class=\"dataframe\">\n",
       "  <thead>\n",
       "    <tr style=\"text-align: right;\">\n",
       "      <th></th>\n",
       "      <th>True</th>\n",
       "      <th>False</th>\n",
       "    </tr>\n",
       "  </thead>\n",
       "  <tbody>\n",
       "    <tr>\n",
       "      <th>m1</th>\n",
       "      <td>84</td>\n",
       "      <td>16</td>\n",
       "    </tr>\n",
       "    <tr>\n",
       "      <th>m2</th>\n",
       "      <td>92</td>\n",
       "      <td>8</td>\n",
       "    </tr>\n",
       "    <tr>\n",
       "      <th>m3</th>\n",
       "      <td>92</td>\n",
       "      <td>8</td>\n",
       "    </tr>\n",
       "  </tbody>\n",
       "</table>\n",
       "</div>"
      ],
      "text/plain": [
       "    True  False\n",
       "m1    84     16\n",
       "m2    92      8\n",
       "m3    92      8"
      ]
     },
     "execution_count": 206,
     "metadata": {},
     "output_type": "execute_result"
    }
   ],
   "source": [
    "table2 = pd.DataFrame({\"True\":[84,92,92], \"False\":[16,8,8]})\n",
    "table2.index = ['m1','m2','m3']\n",
    "table2"
   ]
  },
  {
   "cell_type": "code",
   "execution_count": 213,
   "id": "27dc1ac1",
   "metadata": {},
   "outputs": [
    {
     "data": {
      "text/html": [
       "<div>\n",
       "<style scoped>\n",
       "    .dataframe tbody tr th:only-of-type {\n",
       "        vertical-align: middle;\n",
       "    }\n",
       "\n",
       "    .dataframe tbody tr th {\n",
       "        vertical-align: top;\n",
       "    }\n",
       "\n",
       "    .dataframe thead th {\n",
       "        text-align: right;\n",
       "    }\n",
       "</style>\n",
       "<table border=\"1\" class=\"dataframe\">\n",
       "  <thead>\n",
       "    <tr style=\"text-align: right;\">\n",
       "      <th></th>\n",
       "      <th>True</th>\n",
       "      <th>False</th>\n",
       "    </tr>\n",
       "  </thead>\n",
       "  <tbody>\n",
       "    <tr>\n",
       "      <th>m1</th>\n",
       "      <td>84</td>\n",
       "      <td>16</td>\n",
       "    </tr>\n",
       "    <tr>\n",
       "      <th>m2</th>\n",
       "      <td>92</td>\n",
       "      <td>8</td>\n",
       "    </tr>\n",
       "    <tr>\n",
       "      <th>m3</th>\n",
       "      <td>92</td>\n",
       "      <td>8</td>\n",
       "    </tr>\n",
       "    <tr>\n",
       "      <th>sum</th>\n",
       "      <td>268</td>\n",
       "      <td>32</td>\n",
       "    </tr>\n",
       "  </tbody>\n",
       "</table>\n",
       "</div>"
      ],
      "text/plain": [
       "     True  False\n",
       "m1     84     16\n",
       "m2     92      8\n",
       "m3     92      8\n",
       "sum   268     32"
      ]
     },
     "execution_count": 213,
     "metadata": {},
     "output_type": "execute_result"
    }
   ],
   "source": [
    "table3 = pd.DataFrame({\"True\":[84,92,92,84+92+92], \"False\":[16,8,8, 16+8+8]})\n",
    "table3.index = ['m1','m2','m3','sum']\n",
    "table3"
   ]
  },
  {
   "cell_type": "code",
   "execution_count": 224,
   "id": "aea76247",
   "metadata": {},
   "outputs": [
    {
     "data": {
      "text/plain": [
       "(4.477488761325772, 2, 0.10659225969125674)"
      ]
     },
     "execution_count": 224,
     "metadata": {},
     "output_type": "execute_result"
    }
   ],
   "source": [
    "a=89.333\n",
    "b=10.667\n",
    "\n",
    "T = (84-a)**2/a + (16-b)**2/b + (92-a)**2/a + (8-b)**2/b + (92-a)**2/a + (8-b)**2/b\n",
    "dof = (3-1)*(2-1)\n",
    "T,dof, 1-chi2.cdf(T,dof)"
   ]
  },
  {
   "cell_type": "code",
   "execution_count": 218,
   "id": "38019375",
   "metadata": {},
   "outputs": [
    {
     "data": {
      "text/plain": [
       "(4.477611940298508,\n",
       " 0.21429596554994557,\n",
       " 3,\n",
       " array([[ 89.33333333,  10.66666667],\n",
       "        [ 89.33333333,  10.66666667],\n",
       "        [ 89.33333333,  10.66666667],\n",
       "        [268.        ,  32.        ]]))"
      ]
     },
     "execution_count": 218,
     "metadata": {},
     "output_type": "execute_result"
    }
   ],
   "source": [
    "from scipy.stats import chisquare, chi2_contingency, chi2\n",
    "\n",
    "chi, p, dof, expect = chi2_contingency(table2)\n",
    "chi, p, dof, expect"
   ]
  },
  {
   "cell_type": "markdown",
   "id": "0710beaa",
   "metadata": {},
   "source": [
    "#### 결론\n",
    "- p_value가 0.107로 유의수준 5% 이상이므로, 귀무가설을 기각하지 못한다.\n",
    "- True, False의 분포는 모델123과 관계없이 동일하다."
   ]
  },
  {
   "cell_type": "markdown",
   "id": "c7a56a31-3e30-494c-9a78-031f3d4d3903",
   "metadata": {
    "id": "c7a56a31-3e30-494c-9a78-031f3d4d3903"
   },
   "source": [
    "## 문제4. 상관관계 분석\n",
    "### 한 수출기업에서 원-달러 환율과 수출액 간의 관계를 분석하기 위하여 한 지점의 최근 10개월간의 데이터를 수집한 결과가 다음과 같다. (유의수준 5%)\n",
    "\n",
    "아래 데이터는 4-1), 4-2)에서 사용 되는 데이터\n",
    "\n",
    "|월|1|2|3|4|5|6|7|8|9|10|\n",
    "|---|---|---|---|---|---|---|---|---|---|---|\n",
    "|환율|1095|1110|1086|1074|1098|1105|1163|1124|1088|1064|\n",
    "|수출액|53.655|57.72|52.128|52.626|54.9|56.355|58.15|57.324|53.312|51.072|\n",
    "\n",
    "\n",
    "#### 문제 4-1) 환율과 수출액 간에 상관관계가 있는지 검정 하시오 "
   ]
  },
  {
   "cell_type": "code",
   "execution_count": 228,
   "id": "168f2279",
   "metadata": {},
   "outputs": [
    {
     "data": {
      "text/html": [
       "<div>\n",
       "<style scoped>\n",
       "    .dataframe tbody tr th:only-of-type {\n",
       "        vertical-align: middle;\n",
       "    }\n",
       "\n",
       "    .dataframe tbody tr th {\n",
       "        vertical-align: top;\n",
       "    }\n",
       "\n",
       "    .dataframe thead th {\n",
       "        text-align: right;\n",
       "    }\n",
       "</style>\n",
       "<table border=\"1\" class=\"dataframe\">\n",
       "  <thead>\n",
       "    <tr style=\"text-align: right;\">\n",
       "      <th></th>\n",
       "      <th>rate</th>\n",
       "      <th>export</th>\n",
       "    </tr>\n",
       "  </thead>\n",
       "  <tbody>\n",
       "    <tr>\n",
       "      <th>0</th>\n",
       "      <td>1095</td>\n",
       "      <td>53.655</td>\n",
       "    </tr>\n",
       "    <tr>\n",
       "      <th>1</th>\n",
       "      <td>1110</td>\n",
       "      <td>57.720</td>\n",
       "    </tr>\n",
       "    <tr>\n",
       "      <th>2</th>\n",
       "      <td>1086</td>\n",
       "      <td>52.128</td>\n",
       "    </tr>\n",
       "    <tr>\n",
       "      <th>3</th>\n",
       "      <td>1074</td>\n",
       "      <td>52.626</td>\n",
       "    </tr>\n",
       "    <tr>\n",
       "      <th>4</th>\n",
       "      <td>1098</td>\n",
       "      <td>54.900</td>\n",
       "    </tr>\n",
       "    <tr>\n",
       "      <th>5</th>\n",
       "      <td>1105</td>\n",
       "      <td>56.355</td>\n",
       "    </tr>\n",
       "    <tr>\n",
       "      <th>6</th>\n",
       "      <td>1163</td>\n",
       "      <td>58.150</td>\n",
       "    </tr>\n",
       "    <tr>\n",
       "      <th>7</th>\n",
       "      <td>1124</td>\n",
       "      <td>57.324</td>\n",
       "    </tr>\n",
       "    <tr>\n",
       "      <th>8</th>\n",
       "      <td>1088</td>\n",
       "      <td>53.312</td>\n",
       "    </tr>\n",
       "    <tr>\n",
       "      <th>9</th>\n",
       "      <td>1064</td>\n",
       "      <td>51.072</td>\n",
       "    </tr>\n",
       "  </tbody>\n",
       "</table>\n",
       "</div>"
      ],
      "text/plain": [
       "   rate  export\n",
       "0  1095  53.655\n",
       "1  1110  57.720\n",
       "2  1086  52.128\n",
       "3  1074  52.626\n",
       "4  1098  54.900\n",
       "5  1105  56.355\n",
       "6  1163  58.150\n",
       "7  1124  57.324\n",
       "8  1088  53.312\n",
       "9  1064  51.072"
      ]
     },
     "execution_count": 228,
     "metadata": {},
     "output_type": "execute_result"
    }
   ],
   "source": [
    "data4 = pd.DataFrame({'rate':[1095,1110,1086,1074,1098,1105,1163,1124,1088,1064], 'export':[53.655,57.72,52.128,52.626,54.9,56.355,58.15,57.324,53.312,51.072]})\n",
    "data4"
   ]
  },
  {
   "cell_type": "code",
   "execution_count": 232,
   "id": "6f01812d",
   "metadata": {},
   "outputs": [
    {
     "data": {
      "text/html": [
       "<div>\n",
       "<style scoped>\n",
       "    .dataframe tbody tr th:only-of-type {\n",
       "        vertical-align: middle;\n",
       "    }\n",
       "\n",
       "    .dataframe tbody tr th {\n",
       "        vertical-align: top;\n",
       "    }\n",
       "\n",
       "    .dataframe thead th {\n",
       "        text-align: right;\n",
       "    }\n",
       "</style>\n",
       "<table border=\"1\" class=\"dataframe\">\n",
       "  <thead>\n",
       "    <tr style=\"text-align: right;\">\n",
       "      <th></th>\n",
       "      <th>rate</th>\n",
       "      <th>export</th>\n",
       "    </tr>\n",
       "  </thead>\n",
       "  <tbody>\n",
       "    <tr>\n",
       "      <th>rate</th>\n",
       "      <td>1.000000</td>\n",
       "      <td>0.881192</td>\n",
       "    </tr>\n",
       "    <tr>\n",
       "      <th>export</th>\n",
       "      <td>0.881192</td>\n",
       "      <td>1.000000</td>\n",
       "    </tr>\n",
       "  </tbody>\n",
       "</table>\n",
       "</div>"
      ],
      "text/plain": [
       "            rate    export\n",
       "rate    1.000000  0.881192\n",
       "export  0.881192  1.000000"
      ]
     },
     "execution_count": 232,
     "metadata": {},
     "output_type": "execute_result"
    }
   ],
   "source": [
    "data4.corr(method='pearson')"
   ]
  },
  {
   "cell_type": "code",
   "execution_count": 230,
   "id": "9f705b6d",
   "metadata": {},
   "outputs": [],
   "source": [
    "# pearson 상관계수가 0.88로 매우 높은 양의 상관관계를 보인다."
   ]
  },
  {
   "cell_type": "code",
   "execution_count": 234,
   "id": "e721b7b5",
   "metadata": {},
   "outputs": [
    {
     "data": {
      "text/plain": [
       "5.272008903912171"
      ]
     },
     "execution_count": 234,
     "metadata": {},
     "output_type": "execute_result"
    }
   ],
   "source": [
    "pearson_r = 0.881192\n",
    "n=10\n",
    "t0 = pearson_r/np.sqrt((1-pearson_r**2)/(n-2))\n",
    "t0"
   ]
  },
  {
   "cell_type": "code",
   "execution_count": 236,
   "id": "8417d23d",
   "metadata": {},
   "outputs": [],
   "source": [
    "# h0: 상관계수가 0이다\n",
    "# h1: 상관계수가 0이 아니다"
   ]
  },
  {
   "cell_type": "code",
   "execution_count": 239,
   "id": "44d2a09f",
   "metadata": {},
   "outputs": [
    {
     "data": {
      "text/plain": [
       "(-2.306004135033371, 2.3060041350333704)"
      ]
     },
     "execution_count": 239,
     "metadata": {},
     "output_type": "execute_result"
    }
   ],
   "source": [
    "from scipy.stats import t\n",
    "\n",
    "alpha = 0.05\n",
    "t.ppf(alpha/2, n-2), t.ppf(1-alpha/2, n-2)"
   ]
  },
  {
   "cell_type": "code",
   "execution_count": 238,
   "id": "1e105bfb",
   "metadata": {},
   "outputs": [],
   "source": [
    "# t통계량이 기각역에 있으므로, 귀무가설을 기긱한다.\n",
    "# 상관관계가 있다."
   ]
  },
  {
   "cell_type": "markdown",
   "id": "1ae989af-170a-40a1-ad4b-be1ccf391d1a",
   "metadata": {
    "id": "1ae989af-170a-40a1-ad4b-be1ccf391d1a"
   },
   "source": [
    "#### 문제 4-2) 환율과 수출액간의 상관계수가 0.9라고 할수 있는지 검정 하시오\n",
    "***"
   ]
  },
  {
   "cell_type": "markdown",
   "id": "8d3d2148",
   "metadata": {},
   "source": [
    "##### 상관계수의 검정"
   ]
  },
  {
   "cell_type": "code",
   "execution_count": 231,
   "id": "72baa51a-abb1-4533-9635-600d69a12241",
   "metadata": {
    "id": "72baa51a-abb1-4533-9635-600d69a12241"
   },
   "outputs": [],
   "source": [
    "# H0: 두 변수의 상관계수는 0.9\n",
    "# H1: 두 변수의 상관계수는 0.9가 아니다 "
   ]
  },
  {
   "cell_type": "code",
   "execution_count": 240,
   "id": "4c708481",
   "metadata": {},
   "outputs": [],
   "source": [
    "r = 0.9\n",
    "pearson_r = 0.881192\n",
    "n=10\n",
    "\n",
    "t0 = (pearson_r - r)/np.sqrt((1-pearson_r**2)/(n-2))"
   ]
  },
  {
   "cell_type": "code",
   "execution_count": 241,
   "id": "39a92cb6",
   "metadata": {},
   "outputs": [
    {
     "data": {
      "text/plain": [
       "(-2.306004135033371, 2.3060041350333704, -0.1125247885418619)"
      ]
     },
     "execution_count": 241,
     "metadata": {},
     "output_type": "execute_result"
    }
   ],
   "source": [
    "alpha = 0.05\n",
    "t.ppf(alpha/2, n-2), t.ppf(1-alpha/2, n-2), t0"
   ]
  },
  {
   "cell_type": "code",
   "execution_count": 242,
   "id": "6213325f",
   "metadata": {},
   "outputs": [],
   "source": [
    "# t통계량이 기각역에 있지않으므로, 귀무가설을 기각시키지 못한다.\n",
    "# 상관계수는 0.9이다."
   ]
  },
  {
   "cell_type": "markdown",
   "id": "27036bfe-8af8-4690-b34b-c224c2cfba2e",
   "metadata": {
    "id": "27036bfe-8af8-4690-b34b-c224c2cfba2e"
   },
   "source": [
    "#### 문제 4-3) 어느 공장에서 작업자의 “결근횟수”와 “생산량”이 서로 상관관계가 있는지를 파악하는 중이다. 그래서 과거의 데이터를 분석해서 총 15개의 표본을 뽑았더니, 상관계수는 -0.45가 나왔다. 그럼 “결근횟수”와 “생산량”은 서로 상관관계가 있다고 할 수 있는지 유의수준 5%에서 검정하시오."
   ]
  },
  {
   "cell_type": "code",
   "execution_count": 243,
   "id": "738fac54-a493-45e1-99ae-7cd45da90224",
   "metadata": {
    "id": "738fac54-a493-45e1-99ae-7cd45da90224"
   },
   "outputs": [],
   "source": [
    "# h0: 결근~생산량 상관계수는 0이다.\n",
    "# h1: 결근~생산량 상관계수는 0이 아니다. "
   ]
  },
  {
   "cell_type": "code",
   "execution_count": 244,
   "id": "6fb595ff",
   "metadata": {},
   "outputs": [
    {
     "data": {
      "text/plain": [
       "(-2.160368656461013, 2.1603686564610127, -1.8168490412996545)"
      ]
     },
     "execution_count": 244,
     "metadata": {},
     "output_type": "execute_result"
    }
   ],
   "source": [
    "r = -0.45\n",
    "r0 = 0\n",
    "n=15\n",
    "\n",
    "t0 = (r-r0)/np.sqrt((1-r**2)/(n-2))\n",
    "\n",
    "alpha = 0.05\n",
    "t.ppf(alpha/2, n-2), t.ppf(1-alpha/2, n-2), t0"
   ]
  },
  {
   "cell_type": "code",
   "execution_count": 245,
   "id": "fd9d65d3",
   "metadata": {},
   "outputs": [],
   "source": [
    "# t통계량이 기각역에 있지않으므로, 귀무가설을 기각시키지 못한다.\n",
    "# 결근~생산량 상관계수는 0이다 (상관관계가 없다)"
   ]
  },
  {
   "cell_type": "markdown",
   "id": "aa26dac4-b591-4308-a9d0-27e0a6a84576",
   "metadata": {
    "id": "aa26dac4-b591-4308-a9d0-27e0a6a84576"
   },
   "source": [
    "## 문제 5 회귀분석 (문제 4번의 환율과 수출액간의 데이터를 이용)\n",
    "#### 5-1) 환율을 독립변수, 수출액을 종속변수로 놓고 추정된 회귀식 및 회귀 모형을 검정 하시오"
   ]
  },
  {
   "cell_type": "code",
   "execution_count": 246,
   "id": "8322b02b",
   "metadata": {},
   "outputs": [],
   "source": [
    "from statsmodels.formula.api import ols\n",
    "\n",
    "lr = ols('export~rate', data=data4).fit()"
   ]
  },
  {
   "cell_type": "code",
   "execution_count": 247,
   "id": "827d0a60",
   "metadata": {},
   "outputs": [
    {
     "data": {
      "text/plain": [
       "Intercept   -33.357660\n",
       "rate          0.080023\n",
       "dtype: float64"
      ]
     },
     "execution_count": 247,
     "metadata": {},
     "output_type": "execute_result"
    }
   ],
   "source": [
    "lr.params"
   ]
  },
  {
   "cell_type": "code",
   "execution_count": 252,
   "id": "afb01172",
   "metadata": {},
   "outputs": [
    {
     "data": {
      "image/png": "[encoded data removed]",
      "text/plain": [
       "<Figure size 432x288 with 1 Axes>"
      ]
     },
     "execution_count": 252,
     "metadata": {},
     "output_type": "execute_result"
    },
    {
     "data": {
      "image/png": "[encoded data removed]",
      "text/plain": [
       "<Figure size 432x288 with 1 Axes>"
      ]
     },
     "metadata": {
      "needs_background": "light"
     },
     "output_type": "display_data"
    }
   ],
   "source": [
    "#Q-Q plot\n",
    "\n",
    "lr.pred = lr.predict(data4.rate)\n",
    "resid = data4.export - lr.pred\n",
    "\n",
    "import statsmodels.api as sm\n",
    "sm.qqplot(resid, line=\"r\", alpha=0.5)"
   ]
  },
  {
   "cell_type": "code",
   "execution_count": 248,
   "id": "3f870310",
   "metadata": {
    "scrolled": false
   },
   "outputs": [
    {
     "name": "stderr",
     "output_type": "stream",
     "text": [
      "/Users/hmc/opt/anaconda3/envs/ADP_Class/lib/python3.7/site-packages/scipy/stats/stats.py:1542: UserWarning: kurtosistest only valid for n>=20 ... continuing anyway, n=10\n",
      "  \"anyway, n=%i\" % int(n))\n"
     ]
    },
    {
     "data": {
      "text/html": [
       "<table class=\"simpletable\">\n",
       "<caption>OLS Regression Results</caption>\n",
       "<tr>\n",
       "  <th>Dep. Variable:</th>         <td>export</td>      <th>  R-squared:         </th> <td>   0.776</td>\n",
       "</tr>\n",
       "<tr>\n",
       "  <th>Model:</th>                   <td>OLS</td>       <th>  Adj. R-squared:    </th> <td>   0.749</td>\n",
       "</tr>\n",
       "<tr>\n",
       "  <th>Method:</th>             <td>Least Squares</td>  <th>  F-statistic:       </th> <td>   27.79</td>\n",
       "</tr>\n",
       "<tr>\n",
       "  <th>Date:</th>             <td>Sun, 29 May 2022</td> <th>  Prob (F-statistic):</th> <td>0.000753</td>\n",
       "</tr>\n",
       "<tr>\n",
       "  <th>Time:</th>                 <td>19:21:47</td>     <th>  Log-Likelihood:    </th> <td> -15.468</td>\n",
       "</tr>\n",
       "<tr>\n",
       "  <th>No. Observations:</th>      <td>    10</td>      <th>  AIC:               </th> <td>   34.94</td>\n",
       "</tr>\n",
       "<tr>\n",
       "  <th>Df Residuals:</th>          <td>     8</td>      <th>  BIC:               </th> <td>   35.54</td>\n",
       "</tr>\n",
       "<tr>\n",
       "  <th>Df Model:</th>              <td>     1</td>      <th>                     </th>     <td> </td>   \n",
       "</tr>\n",
       "<tr>\n",
       "  <th>Covariance Type:</th>      <td>nonrobust</td>    <th>                     </th>     <td> </td>   \n",
       "</tr>\n",
       "</table>\n",
       "<table class=\"simpletable\">\n",
       "<tr>\n",
       "      <td></td>         <th>coef</th>     <th>std err</th>      <th>t</th>      <th>P>|t|</th>  <th>[0.025</th>    <th>0.975]</th>  \n",
       "</tr>\n",
       "<tr>\n",
       "  <th>Intercept</th> <td>  -33.3577</td> <td>   16.712</td> <td>   -1.996</td> <td> 0.081</td> <td>  -71.896</td> <td>    5.181</td>\n",
       "</tr>\n",
       "<tr>\n",
       "  <th>rate</th>      <td>    0.0800</td> <td>    0.015</td> <td>    5.272</td> <td> 0.001</td> <td>    0.045</td> <td>    0.115</td>\n",
       "</tr>\n",
       "</table>\n",
       "<table class=\"simpletable\">\n",
       "<tr>\n",
       "  <th>Omnibus:</th>       <td> 0.657</td> <th>  Durbin-Watson:     </th> <td>   3.058</td>\n",
       "</tr>\n",
       "<tr>\n",
       "  <th>Prob(Omnibus):</th> <td> 0.720</td> <th>  Jarque-Bera (JB):  </th> <td>   0.523</td>\n",
       "</tr>\n",
       "<tr>\n",
       "  <th>Skew:</th>          <td> 0.456</td> <th>  Prob(JB):          </th> <td>   0.770</td>\n",
       "</tr>\n",
       "<tr>\n",
       "  <th>Kurtosis:</th>      <td> 2.349</td> <th>  Cond. No.          </th> <td>4.58e+04</td>\n",
       "</tr>\n",
       "</table><br/><br/>Notes:<br/>[1] Standard Errors assume that the covariance matrix of the errors is correctly specified.<br/>[2] The condition number is large, 4.58e+04. This might indicate that there are<br/>strong multicollinearity or other numerical problems."
      ],
      "text/plain": [
       "<class 'statsmodels.iolib.summary.Summary'>\n",
       "\"\"\"\n",
       "                            OLS Regression Results                            \n",
       "==============================================================================\n",
       "Dep. Variable:                 export   R-squared:                       0.776\n",
       "Model:                            OLS   Adj. R-squared:                  0.749\n",
       "Method:                 Least Squares   F-statistic:                     27.79\n",
       "Date:                Sun, 29 May 2022   Prob (F-statistic):           0.000753\n",
       "Time:                        19:21:47   Log-Likelihood:                -15.468\n",
       "No. Observations:                  10   AIC:                             34.94\n",
       "Df Residuals:                       8   BIC:                             35.54\n",
       "Df Model:                           1                                         \n",
       "Covariance Type:            nonrobust                                         \n",
       "==============================================================================\n",
       "                 coef    std err          t      P>|t|      [0.025      0.975]\n",
       "------------------------------------------------------------------------------\n",
       "Intercept    -33.3577     16.712     -1.996      0.081     -71.896       5.181\n",
       "rate           0.0800      0.015      5.272      0.001       0.045       0.115\n",
       "==============================================================================\n",
       "Omnibus:                        0.657   Durbin-Watson:                   3.058\n",
       "Prob(Omnibus):                  0.720   Jarque-Bera (JB):                0.523\n",
       "Skew:                           0.456   Prob(JB):                        0.770\n",
       "Kurtosis:                       2.349   Cond. No.                     4.58e+04\n",
       "==============================================================================\n",
       "\n",
       "Notes:\n",
       "[1] Standard Errors assume that the covariance matrix of the errors is correctly specified.\n",
       "[2] The condition number is large, 4.58e+04. This might indicate that there are\n",
       "strong multicollinearity or other numerical problems.\n",
       "\"\"\""
      ]
     },
     "execution_count": 248,
     "metadata": {},
     "output_type": "execute_result"
    }
   ],
   "source": [
    "lr.summary()"
   ]
  },
  {
   "cell_type": "code",
   "execution_count": 254,
   "id": "ac49d3f7",
   "metadata": {},
   "outputs": [],
   "source": [
    "# 회귀모델의 F통계량은 27.79이며, p-value는 유의수준보다 매우 낮음. 본 회귀모델은 유효함\n",
    "# rate 변수의 t통계량은 5.272이며, p-value가 유의수준보다 매우 낮음. 회귀계수가 유효함\n",
    "# R2점수가 0.776으로 본 회귀 모델은 전체 데이터중 약 78%를 설명하고 있음.\n",
    "# QQ플롯의 잔차분석를 보면 잔차가 정규분포를 따르는 것으로 보임."
   ]
  },
  {
   "cell_type": "markdown",
   "id": "cf44c387-6a52-4345-92c9-aed2fd63d92b",
   "metadata": {
    "id": "cf44c387-6a52-4345-92c9-aed2fd63d92b"
   },
   "source": [
    "#### 5-2) 위에서 구한 회귀식이 유용한지 아니면 유용하지 않는지 모형의 적합성 검정(분산분석)을 수행하시오"
   ]
  },
  {
   "cell_type": "code",
   "execution_count": null,
   "id": "7d23d55c",
   "metadata": {},
   "outputs": [],
   "source": []
  },
  {
   "cell_type": "markdown",
   "id": "554c422c-51df-405c-a00a-043843cebf76",
   "metadata": {
    "id": "554c422c-51df-405c-a00a-043843cebf76"
   },
   "source": [
    "#### 5-3) 환율이 1200일때 예상되는 수출액에 대한 95% 신뢰구간과 95% 예측구간을 구하시오"
   ]
  },
  {
   "cell_type": "code",
   "execution_count": 255,
   "id": "81a49244-6af5-43dd-8bd0-0f101f267e4a",
   "metadata": {
    "id": "81a49244-6af5-43dd-8bd0-0f101f267e4a"
   },
   "outputs": [
    {
     "data": {
      "text/plain": [
       "(-17.896, 143.181)"
      ]
     },
     "execution_count": 255,
     "metadata": {},
     "output_type": "execute_result"
    }
   ],
   "source": [
    "rate0 = 1200\n",
    "export025 = -71.896 + 0.045*rate0\n",
    "export975 = 5.181 + 0.115*rate0\n",
    "export025, export975"
   ]
  },
  {
   "cell_type": "code",
   "execution_count": 256,
   "id": "6d0cc879",
   "metadata": {},
   "outputs": [
    {
     "data": {
      "text/plain": [
       "(66.104, 59.181)"
      ]
     },
     "execution_count": 256,
     "metadata": {},
     "output_type": "execute_result"
    }
   ],
   "source": [
    "rate0 = 1200\n",
    "export025 = -71.896 + 0.115*rate0\n",
    "export975 = 5.181 + 0.045*rate0\n",
    "export025, export975"
   ]
  },
  {
   "cell_type": "markdown",
   "id": "1c378733",
   "metadata": {},
   "source": [
    "<설명변수가 주어졌을때, 반응변수의 기댓값에 대한 신뢰구간> \n",
    "\n",
    " \n",
    "\n",
    "설명변수가 주어졌을때, 반응변수의 기댓값 역시 추정량의 비편향성과 추정량의 정규성을 고려하여, 평균과 분산을 구해 t 분포를(자유도 n-2) 따르는 검정통계량(test statistics)을 구할 수 있다. 단, 반응변수의 기댓값의 추정량에 대한 분산을 구할때는, 앞선 포스팅에서 설명한 '대체 모형' (단순 선형 회귀 모형의 모든 x 값에서 x의 평균값을 뺀 모형이다. 즉, 기울기는 같은 상태에서, y 축을  x 의 표본평균만큼 오른쪽으로 이동한 모형)을 사용하는것이 용이하다. \n",
    "\n",
    "https://jangpiano-science.tistory.com/106"
   ]
  },
  {
   "attachments": {},
   "cell_type": "markdown",
   "id": "ec42383a",
   "metadata": {},
   "source": [
    "![nn](https://img1.daumcdn.net/thumb/R1280x0/?scode=mtistory2&fname=https%3A%2F%2Fblog.kakaocdn.net%2Fdn%2FEf0tV%2FbtqSZxeDqZx%2FYL2kzZp8q5SscP7UVWh9kK%2Fimg.png)\n",
    "![nn](https://img1.daumcdn.net/thumb/R1280x0/?scode=mtistory2&fname=https%3A%2F%2Fblog.kakaocdn.net%2Fdn%2Fb6GepR%2FbtqS286Bruq%2FnyWf5oLHz1XbFVopiPsSb0%2Fimg.jpg)\n",
    "![nn](https://img1.daumcdn.net/thumb/R1280x0/?scode=mtistory2&fname=https%3A%2F%2Fblog.kakaocdn.net%2Fdn%2FbV3ZaY%2FbtqTcQ4xRr0%2FNoAPQ1Y9KdL1KQkPHD0B3K%2Fimg.png)\n",
    "![nn](https://img1.daumcdn.net/thumb/R1280x0/?scode=mtistory2&fname=https%3A%2F%2Fblog.kakaocdn.net%2Fdn%2FcR4Hi3%2FbtqS4Mu7xzL%2FDogF10JtIkYdhOZZPM5JK0%2Fimg.png)\n",
    "![nn](https://img1.daumcdn.net/thumb/R1280x0/?scode=mtistory2&fname=https%3A%2F%2Fblog.kakaocdn.net%2Fdn%2Fq1FyQ%2FbtqSX7Hm7jO%2FT9x7hHSZrXTHd1do75fJP1%2Fimg.jpg)\n",
    "![nn](https://img1.daumcdn.net/thumb/R1280x0/?scode=mtistory2&fname=https%3A%2F%2Fblog.kakaocdn.net%2Fdn%2FlZht3%2FbtqS6XcEyPE%2FwVvV60xHamYXDkUzLObAy1%2Fimg.jpg)"
   ]
  },
  {
   "cell_type": "code",
   "execution_count": 266,
   "id": "b0df203a",
   "metadata": {},
   "outputs": [
    {
     "data": {
      "text/plain": [
       "7006.099999999999"
      ]
     },
     "execution_count": 266,
     "metadata": {},
     "output_type": "execute_result"
    }
   ],
   "source": [
    "sigma_hat = data4.rate.std(ddof=1)\n",
    "n=10\n",
    "x0 = 1200\n",
    "x_hat = data4.rate.mean()\n",
    "Sxx = sum((data4.rate - x_hat)**2)\n",
    "\n",
    "y0 = data4.export.mean()\n",
    "\n",
    "y0-t.ppf(alpha/2, n-2)*sigma_hat*np.sqrt(1/n + (x0-x_hat)**2/Sxx), y0+\n",
    "t.ppf(alpha/2, n-2), t.ppf(1-alpha/2, n-2), t0"
   ]
  },
  {
   "cell_type": "code",
   "execution_count": null,
   "id": "af83bf4c",
   "metadata": {},
   "outputs": [],
   "source": []
  }
 ],
 "metadata": {
  "colab": {
   "name": "상관관계 및 회귀 분석.ipynb",
   "provenance": []
  },
  "kernelspec": {
   "display_name": "Python 3 (ipykernel)",
   "language": "python",
   "name": "python3"
  },
  "language_info": {
   "codemirror_mode": {
    "name": "ipython",
    "version": 3
   },
   "file_extension": ".py",
   "mimetype": "text/x-python",
   "name": "python",
   "nbconvert_exporter": "python",
   "pygments_lexer": "ipython3",
   "version": "3.7.11"
  },
  "toc": {
   "base_numbering": 1,
   "nav_menu": {},
   "number_sections": true,
   "sideBar": true,
   "skip_h1_title": false,
   "title_cell": "Table of Contents",
   "title_sidebar": "Contents",
   "toc_cell": true,
   "toc_position": {
    "height": "calc(100% - 180px)",
    "left": "10px",
    "top": "150px",
    "width": "336px"
   },
   "toc_section_display": true,
   "toc_window_display": true
  }
 },
 "nbformat": 4,
 "nbformat_minor": 5
}
