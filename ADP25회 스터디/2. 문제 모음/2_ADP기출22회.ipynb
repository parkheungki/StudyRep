{
 "cells": [
  {
   "cell_type": "markdown",
   "id": "sacred-wallet",
   "metadata": {
    "papermill": {
     "duration": 0.016592,
     "end_time": "2022-03-12T12:44:12.336398",
     "exception": false,
     "start_time": "2022-03-12T12:44:12.319806",
     "status": "completed"
    },
    "tags": []
   },
   "source": [
    "# 문제 1"
   ]
  },
  {
   "cell_type": "markdown",
   "id": "defined-reward",
   "metadata": {
    "papermill": {
     "duration": 0.016758,
     "end_time": "2022-03-12T12:44:12.370114",
     "exception": false,
     "start_time": "2022-03-12T12:44:12.353356",
     "status": "completed"
    },
    "tags": []
   },
   "source": [
    "#### dataset : pima-indians-diabetes-database [kaggle link](pima-indians-diabetes-database) - added post-processing\n",
    "/kaggle/input/adpkrp5/data1.csv"
   ]
  },
  {
   "cell_type": "markdown",
   "id": "hundred-orlando",
   "metadata": {
    "execution": {
     "iopub.execute_input": "2022-03-02T16:01:52.763794Z",
     "iopub.status.busy": "2022-03-02T16:01:52.76349Z",
     "iopub.status.idle": "2022-03-02T16:01:52.768363Z",
     "shell.execute_reply": "2022-03-02T16:01:52.767292Z",
     "shell.execute_reply.started": "2022-03-02T16:01:52.763766Z"
    },
    "papermill": {
     "duration": 0.016585,
     "end_time": "2022-03-12T12:44:12.403694",
     "exception": false,
     "start_time": "2022-03-12T12:44:12.387109",
     "status": "completed"
    },
    "tags": []
   },
   "source": [
    "### 1-1 탐색적 데이터 분석 수행(시각화 포함)"
   ]
  },
  {
   "cell_type": "markdown",
   "id": "traditional-clerk",
   "metadata": {
    "papermill": {
     "duration": 0.016725,
     "end_time": "2022-03-12T12:44:12.437749",
     "exception": false,
     "start_time": "2022-03-12T12:44:12.421024",
     "status": "completed"
    },
    "tags": []
   },
   "source": [
    "### 1-2 이상치 처리(이상값 대체방안 제시)"
   ]
  },
  {
   "cell_type": "markdown",
   "id": "natural-chassis",
   "metadata": {
    "papermill": {
     "duration": 0.016821,
     "end_time": "2022-03-12T12:44:12.471832",
     "exception": false,
     "start_time": "2022-03-12T12:44:12.455011",
     "status": "completed"
    },
    "tags": []
   },
   "source": [
    "### 1-3 앞선 두 단계에서 얻은 향후 분석시 고려사항 작성"
   ]
  },
  {
   "cell_type": "markdown",
   "id": "legendary-suggestion",
   "metadata": {
    "papermill": {
     "duration": 0.016927,
     "end_time": "2022-03-12T12:44:12.506303",
     "exception": false,
     "start_time": "2022-03-12T12:44:12.489376",
     "status": "completed"
    },
    "tags": []
   },
   "source": [
    "# 문제 2"
   ]
  },
  {
   "cell_type": "markdown",
   "id": "expected-improvement",
   "metadata": {
    "papermill": {
     "duration": 0.017531,
     "end_time": "2022-03-12T12:44:12.540941",
     "exception": false,
     "start_time": "2022-03-12T12:44:12.523410",
     "status": "completed"
    },
    "tags": []
   },
   "source": [
    "### 2-1 오버샘플링 과정 설명하고 결과 작성"
   ]
  },
  {
   "cell_type": "markdown",
   "id": "overhead-verification",
   "metadata": {
    "papermill": {
     "duration": 0.016732,
     "end_time": "2022-03-12T12:44:12.575049",
     "exception": false,
     "start_time": "2022-03-12T12:44:12.558317",
     "status": "completed"
    },
    "tags": []
   },
   "source": [
    "### 2-2 언더샘플링 과정 설명하고 결과 작성"
   ]
  },
  {
   "cell_type": "markdown",
   "id": "radical-behavior",
   "metadata": {
    "papermill": {
     "duration": 0.016917,
     "end_time": "2022-03-12T12:44:12.609075",
     "exception": false,
     "start_time": "2022-03-12T12:44:12.592158",
     "status": "completed"
    },
    "tags": []
   },
   "source": [
    "### 2-3 둘 중 선택하고 이유 설명"
   ]
  },
  {
   "cell_type": "markdown",
   "id": "empty-sacrifice",
   "metadata": {
    "papermill": {
     "duration": 0.017738,
     "end_time": "2022-03-12T12:44:12.643968",
     "exception": false,
     "start_time": "2022-03-12T12:44:12.626230",
     "status": "completed"
    },
    "tags": []
   },
   "source": [
    "# 문제 3"
   ]
  },
  {
   "cell_type": "markdown",
   "id": "improved-honor",
   "metadata": {
    "papermill": {
     "duration": 0.017261,
     "end_time": "2022-03-12T12:44:12.678991",
     "exception": false,
     "start_time": "2022-03-12T12:44:12.661730",
     "status": "completed"
    },
    "tags": []
   },
   "source": [
    "### 3-1 최소 3개 이상 알고리즘 제시하고 정확도 측면의 모델 1개와 속도 측면의 모델 1개를 꼭 구현(총 2개 이상)"
   ]
  },
  {
   "cell_type": "markdown",
   "id": "opponent-elements",
   "metadata": {
    "papermill": {
     "duration": 0.017931,
     "end_time": "2022-03-12T12:44:12.715003",
     "exception": false,
     "start_time": "2022-03-12T12:44:12.697072",
     "status": "completed"
    },
    "tags": []
   },
   "source": [
    "### 3-2 모델 비교하고 결과 설명"
   ]
  },
  {
   "cell_type": "markdown",
   "id": "flying-engine",
   "metadata": {
    "papermill": {
     "duration": 0.019203,
     "end_time": "2022-03-12T12:44:12.752167",
     "exception": false,
     "start_time": "2022-03-12T12:44:12.732964",
     "status": "completed"
    },
    "tags": []
   },
   "source": [
    "### 3-3 속도 개선을 위한 차원 축소 설명하고 수행, 예측 성능과 속도 비교하고 결과 작성"
   ]
  },
  {
   "cell_type": "markdown",
   "id": "practical-hammer",
   "metadata": {
    "papermill": {
     "duration": 0.017196,
     "end_time": "2022-03-12T12:44:12.787025",
     "exception": false,
     "start_time": "2022-03-12T12:44:12.769829",
     "status": "completed"
    },
    "tags": []
   },
   "source": [
    "# 문제 4 \n",
    "금속 성분 함유량 데이터(변수 1개) - 제품에 금속 재질 함유량의 분산이 1.3을 넘으면 불량이라고 보고 있는데 제조사별로 차이가 난다고 제보를 받았으며, 분산에 대해 검정을 수행하시오. (유의확률 0.05)"
   ]
  },
  {
   "cell_type": "markdown",
   "id": "attempted-budapest",
   "metadata": {
    "papermill": {
     "duration": 0.017131,
     "end_time": "2022-03-12T12:44:12.821667",
     "exception": false,
     "start_time": "2022-03-12T12:44:12.804536",
     "status": "completed"
    },
    "tags": []
   },
   "source": [
    "#### dataset : /kaggle/input/adpkrp5/content.csv"
   ]
  },
  {
   "cell_type": "markdown",
   "id": "tracked-period",
   "metadata": {
    "papermill": {
     "duration": 0.017002,
     "end_time": "2022-03-12T12:44:12.856226",
     "exception": false,
     "start_time": "2022-03-12T12:44:12.839224",
     "status": "completed"
    },
    "tags": []
   },
   "source": [
    "### 4-1 연구가설과 귀무가설 작성"
   ]
  },
  {
   "cell_type": "markdown",
   "id": "tamil-transport",
   "metadata": {
    "papermill": {
     "duration": 0.017203,
     "end_time": "2022-03-12T12:44:12.890980",
     "exception": false,
     "start_time": "2022-03-12T12:44:12.873777",
     "status": "completed"
    },
    "tags": []
   },
   "source": [
    "### 4-2 양측 검정"
   ]
  },
  {
   "cell_type": "markdown",
   "id": "chief-history",
   "metadata": {
    "papermill": {
     "duration": 0.017126,
     "end_time": "2022-03-12T12:44:12.925978",
     "exception": false,
     "start_time": "2022-03-12T12:44:12.908852",
     "status": "completed"
    },
    "tags": []
   },
   "source": [
    "### 4-3 검정통계량, 가설 채택"
   ]
  },
  {
   "cell_type": "markdown",
   "id": "silver-garlic",
   "metadata": {
    "papermill": {
     "duration": 0.018615,
     "end_time": "2022-03-12T12:44:12.962085",
     "exception": false,
     "start_time": "2022-03-12T12:44:12.943470",
     "status": "completed"
    },
    "tags": []
   },
   "source": [
    "# 문제 5\n",
    "Lot별 200개에 대한 불량 제품 수량 데이터(변수 2개 - lot번호, 불량제품수)    \n",
    "/kaggle/input/adpkrp5/error.csv"
   ]
  },
  {
   "cell_type": "markdown",
   "id": "quarterly-consequence",
   "metadata": {
    "papermill": {
     "duration": 0.017084,
     "end_time": "2022-03-12T12:44:12.997067",
     "exception": false,
     "start_time": "2022-03-12T12:44:12.979983",
     "status": "completed"
    },
    "tags": []
   },
   "source": [
    "### 5-1 불량률 관리도에 따라 관리중심선(CL : Center Line), 관리 상한선(UCL : Upper Control Limit), 하한선(LCL : Lower Control Limit) 구하기"
   ]
  },
  {
   "cell_type": "markdown",
   "id": "homeless-church",
   "metadata": {
    "papermill": {
     "duration": 0.018656,
     "end_time": "2022-03-12T12:44:13.034525",
     "exception": false,
     "start_time": "2022-03-12T12:44:13.015869",
     "status": "completed"
    },
    "tags": []
   },
   "source": [
    "### 5-2 관리도 시각화"
   ]
  },
  {
   "cell_type": "markdown",
   "id": "three-elite",
   "metadata": {
    "papermill": {
     "duration": 0.017183,
     "end_time": "2022-03-12T12:44:13.070109",
     "exception": false,
     "start_time": "2022-03-12T12:44:13.052926",
     "status": "completed"
    },
    "tags": []
   },
   "source": [
    "# 문제 6\n",
    "상품 a와 b가 있을 때 다음과 같은 구매 패턴이 있다고 한다. aa bb aaaa bbbb a b aa bb aa bbb aa bb a b 구매하는 패턴으로 보아 두 상품이 연관이 있는지 확인하라"
   ]
  },
  {
   "cell_type": "markdown",
   "id": "great-electricity",
   "metadata": {
    "papermill": {
     "duration": 0.017145,
     "end_time": "2022-03-12T12:44:13.104747",
     "exception": false,
     "start_time": "2022-03-12T12:44:13.087602",
     "status": "completed"
    },
    "tags": []
   },
   "source": [
    "### 6-1 연구가설과 귀무가설 작성"
   ]
  },
  {
   "cell_type": "markdown",
   "id": "familiar-moses",
   "metadata": {
    "papermill": {
     "duration": 0.017032,
     "end_time": "2022-03-12T12:44:13.139167",
     "exception": false,
     "start_time": "2022-03-12T12:44:13.122135",
     "status": "completed"
    },
    "tags": []
   },
   "source": [
    "### 6-2 평균과 표준편차"
   ]
  },
  {
   "cell_type": "markdown",
   "id": "powerful-functionality",
   "metadata": {
    "papermill": {
     "duration": 0.017028,
     "end_time": "2022-03-12T12:44:13.173751",
     "exception": false,
     "start_time": "2022-03-12T12:44:13.156723",
     "status": "completed"
    },
    "tags": []
   },
   "source": [
    "### 6-3 가설 채택"
   ]
  }
 ],
 "metadata": {
  "kernelspec": {
   "display_name": "Python 3",
   "language": "python",
   "name": "python3"
  },
  "language_info": {
   "codemirror_mode": {
    "name": "ipython",
    "version": 3
   },
   "file_extension": ".py",
   "mimetype": "text/x-python",
   "name": "python",
   "nbconvert_exporter": "python",
   "pygments_lexer": "ipython3",
   "version": "3.8.8"
  },
  "papermill": {
   "default_parameters": {},
   "duration": 12.741958,
   "end_time": "2022-03-12T12:44:13.904101",
   "environment_variables": {},
   "exception": null,
   "input_path": "__notebook__.ipynb",
   "output_path": "__notebook__.ipynb",
   "parameters": {},
   "start_time": "2022-03-12T12:44:01.162143",
   "version": "2.3.3"
  }
 },
 "nbformat": 4,
 "nbformat_minor": 5
}
